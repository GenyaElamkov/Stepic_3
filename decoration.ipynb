{
  "nbformat": 4,
  "nbformat_minor": 0,
  "metadata": {
    "colab": {
      "provenance": [],
      "authorship_tag": "ABX9TyPwA4XLnR7L38S2ip8R9skl",
      "include_colab_link": true
    },
    "kernelspec": {
      "name": "python3",
      "display_name": "Python 3"
    },
    "language_info": {
      "name": "python"
    }
  },
  "cells": [
    {
      "cell_type": "markdown",
      "metadata": {
        "id": "view-in-github",
        "colab_type": "text"
      },
      "source": [
        "<a href=\"https://colab.research.google.com/github/GenyaElamkov/Stepic_3/blob/master/decoration.ipynb\" target=\"_parent\"><img src=\"https://colab.research.google.com/assets/colab-badge.svg\" alt=\"Open In Colab\"/></a>"
      ]
    },
    {
      "cell_type": "code",
      "execution_count": 45,
      "metadata": {
        "colab": {
          "base_uri": "https://localhost:8080/"
        },
        "id": "lrseVaCoi6tZ",
        "outputId": "db837d4a-425e-4032-8ee0-9d6628f2993b"
      },
      "outputs": [
        {
          "output_type": "stream",
          "name": "stdout",
          "text": [
            "hello\n",
            "HELLO WORDS\n"
          ]
        }
      ],
      "source": [
        "def uppers(func):\n",
        "    def wraper(text):\n",
        "        res = func(text)\n",
        "        return res.upper()\n",
        "    return wraper\n",
        "\n",
        "def say(text):\n",
        "    return text\n",
        "\n",
        "print(say('hello'))\n",
        "\n",
        "greate = uppers(say)\n",
        "print(greate('hello words'))\n"
      ]
    },
    {
      "cell_type": "code",
      "source": [
        "def bold(func):\n",
        "    def wraper(*args, **kwargs):\n",
        "        return '<b>' + func(*args, **kwargs) + '</b>'\n",
        "    return wraper\n",
        "\n",
        "\n",
        "def italic(func):\n",
        "    def wraper(*args, **kwargs):\n",
        "        return '<i>' + func(*args, **kwargs) + '</i>'\n",
        "    return wraper\n",
        "\n",
        "@bold\n",
        "@italic\n",
        "def show_html(text):\n",
        "    return text\n",
        "\n",
        "show_html('Hello')\n",
        "\n",
        "@bold\n",
        "def show_no_text():\n",
        "    return \"I'am not found!\"\n",
        "\n",
        "show_no_text()\n"
      ],
      "metadata": {
        "colab": {
          "base_uri": "https://localhost:8080/",
          "height": 36
        },
        "id": "LbYBlKg1mnSa",
        "outputId": "b1a159f0-0901-4668-bc14-e6886c8804f3"
      },
      "execution_count": 31,
      "outputs": [
        {
          "output_type": "execute_result",
          "data": {
            "text/plain": [
              "\"<b>I'am not found!</b>\""
            ],
            "application/vnd.google.colaboratory.intrinsic+json": {
              "type": "string"
            }
          },
          "metadata": {},
          "execution_count": 31
        }
      ]
    }
  ]
}