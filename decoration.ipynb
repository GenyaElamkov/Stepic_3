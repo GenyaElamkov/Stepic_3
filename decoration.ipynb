{
  "nbformat": 4,
  "nbformat_minor": 0,
  "metadata": {
    "colab": {
      "provenance": [],
      "authorship_tag": "ABX9TyNSLz6Zg2btqTvccsmgkAnW",
      "include_colab_link": true
    },
    "kernelspec": {
      "name": "python3",
      "display_name": "Python 3"
    },
    "language_info": {
      "name": "python"
    }
  },
  "cells": [
    {
      "cell_type": "markdown",
      "metadata": {
        "id": "view-in-github",
        "colab_type": "text"
      },
      "source": [
        "<a href=\"https://colab.research.google.com/github/GenyaElamkov/Stepic_3/blob/master/decoration.ipynb\" target=\"_parent\"><img src=\"https://colab.research.google.com/assets/colab-badge.svg\" alt=\"Open In Colab\"/></a>"
      ]
    },
    {
      "cell_type": "code",
      "execution_count": null,
      "metadata": {
        "colab": {
          "base_uri": "https://localhost:8080/"
        },
        "id": "lrseVaCoi6tZ",
        "outputId": "db837d4a-425e-4032-8ee0-9d6628f2993b"
      },
      "outputs": [
        {
          "output_type": "stream",
          "name": "stdout",
          "text": [
            "hello\n",
            "HELLO WORDS\n"
          ]
        }
      ],
      "source": [
        "def uppers(func):\n",
        "    def wraper(text):\n",
        "        res = func(text)\n",
        "        return res.upper()\n",
        "    return wraper\n",
        "\n",
        "def say(text):\n",
        "    return text\n",
        "\n",
        "print(say('hello'))\n",
        "\n",
        "greate = uppers(say)\n",
        "print(greate('hello words'))\n"
      ]
    },
    {
      "cell_type": "code",
      "source": [
        "def bold(func):\n",
        "    def wraper(*args, **kwargs):\n",
        "        return '<b>' + func(*args, **kwargs) + '</b>'\n",
        "    return wraper\n",
        "\n",
        "\n",
        "def italic(func):\n",
        "    def wraper(*args, **kwargs):\n",
        "        return '<i>' + func(*args, **kwargs) + '</i>'\n",
        "    return wraper\n",
        "\n",
        "@bold\n",
        "@italic\n",
        "def show_html(text):\n",
        "    return text\n",
        "\n",
        "print(show_html('Hello'))\n",
        "\n",
        "@bold\n",
        "def show_no_text():\n",
        "    return \"I'am not found!\"\n",
        "\n",
        "show_no_text()\n"
      ],
      "metadata": {
        "colab": {
          "base_uri": "https://localhost:8080/",
          "height": 54
        },
        "id": "LbYBlKg1mnSa",
        "outputId": "1e1fb33e-7303-4431-b76a-e08fe904316b"
      },
      "execution_count": null,
      "outputs": [
        {
          "output_type": "stream",
          "name": "stdout",
          "text": [
            "<b><i>Hello</i></b>\n"
          ]
        },
        {
          "output_type": "execute_result",
          "data": {
            "text/plain": [
              "\"<b>I'am not found!</b>\""
            ],
            "application/vnd.google.colaboratory.intrinsic+json": {
              "type": "string"
            }
          },
          "metadata": {},
          "execution_count": 47
        }
      ]
    },
    {
      "cell_type": "markdown",
      "source": [
        "## Декоратор sandwich\n",
        "Реализуйте декоратор sandwich, который выводит тексты:\n",
        "\n",
        "---- Верхний ломтик хлеба ----\n",
        "---- Нижний ломтик хлеба ----\n",
        "до и после вызова декорируемой функции соответственно.\n",
        "\n",
        "Примечание 1. Не забывайте про то, что декоратор не должен поглощать возвращаемое значение декорируемой функции, а также должен уметь декорировать функции с произвольным количеством позиционных и именованных аргументов.\n",
        "\n",
        "Примечание 2. В тестирующую систему сдайте программу, содержащую только необходимый декоратор sandwich, но не код, вызывающий его.\n",
        "\n",
        "https://stepik.org/lesson/640039/step/19?auth=login&unit=636559"
      ],
      "metadata": {
        "id": "z98HFTRS2X1c"
      }
    },
    {
      "cell_type": "code",
      "source": [
        "def sandwich(func):\n",
        "    def wrapper(*args, **kwargs):\n",
        "        print(\"---- Верхний ломтик хлеба ----\")\n",
        "        res = func(*args, **kwargs)\n",
        "        print(\"---- Нижний ломтик хлеба ----\")\n",
        "        return res\n",
        "    return wrapper\n",
        "\n",
        "\n",
        "@sandwich\n",
        "def beegeek():\n",
        "    return 'beegeek'\n",
        "\n",
        "\n",
        "print(beegeek())\n"
      ],
      "metadata": {
        "id": "12mE3xwH2YHJ"
      },
      "execution_count": null,
      "outputs": []
    },
    {
      "cell_type": "markdown",
      "source": [
        "## Новый print\n",
        "Напишите программу с использованием декоратора, которая переопределяет функцию print() так, чтобы она печатала весь текст в верхнем регистре.\n",
        "\n",
        "Формат входных данных\n",
        "На вход программе ничего не подается.\n",
        "\n",
        "Формат выходных данных\n",
        "Программа должна задекорировать функцию print() так, чтобы она печатала весь текст в верхнем регистре.\n",
        "\n",
        "Примечание 1. Значения sep и end также должны переводиться в верхний регистр.\n",
        "\n",
        "Примечание 2. Не забывайте про то, что декоратор не должен поглощать возвращаемое значение декорируемой функции, а также должен уметь декорировать функции с произвольным количеством позиционных и именованных аргументов.\n",
        "\n",
        "https://stepik.org/lesson/640039/step/20?auth=login&unit=636559"
      ],
      "metadata": {
        "id": "FSwR3WqZ2fGx"
      }
    },
    {
      "cell_type": "code",
      "source": [
        "def print_upper(func):\n",
        "    def wrapper(*args, **kwargs):\n",
        "        args = tuple(map(\n",
        "            str, map(lambda x: x.upper() if isinstance(x, str) else x, args)))\n",
        "        kwargs = {k: v.upper() if isinstance(v, str) else v\n",
        "                  for k, v in kwargs.items()}\n",
        "        func(*args, **kwargs)\n",
        "    return wrapper\n",
        "\n",
        "\n",
        "print = print_upper(print)\n",
        "\n",
        "\n",
        "print('are you in trouble?')"
      ],
      "metadata": {
        "colab": {
          "base_uri": "https://localhost:8080/"
        },
        "id": "QgEh6ll42fft",
        "outputId": "29ccf8ef-ed7a-4ff5-e9fb-f55a057924d3"
      },
      "execution_count": null,
      "outputs": [
        {
          "output_type": "stream",
          "name": "stdout",
          "text": [
            "ARE YOU IN TROUBLE?\n"
          ]
        }
      ]
    },
    {
      "cell_type": "markdown",
      "source": [
        "## Декоратор do_twice\n",
        "Реализуйте декоратор do_twice, вызывающий декорируемую функцию два раза.\n",
        "\n",
        "Примечание 1. Не забывайте про то, что декоратор не должен поглощать возвращаемое значение декорируемой функции, а также должен уметь декорировать функции с произвольным количеством позиционных и именованных аргументов.\n",
        "\n",
        "Примечание 2. В тестирующую систему сдайте программу, содержащую только необходимый декоратор do_twice, но не код, вызывающий его.\n",
        "\n",
        "https://stepik.org/lesson/640039/step/21?auth=login&unit=636559"
      ],
      "metadata": {
        "id": "72NdduSy-Yw2"
      }
    },
    {
      "cell_type": "code",
      "source": [
        "def do_twice(func):\n",
        "    def wrapper(*args, **kwargs):\n",
        "        func(*args, **kwargs)\n",
        "        return func(*args, **kwargs)\n",
        "    return wrapper\n",
        "\n",
        "\n",
        "@do_twice\n",
        "def beegeek():\n",
        "    print('beegeek')\n",
        "\n",
        "\n",
        "print(beegeek())"
      ],
      "metadata": {
        "colab": {
          "base_uri": "https://localhost:8080/"
        },
        "id": "M3zvxoQ2-Y-c",
        "outputId": "8297c34d-be54-4ff8-9d43-526795ae51f3"
      },
      "execution_count": null,
      "outputs": [
        {
          "output_type": "stream",
          "name": "stdout",
          "text": [
            "BEEGEEK\n",
            "BEEGEEK\n",
            "None\n"
          ]
        }
      ]
    },
    {
      "cell_type": "markdown",
      "source": [
        "## Декоратор reverse_args\n",
        "Реализуйте декоратор reverse_args, который передает все позиционные аргументы в декорируемую функцию func в обратном порядке.\n",
        "\n",
        "Примечание 1. Не забывайте про то, что декоратор не должен поглощать возвращаемое значение декорируемой функции, а также должен уметь декорировать функции с произвольным количеством позиционных и именованных аргументов.\n",
        "\n",
        "Примечание 2. В тестирующую систему сдайте программу, содержащую только необходимый декоратор reverse_args, но не код, вызывающий его."
      ],
      "metadata": {
        "id": "RdlSAOTduQRs"
      }
    },
    {
      "cell_type": "code",
      "source": [
        "def reverse_args(func):\n",
        "    def wrapper(*args, **kwargs):\n",
        "        return func(*args[::-1], **kwargs)\n",
        "    return wrapper\n",
        "\n",
        "\n",
        "@reverse_args\n",
        "def power(a, n):\n",
        "    return a ** n\n",
        "\n",
        "\n",
        "print(power(2, 3))"
      ],
      "metadata": {
        "colab": {
          "base_uri": "https://localhost:8080/"
        },
        "id": "CpBkDQmruQgE",
        "outputId": "dd1a2c80-f9e7-43bd-97de-68a9029230f3"
      },
      "execution_count": null,
      "outputs": [
        {
          "output_type": "stream",
          "name": "stdout",
          "text": [
            "9\n"
          ]
        }
      ]
    },
    {
      "cell_type": "markdown",
      "source": [
        "## Декоратор exception_decorator\n",
        "Реализуйте декоратор exception_decorator, который возвращает\n",
        "\n",
        "кортеж (value, 'Функция выполнилась без ошибок'), если декорируемая функция завершила свою работу без ошибок, где value — возвращаемое значение декорируемой функции\n",
        "кортеж (None, 'При вызове функции произошла ошибка'), если при выполнении декорируемой функции возникла ошибка\n",
        "Примечание 1. Не забывайте про то, что декоратор не должен поглощать возвращаемое значение декорируемой функции, а также должен уметь декорировать функции с произвольным количеством позиционных и именованных аргументов.\n",
        "\n",
        "Примечание 2. В тестирующую систему сдайте программу, содержащую только необходимый декоратор exception_decorator, но не код, вызывающий его.\n",
        "\n",
        "https://stepik.org/lesson/640039/step/23?unit=636559"
      ],
      "metadata": {
        "id": "QnEzIphLxL51"
      }
    },
    {
      "cell_type": "code",
      "source": [
        "def exception_decorator(func):\n",
        "    def wrapper(*args, **kwargs):\n",
        "        try:\n",
        "            return func(*args, **kwargs), 'Функция выполнилась без ошибок'\n",
        "        except TypeError:\n",
        "            return None, 'При вызове функции произошла ошибка'\n",
        "    return wrapper\n",
        "\n",
        "\n",
        "@exception_decorator\n",
        "def f(x):\n",
        "    return x ** 2 + 2 * x + 1\n",
        "\n",
        "print(f(7))"
      ],
      "metadata": {
        "colab": {
          "base_uri": "https://localhost:8080/"
        },
        "id": "mjZzYdvoxNkt",
        "outputId": "3f1ea1fd-df50-4e48-9b19-ae0cb53e1689"
      },
      "execution_count": null,
      "outputs": [
        {
          "output_type": "stream",
          "name": "stdout",
          "text": [
            "(64, 'Функция выполнилась без ошибок')\n"
          ]
        }
      ]
    },
    {
      "cell_type": "markdown",
      "source": [
        "## Декоратор takes_positive\n",
        "Реализуйте декоратор takes_positive, который проверяет, что все аргументы, передаваемые в декорируемую функцию, являются положительными целыми числами.\n",
        "\n",
        "Если хотя бы один аргумент не удовлетворяет данному условию, декоратор должен возбуждать исключение:\n",
        "\n",
        "TypeError, если аргумент не является целым числом\n",
        "ValueError, если аргумент является целым числом, но отрицательным или равным нулю\n",
        "Примечание 1. Приоритет возбуждения исключений при несоответствии аргумента обоим условиям или при наличии разных аргументов, несоответствующих разным условиям: TypeError, затем ValueError.\n",
        "\n",
        "Примечание 2. Не забывайте про то, что декоратор не должен поглощать возвращаемое значение декорируемой функции, а также должен уметь декорировать функции с произвольным количеством позиционных и именованных аргументов.\n",
        "\n",
        "Примечание 3. В тестирующую систему сдайте программу, содержащую только необходимый декоратор takes_positive, но не код, вызывающий его.\n",
        "\n",
        "https://stepik.org/lesson/640039/step/24?thread=solutions&unit=636559"
      ],
      "metadata": {
        "id": "ZeWrVTs2KiQg"
      }
    },
    {
      "cell_type": "code",
      "source": [
        "def takes_positive(func):\n",
        "    def wrapper(*args, **kwargs):\n",
        "        for k in (args + (*kwargs.values(),)):\n",
        "            if not isinstance(k, int):\n",
        "                raise TypeError\n",
        "            if k <= 0:\n",
        "                raise ValueError\n",
        "        return func(*args, **kwargs)\n",
        "\n",
        "    return wrapper\n",
        "\n",
        "@takes_positive\n",
        "def positive_sum(*args):\n",
        "    return sum(args)\n",
        "\n",
        "print(positive_sum(1, 2, 3, 4, 5, 6, 7, 8, 9, 10))"
      ],
      "metadata": {
        "id": "957KjC6LKio4",
        "outputId": "5b9c1578-48fb-4cbb-fd52-4577564cf985",
        "colab": {
          "base_uri": "https://localhost:8080/"
        }
      },
      "execution_count": 4,
      "outputs": [
        {
          "output_type": "stream",
          "name": "stdout",
          "text": [
            "55\n"
          ]
        }
      ]
    }
  ]
}