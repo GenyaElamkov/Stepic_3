{
  "nbformat": 4,
  "nbformat_minor": 0,
  "metadata": {
    "colab": {
      "provenance": [],
      "authorship_tag": "ABX9TyNuy17vdKBBtD1OrJyCLybl",
      "include_colab_link": true
    },
    "kernelspec": {
      "name": "python3",
      "display_name": "Python 3"
    },
    "language_info": {
      "name": "python"
    }
  },
  "cells": [
    {
      "cell_type": "markdown",
      "metadata": {
        "id": "view-in-github",
        "colab_type": "text"
      },
      "source": [
        "<a href=\"https://colab.research.google.com/github/GenyaElamkov/Stepic_3/blob/master/decoration.ipynb\" target=\"_parent\"><img src=\"https://colab.research.google.com/assets/colab-badge.svg\" alt=\"Open In Colab\"/></a>"
      ]
    },
    {
      "cell_type": "code",
      "execution_count": null,
      "metadata": {
        "colab": {
          "base_uri": "https://localhost:8080/"
        },
        "id": "lrseVaCoi6tZ",
        "outputId": "db837d4a-425e-4032-8ee0-9d6628f2993b"
      },
      "outputs": [
        {
          "output_type": "stream",
          "name": "stdout",
          "text": [
            "hello\n",
            "HELLO WORDS\n"
          ]
        }
      ],
      "source": [
        "def uppers(func):\n",
        "    def wraper(text):\n",
        "        res = func(text)\n",
        "        return res.upper()\n",
        "    return wraper\n",
        "\n",
        "def say(text):\n",
        "    return text\n",
        "\n",
        "print(say('hello'))\n",
        "\n",
        "greate = uppers(say)\n",
        "print(greate('hello words'))\n"
      ]
    },
    {
      "cell_type": "code",
      "source": [
        "def bold(func):\n",
        "    def wraper(*args, **kwargs):\n",
        "        return '<b>' + func(*args, **kwargs) + '</b>'\n",
        "    return wraper\n",
        "\n",
        "\n",
        "def italic(func):\n",
        "    def wraper(*args, **kwargs):\n",
        "        return '<i>' + func(*args, **kwargs) + '</i>'\n",
        "    return wraper\n",
        "\n",
        "@bold\n",
        "@italic\n",
        "def show_html(text):\n",
        "    return text\n",
        "\n",
        "print(show_html('Hello'))\n",
        "\n",
        "@bold\n",
        "def show_no_text():\n",
        "    return \"I'am not found!\"\n",
        "\n",
        "show_no_text()\n"
      ],
      "metadata": {
        "colab": {
          "base_uri": "https://localhost:8080/",
          "height": 54
        },
        "id": "LbYBlKg1mnSa",
        "outputId": "1e1fb33e-7303-4431-b76a-e08fe904316b"
      },
      "execution_count": null,
      "outputs": [
        {
          "output_type": "stream",
          "name": "stdout",
          "text": [
            "<b><i>Hello</i></b>\n"
          ]
        },
        {
          "output_type": "execute_result",
          "data": {
            "text/plain": [
              "\"<b>I'am not found!</b>\""
            ],
            "application/vnd.google.colaboratory.intrinsic+json": {
              "type": "string"
            }
          },
          "metadata": {},
          "execution_count": 47
        }
      ]
    },
    {
      "cell_type": "markdown",
      "source": [
        "## Декоратор sandwich\n",
        "Реализуйте декоратор sandwich, который выводит тексты:\n",
        "\n",
        "---- Верхний ломтик хлеба ----\n",
        "---- Нижний ломтик хлеба ----\n",
        "до и после вызова декорируемой функции соответственно.\n",
        "\n",
        "Примечание 1. Не забывайте про то, что декоратор не должен поглощать возвращаемое значение декорируемой функции, а также должен уметь декорировать функции с произвольным количеством позиционных и именованных аргументов.\n",
        "\n",
        "Примечание 2. В тестирующую систему сдайте программу, содержащую только необходимый декоратор sandwich, но не код, вызывающий его.\n",
        "\n",
        "https://stepik.org/lesson/640039/step/19?auth=login&unit=636559"
      ],
      "metadata": {
        "id": "z98HFTRS2X1c"
      }
    },
    {
      "cell_type": "code",
      "source": [
        "def sandwich(func):\n",
        "    def wrapper(*args, **kwargs):\n",
        "        print(\"---- Верхний ломтик хлеба ----\")\n",
        "        res = func(*args, **kwargs)\n",
        "        print(\"---- Нижний ломтик хлеба ----\")\n",
        "        return res\n",
        "    return wrapper\n",
        "\n",
        "\n",
        "@sandwich\n",
        "def beegeek():\n",
        "    return 'beegeek'\n",
        "\n",
        "\n",
        "print(beegeek())\n"
      ],
      "metadata": {
        "id": "12mE3xwH2YHJ"
      },
      "execution_count": null,
      "outputs": []
    },
    {
      "cell_type": "markdown",
      "source": [
        "## Новый print\n",
        "Напишите программу с использованием декоратора, которая переопределяет функцию print() так, чтобы она печатала весь текст в верхнем регистре.\n",
        "\n",
        "Формат входных данных\n",
        "На вход программе ничего не подается.\n",
        "\n",
        "Формат выходных данных\n",
        "Программа должна задекорировать функцию print() так, чтобы она печатала весь текст в верхнем регистре.\n",
        "\n",
        "Примечание 1. Значения sep и end также должны переводиться в верхний регистр.\n",
        "\n",
        "Примечание 2. Не забывайте про то, что декоратор не должен поглощать возвращаемое значение декорируемой функции, а также должен уметь декорировать функции с произвольным количеством позиционных и именованных аргументов.\n",
        "\n",
        "https://stepik.org/lesson/640039/step/20?auth=login&unit=636559"
      ],
      "metadata": {
        "id": "FSwR3WqZ2fGx"
      }
    },
    {
      "cell_type": "code",
      "source": [
        "def print_upper(func):\n",
        "    def wrapper(*args, **kwargs):\n",
        "        args = tuple(map(\n",
        "            str, map(lambda x: x.upper() if isinstance(x, str) else x, args)))\n",
        "        kwargs = {k: v.upper() if isinstance(v, str) else v\n",
        "                  for k, v in kwargs.items()}\n",
        "        func(*args, **kwargs)\n",
        "    return wrapper\n",
        "\n",
        "\n",
        "print = print_upper(print)\n",
        "\n",
        "\n",
        "print('are you in trouble?')"
      ],
      "metadata": {
        "colab": {
          "base_uri": "https://localhost:8080/"
        },
        "id": "QgEh6ll42fft",
        "outputId": "29ccf8ef-ed7a-4ff5-e9fb-f55a057924d3"
      },
      "execution_count": null,
      "outputs": [
        {
          "output_type": "stream",
          "name": "stdout",
          "text": [
            "ARE YOU IN TROUBLE?\n"
          ]
        }
      ]
    },
    {
      "cell_type": "markdown",
      "source": [
        "## Декоратор do_twice\n",
        "Реализуйте декоратор do_twice, вызывающий декорируемую функцию два раза.\n",
        "\n",
        "Примечание 1. Не забывайте про то, что декоратор не должен поглощать возвращаемое значение декорируемой функции, а также должен уметь декорировать функции с произвольным количеством позиционных и именованных аргументов.\n",
        "\n",
        "Примечание 2. В тестирующую систему сдайте программу, содержащую только необходимый декоратор do_twice, но не код, вызывающий его.\n",
        "\n",
        "https://stepik.org/lesson/640039/step/21?auth=login&unit=636559"
      ],
      "metadata": {
        "id": "72NdduSy-Yw2"
      }
    },
    {
      "cell_type": "code",
      "source": [
        "def do_twice(func):\n",
        "    def wrapper(*args, **kwargs):\n",
        "        func(*args, **kwargs)\n",
        "        return func(*args, **kwargs)\n",
        "    return wrapper\n",
        "\n",
        "\n",
        "@do_twice\n",
        "def beegeek():\n",
        "    print('beegeek')\n",
        "\n",
        "\n",
        "print(beegeek())"
      ],
      "metadata": {
        "colab": {
          "base_uri": "https://localhost:8080/"
        },
        "id": "M3zvxoQ2-Y-c",
        "outputId": "8297c34d-be54-4ff8-9d43-526795ae51f3"
      },
      "execution_count": null,
      "outputs": [
        {
          "output_type": "stream",
          "name": "stdout",
          "text": [
            "BEEGEEK\n",
            "BEEGEEK\n",
            "None\n"
          ]
        }
      ]
    },
    {
      "cell_type": "markdown",
      "source": [
        "## Декоратор reverse_args\n",
        "Реализуйте декоратор reverse_args, который передает все позиционные аргументы в декорируемую функцию func в обратном порядке.\n",
        "\n",
        "Примечание 1. Не забывайте про то, что декоратор не должен поглощать возвращаемое значение декорируемой функции, а также должен уметь декорировать функции с произвольным количеством позиционных и именованных аргументов.\n",
        "\n",
        "Примечание 2. В тестирующую систему сдайте программу, содержащую только необходимый декоратор reverse_args, но не код, вызывающий его."
      ],
      "metadata": {
        "id": "RdlSAOTduQRs"
      }
    },
    {
      "cell_type": "code",
      "source": [
        "def reverse_args(func):\n",
        "    def wrapper(*args, **kwargs):\n",
        "        return func(*args[::-1], **kwargs)\n",
        "    return wrapper\n",
        "\n",
        "\n",
        "@reverse_args\n",
        "def power(a, n):\n",
        "    return a ** n\n",
        "\n",
        "\n",
        "print(power(2, 3))"
      ],
      "metadata": {
        "colab": {
          "base_uri": "https://localhost:8080/"
        },
        "id": "CpBkDQmruQgE",
        "outputId": "dd1a2c80-f9e7-43bd-97de-68a9029230f3"
      },
      "execution_count": null,
      "outputs": [
        {
          "output_type": "stream",
          "name": "stdout",
          "text": [
            "9\n"
          ]
        }
      ]
    },
    {
      "cell_type": "markdown",
      "source": [
        "## Декоратор exception_decorator\n",
        "Реализуйте декоратор exception_decorator, который возвращает\n",
        "\n",
        "кортеж (value, 'Функция выполнилась без ошибок'), если декорируемая функция завершила свою работу без ошибок, где value — возвращаемое значение декорируемой функции\n",
        "кортеж (None, 'При вызове функции произошла ошибка'), если при выполнении декорируемой функции возникла ошибка\n",
        "Примечание 1. Не забывайте про то, что декоратор не должен поглощать возвращаемое значение декорируемой функции, а также должен уметь декорировать функции с произвольным количеством позиционных и именованных аргументов.\n",
        "\n",
        "Примечание 2. В тестирующую систему сдайте программу, содержащую только необходимый декоратор exception_decorator, но не код, вызывающий его.\n",
        "\n",
        "https://stepik.org/lesson/640039/step/23?unit=636559"
      ],
      "metadata": {
        "id": "QnEzIphLxL51"
      }
    },
    {
      "cell_type": "code",
      "source": [
        "def exception_decorator(func):\n",
        "    def wrapper(*args, **kwargs):\n",
        "        try:\n",
        "            return func(*args, **kwargs), 'Функция выполнилась без ошибок'\n",
        "        except TypeError:\n",
        "            return None, 'При вызове функции произошла ошибка'\n",
        "    return wrapper\n",
        "\n",
        "\n",
        "@exception_decorator\n",
        "def f(x):\n",
        "    return x ** 2 + 2 * x + 1\n",
        "\n",
        "print(f(7))"
      ],
      "metadata": {
        "colab": {
          "base_uri": "https://localhost:8080/"
        },
        "id": "mjZzYdvoxNkt",
        "outputId": "3f1ea1fd-df50-4e48-9b19-ae0cb53e1689"
      },
      "execution_count": null,
      "outputs": [
        {
          "output_type": "stream",
          "name": "stdout",
          "text": [
            "(64, 'Функция выполнилась без ошибок')\n"
          ]
        }
      ]
    },
    {
      "cell_type": "markdown",
      "source": [
        "## Декоратор takes_positive\n",
        "Реализуйте декоратор takes_positive, который проверяет, что все аргументы, передаваемые в декорируемую функцию, являются положительными целыми числами.\n",
        "\n",
        "Если хотя бы один аргумент не удовлетворяет данному условию, декоратор должен возбуждать исключение:\n",
        "\n",
        "TypeError, если аргумент не является целым числом\n",
        "ValueError, если аргумент является целым числом, но отрицательным или равным нулю\n",
        "Примечание 1. Приоритет возбуждения исключений при несоответствии аргумента обоим условиям или при наличии разных аргументов, несоответствующих разным условиям: TypeError, затем ValueError.\n",
        "\n",
        "Примечание 2. Не забывайте про то, что декоратор не должен поглощать возвращаемое значение декорируемой функции, а также должен уметь декорировать функции с произвольным количеством позиционных и именованных аргументов.\n",
        "\n",
        "Примечание 3. В тестирующую систему сдайте программу, содержащую только необходимый декоратор takes_positive, но не код, вызывающий его.\n",
        "\n",
        "https://stepik.org/lesson/640039/step/24?thread=solutions&unit=636559"
      ],
      "metadata": {
        "id": "ZeWrVTs2KiQg"
      }
    },
    {
      "cell_type": "code",
      "source": [
        "def takes_positive(func):\n",
        "    def wrapper(*args, **kwargs):\n",
        "        for k in (args + (*kwargs.values(),)):\n",
        "            if not isinstance(k, int):\n",
        "                raise TypeError\n",
        "            if k <= 0:\n",
        "                raise ValueError\n",
        "        return func(*args, **kwargs)\n",
        "\n",
        "    return wrapper\n",
        "\n",
        "@takes_positive\n",
        "def positive_sum(*args):\n",
        "    return sum(args)\n",
        "\n",
        "print(positive_sum(1, 2, 3, 4, 5, 6, 7, 8, 9, 10))"
      ],
      "metadata": {
        "id": "957KjC6LKio4",
        "outputId": "5b9c1578-48fb-4cbb-fd52-4577564cf985",
        "colab": {
          "base_uri": "https://localhost:8080/"
        }
      },
      "execution_count": null,
      "outputs": [
        {
          "output_type": "stream",
          "name": "stdout",
          "text": [
            "55\n"
          ]
        }
      ]
    },
    {
      "cell_type": "code",
      "source": [
        "def bold(func):\n",
        "    def wrapper(*args, **kwargs):\n",
        "        return '<b>' + func(*args, **kwargs) + '</b>'\n",
        "    wrapper.__name__ = func.__name__\n",
        "    wrapper.__doc__ = func.__doc__\n",
        "    return wrapper\n",
        "\n",
        "@bold\n",
        "def greet(name):\n",
        "    '''Функция приветствия пользователя.'''\n",
        "    return f'Hello {name}!'\n",
        "\n",
        "print(greet.__name__)\n",
        "print(greet.__doc__)"
      ],
      "metadata": {
        "colab": {
          "base_uri": "https://localhost:8080/"
        },
        "id": "K9zw2_-gqUSL",
        "outputId": "7053e4ff-107e-4081-ad18-1eb8e726562d"
      },
      "execution_count": null,
      "outputs": [
        {
          "output_type": "stream",
          "name": "stdout",
          "text": [
            "greet\n",
            "Функция приветствия пользователя.\n"
          ]
        }
      ]
    },
    {
      "cell_type": "code",
      "source": [
        "import functools\n",
        "\n",
        "def bold(func):\n",
        "    @functools.wraps(func)\n",
        "    def wrapper(*args, **kwargs):\n",
        "        return '<b>' + func(*args, **kwargs) + '</b>'\n",
        "    return wrapper\n",
        "\n",
        "@bold\n",
        "def greet(name):\n",
        "    '''Функция приветствие пользователя.'''\n",
        "    return f'Hello {name}!'\n",
        "\n",
        "print(greet.__name__)\n",
        "print(greet.__doc__)"
      ],
      "metadata": {
        "colab": {
          "base_uri": "https://localhost:8080/"
        },
        "id": "Wzre4CZMq_Hk",
        "outputId": "94322401-5072-4030-c8a9-219bfd8a1920"
      },
      "execution_count": null,
      "outputs": [
        {
          "output_type": "stream",
          "name": "stdout",
          "text": [
            "greet\n",
            "Функция приветствие пользователя.\n"
          ]
        }
      ]
    },
    {
      "cell_type": "code",
      "source": [
        "import sys, time\n",
        "def teleprint(*args, delay=0.05, str_join=' '):\n",
        "    text = str_join.join(str(x) for x in args)\n",
        "    n = len(text)\n",
        "    for i, char in enumerate(text, 1):\n",
        "        if i == n:\n",
        "            char = f'{char}\\n'\n",
        "        print(char, end='')\n",
        "        time.sleep(delay)\n",
        "\n",
        "teleprint('Привет Python!', 'Меня зовут Тимур', 'Beegeek = <3', str_join='*')\n",
        "teleprint('Привет Python!', 'Меня зовут Тимур', 'Beegeek = <3', str_join='*')"
      ],
      "metadata": {
        "colab": {
          "base_uri": "https://localhost:8080/"
        },
        "id": "dBdTlHz3w0Vh",
        "outputId": "d80037cf-2cb7-4b93-849a-e69cbc89336d"
      },
      "execution_count": null,
      "outputs": [
        {
          "output_type": "stream",
          "name": "stdout",
          "text": [
            "Привет Python!*Меня зовут Тимур*Beegeek = <3\n",
            "Привет Python!*Меня зовут Тимур*Beegeek = <3\n"
          ]
        }
      ]
    },
    {
      "cell_type": "code",
      "source": [
        "import functools\n",
        "\n",
        "def counter(func):\n",
        "    @functools.wraps(func)\n",
        "    def wrapper(*args, **kwargs):\n",
        "        wrapper.num += 1\n",
        "        print(f'Вызов {func.__name__}: {wrapper.num}')\n",
        "        val = func(*args, **kwargs)\n",
        "        return val\n",
        "    wrapper.num = 0\n",
        "    return wrapper\n",
        "\n",
        "@counter\n",
        "def say(n):\n",
        "    return n\n",
        "\n",
        "say('Genya')\n",
        "print(say.__dict__)\n",
        "\n",
        "say('Genya')\n",
        "print(say.__dict__)"
      ],
      "metadata": {
        "colab": {
          "base_uri": "https://localhost:8080/"
        },
        "id": "ENDpEWBzxPW0",
        "outputId": "bc0bb4aa-0471-4678-cbdf-05d9b5a6d314"
      },
      "execution_count": null,
      "outputs": [
        {
          "output_type": "stream",
          "name": "stdout",
          "text": [
            "Вызов say: 1\n",
            "{'__wrapped__': <function say at 0x7cd64eea2200>, 'num': 1}\n",
            "Вызов say: 2\n",
            "{'__wrapped__': <function say at 0x7cd64eea2200>, 'num': 2}\n"
          ]
        }
      ]
    },
    {
      "cell_type": "markdown",
      "source": [
        "## Декоратор square\n",
        "Реализуйте декоратор square, который возводит возвращаемое значение декорируемой функции во вторую степень.\n",
        "\n",
        "Также декоратор должен сохранять имя и строку документации декорируемой функции.\n",
        "\n",
        "Примечание 1. Гарантируется, что возвращаемым значением декорируемой функции является объект типа int или float.\n",
        "\n",
        "Примечание 2. Не забывайте про то, что декоратор не должен поглощать возвращаемое значение декорируемой функции, а также должен уметь декорировать функции с произвольным количеством позиционных и именованных аргументов.\n",
        "\n",
        "Примечание 3. В тестирующую систему сдайте программу, содержащую только необходимый декоратор square, но не код, вызывающий его.\n",
        "\n",
        "https://stepik.org/lesson/640040/step/9?unit=636560"
      ],
      "metadata": {
        "id": "czzUzYPezzg4"
      }
    },
    {
      "cell_type": "code",
      "source": [
        "import functools\n",
        "\n",
        "\n",
        "def square(func):\n",
        "    @functools.wraps(func)\n",
        "    def wrapper(*args, **kwargs):\n",
        "        return func(*args, **kwargs) ** 2\n",
        "\n",
        "    return wrapper\n",
        "\n",
        "@square\n",
        "def add(a, b):\n",
        "    '''прекрасная функция'''\n",
        "    return a + b\n",
        "\n",
        "print(add(1, 1))\n",
        "print(add.__name__)\n",
        "print(add.__doc__)"
      ],
      "metadata": {
        "colab": {
          "base_uri": "https://localhost:8080/"
        },
        "id": "wygUwUykz0xg",
        "outputId": "1405fb9f-64c0-4e80-9204-2c137a2aab64"
      },
      "execution_count": null,
      "outputs": [
        {
          "output_type": "stream",
          "name": "stdout",
          "text": [
            "4\n",
            "add\n",
            "прекрасная функция\n"
          ]
        }
      ]
    },
    {
      "cell_type": "markdown",
      "source": [
        "## Декоратор returns_string\n",
        "Реализуйте декоратор returns_string, который проверяет, что возвращаемое значение декорируемой функции принадлежит типу str. Если возвращаемое значение принадлежит какому-либо другому типу, декоратор должен возбуждать исключение TypeError.\n",
        "\n",
        "Также декоратор должен сохранять имя и строку документации декорируемой функции.\n",
        "\n",
        "Примечание 1. Не забывайте про то, что декоратор не должен поглощать возвращаемое значение декорируемой функции, а также должен уметь декорировать функции с произвольным количеством позиционных и именованных аргументов.\n",
        "\n",
        "Примечание 2. В тестирующую систему сдайте программу, содержащую только необходимый декоратор returns_string, но не код, вызывающий его.\n",
        "\n",
        "https://stepik.org/lesson/640040/step/10?unit=636560"
      ],
      "metadata": {
        "id": "NMSpuH8j1hJL"
      }
    },
    {
      "cell_type": "code",
      "source": [
        "import functools\n",
        "\n",
        "def returns_string(func):\n",
        "    @functools.wraps(func)\n",
        "    def wrapper(*args, **kwargs):\n",
        "        if not isinstance(func(*args, **kwargs), str):\n",
        "            raise TypeError\n",
        "        return func(*args, **kwargs)\n",
        "\n",
        "    return wrapper\n",
        "\n",
        "@returns_string\n",
        "def add(a, b):\n",
        "    return a + b\n",
        "\n",
        "try:\n",
        "    print(add(3, 7))\n",
        "except TypeError as e:\n",
        "    print(type(e))"
      ],
      "metadata": {
        "colab": {
          "base_uri": "https://localhost:8080/"
        },
        "id": "M-M_iSWV34a4",
        "outputId": "93b73195-52d6-4611-b0e1-81a26ace0779"
      },
      "execution_count": null,
      "outputs": [
        {
          "output_type": "stream",
          "name": "stdout",
          "text": [
            "<class 'TypeError'>\n"
          ]
        }
      ]
    },
    {
      "cell_type": "markdown",
      "source": [
        "## Декоратор trace\n",
        "Реализуйте декоратор trace, который выводит отладочную информацию о декорируемой функции во время ее выполнения, а именно: имя функции, переданные аргументы и возвращаемое значение в следующем формате:\n",
        "\n",
        "TRACE: вызов <имя функции>() с аргументами: <кортеж позиционных аргументов>, <словарь именованных аргументов>\n",
        "TRACE: возвращаемое значение <имя функции>(): <возвращаемое значение>\n",
        "Также декоратор должен сохранять имя и строку документации декорируемой функции.\n",
        "\n",
        "Примечание 1. Не забывайте про то, что декоратор не должен поглощать возвращаемое значение декорируемой функции, а также должен уметь декорировать функции с произвольным количеством позиционных и именованных аргументов.\n",
        "\n",
        "Примечание 2. В тестирующую систему сдайте программу, содержащую только необходимый декоратор trace, но не код, вызывающий его.\n",
        "\n",
        "https://stepik.org/lesson/640040/step/11?unit=636560"
      ],
      "metadata": {
        "id": "-x4hwT_24IQU"
      }
    },
    {
      "cell_type": "code",
      "source": [
        "import functools\n",
        "\n",
        "\n",
        "def trace(func):\n",
        "    @functools.wraps(func)\n",
        "    def wrapper(*args, **kwargs):\n",
        "        val = func(*args, **kwargs)\n",
        "        print(\n",
        "            f\"TRACE: вызов {func.__name__}() с аргументами: {args}, {kwargs}\")\n",
        "        print(f\"TRACE: возвращаемое значение {func.__name__}(): {repr(val)}\")\n",
        "\n",
        "        return val\n",
        "\n",
        "    return wrapper\n",
        "\n",
        "\n",
        "@trace\n",
        "def sub(a, b, c):\n",
        "    '''прекрасная функция'''\n",
        "    return a - b + c\n",
        "\n",
        "\n",
        "print(sub.__name__)\n",
        "print(sub.__doc__)\n",
        "sub(20, 5, c=10)"
      ],
      "metadata": {
        "colab": {
          "base_uri": "https://localhost:8080/"
        },
        "id": "PGT6iCRh4JjD",
        "outputId": "d8f4f184-0b4c-4ae3-9215-39c9a403f923"
      },
      "execution_count": null,
      "outputs": [
        {
          "output_type": "stream",
          "name": "stdout",
          "text": [
            "sub\n",
            "прекрасная функция\n",
            "TRACE: вызов sub() с аргументами: (20, 5), {'c': 10}\n",
            "TRACE: возвращаемое значение sub(): 25\n"
          ]
        },
        {
          "output_type": "execute_result",
          "data": {
            "text/plain": [
              "25"
            ]
          },
          "metadata": {},
          "execution_count": 9
        }
      ]
    },
    {
      "cell_type": "markdown",
      "source": [
        "## Декоратор prefix\n",
        "Реализуйте декоратор prefix, который принимает два аргумента в следующем порядке:\n",
        "\n",
        "string — произвольная строка\n",
        "to_the_end — булево значение, по умолчанию равное False\n",
        "Декоратор должен добавлять строку string к возвращаемому значению декорируемой функции. Если to_the_end имеет значение True, строка string добавляется в конец, если False — в начало.\n",
        "\n",
        "Также декоратор должен сохранять имя и строку документации декорируемой функции.\n",
        "\n",
        "Примечание 1. Гарантируется, что возвращаемым значением декорируемой функции является объект типа str.\n",
        "\n",
        "Примечание 2. Не забывайте про то, что декоратор не должен поглощать возвращаемое значение декорируемой функции, а также должен уметь декорировать функции с произвольным количеством позиционных и именованных аргументов.\n",
        "\n",
        "Примечание 3. В тестирующую систему сдайте программу, содержащую только необходимый декоратор prefix, но не код, вызывающий его.\n",
        "\n",
        "https://stepik.org/lesson/640040/step/17?unit=636560"
      ],
      "metadata": {
        "id": "-R-MzQJs4WV3"
      }
    },
    {
      "cell_type": "code",
      "source": [
        "import functools\n",
        "\n",
        "\n",
        "def prefix(string: str, to_the_end: bool = False):\n",
        "    def pref(func):\n",
        "        @functools.wraps(func)\n",
        "        def wrapper(*args, **kwargs):\n",
        "            val = func(*args, **kwargs)\n",
        "            return (string + val, val + string)[to_the_end]\n",
        "\n",
        "        return wrapper\n",
        "\n",
        "    return pref\n",
        "\n",
        "\n",
        "@prefix('€')\n",
        "def get_bonus():\n",
        "    return '2000'\n",
        "\n",
        "\n",
        "print(get_bonus())\n"
      ],
      "metadata": {
        "colab": {
          "base_uri": "https://localhost:8080/"
        },
        "id": "VbLpB-Qx4YEW",
        "outputId": "15f805bb-05b2-40bb-b72c-81feabece629"
      },
      "execution_count": 1,
      "outputs": [
        {
          "output_type": "stream",
          "name": "stdout",
          "text": [
            "€2000\n"
          ]
        }
      ]
    },
    {
      "cell_type": "markdown",
      "source": [
        "## Декоратор make_html\n",
        "Тег — элемент языка разметки, используемый для форматирования текста. Например, текст, заключённый между начальным тегом <small> и конечным тегом </small>, отображается с меньшим размером, чем основной текст, а текст между тегами <big> и </big> отображается с большим размером.\n",
        "\n",
        "Реализуйте декоратор make_html(), который принимает один аргумент:\n",
        "\n",
        "tag — HTML-тег, например, del\n",
        "Декоратор должен обрамлять возвращаемое значение декорируемой функции в HTML-тег tag.\n",
        "\n",
        "Также декоратор должен сохранять имя и строку документации декорируемой функции.\n",
        "\n",
        "Примечание 1. Гарантируется, что возвращаемым значением декорируемой функции является объект типа str.\n",
        "\n",
        "Примечание 2. Не забывайте про то, что декоратор не должен поглощать возвращаемое значение декорируемой функции, а также должен уметь декорировать функции с произвольным количеством позиционных и именованных аргументов.\n",
        "\n",
        "Примечание 3. В тестирующую систему сдайте программу, содержащую только необходимый декоратор make_html, но не код, вызывающий его.\n",
        "\n",
        "https://stepik.org/lesson/640040/step/18?unit=636560"
      ],
      "metadata": {
        "id": "DOgZbs526-Qv"
      }
    },
    {
      "cell_type": "code",
      "source": [
        "import functools\n",
        "\n",
        "\n",
        "def make_html(tag: str):\n",
        "    def html(func):\n",
        "        @functools.wraps(func)\n",
        "        def wrapper(*args, **kwargs):\n",
        "            return f'<{tag}>{func(*args, **kwargs)}</{tag}>'\n",
        "\n",
        "        return wrapper\n",
        "\n",
        "    return html\n",
        "\n",
        "\n",
        "@make_html('i')\n",
        "@make_html('del')\n",
        "def get_text(text):\n",
        "    return text\n",
        "\n",
        "\n",
        "print(get_text(text='decorators are so cool!'))"
      ],
      "metadata": {
        "colab": {
          "base_uri": "https://localhost:8080/"
        },
        "id": "65QKfaTI7CcJ",
        "outputId": "a06f7500-58ec-4509-bfdb-ccfd787e41a2"
      },
      "execution_count": 2,
      "outputs": [
        {
          "output_type": "stream",
          "name": "stdout",
          "text": [
            "<i><del>decorators are so cool!</del></i>\n"
          ]
        }
      ]
    },
    {
      "cell_type": "markdown",
      "source": [
        "## Декоратор repeat\n",
        "Реализуйте декоратор repeat, который принимает один аргумент:\n",
        "\n",
        "times — натуральное число\n",
        "Декоратор должен вызывать декорируемую функцию times раз.\n",
        "\n",
        "Также декоратор должен сохранять имя и строку документации декорируемой функции.\n",
        "\n",
        "Примечание 1. Не забывайте про то, что декоратор не должен поглощать возвращаемое значение декорируемой функции, а также должен уметь декорировать функции с произвольным количеством позиционных и именованных аргументов.\n",
        "\n",
        "Примечание 2. В тестирующую систему сдайте программу, содержащую только необходимый декоратор repeat, но не код, вызывающий его.\n",
        "\n",
        "https://stepik.org/lesson/640040/step/19?unit=636560"
      ],
      "metadata": {
        "id": "qOPAMfKo8aw7"
      }
    },
    {
      "cell_type": "code",
      "source": [],
      "metadata": {
        "id": "3i9gSLGT8ePl"
      },
      "execution_count": null,
      "outputs": []
    }
  ]
}