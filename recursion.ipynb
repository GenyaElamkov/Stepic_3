{
  "nbformat": 4,
  "nbformat_minor": 0,
  "metadata": {
    "colab": {
      "provenance": [],
      "toc_visible": true,
      "authorship_tag": "ABX9TyNGuIsPC/g3vhxdAct2SzJ0",
      "include_colab_link": true
    },
    "kernelspec": {
      "name": "python3",
      "display_name": "Python 3"
    },
    "language_info": {
      "name": "python"
    }
  },
  "cells": [
    {
      "cell_type": "markdown",
      "metadata": {
        "id": "view-in-github",
        "colab_type": "text"
      },
      "source": [
        "<a href=\"https://colab.research.google.com/github/GenyaElamkov/Stepic_3/blob/master/recursion.ipynb\" target=\"_parent\"><img src=\"https://colab.research.google.com/assets/colab-badge.svg\" alt=\"Open In Colab\"/></a>"
      ]
    },
    {
      "cell_type": "code",
      "execution_count": null,
      "metadata": {
        "colab": {
          "base_uri": "https://localhost:8080/"
        },
        "id": "FP_PvE5RrOuy",
        "outputId": "da254dc5-f43e-4ac6-df22-d51c076457ba"
      },
      "outputs": [
        {
          "output_type": "stream",
          "name": "stdout",
          "text": [
            "****\n",
            "****\n",
            "****\n",
            "\n",
            "******\n",
            "******\n",
            "******\n",
            "******\n",
            "******\n",
            "******\n",
            "\n",
            "**********\n",
            "**********\n"
          ]
        }
      ],
      "source": [
        "def draw_rect(width, height):\n",
        "    def rec(step):\n",
        "        if step < height:\n",
        "            print('*' * width)\n",
        "            rec(step + 1)\n",
        "    rec(0)\n",
        "\n",
        "draw_rect(4, 3)\n",
        "print()\n",
        "draw_rect(6, 6)\n",
        "print()\n",
        "draw_rect(10, 2)"
      ]
    },
    {
      "cell_type": "markdown",
      "source": [
        "## Подозрительно просто 🤫\n",
        "Вам доступна функция traffic(), реализованная с помощью цикла while, которая принимает в качестве аргумента число\n",
        "�\n",
        "n и выводит\n",
        "�\n",
        "n раз строку Не парковаться.\n",
        "\n",
        "Перепишите данную функцию с использованием рекурсии, чтобы она выполняла ту же задачу.\n",
        "\n",
        "Примечание. В тестирующую систему сдайте программу, содержащую только необходимую функцию traffic(), но не код, вызывающий ее.\n",
        "\n",
        "https://stepik.org/lesson/637962/step/5?unit=634429"
      ],
      "metadata": {
        "id": "lac91hZTP2CY"
      }
    },
    {
      "cell_type": "code",
      "source": [
        "def traffic(n):\n",
        "    if n > 0:\n",
        "        print('Не парковаться')\n",
        "        traffic(n-1)\n",
        "\n",
        "traffic(3)"
      ],
      "metadata": {
        "colab": {
          "base_uri": "https://localhost:8080/"
        },
        "id": "0PYeNtJwP2Ov",
        "outputId": "d5b55ffd-bd4e-4feb-d54a-ad4c8a027c26"
      },
      "execution_count": null,
      "outputs": [
        {
          "output_type": "stream",
          "name": "stdout",
          "text": [
            "Не парковаться\n",
            "Не парковаться\n",
            "Не парковаться\n"
          ]
        }
      ]
    },
    {
      "cell_type": "markdown",
      "source": [
        "## Подозрительно просто 🤐\n",
        "Напишите программу с использованием рекурсии, которая выводит последовательность натуральных чисел от\n",
        "1\n",
        "1 до 100 включительно.\n",
        "\n",
        "Формат входных данных\n",
        "На вход программе ничего не подается.\n",
        "\n",
        "Формат выходных данных\n",
        "Программа должны вывести последовательность натуральных чисел от\n",
        "1\n",
        "1 до\n",
        "100 включительно, каждое на отдельной строке.\n",
        "\n",
        "Примечание. Начальная часть ответа выглядит так:\n",
        "\n",
        "1\n",
        "2\n",
        "3\n",
        "4\n",
        "5\n",
        "...\n",
        "\n",
        "https://stepik.org/lesson/637962/step/6?unit=634429"
      ],
      "metadata": {
        "id": "_zVVMQENQ0xv"
      }
    },
    {
      "cell_type": "code",
      "source": [
        "def out_nums():\n",
        "    def start(n, end):\n",
        "        if n <= end:\n",
        "            print(n)\n",
        "            start(n + 1, end)\n",
        "\n",
        "    start(1, 100)\n",
        "\n",
        "out_nums()"
      ],
      "metadata": {
        "id": "mM1Cv1FVQ04V"
      },
      "execution_count": null,
      "outputs": []
    },
    {
      "cell_type": "markdown",
      "source": [
        "Вам доступен список numbers, содержащий ровно\n",
        "100\n",
        "100 целых чисел. Дополните приведенный ниже код с использованием рекурсии, чтобы он вывел все элементы этого списка от первого до последнего, каждый на отдельный строке, в следующем формате:\n",
        "\n",
        "Элемент <индекс элемента>: <значение элемента>\n",
        "Примечание. Начальная часть ответа выглядит так:\n",
        "\n",
        "Элемент 0: 243\n",
        "Элемент 1: -279\n",
        "Элемент 2: 395\n",
        "...\n",
        "\n",
        "https://stepik.org/lesson/637962/step/7?unit=634429"
      ],
      "metadata": {
        "id": "IaAfjBEqSY42"
      }
    },
    {
      "cell_type": "code",
      "source": [
        "numbers = [243, -279, 395, 130, 89, 269, 861, 669, 939, 367, -46, 710, 841,\n",
        "           -280, -244, 274, -132, 273, 418, 432, -341, 437, 360, 960, 195, 792,\n",
        "           106, 461, -35, 980, -80, 540, -358, 69, -26, -416, 597, 96, 533,\n",
        "           232, 755, 894, 331, 323, -383, -386, 231, 436, 553, 967, 166, -151,\n",
        "           772, 434, 325, 301, 275, 431, 556, 728, 558, 702, 463, 127, 984,\n",
        "           212, 876, -287, -16, -177, 577, 604, 116, 500, 653, 669, 916, 802,\n",
        "           817, 762, -210, -353, 144, -351, 777, 805, 692, 22, -303, 249, 190,\n",
        "           411, 236, -274, 174, 380, 71, 124, -85, 430]\n",
        "\n",
        "def out_nums(numbers):\n",
        "    def start(n):\n",
        "        if n < len(numbers):\n",
        "            print(f\"Элемент {n}: {numbers[n]}\")\n",
        "            start(n + 1)\n",
        "\n",
        "    start(0)\n",
        "\n",
        "\n",
        "out_nums(numbers)\n"
      ],
      "metadata": {
        "id": "BDVbS53uSY-0"
      },
      "execution_count": null,
      "outputs": []
    },
    {
      "cell_type": "markdown",
      "source": [
        "## Обратный порядок\n",
        "Дана последовательность целых чисел. Напишите программу с использованием рекурсии, которая выводит эту последовательность в обратном порядке.\n",
        "\n",
        "Формат входных данных\n",
        "На вход программе подается последовательность целых чисел, каждое на отдельной строке. Концом последовательности является число\n",
        "0\n",
        "0.\n",
        "\n",
        "Формат выходных данных\n",
        "Программа должна вывести введенные числа в обратном порядке, каждое на отдельной строке.\n",
        "\n",
        "https://stepik.org/lesson/637962/step/8?unit=634429"
      ],
      "metadata": {
        "id": "6m0qmcOOU6X3"
      }
    },
    {
      "cell_type": "code",
      "source": [
        "def input_nums():\n",
        "    arr = []\n",
        "\n",
        "    def start(num):\n",
        "        arr.append(num)\n",
        "        if num != 0:\n",
        "            start(int(input()))\n",
        "        else:\n",
        "            print(*[k for k in arr[::-1]], sep=\"\\n\")\n",
        "\n",
        "    start(int(input()))\n",
        "\n",
        "\n",
        "input_nums()"
      ],
      "metadata": {
        "id": "GcBmPj4PU6cw"
      },
      "execution_count": null,
      "outputs": []
    },
    {
      "cell_type": "code",
      "source": [
        "def result():\n",
        "    digit = int(input())\n",
        "    if digit != 0:\n",
        "        result()\n",
        "    print(digit)"
      ],
      "metadata": {
        "id": "Nbj2hKg9b95u"
      },
      "execution_count": null,
      "outputs": []
    },
    {
      "cell_type": "markdown",
      "source": [
        "## Функция triangle() 😥\n",
        "Реализуйте функцию triangle() с использованием рекурсии, которая принимает один аргумент:\n",
        "\n",
        "h — натуральное число\n",
        "Функция должна выводить звездный треугольник с высотой h в соответствии со следующим примером:\n",
        "\n",
        "...\n",
        "\n",
        "*****\n",
        "\n",
        "****\n",
        "\n",
        "***\n",
        "\n",
        "\n",
        "**\n",
        "\n",
        "*\n",
        "Примечание 1. В тестирующую систему сдайте программу, содержащую только необходимую функцию triangle(), но не код, вызывающий ее.\n",
        "\n",
        "https://stepik.org/lesson/637962/step/9?unit=634429"
      ],
      "metadata": {
        "id": "KncY_hb_dDzE"
      }
    },
    {
      "cell_type": "code",
      "source": [
        "def triangle(h):\n",
        "    if h > 0:\n",
        "        print(\"*\" * h)\n",
        "        triangle(h - 1)\n",
        "\n",
        "triangle(3)"
      ],
      "metadata": {
        "colab": {
          "base_uri": "https://localhost:8080/"
        },
        "id": "azfL8h2ZdD5b",
        "outputId": "5e72688f-7214-4a22-e3fd-72cd1575b109"
      },
      "execution_count": null,
      "outputs": [
        {
          "output_type": "stream",
          "name": "stdout",
          "text": [
            "***\n",
            "**\n",
            "*\n"
          ]
        }
      ]
    },
    {
      "cell_type": "markdown",
      "source": [
        "## Функция triangle() 😰\n",
        "Реализуйте функцию triangle() с использованием рекурсии, которая принимает один аргумент:\n",
        "\n",
        "h — натуральное число\n",
        "Функция должна выводить звездный треугольник с высотой h в соответствии со следующим примером:\n",
        "\n",
        "*\n",
        "**\n",
        "***\n",
        "****\n",
        "*****\n",
        "...\n",
        "Примечание 1. В тестирующую систему сдайте программу, содержащую только необходимую функцию triangle(), но не код, вызывающий ее.\n",
        "\n",
        "https://stepik.org/lesson/637962/step/10?unit=634429"
      ],
      "metadata": {
        "id": "zK0HNfPcfcYe"
      }
    },
    {
      "cell_type": "code",
      "source": [
        "def triangle(h):\n",
        "    if h > 0:\n",
        "        triangle(h - 1)\n",
        "        print(\"*\" * h)\n",
        "\n",
        "triangle(3)\n"
      ],
      "metadata": {
        "colab": {
          "base_uri": "https://localhost:8080/"
        },
        "id": "FIYQmFIIfced",
        "outputId": "b9988200-5c6d-4257-f710-b70ba0e73087"
      },
      "execution_count": null,
      "outputs": [
        {
          "output_type": "stream",
          "name": "stdout",
          "text": [
            "*\n",
            "**\n",
            "***\n"
          ]
        }
      ]
    },
    {
      "cell_type": "markdown",
      "source": [
        "## Песочные часы\n",
        "Напишите программу с использованием рекурсивной функции, которая выводит изображение песочных часов, составленное из цифр\n",
        "1\n",
        "1,\n",
        "2\n",
        "2,\n",
        "3\n",
        "3, и\n",
        "4\n",
        "4:\n",
        "\n",
        "1111111111111111    # 16 раз\n",
        "  222222222222      # 12 раз\n",
        "    33333333        # 8 раз\n",
        "      4444          # 4 раза\n",
        "    33333333        # 8 раз\n",
        "  222222222222      # 12 раз\n",
        "1111111111111111    # 16 раз\n",
        "Формат входных данных\n",
        "На вход программе ничего не подается.\n",
        "\n",
        "Формат выходных данных\n",
        "Программа должна вывести изображение песочных часов, составленное из цифр\n",
        "1\n",
        "1,\n",
        "2\n",
        "2,\n",
        "3\n",
        "3, и\n",
        "4\n",
        "4, представленное в условии задачи.\n",
        "\n",
        "Примечание. Количество цифр в каждой строке, указанное в комментариях, выводить не нужно.\n",
        "\n",
        "https://stepik.org/lesson/637962/step/11?unit=634429"
      ],
      "metadata": {
        "id": "feIEFqfHf_sB"
      }
    },
    {
      "cell_type": "code",
      "source": [
        "def show_clock(start, step):\n",
        "    res = f\"{str(start) * step:^16}\"\n",
        "    print(res)\n",
        "    if start != 4:\n",
        "        show_clock(start + 1, step - 4)\n",
        "        print(res)\n",
        "\n",
        "\n",
        "show_clock(1, 16)\n"
      ],
      "metadata": {
        "colab": {
          "base_uri": "https://localhost:8080/"
        },
        "id": "ErdRhMOof_x_",
        "outputId": "acddcc9b-2bd3-4d7b-ceb1-3745e35cd700"
      },
      "execution_count": null,
      "outputs": [
        {
          "output_type": "stream",
          "name": "stdout",
          "text": [
            "1111111111111111\n",
            "  222222222222  \n",
            "    33333333    \n",
            "      4444      \n",
            "    33333333    \n",
            "  222222222222  \n",
            "1111111111111111\n"
          ]
        }
      ]
    },
    {
      "cell_type": "markdown",
      "source": [
        "## Функция print_digits() 😉\n",
        "Реализуйте функцию print_digits() с использованием рекурсии, которая принимает один аргумент:\n",
        "\n",
        "number — натуральное число\n",
        "Функция должна выводить все цифры числа number, начиная с младших разрядов, каждое на отдельной строке.\n",
        "\n",
        "Примечание 1. В тестирующую систему сдайте программу, содержащую только необходимую функцию print_digits(), но не код, вызывающий ее.\n",
        "\n",
        "https://stepik.org/lesson/637962/step/12?unit=634429"
      ],
      "metadata": {
        "id": "wBph5OnBvJI5"
      }
    },
    {
      "cell_type": "code",
      "source": [
        "def print_digits(number):\n",
        "    if number != 0:\n",
        "        print(number % 10 )\n",
        "        print_digits(number//10)\n",
        "\n",
        "\n",
        "print_digits(12345)"
      ],
      "metadata": {
        "colab": {
          "base_uri": "https://localhost:8080/"
        },
        "id": "-6xarYj_vJQE",
        "outputId": "b53729f0-49e4-4813-e003-209da3e1a79a"
      },
      "execution_count": null,
      "outputs": [
        {
          "output_type": "stream",
          "name": "stdout",
          "text": [
            "5\n",
            "4\n",
            "3\n",
            "2\n",
            "1\n"
          ]
        }
      ]
    },
    {
      "cell_type": "markdown",
      "source": [
        "## Функция print_digits() 😎\n",
        "Реализуйте функцию print_digits() с использованием рекурсии, которая принимает один аргумент:\n",
        "\n",
        "number — натуральное число\n",
        "Функция должна выводить все цифры числа number, начиная со старших разрядов, каждое на отдельной строке.\n",
        "\n",
        "Примечание 1. В тестирующую систему сдайте программу, содержащую только необходимую функцию print_digits(), но не код, вызывающий ее.\n",
        "\n",
        "https://stepik.org/lesson/637962/step/13?unit=634429"
      ],
      "metadata": {
        "id": "TEvlelcTyY-d"
      }
    },
    {
      "cell_type": "code",
      "source": [
        "def print_digits(number):\n",
        "    if number != 0:\n",
        "        print_digits(number//10)\n",
        "        print(number % 10 )\n",
        "\n",
        "print_digits(12345)"
      ],
      "metadata": {
        "colab": {
          "base_uri": "https://localhost:8080/"
        },
        "id": "2ErCzpPNyZEP",
        "outputId": "ea7f94a5-760a-4924-cd11-ac9460593455"
      },
      "execution_count": null,
      "outputs": [
        {
          "output_type": "stream",
          "name": "stdout",
          "text": [
            "1\n",
            "2\n",
            "3\n",
            "4\n",
            "5\n"
          ]
        }
      ]
    },
    {
      "cell_type": "markdown",
      "source": [
        "## Количество цифр\n",
        "Напишите программу с использованием рекурсии, которая принимает на вход число и выводит количество цифр в этом числе.\n",
        "\n",
        "Формат входных данных\n",
        "На вход программе подается неотрицательное целое число.\n",
        "\n",
        "Формат выходных данных\n",
        "Программа должна определить количество цифр в введенном числе и вывести полученный результат.\n",
        "\n",
        "https://stepik.org/lesson/594137/step/6?unit=589173"
      ],
      "metadata": {
        "id": "hTEIzIRcpl2E"
      }
    },
    {
      "cell_type": "code",
      "source": [
        "def show_counter(num):\n",
        "    if not num:\n",
        "        return 0\n",
        "    else:\n",
        "        return 1 + show_counter(num//10)\n",
        "\n",
        "\n",
        "show_counter(2056)"
      ],
      "metadata": {
        "colab": {
          "base_uri": "https://localhost:8080/"
        },
        "id": "a7v5rAbOpl9D",
        "outputId": "9a2fc34f-48d7-4b4e-f1fe-82bb4663bfbe"
      },
      "execution_count": null,
      "outputs": [
        {
          "output_type": "execute_result",
          "data": {
            "text/plain": [
              "4"
            ]
          },
          "metadata": {},
          "execution_count": 20
        }
      ]
    },
    {
      "cell_type": "markdown",
      "source": [
        "## Сумма цифр\n",
        "Напишите программу с использованием рекурсии, которая принимает на вход число и выводит сумму цифр этого числа.\n",
        "\n",
        "Формат входных данных\n",
        "На вход программе подается неотрицательное целое число.\n",
        "\n",
        "Формат выходных данных\n",
        "Программа должна определить сумму цифр введенного числа и вывести полученный результат.\n",
        "\n",
        "https://stepik.org/lesson/594137/step/7?unit=589173"
      ],
      "metadata": {
        "id": "D9CtaOkEtV5q"
      }
    },
    {
      "cell_type": "code",
      "source": [
        "def show_counter(num):\n",
        "    if num < 10:\n",
        "        return num\n",
        "    else:\n",
        "        return num % 10 + show_counter(num // 10)\n",
        "\n",
        "\n",
        "print(show_counter(55))"
      ],
      "metadata": {
        "colab": {
          "base_uri": "https://localhost:8080/"
        },
        "id": "H0-W8cQftV_E",
        "outputId": "89116c20-5929-4f02-ab06-13a96acd9d47"
      },
      "execution_count": null,
      "outputs": [
        {
          "output_type": "stream",
          "name": "stdout",
          "text": [
            "10\n"
          ]
        }
      ]
    },
    {
      "cell_type": "markdown",
      "source": [
        "## Функция number_of_frogs()\n",
        "В первый год в пруду живет\n",
        "77\n",
        "77 лягушек. Каждый год из пруда вылавливают\n",
        "30\n",
        "30 лягушек, а оставшиеся размножаются, и их становится в три раза больше. Так, количество лягушек\n",
        "�\n",
        "k-й год  может быть описано формулой:\n",
        "\n",
        "�\n",
        "�\n",
        "=\n",
        "3\n",
        "(\n",
        "�\n",
        "�\n",
        "−\n",
        "1\n",
        "−\n",
        "30\n",
        ")\n",
        "F\n",
        "k\n",
        "​\n",
        " =3(F\n",
        "k−1\n",
        "​\n",
        " −30)\n",
        "\n",
        "Реализуйте функцию number_of_frogs() с использованием рекурсии, которая принимает один аргумент:\n",
        "\n",
        "year — натуральное число\n",
        "Функция должна возвращать единственное число — количество лягушек в пруду в году year.\n",
        "\n",
        "Примечание 1. В тестирующую систему сдайте программу, содержащую только необходимую функцию number_of_frogs(), но не код, вызывающий ее.\n",
        "\n",
        "https://stepik.org/lesson/594137/step/8?unit=589173"
      ],
      "metadata": {
        "id": "blUkm-0awfih"
      }
    },
    {
      "cell_type": "code",
      "source": [
        "def number_of_frogs(year: int):\n",
        "    if year == 1:\n",
        "        return 77\n",
        "    else:\n",
        "        return 3 * (number_of_frogs(year-1) - 30)\n",
        "\n",
        "\n",
        "\n",
        "print(number_of_frogs(1))"
      ],
      "metadata": {
        "colab": {
          "base_uri": "https://localhost:8080/"
        },
        "id": "dc8wBUBVwfog",
        "outputId": "72aa4d6c-980d-4f59-c3c7-1d61fcd72b8e"
      },
      "execution_count": null,
      "outputs": [
        {
          "output_type": "stream",
          "name": "stdout",
          "text": [
            "77\n"
          ]
        }
      ]
    },
    {
      "cell_type": "markdown",
      "source": [
        "## Функция range_sum()\n",
        "Реализуйте функцию range_sum() с использованием рекурсии, которая принимает три аргумента в следующем порядке:\n",
        "\n",
        "numbers — список целых чисел\n",
        "start — целое неотрицательное число\n",
        "end — целое неотрицательное число\n",
        "Функция должна суммировать все числа из списка numbers от numbers[start] до numbers[end] включительно и возвращать полученный результат.\n",
        "\n",
        "Примечание 1. Рассмотрим первый тест. Диапазону индексов\n",
        "[\n",
        "3\n",
        ";\n",
        "7\n",
        "]\n",
        "[3;7] в переданном списке принадлежат числа\n",
        "​\n",
        "4\n",
        ",\n",
        "5\n",
        ",\n",
        "6\n",
        ",\n",
        "7\n",
        ",\n",
        "8\n",
        "​\n",
        "​4,5,6,7,8​, сумма которых равна:\n",
        "4\n",
        "+\n",
        "5\n",
        "+\n",
        "6\n",
        "+\n",
        "7\n",
        "+\n",
        "8\n",
        "=\n",
        "30\n",
        "4+5+6+7+8=30\n",
        "Примечание 2. Гарантируется, что start <= end.\n",
        "\n",
        "https://stepik.org/lesson/594137/step/9?unit=589173"
      ],
      "metadata": {
        "id": "zoeIPJ8o3hMC"
      }
    },
    {
      "cell_type": "code",
      "source": [
        "def range_sum(numbers: list[int], start: int, end: int) -> int:\n",
        "    if start == end:\n",
        "        return numbers[start]\n",
        "    else:\n",
        "        return numbers[start] + range_sum(numbers, start+1, end)\n",
        "\n",
        "\n",
        "\n",
        "\n",
        "print(range_sum([1, 2, 3, 4, 5, 6, 7, 8, 9], 0, 8))"
      ],
      "metadata": {
        "colab": {
          "base_uri": "https://localhost:8080/"
        },
        "id": "w0l7EP2T3hRt",
        "outputId": "61d20214-fc8f-41af-ec40-c738e54113ce"
      },
      "execution_count": null,
      "outputs": [
        {
          "output_type": "stream",
          "name": "stdout",
          "text": [
            "45\n"
          ]
        }
      ]
    },
    {
      "cell_type": "markdown",
      "source": [
        "## Обычное возведение в степень\n",
        "Реализуйте функцию get_pow() с использованием рекурсии, которая принимает два аргумента в следующем порядке:\n",
        "\n",
        "a — положительное целое число\n",
        "n — неотрицательное целое число\n",
        "Функция должна вычислять значение a в степени n и возвращать полученный результат.\n",
        "\n",
        "Примечание 1. При решении не используйте оператор возведения в степень **.\n",
        "\n",
        "Примечание 2. Для построения рекурсивного алгоритма воспользуйтесь следующим рекуррентным соотношением:\n",
        "�\n",
        "�\n",
        "=\n",
        "�\n",
        "⋅\n",
        "�\n",
        "�\n",
        "−\n",
        "1\n",
        "a\n",
        "n\n",
        " =a⋅a\n",
        "n−1\n",
        "\n",
        "Примечание 3. В тестирующую систему сдайте программу, содержащую только необходимую функцию get_pow(), но не код, вызывающий ее.\n",
        "\n",
        "https://stepik.org/lesson/594137/step/10?unit=589173"
      ],
      "metadata": {
        "id": "Ijpdnxg--OOo"
      }
    },
    {
      "cell_type": "code",
      "source": [
        "def get_pow(a: int, n: int) -> int:\n",
        "    if n == 0:\n",
        "        return 1\n",
        "    else:\n",
        "        return a * get_pow(a, n-1)\n",
        "\n",
        "\n",
        "print(get_pow(2, 10))"
      ],
      "metadata": {
        "colab": {
          "base_uri": "https://localhost:8080/"
        },
        "id": "HL9zG28R-OXI",
        "outputId": "d8b74505-f2c1-48e4-9824-bf60e68d8d8b"
      },
      "execution_count": null,
      "outputs": [
        {
          "output_type": "stream",
          "name": "stdout",
          "text": [
            "1267650600228229401496703205376\n"
          ]
        }
      ]
    },
    {
      "cell_type": "markdown",
      "source": [
        "## Быстрое возведение в степень\n",
        "Возводить в степень можно гораздо быстрее, чем за\n",
        "�\n",
        "n умножений. Для этого нужно воспользоваться следующими рекуррентными соотношениями:\n",
        "\n",
        "�\n",
        "�\n",
        "=\n",
        "(\n",
        "�\n",
        "2\n",
        ")\n",
        "�\n",
        "2\n",
        ",\n",
        "при\n",
        "четном\n",
        "�\n",
        "�\n",
        "�\n",
        "=\n",
        "�\n",
        "⋅\n",
        "�\n",
        "�\n",
        "−\n",
        "1\n",
        ",\n",
        "при\n",
        "нечетном\n",
        "�\n",
        "a\n",
        "n\n",
        " =(a\n",
        "2\n",
        " )\n",
        "2\n",
        "n\n",
        "​\n",
        "\n",
        " ,причетномn\n",
        "a\n",
        "n\n",
        " =a⋅a\n",
        "n−1\n",
        " ,принечетномn\n",
        "\n",
        "Реализуйте функцию get_fast_pow() с использованием рекурсии, которая принимает два аргумента в следующем порядке:\n",
        "\n",
        "a — положительное целое число\n",
        "n — неотрицательное целое число\n",
        "Функция должна вычислять значение a в степени n, используя алгоритм быстрого возведения в степень, и возвращать полученный результат.\n",
        "\n",
        "Примечание 1. При решении не используйте оператор возведения в степень **.\n",
        "\n",
        "Примечание 2. В тестирующую систему сдайте программу, содержащую только необходимую функцию get_fast_pow(), но не код, вызывающий ее.\n",
        "\n",
        "https://stepik.org/lesson/594137/step/11?unit=589173"
      ],
      "metadata": {
        "id": "0BsncgC1_rcQ"
      }
    },
    {
      "cell_type": "code",
      "source": [
        "def get_fast_pow(a: int, n: int) -> int:\n",
        "    if n == 0:\n",
        "        return 1\n",
        "    elif n % 2 == 0:\n",
        "        return get_fast_pow(a*a, n//2)\n",
        "    else:\n",
        "        return a * get_fast_pow(a, n-1)\n",
        "\n",
        "print(get_fast_pow(2, 55))"
      ],
      "metadata": {
        "colab": {
          "base_uri": "https://localhost:8080/"
        },
        "id": "Pob1Ekd5_ri_",
        "outputId": "e46b2b7f-1739-4b6f-d847-bd7abce5c986"
      },
      "execution_count": null,
      "outputs": [
        {
          "output_type": "stream",
          "name": "stdout",
          "text": [
            "36028797018963968\n"
          ]
        }
      ]
    },
    {
      "cell_type": "markdown",
      "source": [
        "## Функция recursive_sum()\n",
        "Реализуйте функцию recursive_sum() с использованием рекурсии, которая принимает два аргумента в следующем порядке:\n",
        "\n",
        "a — неотрицательное целое число\n",
        "b — неотрицательное целое число\n",
        "Функция должна возвращать сумму чисел a и b. При вычислении суммы функция:\n",
        "\n",
        "не должна использовать циклы\n",
        "из всех арифметических операций должна использовать только\n",
        "+\n",
        "1\n",
        "+1 и\n",
        "−\n",
        "1\n",
        "−1\n",
        "Примечание 1. В тестирующую систему сдайте программу, содержащую только необходимую функцию recursive_sum(), но не код, вызывающий ее.\n",
        "\n",
        "https://stepik.org/lesson/594137/step/12?unit=589173"
      ],
      "metadata": {
        "id": "pVoVZFf5Kluu"
      }
    },
    {
      "cell_type": "code",
      "source": [
        "def recursive_sum(a: int, b: int) -> int:\n",
        "    counter = 0\n",
        "    if b == 0:\n",
        "        return a\n",
        "    else:\n",
        "        return recursive_sum(a+1, b-1)\n",
        "\n",
        "print(recursive_sum(99, 0))"
      ],
      "metadata": {
        "colab": {
          "base_uri": "https://localhost:8080/"
        },
        "id": "I7RbotRXKl3G",
        "outputId": "85080aa2-c0ae-424b-f076-6d21b492f1d5"
      },
      "execution_count": null,
      "outputs": [
        {
          "output_type": "stream",
          "name": "stdout",
          "text": [
            "99\n"
          ]
        }
      ]
    },
    {
      "cell_type": "markdown",
      "source": [
        "## Функция is_power()\n",
        "Реализуйте функцию is_power() с использованием рекурсии, которая принимает один аргумент:\n",
        "\n",
        "number — натуральное число\n",
        "Функция должна возвращать значение True, если number является степенью числа\n",
        "2\n",
        "2, или False в противном случае.\n",
        "\n",
        "Примечание 1. В тестирующую систему сдайте программу, содержащую только необходимую функцию is_power(), но не код, вызывающий ее.\n",
        "\n",
        "https://stepik.org/lesson/594137/step/13?unit=589173"
      ],
      "metadata": {
        "id": "pvd7fwFlNtZ7"
      }
    },
    {
      "cell_type": "code",
      "source": [
        "def is_power(number: int) -> bool:\n",
        "    # return (number & (number-1) == 0)\n",
        "\n",
        "    if number <= 2:\n",
        "        return True\n",
        "    if number % 2:\n",
        "        return False\n",
        "    return is_power(number // 2)\n",
        "\n",
        "\n",
        "print(is_power(513))"
      ],
      "metadata": {
        "id": "7Y6rHlTINthO",
        "outputId": "b67ccb7f-b150-4751-9680-0ba04919f42e",
        "colab": {
          "base_uri": "https://localhost:8080/"
        }
      },
      "execution_count": null,
      "outputs": [
        {
          "output_type": "stream",
          "name": "stdout",
          "text": [
            "False\n"
          ]
        }
      ]
    },
    {
      "cell_type": "markdown",
      "source": [
        "## Функция tribonacci()\n",
        "Последовательность Трибоначчи – последовательность натуральных чисел, где каждое последующее число является суммой трех предыдущих:\n",
        "1\n",
        ",\n",
        "\n",
        "1\n",
        ",\n",
        "\n",
        "1\n",
        ",\n",
        "\n",
        "3\n",
        ",\n",
        "\n",
        "5\n",
        ",\n",
        "\n",
        "9\n",
        ",\n",
        "\n",
        "17\n",
        ",\n",
        "\n",
        "31\n",
        ",\n",
        "\n",
        "57\n",
        ",\n",
        "\n",
        "105\n",
        "\n",
        "…\n",
        "1, 1, 1, 3, 5, 9, 17, 31, 57, 105 …\n",
        "\n",
        "Реализуйте функцию tribonacci() с использованием рекурсии и мемоизации, которая принимает один аргумент:\n",
        "\n",
        "n — натуральное число\n",
        "Функция должна возвращать n-й член последовательности Трибоначчи.\n",
        "\n",
        "Примечание 1. В тестирующую систему сдайте программу, содержащую только необходимую функцию tribonacci(), но не код, вызывающий ее.\n",
        "\n",
        "https://stepik.org/lesson/594137/step/14?unit=589173"
      ],
      "metadata": {
        "id": "HizLSubOtXtx"
      }
    },
    {
      "cell_type": "code",
      "source": [
        "def tribonacci(n: int) -> int:\n",
        "    cache = {1: 1, 2: 1, 3: 1}\n",
        "    def fib_rec(n):\n",
        "        result = cache.get(n)\n",
        "        if result is None:\n",
        "            result = fib_rec(n - 3) + fib_rec(n - 2) + fib_rec(n-1)\n",
        "            cache[n] = result\n",
        "        return result\n",
        "    return fib_rec(n)\n",
        "\n",
        "print(tribonacci(4))"
      ],
      "metadata": {
        "id": "0kb1YRKYtYA7",
        "outputId": "f9d46ebd-18b3-4a2c-db03-46247f3da386",
        "colab": {
          "base_uri": "https://localhost:8080/"
        }
      },
      "execution_count": 14,
      "outputs": [
        {
          "output_type": "stream",
          "name": "stdout",
          "text": [
            "3\n"
          ]
        }
      ]
    },
    {
      "cell_type": "markdown",
      "source": [
        "## Функция is_palindrome()\n",
        "Реализуйте функцию is_palindrome() с использованием рекурсии, которая принимает один аргумент:\n",
        "\n",
        "string — произвольная строка\n",
        "Функция должна возвращать значение True, если переданная строка является палиндромом, или False в противном случае.\n",
        "\n",
        "Примечание 1. Палиндром — текст, одинаково читающийся в обоих направлениях.\n",
        "\n",
        "Примечание 2. Пустая строка является палиндромом, как и строка, состоящая из одного символа.\n",
        "\n",
        "Примечание 3. В тестирующую систему сдайте программу, содержащую только необходимую функцию is_palindrome(), но не код, вызывающий ее.\n",
        "\n",
        "https://stepik.org/lesson/594137/step/15?unit=589173"
      ],
      "metadata": {
        "id": "yi6BvqSHb009"
      }
    },
    {
      "cell_type": "code",
      "source": [
        "def is_palindrome(string: str) -> bool:\n",
        "    word = ''\n",
        "\n",
        "    def start(word):\n",
        "        if not len(string):\n",
        "            return string\n",
        "        word =  string[-1] + is_palindrome(string[:-1])\n",
        "\n",
        "        return word\n",
        "\n",
        "    return start(string)\n",
        "\n",
        "print(is_palindrome('stepik'))\n",
        "print(is_palindrome('level'))"
      ],
      "metadata": {
        "id": "z0S-NtKlb1HY",
        "outputId": "e55d3c98-5a57-47e5-bb8d-8fec9ccfc2e6",
        "colab": {
          "base_uri": "https://localhost:8080/"
        }
      },
      "execution_count": 49,
      "outputs": [
        {
          "output_type": "stream",
          "name": "stdout",
          "text": [
            "kipets\n",
            "level\n"
          ]
        }
      ]
    }
  ]
}