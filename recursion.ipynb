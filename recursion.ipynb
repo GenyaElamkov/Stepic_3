{
  "nbformat": 4,
  "nbformat_minor": 0,
  "metadata": {
    "colab": {
      "provenance": [],
      "toc_visible": true,
      "authorship_tag": "ABX9TyON20IqkA7j2nmp16OORiT5",
      "include_colab_link": true
    },
    "kernelspec": {
      "name": "python3",
      "display_name": "Python 3"
    },
    "language_info": {
      "name": "python"
    }
  },
  "cells": [
    {
      "cell_type": "markdown",
      "metadata": {
        "id": "view-in-github",
        "colab_type": "text"
      },
      "source": [
        "<a href=\"https://colab.research.google.com/github/GenyaElamkov/Stepic_3/blob/master/recursion.ipynb\" target=\"_parent\"><img src=\"https://colab.research.google.com/assets/colab-badge.svg\" alt=\"Open In Colab\"/></a>"
      ]
    },
    {
      "cell_type": "code",
      "execution_count": null,
      "metadata": {
        "colab": {
          "base_uri": "https://localhost:8080/"
        },
        "id": "FP_PvE5RrOuy",
        "outputId": "da254dc5-f43e-4ac6-df22-d51c076457ba"
      },
      "outputs": [
        {
          "output_type": "stream",
          "name": "stdout",
          "text": [
            "****\n",
            "****\n",
            "****\n",
            "\n",
            "******\n",
            "******\n",
            "******\n",
            "******\n",
            "******\n",
            "******\n",
            "\n",
            "**********\n",
            "**********\n"
          ]
        }
      ],
      "source": [
        "def draw_rect(width, height):\n",
        "    def rec(step):\n",
        "        if step < height:\n",
        "            print('*' * width)\n",
        "            rec(step + 1)\n",
        "    rec(0)\n",
        "\n",
        "draw_rect(4, 3)\n",
        "print()\n",
        "draw_rect(6, 6)\n",
        "print()\n",
        "draw_rect(10, 2)"
      ]
    },
    {
      "cell_type": "markdown",
      "source": [
        "## Подозрительно просто 🤫\n",
        "Вам доступна функция traffic(), реализованная с помощью цикла while, которая принимает в качестве аргумента число\n",
        "�\n",
        "n и выводит\n",
        "�\n",
        "n раз строку Не парковаться.\n",
        "\n",
        "Перепишите данную функцию с использованием рекурсии, чтобы она выполняла ту же задачу.\n",
        "\n",
        "Примечание. В тестирующую систему сдайте программу, содержащую только необходимую функцию traffic(), но не код, вызывающий ее.\n",
        "\n",
        "https://stepik.org/lesson/637962/step/5?unit=634429"
      ],
      "metadata": {
        "id": "lac91hZTP2CY"
      }
    },
    {
      "cell_type": "code",
      "source": [
        "def traffic(n):\n",
        "    if n > 0:\n",
        "        print('Не парковаться')\n",
        "        traffic(n-1)\n",
        "\n",
        "traffic(3)"
      ],
      "metadata": {
        "colab": {
          "base_uri": "https://localhost:8080/"
        },
        "id": "0PYeNtJwP2Ov",
        "outputId": "d5b55ffd-bd4e-4feb-d54a-ad4c8a027c26"
      },
      "execution_count": null,
      "outputs": [
        {
          "output_type": "stream",
          "name": "stdout",
          "text": [
            "Не парковаться\n",
            "Не парковаться\n",
            "Не парковаться\n"
          ]
        }
      ]
    },
    {
      "cell_type": "markdown",
      "source": [
        "## Подозрительно просто 🤐\n",
        "Напишите программу с использованием рекурсии, которая выводит последовательность натуральных чисел от\n",
        "1\n",
        "1 до 100 включительно.\n",
        "\n",
        "Формат входных данных\n",
        "На вход программе ничего не подается.\n",
        "\n",
        "Формат выходных данных\n",
        "Программа должны вывести последовательность натуральных чисел от\n",
        "1\n",
        "1 до\n",
        "100 включительно, каждое на отдельной строке.\n",
        "\n",
        "Примечание. Начальная часть ответа выглядит так:\n",
        "\n",
        "1\n",
        "2\n",
        "3\n",
        "4\n",
        "5\n",
        "...\n",
        "\n",
        "https://stepik.org/lesson/637962/step/6?unit=634429"
      ],
      "metadata": {
        "id": "_zVVMQENQ0xv"
      }
    },
    {
      "cell_type": "code",
      "source": [
        "def out_nums():\n",
        "    def start(n, end):\n",
        "        if n <= end:\n",
        "            print(n)\n",
        "            start(n + 1, end)\n",
        "\n",
        "    start(1, 100)\n",
        "\n",
        "out_nums()"
      ],
      "metadata": {
        "id": "mM1Cv1FVQ04V"
      },
      "execution_count": null,
      "outputs": []
    },
    {
      "cell_type": "markdown",
      "source": [
        "Вам доступен список numbers, содержащий ровно\n",
        "100\n",
        "100 целых чисел. Дополните приведенный ниже код с использованием рекурсии, чтобы он вывел все элементы этого списка от первого до последнего, каждый на отдельный строке, в следующем формате:\n",
        "\n",
        "Элемент <индекс элемента>: <значение элемента>\n",
        "Примечание. Начальная часть ответа выглядит так:\n",
        "\n",
        "Элемент 0: 243\n",
        "Элемент 1: -279\n",
        "Элемент 2: 395\n",
        "...\n",
        "\n",
        "https://stepik.org/lesson/637962/step/7?unit=634429"
      ],
      "metadata": {
        "id": "IaAfjBEqSY42"
      }
    },
    {
      "cell_type": "code",
      "source": [
        "numbers = [243, -279, 395, 130, 89, 269, 861, 669, 939, 367, -46, 710, 841,\n",
        "           -280, -244, 274, -132, 273, 418, 432, -341, 437, 360, 960, 195, 792,\n",
        "           106, 461, -35, 980, -80, 540, -358, 69, -26, -416, 597, 96, 533,\n",
        "           232, 755, 894, 331, 323, -383, -386, 231, 436, 553, 967, 166, -151,\n",
        "           772, 434, 325, 301, 275, 431, 556, 728, 558, 702, 463, 127, 984,\n",
        "           212, 876, -287, -16, -177, 577, 604, 116, 500, 653, 669, 916, 802,\n",
        "           817, 762, -210, -353, 144, -351, 777, 805, 692, 22, -303, 249, 190,\n",
        "           411, 236, -274, 174, 380, 71, 124, -85, 430]\n",
        "\n",
        "def out_nums(numbers):\n",
        "    def start(n):\n",
        "        if n < len(numbers):\n",
        "            print(f\"Элемент {n}: {numbers[n]}\")\n",
        "            start(n + 1)\n",
        "\n",
        "    start(0)\n",
        "\n",
        "\n",
        "out_nums(numbers)\n"
      ],
      "metadata": {
        "id": "BDVbS53uSY-0"
      },
      "execution_count": null,
      "outputs": []
    },
    {
      "cell_type": "markdown",
      "source": [
        "## Обратный порядок\n",
        "Дана последовательность целых чисел. Напишите программу с использованием рекурсии, которая выводит эту последовательность в обратном порядке.\n",
        "\n",
        "Формат входных данных\n",
        "На вход программе подается последовательность целых чисел, каждое на отдельной строке. Концом последовательности является число\n",
        "0\n",
        "0.\n",
        "\n",
        "Формат выходных данных\n",
        "Программа должна вывести введенные числа в обратном порядке, каждое на отдельной строке.\n",
        "\n",
        "https://stepik.org/lesson/637962/step/8?unit=634429"
      ],
      "metadata": {
        "id": "6m0qmcOOU6X3"
      }
    },
    {
      "cell_type": "code",
      "source": [
        "def input_nums():\n",
        "    arr = []\n",
        "\n",
        "    def start(num):\n",
        "        arr.append(num)\n",
        "        if num != 0:\n",
        "            start(int(input()))\n",
        "        else:\n",
        "            print(*[k for k in arr[::-1]], sep=\"\\n\")\n",
        "\n",
        "    start(int(input()))\n",
        "\n",
        "\n",
        "input_nums()"
      ],
      "metadata": {
        "id": "GcBmPj4PU6cw"
      },
      "execution_count": null,
      "outputs": []
    },
    {
      "cell_type": "code",
      "source": [
        "def result():\n",
        "    digit = int(input())\n",
        "    if digit != 0:\n",
        "        result()\n",
        "    print(digit)"
      ],
      "metadata": {
        "id": "Nbj2hKg9b95u"
      },
      "execution_count": null,
      "outputs": []
    },
    {
      "cell_type": "markdown",
      "source": [
        "## Функция triangle() 😥\n",
        "Реализуйте функцию triangle() с использованием рекурсии, которая принимает один аргумент:\n",
        "\n",
        "h — натуральное число\n",
        "Функция должна выводить звездный треугольник с высотой h в соответствии со следующим примером:\n",
        "\n",
        "...\n",
        "\n",
        "*****\n",
        "\n",
        "****\n",
        "\n",
        "***\n",
        "\n",
        "\n",
        "**\n",
        "\n",
        "*\n",
        "Примечание 1. В тестирующую систему сдайте программу, содержащую только необходимую функцию triangle(), но не код, вызывающий ее.\n",
        "\n",
        "https://stepik.org/lesson/637962/step/9?unit=634429"
      ],
      "metadata": {
        "id": "KncY_hb_dDzE"
      }
    },
    {
      "cell_type": "code",
      "source": [
        "def triangle(h):\n",
        "    if h > 0:\n",
        "        print(\"*\" * h)\n",
        "        triangle(h - 1)\n",
        "\n",
        "triangle(3)"
      ],
      "metadata": {
        "colab": {
          "base_uri": "https://localhost:8080/"
        },
        "id": "azfL8h2ZdD5b",
        "outputId": "5e72688f-7214-4a22-e3fd-72cd1575b109"
      },
      "execution_count": null,
      "outputs": [
        {
          "output_type": "stream",
          "name": "stdout",
          "text": [
            "***\n",
            "**\n",
            "*\n"
          ]
        }
      ]
    },
    {
      "cell_type": "markdown",
      "source": [
        "## Функция triangle() 😰\n",
        "Реализуйте функцию triangle() с использованием рекурсии, которая принимает один аргумент:\n",
        "\n",
        "h — натуральное число\n",
        "Функция должна выводить звездный треугольник с высотой h в соответствии со следующим примером:\n",
        "\n",
        "*\n",
        "**\n",
        "***\n",
        "****\n",
        "*****\n",
        "...\n",
        "Примечание 1. В тестирующую систему сдайте программу, содержащую только необходимую функцию triangle(), но не код, вызывающий ее.\n",
        "\n",
        "https://stepik.org/lesson/637962/step/10?unit=634429"
      ],
      "metadata": {
        "id": "zK0HNfPcfcYe"
      }
    },
    {
      "cell_type": "code",
      "source": [
        "def triangle(h):\n",
        "    if h > 0:\n",
        "        triangle(h - 1)\n",
        "        print(\"*\" * h)\n",
        "\n",
        "triangle(3)\n"
      ],
      "metadata": {
        "colab": {
          "base_uri": "https://localhost:8080/"
        },
        "id": "FIYQmFIIfced",
        "outputId": "b9988200-5c6d-4257-f710-b70ba0e73087"
      },
      "execution_count": null,
      "outputs": [
        {
          "output_type": "stream",
          "name": "stdout",
          "text": [
            "*\n",
            "**\n",
            "***\n"
          ]
        }
      ]
    },
    {
      "cell_type": "markdown",
      "source": [
        "## Песочные часы\n",
        "Напишите программу с использованием рекурсивной функции, которая выводит изображение песочных часов, составленное из цифр\n",
        "1\n",
        "1,\n",
        "2\n",
        "2,\n",
        "3\n",
        "3, и\n",
        "4\n",
        "4:\n",
        "\n",
        "1111111111111111    # 16 раз\n",
        "  222222222222      # 12 раз\n",
        "    33333333        # 8 раз\n",
        "      4444          # 4 раза\n",
        "    33333333        # 8 раз\n",
        "  222222222222      # 12 раз\n",
        "1111111111111111    # 16 раз\n",
        "Формат входных данных\n",
        "На вход программе ничего не подается.\n",
        "\n",
        "Формат выходных данных\n",
        "Программа должна вывести изображение песочных часов, составленное из цифр\n",
        "1\n",
        "1,\n",
        "2\n",
        "2,\n",
        "3\n",
        "3, и\n",
        "4\n",
        "4, представленное в условии задачи.\n",
        "\n",
        "Примечание. Количество цифр в каждой строке, указанное в комментариях, выводить не нужно.\n",
        "\n",
        "https://stepik.org/lesson/637962/step/11?unit=634429"
      ],
      "metadata": {
        "id": "feIEFqfHf_sB"
      }
    },
    {
      "cell_type": "code",
      "source": [
        "def show_clock(start, step):\n",
        "    res = f\"{str(start) * step:^16}\"\n",
        "    print(res)\n",
        "    if start != 4:\n",
        "        show_clock(start + 1, step - 4)\n",
        "        print(res)\n",
        "\n",
        "\n",
        "show_clock(1, 16)\n"
      ],
      "metadata": {
        "colab": {
          "base_uri": "https://localhost:8080/"
        },
        "id": "ErdRhMOof_x_",
        "outputId": "acddcc9b-2bd3-4d7b-ceb1-3745e35cd700"
      },
      "execution_count": null,
      "outputs": [
        {
          "output_type": "stream",
          "name": "stdout",
          "text": [
            "1111111111111111\n",
            "  222222222222  \n",
            "    33333333    \n",
            "      4444      \n",
            "    33333333    \n",
            "  222222222222  \n",
            "1111111111111111\n"
          ]
        }
      ]
    },
    {
      "cell_type": "markdown",
      "source": [
        "## Функция print_digits() 😉\n",
        "Реализуйте функцию print_digits() с использованием рекурсии, которая принимает один аргумент:\n",
        "\n",
        "number — натуральное число\n",
        "Функция должна выводить все цифры числа number, начиная с младших разрядов, каждое на отдельной строке.\n",
        "\n",
        "Примечание 1. В тестирующую систему сдайте программу, содержащую только необходимую функцию print_digits(), но не код, вызывающий ее.\n",
        "\n",
        "https://stepik.org/lesson/637962/step/12?unit=634429"
      ],
      "metadata": {
        "id": "wBph5OnBvJI5"
      }
    },
    {
      "cell_type": "code",
      "source": [
        "def print_digits(number):\n",
        "    if number != 0:\n",
        "        print(number % 10 )\n",
        "        print_digits(number//10)\n",
        "\n",
        "\n",
        "print_digits(12345)"
      ],
      "metadata": {
        "colab": {
          "base_uri": "https://localhost:8080/"
        },
        "id": "-6xarYj_vJQE",
        "outputId": "b53729f0-49e4-4813-e003-209da3e1a79a"
      },
      "execution_count": null,
      "outputs": [
        {
          "output_type": "stream",
          "name": "stdout",
          "text": [
            "5\n",
            "4\n",
            "3\n",
            "2\n",
            "1\n"
          ]
        }
      ]
    },
    {
      "cell_type": "markdown",
      "source": [
        "## Функция print_digits() 😎\n",
        "Реализуйте функцию print_digits() с использованием рекурсии, которая принимает один аргумент:\n",
        "\n",
        "number — натуральное число\n",
        "Функция должна выводить все цифры числа number, начиная со старших разрядов, каждое на отдельной строке.\n",
        "\n",
        "Примечание 1. В тестирующую систему сдайте программу, содержащую только необходимую функцию print_digits(), но не код, вызывающий ее.\n",
        "\n",
        "https://stepik.org/lesson/637962/step/13?unit=634429"
      ],
      "metadata": {
        "id": "TEvlelcTyY-d"
      }
    },
    {
      "cell_type": "code",
      "source": [
        "def print_digits(number):\n",
        "    if number != 0:\n",
        "        print_digits(number//10)\n",
        "        print(number % 10 )\n",
        "\n",
        "print_digits(12345)"
      ],
      "metadata": {
        "colab": {
          "base_uri": "https://localhost:8080/"
        },
        "id": "2ErCzpPNyZEP",
        "outputId": "ea7f94a5-760a-4924-cd11-ac9460593455"
      },
      "execution_count": null,
      "outputs": [
        {
          "output_type": "stream",
          "name": "stdout",
          "text": [
            "1\n",
            "2\n",
            "3\n",
            "4\n",
            "5\n"
          ]
        }
      ]
    },
    {
      "cell_type": "markdown",
      "source": [
        "## Количество цифр\n",
        "Напишите программу с использованием рекурсии, которая принимает на вход число и выводит количество цифр в этом числе.\n",
        "\n",
        "Формат входных данных\n",
        "На вход программе подается неотрицательное целое число.\n",
        "\n",
        "Формат выходных данных\n",
        "Программа должна определить количество цифр в введенном числе и вывести полученный результат.\n",
        "\n",
        "https://stepik.org/lesson/594137/step/6?unit=589173"
      ],
      "metadata": {
        "id": "hTEIzIRcpl2E"
      }
    },
    {
      "cell_type": "code",
      "source": [
        "def show_counter(num):\n",
        "    if not num:\n",
        "        return 0\n",
        "    else:\n",
        "        return 1 + show_counter(num//10)\n",
        "\n",
        "\n",
        "show_counter(2056)"
      ],
      "metadata": {
        "colab": {
          "base_uri": "https://localhost:8080/"
        },
        "id": "a7v5rAbOpl9D",
        "outputId": "9a2fc34f-48d7-4b4e-f1fe-82bb4663bfbe"
      },
      "execution_count": null,
      "outputs": [
        {
          "output_type": "execute_result",
          "data": {
            "text/plain": [
              "4"
            ]
          },
          "metadata": {},
          "execution_count": 20
        }
      ]
    },
    {
      "cell_type": "markdown",
      "source": [
        "## Сумма цифр\n",
        "Напишите программу с использованием рекурсии, которая принимает на вход число и выводит сумму цифр этого числа.\n",
        "\n",
        "Формат входных данных\n",
        "На вход программе подается неотрицательное целое число.\n",
        "\n",
        "Формат выходных данных\n",
        "Программа должна определить сумму цифр введенного числа и вывести полученный результат.\n",
        "\n",
        "https://stepik.org/lesson/594137/step/7?unit=589173"
      ],
      "metadata": {
        "id": "D9CtaOkEtV5q"
      }
    },
    {
      "cell_type": "code",
      "source": [
        "def show_counter(num):\n",
        "    if num < 10:\n",
        "        return num\n",
        "    else:\n",
        "        return num % 10 + show_counter(num // 10)\n",
        "\n",
        "\n",
        "print(show_counter(55))"
      ],
      "metadata": {
        "colab": {
          "base_uri": "https://localhost:8080/"
        },
        "id": "H0-W8cQftV_E",
        "outputId": "89116c20-5929-4f02-ab06-13a96acd9d47"
      },
      "execution_count": null,
      "outputs": [
        {
          "output_type": "stream",
          "name": "stdout",
          "text": [
            "10\n"
          ]
        }
      ]
    },
    {
      "cell_type": "markdown",
      "source": [
        "## Функция number_of_frogs()\n",
        "В первый год в пруду живет\n",
        "77\n",
        "77 лягушек. Каждый год из пруда вылавливают\n",
        "30\n",
        "30 лягушек, а оставшиеся размножаются, и их становится в три раза больше. Так, количество лягушек\n",
        "�\n",
        "k-й год  может быть описано формулой:\n",
        "\n",
        "�\n",
        "�\n",
        "=\n",
        "3\n",
        "(\n",
        "�\n",
        "�\n",
        "−\n",
        "1\n",
        "−\n",
        "30\n",
        ")\n",
        "F\n",
        "k\n",
        "​\n",
        " =3(F\n",
        "k−1\n",
        "​\n",
        " −30)\n",
        "\n",
        "Реализуйте функцию number_of_frogs() с использованием рекурсии, которая принимает один аргумент:\n",
        "\n",
        "year — натуральное число\n",
        "Функция должна возвращать единственное число — количество лягушек в пруду в году year.\n",
        "\n",
        "Примечание 1. В тестирующую систему сдайте программу, содержащую только необходимую функцию number_of_frogs(), но не код, вызывающий ее.\n",
        "\n",
        "https://stepik.org/lesson/594137/step/8?unit=589173"
      ],
      "metadata": {
        "id": "blUkm-0awfih"
      }
    },
    {
      "cell_type": "code",
      "source": [
        "def number_of_frogs(year: int):\n",
        "    if year == 1:\n",
        "        return 77\n",
        "    else:\n",
        "        return 3 * (number_of_frogs(year-1) - 30)\n",
        "\n",
        "\n",
        "\n",
        "print(number_of_frogs(1))"
      ],
      "metadata": {
        "colab": {
          "base_uri": "https://localhost:8080/"
        },
        "id": "dc8wBUBVwfog",
        "outputId": "72aa4d6c-980d-4f59-c3c7-1d61fcd72b8e"
      },
      "execution_count": null,
      "outputs": [
        {
          "output_type": "stream",
          "name": "stdout",
          "text": [
            "77\n"
          ]
        }
      ]
    },
    {
      "cell_type": "markdown",
      "source": [
        "## Функция range_sum()\n",
        "Реализуйте функцию range_sum() с использованием рекурсии, которая принимает три аргумента в следующем порядке:\n",
        "\n",
        "numbers — список целых чисел\n",
        "start — целое неотрицательное число\n",
        "end — целое неотрицательное число\n",
        "Функция должна суммировать все числа из списка numbers от numbers[start] до numbers[end] включительно и возвращать полученный результат.\n",
        "\n",
        "Примечание 1. Рассмотрим первый тест. Диапазону индексов\n",
        "[\n",
        "3\n",
        ";\n",
        "7\n",
        "]\n",
        "[3;7] в переданном списке принадлежат числа\n",
        "​\n",
        "4\n",
        ",\n",
        "5\n",
        ",\n",
        "6\n",
        ",\n",
        "7\n",
        ",\n",
        "8\n",
        "​\n",
        "​4,5,6,7,8​, сумма которых равна:\n",
        "4\n",
        "+\n",
        "5\n",
        "+\n",
        "6\n",
        "+\n",
        "7\n",
        "+\n",
        "8\n",
        "=\n",
        "30\n",
        "4+5+6+7+8=30\n",
        "Примечание 2. Гарантируется, что start <= end.\n",
        "\n",
        "https://stepik.org/lesson/594137/step/9?unit=589173"
      ],
      "metadata": {
        "id": "zoeIPJ8o3hMC"
      }
    },
    {
      "cell_type": "code",
      "source": [
        "def range_sum(numbers: list[int], start: int, end: int) -> int:\n",
        "    if start == end:\n",
        "        return numbers[start]\n",
        "    else:\n",
        "        return numbers[start] + range_sum(numbers, start+1, end)\n",
        "\n",
        "\n",
        "\n",
        "\n",
        "print(range_sum([1, 2, 3, 4, 5, 6, 7, 8, 9], 0, 8))"
      ],
      "metadata": {
        "colab": {
          "base_uri": "https://localhost:8080/"
        },
        "id": "w0l7EP2T3hRt",
        "outputId": "61d20214-fc8f-41af-ec40-c738e54113ce"
      },
      "execution_count": null,
      "outputs": [
        {
          "output_type": "stream",
          "name": "stdout",
          "text": [
            "45\n"
          ]
        }
      ]
    },
    {
      "cell_type": "markdown",
      "source": [
        "## Обычное возведение в степень\n",
        "Реализуйте функцию get_pow() с использованием рекурсии, которая принимает два аргумента в следующем порядке:\n",
        "\n",
        "a — положительное целое число\n",
        "n — неотрицательное целое число\n",
        "Функция должна вычислять значение a в степени n и возвращать полученный результат.\n",
        "\n",
        "Примечание 1. При решении не используйте оператор возведения в степень **.\n",
        "\n",
        "Примечание 2. Для построения рекурсивного алгоритма воспользуйтесь следующим рекуррентным соотношением:\n",
        "�\n",
        "�\n",
        "=\n",
        "�\n",
        "⋅\n",
        "�\n",
        "�\n",
        "−\n",
        "1\n",
        "a\n",
        "n\n",
        " =a⋅a\n",
        "n−1\n",
        "\n",
        "Примечание 3. В тестирующую систему сдайте программу, содержащую только необходимую функцию get_pow(), но не код, вызывающий ее.\n",
        "\n",
        "https://stepik.org/lesson/594137/step/10?unit=589173"
      ],
      "metadata": {
        "id": "Ijpdnxg--OOo"
      }
    },
    {
      "cell_type": "code",
      "source": [
        "def get_pow(a: int, n: int) -> int:\n",
        "    if n == 0:\n",
        "        return 1\n",
        "    else:\n",
        "        return a * get_pow(a, n-1)\n",
        "\n",
        "\n",
        "print(get_pow(2, 10))"
      ],
      "metadata": {
        "colab": {
          "base_uri": "https://localhost:8080/"
        },
        "id": "HL9zG28R-OXI",
        "outputId": "d8b74505-f2c1-48e4-9824-bf60e68d8d8b"
      },
      "execution_count": null,
      "outputs": [
        {
          "output_type": "stream",
          "name": "stdout",
          "text": [
            "1267650600228229401496703205376\n"
          ]
        }
      ]
    },
    {
      "cell_type": "markdown",
      "source": [
        "## Быстрое возведение в степень\n",
        "Возводить в степень можно гораздо быстрее, чем за\n",
        "�\n",
        "n умножений. Для этого нужно воспользоваться следующими рекуррентными соотношениями:\n",
        "\n",
        "�\n",
        "�\n",
        "=\n",
        "(\n",
        "�\n",
        "2\n",
        ")\n",
        "�\n",
        "2\n",
        ",\n",
        "при\n",
        "четном\n",
        "�\n",
        "�\n",
        "�\n",
        "=\n",
        "�\n",
        "⋅\n",
        "�\n",
        "�\n",
        "−\n",
        "1\n",
        ",\n",
        "при\n",
        "нечетном\n",
        "�\n",
        "a\n",
        "n\n",
        " =(a\n",
        "2\n",
        " )\n",
        "2\n",
        "n\n",
        "​\n",
        "\n",
        " ,причетномn\n",
        "a\n",
        "n\n",
        " =a⋅a\n",
        "n−1\n",
        " ,принечетномn\n",
        "\n",
        "Реализуйте функцию get_fast_pow() с использованием рекурсии, которая принимает два аргумента в следующем порядке:\n",
        "\n",
        "a — положительное целое число\n",
        "n — неотрицательное целое число\n",
        "Функция должна вычислять значение a в степени n, используя алгоритм быстрого возведения в степень, и возвращать полученный результат.\n",
        "\n",
        "Примечание 1. При решении не используйте оператор возведения в степень **.\n",
        "\n",
        "Примечание 2. В тестирующую систему сдайте программу, содержащую только необходимую функцию get_fast_pow(), но не код, вызывающий ее.\n",
        "\n",
        "https://stepik.org/lesson/594137/step/11?unit=589173"
      ],
      "metadata": {
        "id": "0BsncgC1_rcQ"
      }
    },
    {
      "cell_type": "code",
      "source": [
        "def get_fast_pow(a: int, n: int) -> int:\n",
        "    if n == 0:\n",
        "        return 1\n",
        "    elif n % 2 == 0:\n",
        "        return get_fast_pow(a*a, n//2)\n",
        "    else:\n",
        "        return a * get_fast_pow(a, n-1)\n",
        "\n",
        "print(get_fast_pow(2, 55))"
      ],
      "metadata": {
        "colab": {
          "base_uri": "https://localhost:8080/"
        },
        "id": "Pob1Ekd5_ri_",
        "outputId": "e46b2b7f-1739-4b6f-d847-bd7abce5c986"
      },
      "execution_count": null,
      "outputs": [
        {
          "output_type": "stream",
          "name": "stdout",
          "text": [
            "36028797018963968\n"
          ]
        }
      ]
    },
    {
      "cell_type": "markdown",
      "source": [
        "## Функция recursive_sum()\n",
        "Реализуйте функцию recursive_sum() с использованием рекурсии, которая принимает два аргумента в следующем порядке:\n",
        "\n",
        "a — неотрицательное целое число\n",
        "b — неотрицательное целое число\n",
        "Функция должна возвращать сумму чисел a и b. При вычислении суммы функция:\n",
        "\n",
        "не должна использовать циклы\n",
        "из всех арифметических операций должна использовать только\n",
        "+\n",
        "1\n",
        "+1 и\n",
        "−\n",
        "1\n",
        "−1\n",
        "Примечание 1. В тестирующую систему сдайте программу, содержащую только необходимую функцию recursive_sum(), но не код, вызывающий ее.\n",
        "\n",
        "https://stepik.org/lesson/594137/step/12?unit=589173"
      ],
      "metadata": {
        "id": "pVoVZFf5Kluu"
      }
    },
    {
      "cell_type": "code",
      "source": [
        "def recursive_sum(a: int, b: int) -> int:\n",
        "    counter = 0\n",
        "    if b == 0:\n",
        "        return a\n",
        "    else:\n",
        "        return recursive_sum(a+1, b-1)\n",
        "\n",
        "print(recursive_sum(99, 0))"
      ],
      "metadata": {
        "colab": {
          "base_uri": "https://localhost:8080/"
        },
        "id": "I7RbotRXKl3G",
        "outputId": "85080aa2-c0ae-424b-f076-6d21b492f1d5"
      },
      "execution_count": null,
      "outputs": [
        {
          "output_type": "stream",
          "name": "stdout",
          "text": [
            "99\n"
          ]
        }
      ]
    },
    {
      "cell_type": "markdown",
      "source": [
        "## Функция is_power()\n",
        "Реализуйте функцию is_power() с использованием рекурсии, которая принимает один аргумент:\n",
        "\n",
        "number — натуральное число\n",
        "Функция должна возвращать значение True, если number является степенью числа\n",
        "2\n",
        "2, или False в противном случае.\n",
        "\n",
        "Примечание 1. В тестирующую систему сдайте программу, содержащую только необходимую функцию is_power(), но не код, вызывающий ее.\n",
        "\n",
        "https://stepik.org/lesson/594137/step/13?unit=589173"
      ],
      "metadata": {
        "id": "pvd7fwFlNtZ7"
      }
    },
    {
      "cell_type": "code",
      "source": [
        "def is_power(number: int) -> bool:\n",
        "    # return (number & (number-1) == 0)\n",
        "\n",
        "    if number <= 2:\n",
        "        return True\n",
        "    if number % 2:\n",
        "        return False\n",
        "    return is_power(number // 2)\n",
        "\n",
        "\n",
        "print(is_power(513))"
      ],
      "metadata": {
        "id": "7Y6rHlTINthO",
        "outputId": "b67ccb7f-b150-4751-9680-0ba04919f42e",
        "colab": {
          "base_uri": "https://localhost:8080/"
        }
      },
      "execution_count": null,
      "outputs": [
        {
          "output_type": "stream",
          "name": "stdout",
          "text": [
            "False\n"
          ]
        }
      ]
    },
    {
      "cell_type": "markdown",
      "source": [
        "## Функция tribonacci()\n",
        "Последовательность Трибоначчи – последовательность натуральных чисел, где каждое последующее число является суммой трех предыдущих:\n",
        "1\n",
        ",\n",
        "\n",
        "1\n",
        ",\n",
        "\n",
        "1\n",
        ",\n",
        "\n",
        "3\n",
        ",\n",
        "\n",
        "5\n",
        ",\n",
        "\n",
        "9\n",
        ",\n",
        "\n",
        "17\n",
        ",\n",
        "\n",
        "31\n",
        ",\n",
        "\n",
        "57\n",
        ",\n",
        "\n",
        "105\n",
        "\n",
        "…\n",
        "1, 1, 1, 3, 5, 9, 17, 31, 57, 105 …\n",
        "\n",
        "Реализуйте функцию tribonacci() с использованием рекурсии и мемоизации, которая принимает один аргумент:\n",
        "\n",
        "n — натуральное число\n",
        "Функция должна возвращать n-й член последовательности Трибоначчи.\n",
        "\n",
        "Примечание 1. В тестирующую систему сдайте программу, содержащую только необходимую функцию tribonacci(), но не код, вызывающий ее.\n",
        "\n",
        "https://stepik.org/lesson/594137/step/14?unit=589173"
      ],
      "metadata": {
        "id": "HizLSubOtXtx"
      }
    },
    {
      "cell_type": "code",
      "source": [
        "def tribonacci(n: int) -> int:\n",
        "    cache = {1: 1, 2: 1, 3: 1}\n",
        "    def fib_rec(n):\n",
        "        result = cache.get(n)\n",
        "        if result is None:\n",
        "            result = fib_rec(n - 3) + fib_rec(n - 2) + fib_rec(n-1)\n",
        "            cache[n] = result\n",
        "        return result\n",
        "    return fib_rec(n)\n",
        "\n",
        "print(tribonacci(4))"
      ],
      "metadata": {
        "id": "0kb1YRKYtYA7",
        "outputId": "f9d46ebd-18b3-4a2c-db03-46247f3da386",
        "colab": {
          "base_uri": "https://localhost:8080/"
        }
      },
      "execution_count": null,
      "outputs": [
        {
          "output_type": "stream",
          "name": "stdout",
          "text": [
            "3\n"
          ]
        }
      ]
    },
    {
      "cell_type": "markdown",
      "source": [
        "## Функция is_palindrome()\n",
        "Реализуйте функцию is_palindrome() с использованием рекурсии, которая принимает один аргумент:\n",
        "\n",
        "string — произвольная строка\n",
        "Функция должна возвращать значение True, если переданная строка является палиндромом, или False в противном случае.\n",
        "\n",
        "Примечание 1. Палиндром — текст, одинаково читающийся в обоих направлениях.\n",
        "\n",
        "Примечание 2. Пустая строка является палиндромом, как и строка, состоящая из одного символа.\n",
        "\n",
        "Примечание 3. В тестирующую систему сдайте программу, содержащую только необходимую функцию is_palindrome(), но не код, вызывающий ее.\n",
        "\n",
        "https://stepik.org/lesson/594137/step/15?unit=589173"
      ],
      "metadata": {
        "id": "yi6BvqSHb009"
      }
    },
    {
      "cell_type": "code",
      "source": [
        "def is_palindrome(string: str) -> bool:\n",
        "    if len(string) <= 1:\n",
        "        return True\n",
        "    if string[0] == string[-1]:\n",
        "        return is_palindrome(string[1:-1])\n",
        "    return False\n",
        "\n",
        "\n",
        "print(is_palindrome('stepik'))\n",
        "print(is_palindrome('level'))\n",
        "print(is_palindrome('122433221'))"
      ],
      "metadata": {
        "id": "z0S-NtKlb1HY",
        "outputId": "44ac9868-e329-40e6-d522-813deb0b2757",
        "colab": {
          "base_uri": "https://localhost:8080/"
        }
      },
      "execution_count": null,
      "outputs": [
        {
          "output_type": "stream",
          "name": "stdout",
          "text": [
            "False\n",
            "True\n",
            "False\n"
          ]
        }
      ]
    },
    {
      "cell_type": "markdown",
      "source": [
        "## Функция to_binary()\n",
        "Реализуйте функцию to_binary() с использованием рекурсии, которая принимает один аргумент:\n",
        "\n",
        "number — неотрицательное целое число\n",
        "Функция должна возвращать строковое представление числа number в двоичной системе счисления.\n",
        "\n",
        "Примечание 1. Вспомнить алгоритм перевода числа из десятичной системы счисления в двоичную можно по ссылке.\n",
        "\n",
        "https://stepik.org/lesson/594137/step/16?unit=589173"
      ],
      "metadata": {
        "id": "HETMJSMO_bQv"
      }
    },
    {
      "cell_type": "code",
      "source": [
        "def to_binary(number: int) -> str:\n",
        "    if number <= 1:\n",
        "        return str(number)\n",
        "    if number:\n",
        "        return to_binary(number // 2) + str(number % 2)\n",
        "\n",
        "print(to_binary(0))\n",
        "print(to_binary(1))\n",
        "print(to_binary(15))\n",
        "print(to_binary(1025))\n",
        "print(to_binary(131445))"
      ],
      "metadata": {
        "colab": {
          "base_uri": "https://localhost:8080/"
        },
        "id": "oLoF8gki_bgk",
        "outputId": "d1048d07-1c90-4a80-f0ba-dce061712315"
      },
      "execution_count": null,
      "outputs": [
        {
          "output_type": "stream",
          "name": "stdout",
          "text": [
            "0\n",
            "1\n",
            "1111\n",
            "10000000001\n",
            "100000000101110101\n"
          ]
        }
      ]
    },
    {
      "cell_type": "markdown",
      "source": [
        "## Без циклов\n",
        "Выберем натуральное число\n",
        "�\n",
        "=\n",
        "16\n",
        "n=16 и будем вычитать из него число\n",
        "5\n",
        "5, пока оно не перестанет быть положительным:\n",
        "\n",
        "16\n",
        "−\n",
        "5\n",
        "=\n",
        "11\n",
        "16−5=11\n",
        "11\n",
        "−\n",
        "5\n",
        "=\n",
        "6\n",
        "11−5=6\n",
        "6\n",
        "−\n",
        "5\n",
        "=\n",
        "1\n",
        "6−5=1\n",
        "1\n",
        "−\n",
        "5\n",
        "=\n",
        "−\n",
        "4\n",
        "1−5=−4\n",
        "Исходное число\n",
        "�\n",
        "n после четырех вычитаний перестало быть положительным и стало равным\n",
        "−\n",
        "4\n",
        "−4. Теперь будем прибавлять к нему число\n",
        "5\n",
        "5, пока оно снова не станет равным\n",
        "�\n",
        "n:\n",
        "\n",
        "−\n",
        "4\n",
        "+\n",
        "5\n",
        "\n",
        "=\n",
        "1\n",
        "−4+5 =1\n",
        "1\n",
        "+\n",
        "\n",
        "5\n",
        "=\n",
        "6\n",
        "1+ 5=6\n",
        "6\n",
        "\n",
        "+\n",
        "\n",
        "5\n",
        "=\n",
        "11\n",
        "6 + 5=11\n",
        "11\n",
        "+\n",
        "5\n",
        "\n",
        "=\n",
        "16\n",
        "11+5 =16\n",
        "Напишите программу с использованием рекурсии, которая принимает на вход число\n",
        "�\n",
        "n и вычитает из него число\n",
        "5\n",
        "5, пока оно не перестанет быть положительным, а затем прибавляет к нему число\n",
        "5\n",
        "5, пока оно снова не станет равным\n",
        "�\n",
        "n.\n",
        "\n",
        "Формат входных данных\n",
        "На вход программе подается натуральное число.\n",
        "\n",
        "Формат выходных данных\n",
        "Программа должна выполнить алгоритм, представленный в условии задачи, и вывести все результаты арифметических операций, произведенных с введенным числом, каждый на отдельной строке.\n",
        "\n",
        "Примечание 1. Обратите внимание, что в начале и в конце выводится исходное число\n",
        "�\n",
        "n.\n",
        "\n",
        "https://stepik.org/lesson/594137/step/17?unit=589173"
      ],
      "metadata": {
        "id": "TA1JYqmWHrd0"
      }
    },
    {
      "cell_type": "code",
      "source": [
        "def show_number(n: int) -> int:\n",
        "    print(n)\n",
        "    if n > 0:\n",
        "        show_number(n - 5)\n",
        "        print(n)\n",
        "\n",
        "show_number(10)"
      ],
      "metadata": {
        "colab": {
          "base_uri": "https://localhost:8080/"
        },
        "id": "cldS8HMmHrsN",
        "outputId": "3d94e2b2-1d58-43f6-f529-ba4418b5e633"
      },
      "execution_count": null,
      "outputs": [
        {
          "output_type": "stream",
          "name": "stdout",
          "text": [
            "10\n",
            "5\n",
            "0\n",
            "5\n",
            "10\n"
          ]
        }
      ]
    },
    {
      "cell_type": "markdown",
      "source": [
        "## Функция recursive_sum()\n",
        "Реализуйте recursive_sum() с использованием рекурсии, которая принимает один аргумент:\n",
        "\n",
        "nested_lists — список, элементами которого являются целые числа или списки, элементами которых, в свою очередь, также являются либо целые числа, либо списки; вложенность может быть произвольной\n",
        "Функция должна вычислять сумму всех чисел во всех списках и возвращать полученный результат. Если список nested_lists пуст, функция должна вернуть число\n",
        "0\n",
        "0.\n",
        "\n",
        "Примечание 1. В тестирующую систему сдайте программу, содержащую только необходимую функцию recursive_sum(), но не код, вызывающий ее.\n",
        "\n",
        "https://stepik.org/lesson/594680/step/4?unit=589701"
      ],
      "metadata": {
        "id": "zLyI8NSkWegw"
      }
    },
    {
      "cell_type": "code",
      "source": [
        "\n",
        "# def recursive_sum(nested_lists: list) -> int:\n",
        "#     arr = []\n",
        "#\n",
        "#     def start(data):\n",
        "#         if isinstance(data, int):\n",
        "#             arr.append(data)\n",
        "#         if isinstance(data, list):\n",
        "#             for i in data:\n",
        "#                 start(i)\n",
        "#\n",
        "#     start(nested_lists)\n",
        "#     return sum(arr)\n",
        "\n",
        "def recursive_sum(nested_lists: list) -> int:\n",
        "    total = 0\n",
        "    for i in nested_lists:\n",
        "        if isinstance(i, list):\n",
        "            total += recursive_sum(i)\n",
        "        else:\n",
        "            total += i\n",
        "\n",
        "    return total\n",
        "\n",
        "\n",
        "my_list = [1, [4, 4], 2, [1, [2, 10]]]\n",
        "# my_list = [0]\n",
        "\n",
        "print(recursive_sum(my_list))"
      ],
      "metadata": {
        "colab": {
          "base_uri": "https://localhost:8080/"
        },
        "id": "p6h8RbHNWeze",
        "outputId": "e5105c6b-67aa-43b4-b91e-8530cdfc440b"
      },
      "execution_count": null,
      "outputs": [
        {
          "output_type": "stream",
          "name": "stdout",
          "text": [
            "24\n"
          ]
        }
      ]
    },
    {
      "cell_type": "markdown",
      "source": [
        "## Функция linear()\n",
        "Линеаризация — это процесс преобразования списка, который может содержать несколько уровней вложенных списков, в список, содержащий все те же элементы без какой-либо вложенности.\n",
        "\n",
        "Например, список:\n",
        "\n",
        "[1, [2, 3], [4, [5, 6, [7, 8, 9]]]]\n",
        "после линеаризации будет иметь вид:\n",
        "\n",
        "[1, 2, 3, 4, 5, 6, 7, 8, 9]\n",
        "Реализуйте linear() с использованием рекурсии, которая принимает один аргумент:\n",
        "\n",
        "nested_lists — список, элементами которого являются целые числа или списки, элементами которых, в свою очередь, также являются либо целые числа, либо списки; вложенность может быть произвольной\n",
        "Функция должна возвращать новый список, представляющий собой линеаризованный список nested_lists.\n",
        "\n",
        "Примечание 1. В тестирующую систему сдайте программу, содержащую только необходимую функцию linear(), но не код, вызывающий ее.\n",
        "\n",
        "https://stepik.org/lesson/594680/step/5?unit=589701"
      ],
      "metadata": {
        "id": "B6o1CTJ7W2NF"
      }
    },
    {
      "cell_type": "code",
      "source": [
        "def linear(nested_lists: list):\n",
        "    arr = []\n",
        "    for elem in nested_lists:\n",
        "        if isinstance(elem, list):\n",
        "            arr.extend(linear(elem))\n",
        "        else:\n",
        "            arr.append(elem)\n",
        "    return arr\n",
        "\n",
        "\n",
        "my_list = [3, [4], [5, [6, [7, 8]]]]\n",
        "\n",
        "print(linear(my_list))"
      ],
      "metadata": {
        "colab": {
          "base_uri": "https://localhost:8080/"
        },
        "id": "hhl833KYW2eo",
        "outputId": "01f32aaa-b146-4fdb-e662-e468ea7894a3"
      },
      "execution_count": null,
      "outputs": [
        {
          "output_type": "stream",
          "name": "stdout",
          "text": [
            "[3, 4, 5, 6, 7, 8]\n"
          ]
        }
      ]
    },
    {
      "cell_type": "markdown",
      "source": [
        "## Функция get_value()\n",
        "Реализуйте функцию get_value(), которая принимает два аргумента в следующем порядке:\n",
        "\n",
        "nested_dicts — словарь, содержащий в качестве значений произвольные объекты или словари, которые, в свою очередь, так же содержат в качестве значений произвольные объекты или словари; вложенность может быть произвольной\n",
        "key — хешируемый объект\n",
        "Функция должна определять значение, которое соответствует ключу key в словаре nested_dicts или в одном из его вложенных словарей, и возвращать полученный результат.\n",
        "\n",
        "Примечание 1. Гарантируется, что ключ key присутствует в словаре nested_dicts или в одном из его вложенных словарей, причем в единственном экземпляре.\n",
        "\n",
        "Примечание 2. В тестирующую систему сдайте программу, содержащую только необходимую функцию get_value(), но не код, вызывающий ее.\n",
        "\n",
        "https://stepik.org/lesson/594680/step/6?unit=589701"
      ],
      "metadata": {
        "id": "Ikp2y4QdaJgq"
      }
    },
    {
      "cell_type": "code",
      "source": [
        "def get_value(nested_dicts: dict, key: str):\n",
        "    if key in nested_dicts:\n",
        "        return nested_dicts[key]\n",
        "\n",
        "    for k in nested_dicts.values():\n",
        "        if isinstance(k, dict):\n",
        "            value = get_value(k, key)\n",
        "            if value is not None:\n",
        "                return value\n",
        "\n",
        "data = {'firstName': 'Тимур', 'lastName': 'Гуев',\n",
        "        'birthDate': {'day': 10, 'month': 'October', 'year': 1993},\n",
        "        'address': {'streetAddress': 'Часовая 25, кв. 127',\n",
        "                    'city': {'region': 'Московская область', 'type': 'город',\n",
        "                             'cityName': 'Москва'}, 'postalCode': '125315'}}\n",
        "\n",
        "data = {'first_name': 'Alyson', 'last_name': 'Hannigan', 'birthday': {'day': 24, 'month': 'March', 'year': 1974}}\n",
        "\n",
        "print(get_value(data, 'birthday'))"
      ],
      "metadata": {
        "id": "N_kgbpmraJ3f",
        "outputId": "38f78fa9-d44a-494e-dea0-dd61d4d864ac",
        "colab": {
          "base_uri": "https://localhost:8080/"
        }
      },
      "execution_count": null,
      "outputs": [
        {
          "output_type": "stream",
          "name": "stdout",
          "text": [
            "{'day': 24, 'month': 'March', 'year': 1974}\n"
          ]
        }
      ]
    },
    {
      "cell_type": "markdown",
      "source": [
        "## Функция get_all_values() 🌶️\n",
        "Реализуйте функцию get_all_values(), которая принимает два аргумента в следующем порядке:\n",
        "\n",
        "nested_dicts — словарь, содержащий в качестве значений произвольные объекты или словари, которые, в свою очередь, так же содержат в качестве значений произвольные объекты или словари; вложенность может быть произвольной\n",
        "key — хешируемый объект\n",
        "Функция должна определять все значения, которые соответствуют ключу key в словаре nested_dicts и всех его вложенных словарях, и возвращать их в виде множества. Если ключа key нет ни в одном словаре, функция должна вернуть пустое множество.\n",
        "\n",
        "Примечание 1. Гарантируется, что все искомые значения являются хешируемыми объектами, т.е. могут быть элементами множества.\n",
        "\n",
        "Примечание 2. В тестирующую систему сдайте программу, содержащую только необходимую функцию get_all_values(), но не код, вызывающий ее.\n",
        "\n",
        "https://stepik.org/lesson/594680/step/7?unit=589701"
      ],
      "metadata": {
        "id": "TTTytHUseH6h"
      }
    },
    {
      "cell_type": "code",
      "source": [
        "# def get_all_values(nested_dicts: dict, key: str) -> set:\n",
        "#     arr = set()\n",
        "#     if key in nested_dicts:\n",
        "#         arr.add(nested_dicts[key])\n",
        "\n",
        "#     for k, v in nested_dicts.items():\n",
        "#         if isinstance(v, dict):\n",
        "#             value = get_all_values(v, key)\n",
        "#             if value is not None:\n",
        "#                 arr.update(value)\n",
        "#     return arr\n",
        "\n",
        "\n",
        "def get_all_values(nested_dicts: dict, key: str) -> set:\n",
        "    arr = set()\n",
        "    if key in nested_dicts:\n",
        "        arr.add(nested_dicts[key])\n",
        "\n",
        "    for v in nested_dicts.values():\n",
        "        if isinstance(v, dict):\n",
        "            arr.update(get_all_values(v, key))\n",
        "    return arr\n",
        "\n",
        "\n",
        "\n",
        "\n",
        "my_dict = {\n",
        "           'Arthur': {'hobby': 'videogames', 'drink': 'cacao'},\n",
        "           'Timur': {'hobby': 'math'},\n",
        "           'Dima': {\n",
        "                   'hobby': 'CS',\n",
        "                   'sister':\n",
        "                       {\n",
        "                         'name': 'Anna',\n",
        "                         'hobby': 'TV',\n",
        "                         'age': 14\n",
        "                       }\n",
        "                   }\n",
        "           }\n",
        "\n",
        "result = get_all_values(my_dict, 'hobby')\n",
        "print(*sorted(result))"
      ],
      "metadata": {
        "id": "kVRTcxOVeIIy",
        "outputId": "de95aa21-c382-45f1-bc8b-8149615e8fc2",
        "colab": {
          "base_uri": "https://localhost:8080/"
        }
      },
      "execution_count": null,
      "outputs": [
        {
          "output_type": "stream",
          "name": "stdout",
          "text": [
            "CS TV math videogames\n"
          ]
        }
      ]
    },
    {
      "cell_type": "markdown",
      "source": [
        "## Функция dict_travel() 🌶️🌶️\n",
        "Реализуйте функцию dict_travel(), которая принимает один аргумент:\n",
        "\n",
        "nested_dicts — словарь, содержащий в качестве значений числа, строки или словари, которые, в свою очередь, так же содержат в качестве значений числа, строки или словари; вложенность может быть произвольной\n",
        "Функция должна выводить все пары ключ-значение словаря nested_dicts, а также значения всех его дочерних словарей. При выводе значений дочерних словарей необходимо перечислять имена всех ключей, начиная с верхнего уровня, разделяя их точками.\n",
        "\n",
        "Например, в словаре:\n",
        "\n",
        "{'name': 'Arthur', 'grades': {'math': 4, 'chemistry': 3}}\n",
        "значение 4 должно быть выведено в следующем формате:\n",
        "\n",
        "grades.math: 4\n",
        "Все пары ключ-значение должны быть расположены в лексикографическом порядке, каждая на отдельной строке.\n",
        "\n",
        "Примечание 1. Гарантируется, что ключами в подаваемом в функцию словаре являются строки, содержащие только латинские буквы в нижнем регистре.\n",
        "\n",
        "Примечание 2. Гарантируется, что ни один ключ в подаваемом в функцию словаре не является последовательностью других ключей. Другими словами, словарь не может иметь, например, следующий вид:\n",
        "\n",
        "{'b.c': 1, 'b': {'c': 30, 'a': 10, 'b': 20}}\n",
        "Примечание 3. В тестирующую систему сдайте программу, содержащую только необходимую функцию dict_travel(), но не код, вызывающий ее\n",
        "\n",
        "https://stepik.org/lesson/594680/step/8?unit=589701"
      ],
      "metadata": {
        "id": "pDStONwCSxTF"
      }
    },
    {
      "cell_type": "code",
      "source": [
        "def dict_travel(nested_dicts: dict, path: str ='') -> dict:\n",
        "    for key, value in sorted(nested_dicts.items()):\n",
        "        if isinstance(value, dict):\n",
        "            dict_travel(value, path + f\"{key}.\")\n",
        "        else:\n",
        "            print(f\"{path}{key}: {value}\")\n",
        "\n",
        "data = {'a': 1, 'b': {'c': 30, 'a': 10, 'b': 20}}\n",
        "dict_travel(data)"
      ],
      "metadata": {
        "id": "lDxndU7WSxgM",
        "outputId": "1e22805a-ca51-4afd-8adf-e5c106c287a3",
        "colab": {
          "base_uri": "https://localhost:8080/"
        }
      },
      "execution_count": 246,
      "outputs": [
        {
          "output_type": "stream",
          "name": "stdout",
          "text": [
            "a: 1\n",
            "b.a: 10\n",
            "b.b: 20\n",
            "b.c: 30\n"
          ]
        }
      ]
    },
    {
      "cell_type": "code",
      "source": [
        "def dict_travel(nested_dicts, path=\"\"):\n",
        "    for key, value in sorted(nested_dicts.items()):\n",
        "        if isinstance(value, dict):\n",
        "            dict_travel(value, path+f\"{key}.\")\n",
        "        else:\n",
        "            print(f\"{path}{key}: {value}\")\n",
        "\n",
        "data = {'a': 1, 'b': {'c': 30, 'a': 10, 'b': 20}}\n",
        "dict_travel(data)"
      ],
      "metadata": {
        "id": "T7NTLLpex7ii",
        "outputId": "2f8d533f-8be8-4e95-8cd4-2ed7feeec36c",
        "colab": {
          "base_uri": "https://localhost:8080/"
        }
      },
      "execution_count": 249,
      "outputs": [
        {
          "output_type": "stream",
          "name": "stdout",
          "text": [
            "a: 1\n",
            "b.a: 10\n",
            "b.b: 20\n",
            "b.c: 30\n"
          ]
        }
      ]
    }
  ]
}