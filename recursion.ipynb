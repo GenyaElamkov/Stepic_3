{
  "nbformat": 4,
  "nbformat_minor": 0,
  "metadata": {
    "colab": {
      "provenance": [],
      "toc_visible": true,
      "authorship_tag": "ABX9TyOxQ1Iql4OkEUFwel97+cpI",
      "include_colab_link": true
    },
    "kernelspec": {
      "name": "python3",
      "display_name": "Python 3"
    },
    "language_info": {
      "name": "python"
    }
  },
  "cells": [
    {
      "cell_type": "markdown",
      "metadata": {
        "id": "view-in-github",
        "colab_type": "text"
      },
      "source": [
        "<a href=\"https://colab.research.google.com/github/GenyaElamkov/Stepic_3/blob/master/recursion.ipynb\" target=\"_parent\"><img src=\"https://colab.research.google.com/assets/colab-badge.svg\" alt=\"Open In Colab\"/></a>"
      ]
    },
    {
      "cell_type": "code",
      "execution_count": 4,
      "metadata": {
        "colab": {
          "base_uri": "https://localhost:8080/"
        },
        "id": "FP_PvE5RrOuy",
        "outputId": "da254dc5-f43e-4ac6-df22-d51c076457ba"
      },
      "outputs": [
        {
          "output_type": "stream",
          "name": "stdout",
          "text": [
            "****\n",
            "****\n",
            "****\n",
            "\n",
            "******\n",
            "******\n",
            "******\n",
            "******\n",
            "******\n",
            "******\n",
            "\n",
            "**********\n",
            "**********\n"
          ]
        }
      ],
      "source": [
        "def draw_rect(width, height):\n",
        "    def rec(step):\n",
        "        if step < height:\n",
        "            print('*' * width)\n",
        "            rec(step + 1)\n",
        "    rec(0)\n",
        "\n",
        "draw_rect(4, 3)\n",
        "print()\n",
        "draw_rect(6, 6)\n",
        "print()\n",
        "draw_rect(10, 2)"
      ]
    },
    {
      "cell_type": "markdown",
      "source": [
        "## Подозрительно просто 🤫\n",
        "Вам доступна функция traffic(), реализованная с помощью цикла while, которая принимает в качестве аргумента число\n",
        "�\n",
        "n и выводит\n",
        "�\n",
        "n раз строку Не парковаться.\n",
        "\n",
        "Перепишите данную функцию с использованием рекурсии, чтобы она выполняла ту же задачу.\n",
        "\n",
        "Примечание. В тестирующую систему сдайте программу, содержащую только необходимую функцию traffic(), но не код, вызывающий ее.\n",
        "\n",
        "https://stepik.org/lesson/637962/step/5?unit=634429"
      ],
      "metadata": {
        "id": "lac91hZTP2CY"
      }
    },
    {
      "cell_type": "code",
      "source": [
        "def traffic(n):\n",
        "    if n > 0:\n",
        "        print('Не парковаться')\n",
        "        traffic(n-1)\n",
        "\n",
        "traffic(3)"
      ],
      "metadata": {
        "colab": {
          "base_uri": "https://localhost:8080/"
        },
        "id": "0PYeNtJwP2Ov",
        "outputId": "d5b55ffd-bd4e-4feb-d54a-ad4c8a027c26"
      },
      "execution_count": 8,
      "outputs": [
        {
          "output_type": "stream",
          "name": "stdout",
          "text": [
            "Не парковаться\n",
            "Не парковаться\n",
            "Не парковаться\n"
          ]
        }
      ]
    },
    {
      "cell_type": "markdown",
      "source": [
        "## Подозрительно просто 🤐\n",
        "Напишите программу с использованием рекурсии, которая выводит последовательность натуральных чисел от\n",
        "1\n",
        "1 до 100 включительно.\n",
        "\n",
        "Формат входных данных\n",
        "На вход программе ничего не подается.\n",
        "\n",
        "Формат выходных данных\n",
        "Программа должны вывести последовательность натуральных чисел от\n",
        "1\n",
        "1 до\n",
        "100 включительно, каждое на отдельной строке.\n",
        "\n",
        "Примечание. Начальная часть ответа выглядит так:\n",
        "\n",
        "1\n",
        "2\n",
        "3\n",
        "4\n",
        "5\n",
        "...\n",
        "\n",
        "https://stepik.org/lesson/637962/step/6?unit=634429"
      ],
      "metadata": {
        "id": "_zVVMQENQ0xv"
      }
    },
    {
      "cell_type": "code",
      "source": [
        "def out_nums():\n",
        "    def start(n, end):\n",
        "        if n <= end:\n",
        "            print(n)\n",
        "            start(n + 1, end)\n",
        "\n",
        "    start(1, 100)\n",
        "\n",
        "out_nums()"
      ],
      "metadata": {
        "id": "mM1Cv1FVQ04V"
      },
      "execution_count": null,
      "outputs": []
    },
    {
      "cell_type": "markdown",
      "source": [
        "Вам доступен список numbers, содержащий ровно\n",
        "100\n",
        "100 целых чисел. Дополните приведенный ниже код с использованием рекурсии, чтобы он вывел все элементы этого списка от первого до последнего, каждый на отдельный строке, в следующем формате:\n",
        "\n",
        "Элемент <индекс элемента>: <значение элемента>\n",
        "Примечание. Начальная часть ответа выглядит так:\n",
        "\n",
        "Элемент 0: 243\n",
        "Элемент 1: -279\n",
        "Элемент 2: 395\n",
        "...\n",
        "\n",
        "https://stepik.org/lesson/637962/step/7?unit=634429"
      ],
      "metadata": {
        "id": "IaAfjBEqSY42"
      }
    },
    {
      "cell_type": "code",
      "source": [
        "numbers = [243, -279, 395, 130, 89, 269, 861, 669, 939, 367, -46, 710, 841,\n",
        "           -280, -244, 274, -132, 273, 418, 432, -341, 437, 360, 960, 195, 792,\n",
        "           106, 461, -35, 980, -80, 540, -358, 69, -26, -416, 597, 96, 533,\n",
        "           232, 755, 894, 331, 323, -383, -386, 231, 436, 553, 967, 166, -151,\n",
        "           772, 434, 325, 301, 275, 431, 556, 728, 558, 702, 463, 127, 984,\n",
        "           212, 876, -287, -16, -177, 577, 604, 116, 500, 653, 669, 916, 802,\n",
        "           817, 762, -210, -353, 144, -351, 777, 805, 692, 22, -303, 249, 190,\n",
        "           411, 236, -274, 174, 380, 71, 124, -85, 430]\n",
        "\n",
        "def out_nums(numbers):\n",
        "    def start(n):\n",
        "        if n < len(numbers):\n",
        "            print(f\"Элемент {n}: {numbers[n]}\")\n",
        "            start(n + 1)\n",
        "\n",
        "    start(0)\n",
        "\n",
        "\n",
        "out_nums(numbers)\n"
      ],
      "metadata": {
        "id": "BDVbS53uSY-0"
      },
      "execution_count": null,
      "outputs": []
    },
    {
      "cell_type": "markdown",
      "source": [
        "## Обратный порядок\n",
        "Дана последовательность целых чисел. Напишите программу с использованием рекурсии, которая выводит эту последовательность в обратном порядке.\n",
        "\n",
        "Формат входных данных\n",
        "На вход программе подается последовательность целых чисел, каждое на отдельной строке. Концом последовательности является число\n",
        "0\n",
        "0.\n",
        "\n",
        "Формат выходных данных\n",
        "Программа должна вывести введенные числа в обратном порядке, каждое на отдельной строке.\n",
        "\n",
        "https://stepik.org/lesson/637962/step/8?unit=634429"
      ],
      "metadata": {
        "id": "6m0qmcOOU6X3"
      }
    },
    {
      "cell_type": "code",
      "source": [
        "def input_nums():\n",
        "    arr = []\n",
        "\n",
        "    def start(num):\n",
        "        arr.append(num)\n",
        "        if num != 0:\n",
        "            start(int(input()))\n",
        "        else:\n",
        "            print(*[k for k in arr[::-1]], sep=\"\\n\")\n",
        "\n",
        "    start(int(input()))\n",
        "\n",
        "\n",
        "input_nums()\n"
      ],
      "metadata": {
        "id": "GcBmPj4PU6cw"
      },
      "execution_count": 26,
      "outputs": []
    },
    {
      "cell_type": "code",
      "source": [
        "def result():\n",
        "    digit = int(input())\n",
        "    if digit != 0:\n",
        "        result()\n",
        "    print(digit)"
      ],
      "metadata": {
        "id": "Nbj2hKg9b95u"
      },
      "execution_count": 27,
      "outputs": []
    },
    {
      "cell_type": "markdown",
      "source": [
        "## Функция triangle() 😥\n",
        "Реализуйте функцию triangle() с использованием рекурсии, которая принимает один аргумент:\n",
        "\n",
        "h — натуральное число\n",
        "Функция должна выводить звездный треугольник с высотой h в соответствии со следующим примером:\n",
        "\n",
        "...\n",
        "\n",
        "*****\n",
        "\n",
        "****\n",
        "\n",
        "***\n",
        "\n",
        "\n",
        "**\n",
        "\n",
        "*\n",
        "Примечание 1. В тестирующую систему сдайте программу, содержащую только необходимую функцию triangle(), но не код, вызывающий ее.\n",
        "\n",
        "https://stepik.org/lesson/637962/step/9?unit=634429"
      ],
      "metadata": {
        "id": "KncY_hb_dDzE"
      }
    },
    {
      "cell_type": "code",
      "source": [
        "def triangle(h):\n",
        "    if h > 0:\n",
        "        print(\"*\" * h)\n",
        "        triangle(h - 1)\n",
        "\n",
        "triangle(3)\n",
        "\n"
      ],
      "metadata": {
        "colab": {
          "base_uri": "https://localhost:8080/"
        },
        "id": "azfL8h2ZdD5b",
        "outputId": "5e72688f-7214-4a22-e3fd-72cd1575b109"
      },
      "execution_count": 29,
      "outputs": [
        {
          "output_type": "stream",
          "name": "stdout",
          "text": [
            "***\n",
            "**\n",
            "*\n"
          ]
        }
      ]
    },
    {
      "cell_type": "markdown",
      "source": [
        "## Функция triangle() 😰\n",
        "Реализуйте функцию triangle() с использованием рекурсии, которая принимает один аргумент:\n",
        "\n",
        "h — натуральное число\n",
        "Функция должна выводить звездный треугольник с высотой h в соответствии со следующим примером:\n",
        "\n",
        "*\n",
        "**\n",
        "***\n",
        "****\n",
        "*****\n",
        "...\n",
        "Примечание 1. В тестирующую систему сдайте программу, содержащую только необходимую функцию triangle(), но не код, вызывающий ее.\n",
        "\n",
        "https://stepik.org/lesson/637962/step/10?unit=634429"
      ],
      "metadata": {
        "id": "zK0HNfPcfcYe"
      }
    },
    {
      "cell_type": "code",
      "source": [
        "def triangle(h):\n",
        "    if h > 0:\n",
        "        triangle(h - 1)\n",
        "        print(\"*\" * h)\n",
        "\n",
        "triangle(3)\n"
      ],
      "metadata": {
        "colab": {
          "base_uri": "https://localhost:8080/"
        },
        "id": "FIYQmFIIfced",
        "outputId": "b9988200-5c6d-4257-f710-b70ba0e73087"
      },
      "execution_count": 30,
      "outputs": [
        {
          "output_type": "stream",
          "name": "stdout",
          "text": [
            "*\n",
            "**\n",
            "***\n"
          ]
        }
      ]
    },
    {
      "cell_type": "markdown",
      "source": [
        "## Песочные часы\n",
        "Напишите программу с использованием рекурсивной функции, которая выводит изображение песочных часов, составленное из цифр\n",
        "1\n",
        "1,\n",
        "2\n",
        "2,\n",
        "3\n",
        "3, и\n",
        "4\n",
        "4:\n",
        "\n",
        "1111111111111111    # 16 раз\n",
        "  222222222222      # 12 раз\n",
        "    33333333        # 8 раз\n",
        "      4444          # 4 раза\n",
        "    33333333        # 8 раз\n",
        "  222222222222      # 12 раз\n",
        "1111111111111111    # 16 раз\n",
        "Формат входных данных\n",
        "На вход программе ничего не подается.\n",
        "\n",
        "Формат выходных данных\n",
        "Программа должна вывести изображение песочных часов, составленное из цифр\n",
        "1\n",
        "1,\n",
        "2\n",
        "2,\n",
        "3\n",
        "3, и\n",
        "4\n",
        "4, представленное в условии задачи.\n",
        "\n",
        "Примечание. Количество цифр в каждой строке, указанное в комментариях, выводить не нужно.\n",
        "\n",
        "https://stepik.org/lesson/637962/step/11?unit=634429"
      ],
      "metadata": {
        "id": "feIEFqfHf_sB"
      }
    },
    {
      "cell_type": "code",
      "source": [
        "def show_clock(start, step):\n",
        "    res = f\"{str(start) * step:^16}\"\n",
        "    print(res)\n",
        "    if start != 4:\n",
        "        show_clock(start + 1, step - 4)\n",
        "        print(res)\n",
        "\n",
        "\n",
        "show_clock(1, 16)\n"
      ],
      "metadata": {
        "colab": {
          "base_uri": "https://localhost:8080/"
        },
        "id": "ErdRhMOof_x_",
        "outputId": "acddcc9b-2bd3-4d7b-ceb1-3745e35cd700"
      },
      "execution_count": 74,
      "outputs": [
        {
          "output_type": "stream",
          "name": "stdout",
          "text": [
            "1111111111111111\n",
            "  222222222222  \n",
            "    33333333    \n",
            "      4444      \n",
            "    33333333    \n",
            "  222222222222  \n",
            "1111111111111111\n"
          ]
        }
      ]
    },
    {
      "cell_type": "markdown",
      "source": [
        "## Функция print_digits() 😉\n",
        "Реализуйте функцию print_digits() с использованием рекурсии, которая принимает один аргумент:\n",
        "\n",
        "number — натуральное число\n",
        "Функция должна выводить все цифры числа number, начиная с младших разрядов, каждое на отдельной строке.\n",
        "\n",
        "Примечание 1. В тестирующую систему сдайте программу, содержащую только необходимую функцию print_digits(), но не код, вызывающий ее.\n",
        "\n",
        "https://stepik.org/lesson/637962/step/12?unit=634429"
      ],
      "metadata": {
        "id": "wBph5OnBvJI5"
      }
    },
    {
      "cell_type": "code",
      "source": [
        "def print_digits(number):\n",
        "    if number != 0:\n",
        "        print(number % 10 )\n",
        "        print_digits(number//10)\n",
        "\n",
        "\n",
        "print_digits(12345)"
      ],
      "metadata": {
        "colab": {
          "base_uri": "https://localhost:8080/"
        },
        "id": "-6xarYj_vJQE",
        "outputId": "b53729f0-49e4-4813-e003-209da3e1a79a"
      },
      "execution_count": 85,
      "outputs": [
        {
          "output_type": "stream",
          "name": "stdout",
          "text": [
            "5\n",
            "4\n",
            "3\n",
            "2\n",
            "1\n"
          ]
        }
      ]
    },
    {
      "cell_type": "markdown",
      "source": [
        "## Функция print_digits() 😎\n",
        "Реализуйте функцию print_digits() с использованием рекурсии, которая принимает один аргумент:\n",
        "\n",
        "number — натуральное число\n",
        "Функция должна выводить все цифры числа number, начиная со старших разрядов, каждое на отдельной строке.\n",
        "\n",
        "Примечание 1. В тестирующую систему сдайте программу, содержащую только необходимую функцию print_digits(), но не код, вызывающий ее.\n",
        "\n",
        "https://stepik.org/lesson/637962/step/13?unit=634429"
      ],
      "metadata": {
        "id": "TEvlelcTyY-d"
      }
    },
    {
      "cell_type": "code",
      "source": [
        "def print_digits(number):\n",
        "    if number != 0:\n",
        "        print_digits(number//10)\n",
        "        print(number % 10 )\n",
        "\n",
        "print_digits(12345)"
      ],
      "metadata": {
        "colab": {
          "base_uri": "https://localhost:8080/"
        },
        "id": "2ErCzpPNyZEP",
        "outputId": "ea7f94a5-760a-4924-cd11-ac9460593455"
      },
      "execution_count": 86,
      "outputs": [
        {
          "output_type": "stream",
          "name": "stdout",
          "text": [
            "1\n",
            "2\n",
            "3\n",
            "4\n",
            "5\n"
          ]
        }
      ]
    }
  ]
}