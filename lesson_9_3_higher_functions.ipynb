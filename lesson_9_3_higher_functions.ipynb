{
  "nbformat": 4,
  "nbformat_minor": 0,
  "metadata": {
    "colab": {
      "provenance": [],
      "toc_visible": true,
      "authorship_tag": "ABX9TyNEsCPPS8O/R9xDM9BykPR9",
      "include_colab_link": true
    },
    "kernelspec": {
      "name": "python3",
      "display_name": "Python 3"
    },
    "language_info": {
      "name": "python"
    }
  },
  "cells": [
    {
      "cell_type": "markdown",
      "metadata": {
        "id": "view-in-github",
        "colab_type": "text"
      },
      "source": [
        "<a href=\"https://colab.research.google.com/github/GenyaElamkov/Stepic_3/blob/master/lesson_9_3_higher_functions.ipynb\" target=\"_parent\"><img src=\"https://colab.research.google.com/assets/colab-badge.svg\" alt=\"Open In Colab\"/></a>"
      ]
    },
    {
      "cell_type": "markdown",
      "source": [
        "Вам доступен список data, содержащий произвольные объекты. Дополните приведенный ниже код, чтобы он вывел все числа (тип int и float), находящиеся в данном списке, отбрасывая дробную часть у вещественных чисел. Числа должны быть расположены в своем исходном порядке, каждое на отдельной строке.\n",
        "\n",
        "https://stepik.org/lesson/640036/step/13?unit=636556"
      ],
      "metadata": {
        "id": "Da4O8V4_q7dv"
      }
    },
    {
      "cell_type": "code",
      "execution_count": null,
      "metadata": {
        "id": "5gaocg5eqX9r"
      },
      "outputs": [],
      "source": [
        "data = ['Timur', -16.648911695768902, 'six', -202, 883.0093275936454, -765,\n",
        "        (3, 4), -105.10718000213546, 976, -308.96857946288094, 458,\n",
        "        ['one', 'two'], 479.92207220345927, -87, -71, 'twelve', 112, -621,\n",
        "        -715.0179551194733, 'seven', 229, 729, -358, [1, 2, 3], -974, 882,\n",
        "        -894.4709033242768, '', 323.7720806756133, 'beegeek', -224, 431,\n",
        "        170.6353248658936, -343.0016746052049, 'number', 104.17133679352878,\n",
        "        [], -353.5964777099863, 'zero', -113, 288, None, -708.3036176571618]\n",
        "\n",
        "\n",
        "res = map(int, filter(lambda x: isinstance(x, (int, float)), data))\n",
        "print(*res, sep='\\n')\n"
      ]
    },
    {
      "cell_type": "markdown",
      "source": [
        "Вам доступен список numbers, содержащий целые числа. Дополните приведенный ниже код, чтобы он вывел сумму квадратов всех двузначных чисел из данного списка, которые делятся на\n",
        "9\n",
        "9 без остатка.\n",
        "\n",
        "Примечание 1. Обратите внимание, на\n",
        "9\n",
        "9 должно делиться само число, а не его квадрат.\n",
        "\n",
        "Примечание 2. В задаче удобно воспользоваться функциями map() и filter().\n",
        "\n",
        "https://stepik.org/lesson/640036/step/14?unit=636556"
      ],
      "metadata": {
        "id": "kkUHiEBFvd1I"
      }
    },
    {
      "cell_type": "code",
      "source": [
        "numbers = [4754, -4895, -364, -4764, 4683, 1639, -43, 228, -2701, -1503, 1223,\n",
        "           4340, -1296, 3939, -345, 623, -3275, 1003, 4367, -1739, 550, -1217,\n",
        "           -1334, 1526, -4359, -3028, -4663, 3356, 3887, 4297, -1982, 1013,\n",
        "           3299, 3556, -3324, 417, 3531, -3134, 1782, 4439, 1652, -985, 4327,\n",
        "           1517, 1225, -915, 2808, -3851, -1005, 3396, 2842, -3879, -3824,\n",
        "           -3805, 1609, -4741, -3072, 3573, 4680, 588, -1430, 2378, -1095,\n",
        "           -343, 4357, -2164, -3304, 4354, 4926, -352, -1187, -3313, 2741,\n",
        "           4786, -2689, 741, 4558, 1442, 62, -1099, -2201, -16, -3115, 1862,\n",
        "           2384, 4072, -90, 204, 1158, -3134, -2512, 756, 4148, 4370, 1756,\n",
        "           3609, -1148, -3909, 4123, -2906, 69, 96, 1111]\n",
        "\n",
        "print(*map(lambda x: x**2, filter(lambda x: len(str(abs(x))) == 2 and x % 9 == 0, numbers)))\n",
        "# print(*map(lambda x: x**2, filter(lambda x: -100 < x < 100 and x % 9 == 0, numbers)))\n"
      ],
      "metadata": {
        "colab": {
          "base_uri": "https://localhost:8080/"
        },
        "id": "XIfwMyvpveFd",
        "outputId": "41c965ee-4656-47aa-eba8-1d8b930c54d9"
      },
      "execution_count": null,
      "outputs": [
        {
          "output_type": "stream",
          "name": "stdout",
          "text": [
            "8100\n"
          ]
        }
      ]
    },
    {
      "cell_type": "markdown",
      "source": [
        "Вам доступен список names, содержащий имена на русском языке. Дополните приведенный ниже код, чтобы он вывел все имена, которые начинаются на буквы А и М (независимо от регистра) и имеют длину больше\n",
        "4\n",
        "4. Имена должны быть расположены в лексикографическом порядке, через пробел, каждое с заглавной буквы.\n",
        "\n",
        "Примечание 1. Начальная часть ответа выглядит так:\n",
        "\n",
        "Аделина Айлин Александр ...\n",
        "Примечание 2. В задаче удобно воспользоваться функциями map() и filter().\n",
        "\n",
        "https://stepik.org/lesson/640036/step/15?unit=636556"
      ],
      "metadata": {
        "id": "kB-yhtul22oj"
      }
    },
    {
      "cell_type": "code",
      "source": [
        "names = ['ульяна', 'арина', 'Дмитрий', 'Сергей', 'Яна', 'мила', 'Ольга',\n",
        "         'софья', 'семён', 'Никита', 'маргарита', 'Василиса', 'Кирилл',\n",
        "         'александр', 'александра', 'Иван', 'андрей', 'Родион', 'максим',\n",
        "         'алиса', 'Артём', 'софия', 'владимир', 'дамир', 'Валерий', 'степан',\n",
        "         'Алексей', 'Марк', 'олег', 'ирина', 'Милана', 'мия', 'денис', 'Фёдор',\n",
        "         'Елизавета', 'айлин', 'Варвара', 'валерия', 'Алёна', 'Николь', 'юлия',\n",
        "         'Ксения', 'пётр', 'георгий', 'Мария', 'глеб', 'илья', 'Захар',\n",
        "         'Дарья', 'Евгения', 'матвей', 'Серафим', 'екатерина', 'Тимофей',\n",
        "         'виктор', 'Егор', 'Ника', 'анна', 'даниил', 'тихон', 'вера', 'кира',\n",
        "         'Эмилия', 'Виктория', 'Игорь', 'полина', 'алина', 'Давид',\n",
        "         'анастасия', 'Вероника', 'ярослав', 'Руслан', 'татьяна', 'Демид',\n",
        "         'амелия', 'Элина', 'Арсен', 'евгений', 'мадина', 'дарина', 'Савелий',\n",
        "         'Платон', 'Аделина', 'диана', 'Айша', 'павел', 'Стефания', 'Тимур',\n",
        "         'Ева', 'Елисей', 'Артемий', 'григорий', 'Мирон', 'Мирослава', 'Мира',\n",
        "         'Марат', 'Лилия', 'роман', 'владислав', 'Леонид']\n",
        "\n",
        "\n",
        "res = filter(lambda x: x.startswith((\"а\",\"А\", \"м\",\"М\")) and len(x) > 4, names)\n",
        "print(*sorted(map(str.title, res)))\n"
      ],
      "metadata": {
        "colab": {
          "base_uri": "https://localhost:8080/"
        },
        "id": "s9fFnK4hwsbC",
        "outputId": "f551884b-d960-4b0e-eb15-39f18f4cd118"
      },
      "execution_count": null,
      "outputs": [
        {
          "output_type": "stream",
          "name": "stdout",
          "text": [
            "Аделина Айлин Александр Александра Алексей Алина Алиса Алёна Амелия Анастасия Андрей Арина Арсен Артемий Артём Мадина Максим Марат Маргарита Мария Матвей Милана Мирон Мирослава\n"
          ]
        }
      ]
    },
    {
      "cell_type": "markdown",
      "source": [
        "## Функция fib()\n",
        "Используя синтаксис анонимных функций, реализуйте рекурсивную функцию fib(), которая принимает один аргумент:\n",
        "\n",
        "n — натуральное число\n",
        "Функция должна возвращать n-ый член последовательности Фибоначчи.\n",
        "\n",
        "Примечание 1. Последовательность Фибоначчи – последовательность натуральных чисел, где каждое последующее число является суммой двух предыдущих:\n",
        "1\n",
        ",\n",
        "1\n",
        ",\n",
        "2\n",
        ",\n",
        "3\n",
        ",\n",
        "5\n",
        ",\n",
        "8\n",
        ",\n",
        "13\n",
        ",\n",
        "21\n",
        ",\n",
        "34\n",
        ",\n",
        "55\n",
        ",\n",
        "89\n",
        ",\n",
        "144\n",
        ",\n",
        "233\n",
        ",\n",
        ".\n",
        ".\n",
        ".\n",
        "1,1,2,3,5,8,13,21,34,55,89,144,233,...\n",
        "Примечание 2. В тестирующую систему сдайте программу, содержащую только необходимую функцию fib(), но не код, вызывающий ее.\n",
        "\n",
        "https://stepik.org/lesson/640036/step/16?unit=636556"
      ],
      "metadata": {
        "id": "vEG9QQLA6WHc"
      }
    },
    {
      "cell_type": "code",
      "source": [
        "d = {1: 1, 2: 1 }\n",
        "fib = lambda n: d[n] if n in d else d.setdefault(n, fib(n-1) + fib(n-2))\n",
        "# fib = lambda n: 1 if n <= 2 else fib(n-2) + fib(n-1)\n",
        "print(fib(5))"
      ],
      "metadata": {
        "colab": {
          "base_uri": "https://localhost:8080/"
        },
        "id": "aNPn7yLm6WyZ",
        "outputId": "ac6dc135-9f62-434b-a20c-bb1927edb5eb"
      },
      "execution_count": null,
      "outputs": [
        {
          "output_type": "stream",
          "name": "stdout",
          "text": [
            "5\n"
          ]
        }
      ]
    },
    {
      "cell_type": "markdown",
      "source": [
        "## Функция print_operation_table()\n",
        "Реализуйте функцию print_operation_table(), которая принимает три аргумента в следующем порядке:\n",
        "\n",
        "operation — функция, характеризующая некоторую бинарную операцию\n",
        "rows — натуральное число\n",
        "cols — натуральное число\n",
        "Функция должна составлять и выводить таблицу из rows строк и cols столбцов, в которой элемент со строкой\n",
        "�\n",
        "n и столбцом\n",
        "�\n",
        "m имеет значение operation(n, m).\n",
        "\n",
        "Примечание 1. Нумерация строк и столбцов в таблице начинается с единицы.\n",
        "\n",
        "Примечание 2. Элементы в строках таблицы должны быть разделены одним пробелом, причем выравнивать таблицу необязательно.\n",
        "\n",
        "Примечание 3. Бинарная операция — математическая операция, принимающая два аргумента и возвращающая один результат.\n",
        "\n",
        "Примечание 4. В тестирующую систему сдайте программу, содержащую только необходимую функцию print_operation_table(), но не код, вызывающий ее.\n",
        "\n",
        "https://stepik.org/lesson/640036/step/17?unit=636556"
      ],
      "metadata": {
        "id": "zkE8HvY__A5N"
      }
    },
    {
      "cell_type": "code",
      "source": [
        "def print_operation_table(operation, rows: int, cols: int) -> None:\n",
        "    \"\"\"Состовлят и выводить таблицу из строк и стобцов.\"\"\"\n",
        "    # rows - строки\n",
        "    # cols - столбцы\n",
        "    # operation(n, m)\n",
        "\n",
        "    _width = len(str(operation(rows, cols)))\n",
        "    for i in range(1, rows+1):\n",
        "        for j in range(1, cols+1):\n",
        "            # print(f\"{(lambda: operation(i, j))()}\".ljust(_width), end=' ')\n",
        "            print(f\"{operation(i, j)}\".ljust(_width), end=' ')\n",
        "        print()\n",
        "\n",
        "\n",
        "print_operation_table(pow, 5, 4)"
      ],
      "metadata": {
        "colab": {
          "base_uri": "https://localhost:8080/",
          "height": 126
        },
        "id": "qTEyHB_h_BIB",
        "outputId": "3eb241ed-a34e-49a8-828b-196952018fbe"
      },
      "execution_count": null,
      "outputs": [
        {
          "output_type": "stream",
          "name": "stdout",
          "text": [
            "1   1   1   1   \n",
            "2   4   8   16  \n",
            "3   9   27  81  \n",
            "4   16  64  256 \n",
            "5   25  125 625 \n"
          ]
        },
        {
          "output_type": "execute_result",
          "data": {
            "text/plain": [
              "'Состовлят и выводить таблицу из строк и стобцов.'"
            ],
            "application/vnd.google.colaboratory.intrinsic+json": {
              "type": "string"
            }
          },
          "metadata": {},
          "execution_count": 8
        }
      ]
    },
    {
      "cell_type": "markdown",
      "source": [
        "## Функция verification()\n",
        "Реализуйте функцию verification(), которая проверяет правильность введенного пароля. Она должна принимать четыре аргумента в следующем порядке:\n",
        "\n",
        "login — логин пользователя\n",
        "password — пароль пользователя\n",
        "success — некоторая функция\n",
        "failure — некоторая функция\n",
        "Пароль считается правильным, если в нем присутствует, хотя бы одна заглавная латинская буква, хотя бы одна строчная латинская буква и хотя бы одна цифра. Функция verification() должна вызывать функцию success() с аргументом login, если переданный пароль является правильным, иначе — функцию failure() с аргументами login и строкой-сообщением об ошибке:\n",
        "\n",
        "в пароле нет ни одной буквы, если в пароле отсутствуют латинские буквы\n",
        "в пароле нет ни одной заглавной буквы, если в пароле отсутствуют заглавные латинские буквы\n",
        "в пароле нет ни одной строчной буквы, если в пароле отсутствуют строчные латинские буквы\n",
        "в пароле нет ни одной цифры, если в пароле отсутствуют цифры\n",
        "Примечание 1. Если пароль не удовлетворяет нескольким условиям, то приоритеты выбора строки-сообщения об ошибке являются следующими:\n",
        "\n",
        "в пароле нет ни одной буквы\n",
        "в пароле нет ни одной заглавной буквы\n",
        "в пароле нет ни одной строчной буквы\n",
        "в пароле нет ни одной цифры\n",
        "\n",
        "https://stepik.org/lesson/640036/step/18?unit=636556"
      ],
      "metadata": {
        "id": "S9EXavi4JlnP"
      }
    },
    {
      "cell_type": "code",
      "source": [
        "import string\n",
        "\n",
        "def verification(login, password, success, failure):\n",
        "    psw = set(password)\n",
        "    try:\n",
        "        if not any(map(lambda x: x in string.ascii_letters, psw)):\n",
        "            err = 'в пароле нет ни одной буквы'\n",
        "            raise\n",
        "        if not any(map(lambda x: x in string.ascii_uppercase, psw)):\n",
        "            err = 'в пароле нет ни одной заглавной буквы'\n",
        "            raise\n",
        "        if not any(map(lambda x: x in string.ascii_lowercase, psw)):\n",
        "            err = 'в пароле нет ни одной строчной буквы'\n",
        "            raise\n",
        "        if not any(map(lambda x: x in string.digits, psw)):\n",
        "            err = 'в пароле нет ни одной цифры'\n",
        "            raise\n",
        "    except Exception:\n",
        "        failure(login, err)\n",
        "    else:\n",
        "        success(login)\n",
        "\n",
        "\n",
        "\n",
        "def success(login):\n",
        "    print(f'Здравствуйте, {login}!')\n",
        "\n",
        "\n",
        "def failure(login, text):\n",
        "    print(f'{login}, попробуйте снова. Текст ошибки: {text}')\n",
        "\n",
        "\n",
        "verification('Arthur_Davletov', 'впввав', success, failure)"
      ],
      "metadata": {
        "colab": {
          "base_uri": "https://localhost:8080/"
        },
        "id": "N8T8qmNlJn_W",
        "outputId": "283db061-534b-43cc-e834-f0ea7e6ba52d"
      },
      "execution_count": null,
      "outputs": [
        {
          "output_type": "stream",
          "name": "stdout",
          "text": [
            "Arthur_Davletov, попробуйте снова. Текст ошибки: в пароле нет ни одной буквы\n"
          ]
        }
      ]
    },
    {
      "cell_type": "markdown",
      "source": [
        "# Новый раздел"
      ],
      "metadata": {
        "id": "H7e869abBpwD"
      }
    },
    {
      "cell_type": "code",
      "source": [
        "def func(name, language='Python', year=1992):\n",
        "    pass\n",
        "\n",
        "print(func.__name__)          # имя функции\n",
        "print(func.__doc__)           # строка документирования\n",
        "print(func.__defaults__)      # кортеж с аргументами по умолчанию"
      ],
      "metadata": {
        "id": "GOHfUDCNBbSQ",
        "outputId": "27a65b40-e7be-4b5a-b3f3-38368b20b285",
        "colab": {
          "base_uri": "https://localhost:8080/"
        }
      },
      "execution_count": null,
      "outputs": [
        {
          "output_type": "stream",
          "name": "stdout",
          "text": [
            "func\n",
            "None\n",
            "('Python', 1992)\n"
          ]
        }
      ]
    },
    {
      "cell_type": "markdown",
      "source": [
        "## Функция numbers_sum()\n",
        "Реализуйте функцию numbers_sum(), которая принимает один аргумент:\n",
        "\n",
        "elems — список произвольных объектов\n",
        "Функция должна возвращать сумму чисел (типы int и float), находящихся в списке elems, игнорируя все нечисловые объекты. Если в списке elems нет чисел, функция должна вернуть число\n",
        "0\n",
        "0.\n",
        "\n",
        "Также функция должна иметь следующую строку документации:\n",
        "\n",
        "Принимает список и возвращает сумму его чисел (int, float),\n",
        "игнорируя нечисловые объекты. 0 - если в списке чисел нет.\n",
        "Примечание 1. В тестирующую систему сдайте программу, содержащую только необходимую функцию numbers_sum(), но не код, вызывающий ее.\n",
        "\n",
        "https://stepik.org/lesson/647292/step/11?unit=643926"
      ],
      "metadata": {
        "id": "pB1zQ82PGMYR"
      }
    },
    {
      "cell_type": "code",
      "source": [
        "def numbers_sum(elems: list):\n",
        "    \"\"\"Принимает список и возвращает сумму его чисел (int, float),\n",
        "игнорируя нечисловые объекты. 0 - если в списке чисел нет.\"\"\"\n",
        "    return sum(filter(lambda x: isinstance(x, (int, float)), elems))\n",
        "\n",
        "print(numbers_sum(['five']))"
      ],
      "metadata": {
        "id": "BrSnoMilGL_n",
        "outputId": "eb345de2-2b64-48b5-8262-3b91dc0210b4",
        "colab": {
          "base_uri": "https://localhost:8080/"
        }
      },
      "execution_count": null,
      "outputs": [
        {
          "output_type": "stream",
          "name": "stdout",
          "text": [
            "0\n"
          ]
        }
      ]
    },
    {
      "cell_type": "markdown",
      "source": [
        "## Новый print()\n",
        "Напишите программу, которая переопределяет встроенную функцию print() так, чтобы она печатала все переданные строковые аргументы в верхнем регистре.\n",
        "\n",
        "Примечание 1. Значения sep и end также должны переводиться в верхний регистр.\n",
        "\n",
        "Примечание 2. В тестирующую систему сдайте программу, содержащую только переопределенную функцию print(), но не код, вызывающий ее.\n",
        "\n",
        "https://stepik.org/lesson/647292/step/12?unit=643926"
      ],
      "metadata": {
        "id": "YsYPy73sH8OW"
      }
    },
    {
      "cell_type": "code",
      "source": [
        "#\n",
        "# old_print = print\n",
        "#\n",
        "#\n",
        "# def print(*args, **kwargs):\n",
        "#     ups = [arg.upper() if isinstance(arg, str) else arg for arg in args]\n",
        "#\n",
        "#     if not kwargs:\n",
        "#         return old_print(*ups)\n",
        "#\n",
        "#     try:\n",
        "#         kwargs['end'] = kwargs['end'].upper()\n",
        "#     except KeyError:\n",
        "#         kwargs['end'] = kwargs.get('end', '\\n')\n",
        "#\n",
        "#     try:\n",
        "#         kwargs['sep'] = kwargs['sep'].upper()\n",
        "#     except KeyError:\n",
        "#         kwargs['sep'] = kwargs.get('sep', '\\n')\n",
        "#\n",
        "#     return old_print(*ups, sep=kwargs['sep'], end=kwargs['end'])\n",
        "\n",
        "# origin_print = print\n",
        "#\n",
        "# def print(*args, sep=' ', end='\\n'):\n",
        "#     args = (i.upper() if isinstance(i, str) else i for i in args)\n",
        "#     origin_print(*args, sep=sep.upper(), end=end.upper())\n",
        "\n",
        "import sys\n",
        "\n",
        "def print(*args, sep=' ', end='\\n'):\n",
        "    temp = list(map(str, map(lambda x: x.upper() if type(x)==str else x, args)))\n",
        "    sys.stdout.write(f'{sep.upper().join(temp)}{end.upper()}')\n",
        "\n",
        "\n",
        "words = ('black', 'white', 'grey', 'black-1', 'white-1', 'python')\n",
        "print(*words, sep=' to ', end=' LOVE')"
      ],
      "metadata": {
        "id": "nuKI3B90H9hT"
      },
      "execution_count": null,
      "outputs": []
    },
    {
      "cell_type": "markdown",
      "source": [
        "## Функция polynom()\n",
        "Реализуйте функцию polynom(), которая принимает один аргумент:\n",
        "\n",
        "x — вещественное число\n",
        "Функция должна возвращать значение выражения\n",
        "�\n",
        "2\n",
        "+\n",
        "1\n",
        "x\n",
        "2\n",
        " +1.\n",
        "\n",
        "Также функция должна иметь атрибут values, представляющий собой множество (тип set) всех значений функции, которые уже были вычислены.\n",
        "\n",
        "Примечание 1. В тестирующую систему сдайте программу, содержащую только необходимую функцию polynom(), но не код, вызывающий ее.\n",
        "\n",
        "https://stepik.org/lesson/647292/step/17?unit=643926"
      ],
      "metadata": {
        "id": "DqagVmJekzBT"
      }
    },
    {
      "cell_type": "code",
      "source": [
        "def polynom(x):\n",
        "    res = x**2 + 1\n",
        "    polynom.__dict__.setdefault('values', set()).add(res)\n",
        "    return res\n",
        "\n",
        "print(polynom(5))\n",
        "print(polynom.values)"
      ],
      "metadata": {
        "id": "IAK9lK9HkzVr",
        "outputId": "ca075a75-5df8-4381-8f70-e9d71bb1ef52",
        "colab": {
          "base_uri": "https://localhost:8080/"
        }
      },
      "execution_count": null,
      "outputs": [
        {
          "output_type": "stream",
          "name": "stdout",
          "text": [
            "26\n",
            "{26}\n"
          ]
        }
      ]
    },
    {
      "cell_type": "markdown",
      "source": [
        "## Функция remove_marks()\n",
        "Реализуйте функцию remove_marks(), которая принимает два аргумента в следующем порядке:\n",
        "\n",
        "text — произвольная строка\n",
        "marks — набор символов\n",
        "Функция должна возвращать строку text, предварительно удалив из нее все символы, перечисленные в строке marks.\n",
        "\n",
        "Также функция remove_marks() должна иметь атрибут count, представляющий собой количество вызовов данной функции.\n",
        "\n",
        "Примечание 1. В тестирующую систему сдайте программу, содержащую только необходимую функцию remove_marks(), но не код, вызывающий ее.\n",
        "\n",
        "https://stepik.org/lesson/647292/step/18?unit=643926"
      ],
      "metadata": {
        "id": "hG1VIq-Hn35T"
      }
    },
    {
      "cell_type": "code",
      "source": [
        "def remove_marks(text, marks):\n",
        "    remove_marks.__dict__['count'] = remove_marks.__dict__.get('count', 0) + 1\n",
        "    return text.translate({ord(mark): None for mark in marks})\n",
        "\n",
        "\n",
        "marks = '.,!?'\n",
        "text = 'Are you listening? Meet my family! There are my parents, my brother and me.'\n",
        "\n",
        "for mark in marks:\n",
        "    print(remove_marks(text, mark))\n",
        "\n",
        "print(remove_marks.count)\n"
      ],
      "metadata": {
        "id": "pjYK1iI5n_iu",
        "outputId": "5c85200a-6b7b-4e87-9a2d-761c2205c02c",
        "colab": {
          "base_uri": "https://localhost:8080/"
        }
      },
      "execution_count": null,
      "outputs": [
        {
          "output_type": "stream",
          "name": "stdout",
          "text": [
            "Are you listening? Meet my family! There are my parents, my brother and me\n",
            "Are you listening? Meet my family! There are my parents my brother and me.\n",
            "Are you listening? Meet my family There are my parents, my brother and me.\n",
            "Are you listening Meet my family! There are my parents, my brother and me.\n",
            "4\n"
          ]
        }
      ]
    },
    {
      "cell_type": "code",
      "source": [
        "def outer_function(arg):\n",
        "    num = 5\n",
        "    name = 'Timur'\n",
        "    numbers = [1, 2, 3]\n",
        "    def inner_function():      # определяем вложенную функцию\n",
        "        print(arg)\n",
        "        print(num)\n",
        "        print(numbers)\n",
        "    return inner_function      # возвращаем вложенную функцию\n",
        "\n",
        "inner = outer_function('python')\n",
        "\n",
        "for var in inner.__closure__:\n",
        "    print(var.cell_contents)"
      ],
      "metadata": {
        "id": "GNLNPzqLJloX",
        "outputId": "abde247b-c3ad-45ef-9ea8-4fb678b7d5cd",
        "colab": {
          "base_uri": "https://localhost:8080/"
        }
      },
      "execution_count": 42,
      "outputs": [
        {
          "output_type": "stream",
          "name": "stdout",
          "text": [
            "python\n",
            "5\n",
            "[1, 2, 3]\n"
          ]
        }
      ]
    },
    {
      "cell_type": "code",
      "source": [
        "def outer(x):\n",
        "    y = 20\n",
        "    def inner(z):\n",
        "        t = 30\n",
        "        return x + y + z + t\n",
        "    return inner\n",
        "\n",
        "func = outer(10)\n",
        "print(func(30))\n",
        "for var in func.__closure__:\n",
        "    print(var.cell_contents)"
      ],
      "metadata": {
        "id": "FaS-mvR4kDNy",
        "outputId": "5eba725c-7271-4b29-ba99-beb63f0a88d1",
        "colab": {
          "base_uri": "https://localhost:8080/"
        }
      },
      "execution_count": 46,
      "outputs": [
        {
          "output_type": "stream",
          "name": "stdout",
          "text": [
            "90\n",
            "10\n",
            "20\n"
          ]
        }
      ]
    },
    {
      "cell_type": "code",
      "source": [
        "def outer(x):\n",
        "    def inner():\n",
        "        return x\n",
        "    x = None\n",
        "    return inner\n",
        "\n",
        "print(outer(10)())"
      ],
      "metadata": {
        "id": "Qn_rPbCOkwzg",
        "outputId": "27401a1e-d822-4cc7-954f-7c680474384c",
        "colab": {
          "base_uri": "https://localhost:8080/"
        }
      },
      "execution_count": 47,
      "outputs": [
        {
          "output_type": "stream",
          "name": "stdout",
          "text": [
            "None\n"
          ]
        }
      ]
    },
    {
      "cell_type": "markdown",
      "source": [
        "## Функция power()\n",
        "Реализуйте функцию power(), которая принимает один аргумент:\n",
        "\n",
        "degree — целое число\n",
        "Функция power() должна возвращать функцию, которая принимает в качестве аргумента целое число x и возвращает значение x в степени degree.\n",
        "\n",
        "Примечание 1. Рассмотрим пример из первого теста. Вызов power(2) возвращает функцию, которая принимает в качестве аргумента число и возводит его во вторую степень. Функция присваивается переменной square. Далее полученная функция вызывается с аргументом\n",
        "5\n",
        "5 и возвращает значение\n",
        "5\n",
        "2\n",
        "=\n",
        "25\n",
        "5\n",
        "2\n",
        " =25.\n",
        "\n",
        "Примечание 2. В тестирующую систему сдайте программу, содержащую только необходимую функцию power(), но не код, вызывающий ее.\n",
        "\n",
        "https://stepik.org/lesson/651459/step/16?unit=648165"
      ],
      "metadata": {
        "id": "uswhWCklnnl2"
      }
    },
    {
      "cell_type": "code",
      "source": [
        "def power(degree):\n",
        "    return lambda x: x**degree\n",
        "\n",
        "\n",
        "square = power(2)\n",
        "print(square(5))"
      ],
      "metadata": {
        "id": "b9RbulIxnnea",
        "outputId": "875bbe30-8baa-46e5-f925-b25217c10f44",
        "colab": {
          "base_uri": "https://localhost:8080/"
        }
      },
      "execution_count": 48,
      "outputs": [
        {
          "output_type": "stream",
          "name": "stdout",
          "text": [
            "25\n"
          ]
        }
      ]
    },
    {
      "cell_type": "markdown",
      "source": [
        "## Функция generator_square_polynom()\n",
        "Рассмотрим семейство функций — квадратных трехчленов. Все эти функции имеют один и тот же вид:\n",
        "�\n",
        "(\n",
        "�\n",
        ")\n",
        "=\n",
        "�\n",
        "�\n",
        "2\n",
        "+\n",
        "�\n",
        "�\n",
        "+\n",
        "�\n",
        "f(x)=ax\n",
        "2\n",
        " +bx+c\n",
        "Реализуйте функцию generator_square_polynom(), которая принимает три аргумента в следующем порядке:\n",
        "\n",
        "a — вещественное число, коэффициент\n",
        "�\n",
        "a\n",
        "b — вещественное число, коэффициент\n",
        "�\n",
        "b\n",
        "c — вещественное число, коэффициент\n",
        "�\n",
        "c\n",
        "Функция generator_square_polynom() должна возвращать функцию, которая принимает в качестве аргумента вещественное число x и возвращает значение выражения\n",
        "�\n",
        "�\n",
        "2\n",
        "+\n",
        "�\n",
        "�\n",
        "+\n",
        "�\n",
        "ax\n",
        "2\n",
        " +bx+c.\n",
        "\n",
        "Примечание 1. Рассмотрим пример из первого теста. Вызов generator_square_polynom(1, 2, 1) возвращает функцию, соответствующую квадратному трехчлену\n",
        "�\n",
        "2\n",
        "+\n",
        "2\n",
        "�\n",
        "+\n",
        "1\n",
        "x\n",
        "2\n",
        " +2x+1.  Функция присваивается переменной f. Далее полученная функция вызывается с аргументом\n",
        "5\n",
        "5 и возвращает значение\n",
        "5\n",
        "2\n",
        "+\n",
        "5\n",
        "⋅\n",
        "2\n",
        "+\n",
        "1\n",
        "=\n",
        "36\n",
        "5\n",
        "2\n",
        " +5⋅2+1=36.\n",
        "\n",
        "Примечание 2. В тестирующую систему сдайте программу, содержащую только необходимую функцию generator_square_polynom(), но не код, вызывающий ее.\n",
        "\n",
        "https://stepik.org/lesson/651459/step/17?unit=648165"
      ],
      "metadata": {
        "id": "KT6ORg6_oWBc"
      }
    },
    {
      "cell_type": "code",
      "source": [
        "def generator_square_polynom(a, b, c):\n",
        "    return lambda x: a * (x ** 2) + b * x + c\n",
        "\n",
        "\n",
        "\n",
        "\n",
        "f = generator_square_polynom(1, 2, 1)\n",
        "print(f(5))"
      ],
      "metadata": {
        "id": "wamLyX7ToWHa",
        "outputId": "795208ed-573c-47ee-f6fd-0b3706b0d7ca",
        "colab": {
          "base_uri": "https://localhost:8080/"
        }
      },
      "execution_count": 49,
      "outputs": [
        {
          "output_type": "stream",
          "name": "stdout",
          "text": [
            "36\n"
          ]
        }
      ]
    },
    {
      "cell_type": "markdown",
      "source": [
        "## Функция sourcetemplate()\n",
        "Строка запроса (query string) — часть URL адреса, содержащая ключи и их значения. Она начинается после вопросительного знака и идет до конца адреса. Например:\n",
        "\n",
        "https://beegeek.ru?name=timur     # строка запроса: name=timur\n",
        "Если параметров в строке запроса несколько, то они отделяются символом амперсанда &:\n",
        "\n",
        "https://beegeek.ru?name=timur&color=green     # строка запроса: name=timur&color=green\n",
        "Реализуйте функцию sourcetemplate(), которая принимает один аргумент:\n",
        "\n",
        "url — URL адрес\n",
        "Функция sourcetemplate() должна возвращать функцию, которая принимает произвольное количество именованных аргументов и возвращает url адрес, объединенный со строкой запроса, сформированной из переданных аргументов. При вызове без аргументов она должна возвращать исходный url адрес без изменений.\n",
        "\n",
        "Примечание 1. Параметры в строке запроса должны располагаться в лексикографическом порядке ключей.\n",
        "\n",
        "Примечание 2. В тестирующую систему сдайте программу, содержащую только необходимую функцию sourcetemplate(), но не код, вызывающий ее.\n",
        "\n",
        "https://stepik.org/lesson/651459/step/18?unit=648165"
      ],
      "metadata": {
        "id": "zztXL86Ho-JW"
      }
    },
    {
      "cell_type": "code",
      "source": [
        "def sourcetemplate(url: str):\n",
        "    def query_string(**kwargs):\n",
        "        nonlocal url\n",
        "        for i, (k, v) in enumerate(sorted(kwargs.items())):\n",
        "            if i < 1:\n",
        "                url += '?'\n",
        "            else:\n",
        "                url += '&'\n",
        "            url += f\"{k}={v}\"\n",
        "        return url\n",
        "\n",
        "    return query_string\n",
        "\n",
        "def sourcetemplate(url):\n",
        "    def inner(**kwargs):\n",
        "        l=[f'{key}={value}' for key, value in sorted(kwargs.items())]\n",
        "        return url if not kwargs else f'{url}?{\"&\".join(l)}'\n",
        "    return inner\n",
        "\n",
        "\n",
        "\n",
        "url = 'https://beegeek.ru'\n",
        "load = sourcetemplate(url)\n",
        "print(load(name='timur'))\n",
        "# res = load(name='timur')\n",
        "# assert res == \"https://beegeek.ru?name=timur\"\n",
        "\n",
        "url = 'https://stepik.org/lesson/651459/step/14'\n",
        "load = sourcetemplate(url)\n",
        "print(load(thread='solutions', unit=648165))\n",
        "# res = load(thread='solutions', unit=648165)\n",
        "# print(res)\n",
        "# assert res == \"https://stepik.org/lesson/651459/step/14?thread=solutions&unit=648165\"\n",
        "\n",
        "url = 'https://beegeek.ru'\n",
        "load = sourcetemplate(url)\n",
        "print(load())\n",
        "# res = load()\n",
        "# assert res == \"https://beegeek.ru\""
      ],
      "metadata": {
        "id": "T3w9a4bKo-P3",
        "outputId": "964ceb5c-382f-496e-d77e-0e5c4c32ec2d",
        "colab": {
          "base_uri": "https://localhost:8080/"
        }
      },
      "execution_count": 94,
      "outputs": [
        {
          "output_type": "stream",
          "name": "stdout",
          "text": [
            "https://beegeek.ru?name=timur\n",
            "https://stepik.org/lesson/651459/step/14?thread=solutions&unit=648165\n",
            "https://beegeek.ru\n"
          ]
        }
      ]
    }
  ]
}