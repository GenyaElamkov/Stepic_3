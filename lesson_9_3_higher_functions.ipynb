{
  "nbformat": 4,
  "nbformat_minor": 0,
  "metadata": {
    "colab": {
      "provenance": [],
      "toc_visible": true,
      "authorship_tag": "ABX9TyMAYOSCVmbB2B+AB0lm7L9o",
      "include_colab_link": true
    },
    "kernelspec": {
      "name": "python3",
      "display_name": "Python 3"
    },
    "language_info": {
      "name": "python"
    }
  },
  "cells": [
    {
      "cell_type": "markdown",
      "metadata": {
        "id": "view-in-github",
        "colab_type": "text"
      },
      "source": [
        "<a href=\"https://colab.research.google.com/github/GenyaElamkov/Stepic_3/blob/master/lesson_9_3_higher_functions.ipynb\" target=\"_parent\"><img src=\"https://colab.research.google.com/assets/colab-badge.svg\" alt=\"Open In Colab\"/></a>"
      ]
    },
    {
      "cell_type": "markdown",
      "source": [
        "Вам доступен список data, содержащий произвольные объекты. Дополните приведенный ниже код, чтобы он вывел все числа (тип int и float), находящиеся в данном списке, отбрасывая дробную часть у вещественных чисел. Числа должны быть расположены в своем исходном порядке, каждое на отдельной строке.\n",
        "\n",
        "https://stepik.org/lesson/640036/step/13?unit=636556"
      ],
      "metadata": {
        "id": "Da4O8V4_q7dv"
      }
    },
    {
      "cell_type": "code",
      "execution_count": null,
      "metadata": {
        "id": "5gaocg5eqX9r"
      },
      "outputs": [],
      "source": [
        "data = ['Timur', -16.648911695768902, 'six', -202, 883.0093275936454, -765,\n",
        "        (3, 4), -105.10718000213546, 976, -308.96857946288094, 458,\n",
        "        ['one', 'two'], 479.92207220345927, -87, -71, 'twelve', 112, -621,\n",
        "        -715.0179551194733, 'seven', 229, 729, -358, [1, 2, 3], -974, 882,\n",
        "        -894.4709033242768, '', 323.7720806756133, 'beegeek', -224, 431,\n",
        "        170.6353248658936, -343.0016746052049, 'number', 104.17133679352878,\n",
        "        [], -353.5964777099863, 'zero', -113, 288, None, -708.3036176571618]\n",
        "\n",
        "\n",
        "res = map(int, filter(lambda x: isinstance(x, (int, float)), data))\n",
        "print(*res, sep='\\n')\n"
      ]
    },
    {
      "cell_type": "markdown",
      "source": [
        "Вам доступен список numbers, содержащий целые числа. Дополните приведенный ниже код, чтобы он вывел сумму квадратов всех двузначных чисел из данного списка, которые делятся на\n",
        "9\n",
        "9 без остатка.\n",
        "\n",
        "Примечание 1. Обратите внимание, на\n",
        "9\n",
        "9 должно делиться само число, а не его квадрат.\n",
        "\n",
        "Примечание 2. В задаче удобно воспользоваться функциями map() и filter().\n",
        "\n",
        "https://stepik.org/lesson/640036/step/14?unit=636556"
      ],
      "metadata": {
        "id": "kkUHiEBFvd1I"
      }
    },
    {
      "cell_type": "code",
      "source": [
        "numbers = [4754, -4895, -364, -4764, 4683, 1639, -43, 228, -2701, -1503, 1223,\n",
        "           4340, -1296, 3939, -345, 623, -3275, 1003, 4367, -1739, 550, -1217,\n",
        "           -1334, 1526, -4359, -3028, -4663, 3356, 3887, 4297, -1982, 1013,\n",
        "           3299, 3556, -3324, 417, 3531, -3134, 1782, 4439, 1652, -985, 4327,\n",
        "           1517, 1225, -915, 2808, -3851, -1005, 3396, 2842, -3879, -3824,\n",
        "           -3805, 1609, -4741, -3072, 3573, 4680, 588, -1430, 2378, -1095,\n",
        "           -343, 4357, -2164, -3304, 4354, 4926, -352, -1187, -3313, 2741,\n",
        "           4786, -2689, 741, 4558, 1442, 62, -1099, -2201, -16, -3115, 1862,\n",
        "           2384, 4072, -90, 204, 1158, -3134, -2512, 756, 4148, 4370, 1756,\n",
        "           3609, -1148, -3909, 4123, -2906, 69, 96, 1111]\n",
        "\n",
        "print(*map(lambda x: x**2, filter(lambda x: len(str(abs(x))) == 2 and x % 9 == 0, numbers)))\n",
        "# print(*map(lambda x: x**2, filter(lambda x: -100 < x < 100 and x % 9 == 0, numbers)))\n"
      ],
      "metadata": {
        "colab": {
          "base_uri": "https://localhost:8080/"
        },
        "id": "XIfwMyvpveFd",
        "outputId": "41c965ee-4656-47aa-eba8-1d8b930c54d9"
      },
      "execution_count": null,
      "outputs": [
        {
          "output_type": "stream",
          "name": "stdout",
          "text": [
            "8100\n"
          ]
        }
      ]
    },
    {
      "cell_type": "markdown",
      "source": [
        "Вам доступен список names, содержащий имена на русском языке. Дополните приведенный ниже код, чтобы он вывел все имена, которые начинаются на буквы А и М (независимо от регистра) и имеют длину больше\n",
        "4\n",
        "4. Имена должны быть расположены в лексикографическом порядке, через пробел, каждое с заглавной буквы.\n",
        "\n",
        "Примечание 1. Начальная часть ответа выглядит так:\n",
        "\n",
        "Аделина Айлин Александр ...\n",
        "Примечание 2. В задаче удобно воспользоваться функциями map() и filter().\n",
        "\n",
        "https://stepik.org/lesson/640036/step/15?unit=636556"
      ],
      "metadata": {
        "id": "kB-yhtul22oj"
      }
    },
    {
      "cell_type": "code",
      "source": [
        "names = ['ульяна', 'арина', 'Дмитрий', 'Сергей', 'Яна', 'мила', 'Ольга',\n",
        "         'софья', 'семён', 'Никита', 'маргарита', 'Василиса', 'Кирилл',\n",
        "         'александр', 'александра', 'Иван', 'андрей', 'Родион', 'максим',\n",
        "         'алиса', 'Артём', 'софия', 'владимир', 'дамир', 'Валерий', 'степан',\n",
        "         'Алексей', 'Марк', 'олег', 'ирина', 'Милана', 'мия', 'денис', 'Фёдор',\n",
        "         'Елизавета', 'айлин', 'Варвара', 'валерия', 'Алёна', 'Николь', 'юлия',\n",
        "         'Ксения', 'пётр', 'георгий', 'Мария', 'глеб', 'илья', 'Захар',\n",
        "         'Дарья', 'Евгения', 'матвей', 'Серафим', 'екатерина', 'Тимофей',\n",
        "         'виктор', 'Егор', 'Ника', 'анна', 'даниил', 'тихон', 'вера', 'кира',\n",
        "         'Эмилия', 'Виктория', 'Игорь', 'полина', 'алина', 'Давид',\n",
        "         'анастасия', 'Вероника', 'ярослав', 'Руслан', 'татьяна', 'Демид',\n",
        "         'амелия', 'Элина', 'Арсен', 'евгений', 'мадина', 'дарина', 'Савелий',\n",
        "         'Платон', 'Аделина', 'диана', 'Айша', 'павел', 'Стефания', 'Тимур',\n",
        "         'Ева', 'Елисей', 'Артемий', 'григорий', 'Мирон', 'Мирослава', 'Мира',\n",
        "         'Марат', 'Лилия', 'роман', 'владислав', 'Леонид']\n",
        "\n",
        "\n",
        "res = filter(lambda x: x.startswith((\"а\",\"А\", \"м\",\"М\")) and len(x) > 4, names)\n",
        "print(*sorted(map(str.title, res)))\n"
      ],
      "metadata": {
        "colab": {
          "base_uri": "https://localhost:8080/"
        },
        "id": "s9fFnK4hwsbC",
        "outputId": "f551884b-d960-4b0e-eb15-39f18f4cd118"
      },
      "execution_count": null,
      "outputs": [
        {
          "output_type": "stream",
          "name": "stdout",
          "text": [
            "Аделина Айлин Александр Александра Алексей Алина Алиса Алёна Амелия Анастасия Андрей Арина Арсен Артемий Артём Мадина Максим Марат Маргарита Мария Матвей Милана Мирон Мирослава\n"
          ]
        }
      ]
    },
    {
      "cell_type": "markdown",
      "source": [
        "## Функция fib()\n",
        "Используя синтаксис анонимных функций, реализуйте рекурсивную функцию fib(), которая принимает один аргумент:\n",
        "\n",
        "n — натуральное число\n",
        "Функция должна возвращать n-ый член последовательности Фибоначчи.\n",
        "\n",
        "Примечание 1. Последовательность Фибоначчи – последовательность натуральных чисел, где каждое последующее число является суммой двух предыдущих:\n",
        "1\n",
        ",\n",
        "1\n",
        ",\n",
        "2\n",
        ",\n",
        "3\n",
        ",\n",
        "5\n",
        ",\n",
        "8\n",
        ",\n",
        "13\n",
        ",\n",
        "21\n",
        ",\n",
        "34\n",
        ",\n",
        "55\n",
        ",\n",
        "89\n",
        ",\n",
        "144\n",
        ",\n",
        "233\n",
        ",\n",
        ".\n",
        ".\n",
        ".\n",
        "1,1,2,3,5,8,13,21,34,55,89,144,233,...\n",
        "Примечание 2. В тестирующую систему сдайте программу, содержащую только необходимую функцию fib(), но не код, вызывающий ее.\n",
        "\n",
        "https://stepik.org/lesson/640036/step/16?unit=636556"
      ],
      "metadata": {
        "id": "vEG9QQLA6WHc"
      }
    },
    {
      "cell_type": "code",
      "source": [
        "d = {1: 1, 2: 1 }\n",
        "fib = lambda n: d[n] if n in d else d.setdefault(n, fib(n-1) + fib(n-2))\n",
        "# fib = lambda n: 1 if n <= 2 else fib(n-2) + fib(n-1)\n",
        "print(fib(5))"
      ],
      "metadata": {
        "colab": {
          "base_uri": "https://localhost:8080/"
        },
        "id": "aNPn7yLm6WyZ",
        "outputId": "ac6dc135-9f62-434b-a20c-bb1927edb5eb"
      },
      "execution_count": null,
      "outputs": [
        {
          "output_type": "stream",
          "name": "stdout",
          "text": [
            "5\n"
          ]
        }
      ]
    },
    {
      "cell_type": "markdown",
      "source": [
        "## Функция print_operation_table()\n",
        "Реализуйте функцию print_operation_table(), которая принимает три аргумента в следующем порядке:\n",
        "\n",
        "operation — функция, характеризующая некоторую бинарную операцию\n",
        "rows — натуральное число\n",
        "cols — натуральное число\n",
        "Функция должна составлять и выводить таблицу из rows строк и cols столбцов, в которой элемент со строкой\n",
        "�\n",
        "n и столбцом\n",
        "�\n",
        "m имеет значение operation(n, m).\n",
        "\n",
        "Примечание 1. Нумерация строк и столбцов в таблице начинается с единицы.\n",
        "\n",
        "Примечание 2. Элементы в строках таблицы должны быть разделены одним пробелом, причем выравнивать таблицу необязательно.\n",
        "\n",
        "Примечание 3. Бинарная операция — математическая операция, принимающая два аргумента и возвращающая один результат.\n",
        "\n",
        "Примечание 4. В тестирующую систему сдайте программу, содержащую только необходимую функцию print_operation_table(), но не код, вызывающий ее.\n",
        "\n",
        "https://stepik.org/lesson/640036/step/17?unit=636556"
      ],
      "metadata": {
        "id": "zkE8HvY__A5N"
      }
    },
    {
      "cell_type": "code",
      "source": [
        "def print_operation_table(operation, rows: int, cols: int) -> None:\n",
        "    \"\"\"Состовлят и выводить таблицу из строк и стобцов.\"\"\"\n",
        "    # rows - строки\n",
        "    # cols - столбцы\n",
        "    # operation(n, m)\n",
        "\n",
        "    _width = len(str(operation(rows, cols)))\n",
        "    for i in range(1, rows+1):\n",
        "        for j in range(1, cols+1):\n",
        "            # print(f\"{(lambda: operation(i, j))()}\".ljust(_width), end=' ')\n",
        "            print(f\"{operation(i, j)}\".ljust(_width), end=' ')\n",
        "        print()\n",
        "\n",
        "\n",
        "print_operation_table(pow, 5, 4)"
      ],
      "metadata": {
        "colab": {
          "base_uri": "https://localhost:8080/",
          "height": 126
        },
        "id": "qTEyHB_h_BIB",
        "outputId": "3eb241ed-a34e-49a8-828b-196952018fbe"
      },
      "execution_count": null,
      "outputs": [
        {
          "output_type": "stream",
          "name": "stdout",
          "text": [
            "1   1   1   1   \n",
            "2   4   8   16  \n",
            "3   9   27  81  \n",
            "4   16  64  256 \n",
            "5   25  125 625 \n"
          ]
        },
        {
          "output_type": "execute_result",
          "data": {
            "text/plain": [
              "'Состовлят и выводить таблицу из строк и стобцов.'"
            ],
            "application/vnd.google.colaboratory.intrinsic+json": {
              "type": "string"
            }
          },
          "metadata": {},
          "execution_count": 8
        }
      ]
    },
    {
      "cell_type": "markdown",
      "source": [
        "## Функция verification()\n",
        "Реализуйте функцию verification(), которая проверяет правильность введенного пароля. Она должна принимать четыре аргумента в следующем порядке:\n",
        "\n",
        "login — логин пользователя\n",
        "password — пароль пользователя\n",
        "success — некоторая функция\n",
        "failure — некоторая функция\n",
        "Пароль считается правильным, если в нем присутствует, хотя бы одна заглавная латинская буква, хотя бы одна строчная латинская буква и хотя бы одна цифра. Функция verification() должна вызывать функцию success() с аргументом login, если переданный пароль является правильным, иначе — функцию failure() с аргументами login и строкой-сообщением об ошибке:\n",
        "\n",
        "в пароле нет ни одной буквы, если в пароле отсутствуют латинские буквы\n",
        "в пароле нет ни одной заглавной буквы, если в пароле отсутствуют заглавные латинские буквы\n",
        "в пароле нет ни одной строчной буквы, если в пароле отсутствуют строчные латинские буквы\n",
        "в пароле нет ни одной цифры, если в пароле отсутствуют цифры\n",
        "Примечание 1. Если пароль не удовлетворяет нескольким условиям, то приоритеты выбора строки-сообщения об ошибке являются следующими:\n",
        "\n",
        "в пароле нет ни одной буквы\n",
        "в пароле нет ни одной заглавной буквы\n",
        "в пароле нет ни одной строчной буквы\n",
        "в пароле нет ни одной цифры\n",
        "\n",
        "https://stepik.org/lesson/640036/step/18?unit=636556"
      ],
      "metadata": {
        "id": "S9EXavi4JlnP"
      }
    },
    {
      "cell_type": "code",
      "source": [
        "import string\n",
        "\n",
        "def verification(login, password, success, failure):\n",
        "    psw = set(password)\n",
        "    try:\n",
        "        if not any(map(lambda x: x in string.ascii_letters, psw)):\n",
        "            err = 'в пароле нет ни одной буквы'\n",
        "            raise\n",
        "        if not any(map(lambda x: x in string.ascii_uppercase, psw)):\n",
        "            err = 'в пароле нет ни одной заглавной буквы'\n",
        "            raise\n",
        "        if not any(map(lambda x: x in string.ascii_lowercase, psw)):\n",
        "            err = 'в пароле нет ни одной строчной буквы'\n",
        "            raise\n",
        "        if not any(map(lambda x: x in string.digits, psw)):\n",
        "            err = 'в пароле нет ни одной цифры'\n",
        "            raise\n",
        "    except Exception:\n",
        "        failure(login, err)\n",
        "    else:\n",
        "        success(login)\n",
        "\n",
        "\n",
        "\n",
        "def success(login):\n",
        "    print(f'Здравствуйте, {login}!')\n",
        "\n",
        "\n",
        "def failure(login, text):\n",
        "    print(f'{login}, попробуйте снова. Текст ошибки: {text}')\n",
        "\n",
        "\n",
        "verification('Arthur_Davletov', 'впввав', success, failure)"
      ],
      "metadata": {
        "colab": {
          "base_uri": "https://localhost:8080/"
        },
        "id": "N8T8qmNlJn_W",
        "outputId": "283db061-534b-43cc-e834-f0ea7e6ba52d"
      },
      "execution_count": null,
      "outputs": [
        {
          "output_type": "stream",
          "name": "stdout",
          "text": [
            "Arthur_Davletov, попробуйте снова. Текст ошибки: в пароле нет ни одной буквы\n"
          ]
        }
      ]
    },
    {
      "cell_type": "markdown",
      "source": [
        "# Новый раздел"
      ],
      "metadata": {
        "id": "H7e869abBpwD"
      }
    },
    {
      "cell_type": "code",
      "source": [
        "def func(name, language='Python', year=1992):\n",
        "    pass\n",
        "\n",
        "print(func.__name__)          # имя функции\n",
        "print(func.__doc__)           # строка документирования\n",
        "print(func.__defaults__)      # кортеж с аргументами по умолчанию"
      ],
      "metadata": {
        "id": "GOHfUDCNBbSQ",
        "outputId": "27a65b40-e7be-4b5a-b3f3-38368b20b285",
        "colab": {
          "base_uri": "https://localhost:8080/"
        }
      },
      "execution_count": null,
      "outputs": [
        {
          "output_type": "stream",
          "name": "stdout",
          "text": [
            "func\n",
            "None\n",
            "('Python', 1992)\n"
          ]
        }
      ]
    },
    {
      "cell_type": "markdown",
      "source": [
        "## Функция numbers_sum()\n",
        "Реализуйте функцию numbers_sum(), которая принимает один аргумент:\n",
        "\n",
        "elems — список произвольных объектов\n",
        "Функция должна возвращать сумму чисел (типы int и float), находящихся в списке elems, игнорируя все нечисловые объекты. Если в списке elems нет чисел, функция должна вернуть число\n",
        "0\n",
        "0.\n",
        "\n",
        "Также функция должна иметь следующую строку документации:\n",
        "\n",
        "Принимает список и возвращает сумму его чисел (int, float),\n",
        "игнорируя нечисловые объекты. 0 - если в списке чисел нет.\n",
        "Примечание 1. В тестирующую систему сдайте программу, содержащую только необходимую функцию numbers_sum(), но не код, вызывающий ее.\n",
        "\n",
        "https://stepik.org/lesson/647292/step/11?unit=643926"
      ],
      "metadata": {
        "id": "pB1zQ82PGMYR"
      }
    },
    {
      "cell_type": "code",
      "source": [
        "def numbers_sum(elems: list):\n",
        "    \"\"\"Принимает список и возвращает сумму его чисел (int, float),\n",
        "игнорируя нечисловые объекты. 0 - если в списке чисел нет.\"\"\"\n",
        "    return sum(filter(lambda x: isinstance(x, (int, float)), elems))\n",
        "\n",
        "print(numbers_sum(['five']))"
      ],
      "metadata": {
        "id": "BrSnoMilGL_n",
        "outputId": "eb345de2-2b64-48b5-8262-3b91dc0210b4",
        "colab": {
          "base_uri": "https://localhost:8080/"
        }
      },
      "execution_count": null,
      "outputs": [
        {
          "output_type": "stream",
          "name": "stdout",
          "text": [
            "0\n"
          ]
        }
      ]
    },
    {
      "cell_type": "markdown",
      "source": [
        "## Новый print()\n",
        "Напишите программу, которая переопределяет встроенную функцию print() так, чтобы она печатала все переданные строковые аргументы в верхнем регистре.\n",
        "\n",
        "Примечание 1. Значения sep и end также должны переводиться в верхний регистр.\n",
        "\n",
        "Примечание 2. В тестирующую систему сдайте программу, содержащую только переопределенную функцию print(), но не код, вызывающий ее.\n",
        "\n",
        "https://stepik.org/lesson/647292/step/12?unit=643926"
      ],
      "metadata": {
        "id": "YsYPy73sH8OW"
      }
    },
    {
      "cell_type": "code",
      "source": [
        "#\n",
        "# old_print = print\n",
        "#\n",
        "#\n",
        "# def print(*args, **kwargs):\n",
        "#     ups = [arg.upper() if isinstance(arg, str) else arg for arg in args]\n",
        "#\n",
        "#     if not kwargs:\n",
        "#         return old_print(*ups)\n",
        "#\n",
        "#     try:\n",
        "#         kwargs['end'] = kwargs['end'].upper()\n",
        "#     except KeyError:\n",
        "#         kwargs['end'] = kwargs.get('end', '\\n')\n",
        "#\n",
        "#     try:\n",
        "#         kwargs['sep'] = kwargs['sep'].upper()\n",
        "#     except KeyError:\n",
        "#         kwargs['sep'] = kwargs.get('sep', '\\n')\n",
        "#\n",
        "#     return old_print(*ups, sep=kwargs['sep'], end=kwargs['end'])\n",
        "\n",
        "# origin_print = print\n",
        "#\n",
        "# def print(*args, sep=' ', end='\\n'):\n",
        "#     args = (i.upper() if isinstance(i, str) else i for i in args)\n",
        "#     origin_print(*args, sep=sep.upper(), end=end.upper())\n",
        "\n",
        "import sys\n",
        "\n",
        "def print(*args, sep=' ', end='\\n'):\n",
        "    temp = list(map(str, map(lambda x: x.upper() if type(x)==str else x, args)))\n",
        "    sys.stdout.write(f'{sep.upper().join(temp)}{end.upper()}')\n",
        "\n",
        "\n",
        "words = ('black', 'white', 'grey', 'black-1', 'white-1', 'python')\n",
        "print(*words, sep=' to ', end=' LOVE')"
      ],
      "metadata": {
        "id": "nuKI3B90H9hT"
      },
      "execution_count": null,
      "outputs": []
    }
  ]
}