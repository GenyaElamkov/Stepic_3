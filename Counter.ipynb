{
  "nbformat": 4,
  "nbformat_minor": 0,
  "metadata": {
    "colab": {
      "provenance": [],
      "toc_visible": true,
      "authorship_tag": "ABX9TyOZLuUMNWMFDRtbRA6NuUNS",
      "include_colab_link": true
    },
    "kernelspec": {
      "name": "python3",
      "display_name": "Python 3"
    },
    "language_info": {
      "name": "python"
    }
  },
  "cells": [
    {
      "cell_type": "markdown",
      "metadata": {
        "id": "view-in-github",
        "colab_type": "text"
      },
      "source": [
        "<a href=\"https://colab.research.google.com/github/GenyaElamkov/Stepic_3/blob/master/Counter.ipynb\" target=\"_parent\"><img src=\"https://colab.research.google.com/assets/colab-badge.svg\" alt=\"Open In Colab\"/></a>"
      ]
    },
    {
      "cell_type": "markdown",
      "source": [
        "# Создание Counter"
      ],
      "metadata": {
        "id": "hAxD67InCCXw"
      }
    },
    {
      "cell_type": "code",
      "execution_count": null,
      "metadata": {
        "id": "T5knSttw7py4"
      },
      "outputs": [],
      "source": [
        "from collections import Counter\n",
        "\n",
        "Counter('Sandy Cheeks')\n",
        "Counter('Sandy Cheeks'.split())\n",
        "Counter(Sandy=1.5, Cheeks=-3)\n",
        "Counter()\n",
        "Counter({'S': 1, 'a': 5, 'n': 3, 'd': 9, 'y': 7})\n",
        "Counter(Sandy='2', Cheeks='4')\n",
        "Counter({'S': '1', 'a': '5', 'n': '3', 'd': '9', 'y': '7'})"
      ]
    },
    {
      "cell_type": "markdown",
      "source": [
        "# Задачи"
      ],
      "metadata": {
        "id": "55ZB7hARCKvw"
      }
    },
    {
      "cell_type": "markdown",
      "source": [
        "Вам доступен список files, содержащий названия различных файлов. Дополните приведенный ниже код, чтобы он вывел все расширения файлов, присутствующие в списке files, указав для каждого количество файлов с данным расширением. Расширения должны быть расположены в лексикографическом порядке, каждый на отдельной строке, в следующем формате:\n",
        "\n",
        "<расширение>: <количество файлов>\n",
        "\n",
        "https://stepik.org/lesson/590120/step/15?unit=585064"
      ],
      "metadata": {
        "id": "_rJ71eS8BMCI"
      }
    },
    {
      "cell_type": "code",
      "source": [
        "from collections import Counter\n",
        "\n",
        "files = ['emoji_smile.jpeg', 'city-of-the-sun.mp3', 'dhook_hw.json', 'sample.xml',\n",
        "         'teamspeak3.exe', 'project_module3.py', 'math_lesson3.mp4', 'old_memories.mp4',\n",
        "         'spiritfarer.exe', 'backups.json', 'python_for_beg1.mp4', 'emoji_angry.jpeg',\n",
        "         'exam_results.csv', 'project_main.py', 'classes.csv', 'plants.xml',\n",
        "         'cant-help-myself.mp3', 'microsoft_edge.exe', 'steam.exe', 'math_lesson4.mp4',\n",
        "         'city.jpeg', 'bad-disease.mp3', 'beauty.jpeg', 'hollow_knight_silksong.exe',\n",
        "         'whatsapp.exe', 'photoshop.exe', 'telegram.exe', 'yandex_browser.exe',\n",
        "         'math_lesson7.mp4', 'students.csv', 'emojis.zip', '7z.zip',\n",
        "         'bones.mp3', 'python3.zip', 'dhook_lsns.json', 'carl_backups.json',\n",
        "         'forest.jpeg', 'python_for_pro8.mp4', 'yandexdisc.exe', 'but-you.mp3',\n",
        "         'project_module1.py', 'nothing.xml', 'flowers.jpeg', 'grades.csv',\n",
        "         'nvidia_gf.exe', 'small_txt.zip', 'project_module2.py', 'tab.csv',\n",
        "         'note.xml', 'sony_vegas11.exe', 'friends.jpeg', 'data.pkl']\n",
        "\n",
        "count_expansions = Counter(map(lambda x: x.split('.')[1], files))\n",
        "print(*[f\"{k}: {v}\" for k, v in sorted(count_expansions.items())], sep=\"\\n\")\n"
      ],
      "metadata": {
        "id": "9CIg_JqTBCz7",
        "colab": {
          "base_uri": "https://localhost:8080/"
        },
        "outputId": "fcf053c7-a41f-4435-87b6-67bd50a16585"
      },
      "execution_count": null,
      "outputs": [
        {
          "output_type": "stream",
          "name": "stdout",
          "text": [
            "csv: 5\n",
            "exe: 12\n",
            "jpeg: 7\n",
            "json: 4\n",
            "mp3: 5\n",
            "mp4: 6\n",
            "pkl: 1\n",
            "py: 4\n",
            "xml: 4\n",
            "zip: 4\n"
          ]
        }
      ]
    },
    {
      "cell_type": "markdown",
      "source": [
        "## Функция count_occurences()\n",
        "Реализуйте функцию count_occurences(), которая принимает два аргумента в следующем порядке:\n",
        "\n",
        "word — слово\n",
        "words — последовательность слов, разделенных пробелом\n",
        "Функция должна определять, сколько раз слово word встречается в последовательности words, и возвращать полученный результат.\n",
        "\n",
        "Примечание 1. Функция должна игнорировать регистр. То есть, например, слова Python и python считаются одинаковыми.\n",
        "\n",
        "Примечание 2. В тестирующую систему сдайте программу, содержащую только необходимую функцию count_occurences(), но не код, вызывающий ее.\n",
        "\n",
        "https://stepik.org/lesson/590120/step/16?unit=585064"
      ],
      "metadata": {
        "id": "lkmoZkbnGFWZ"
      }
    },
    {
      "cell_type": "code",
      "source": [
        "from collections import Counter\n",
        "\n",
        "def count_occurences(word: str, words: str) -> int:\n",
        "    counter_words = Counter(words.lower().split())\n",
        "    return counter_words[word.lower()]\n",
        "\n",
        "word = 'python'\n",
        "words = 'Python Conferences python training python events'\n",
        "\n",
        "print(count_occurences(word, words))"
      ],
      "metadata": {
        "id": "6uNpcEizGHRX",
        "colab": {
          "base_uri": "https://localhost:8080/"
        },
        "outputId": "3d717a27-58de-4cd8-b657-7f3acf8f8abc"
      },
      "execution_count": null,
      "outputs": [
        {
          "output_type": "stream",
          "name": "stdout",
          "text": [
            "3\n"
          ]
        }
      ]
    },
    {
      "cell_type": "markdown",
      "source": [
        "Не поленимся и запишем\n",
        "Тимур составляет список покупок, но так как на его клавиатуре перестал работать блок с цифрами, то вместо указания количества товара числом, он добавляет его в список столько раз, сколько планирует купить. Все товары Тимур записывает в нижнем регистре через запятую.\n",
        "\n",
        "Напишите программу, которая выводит все товары из данного списка покупок, указывая для каждого его количество.\n",
        "\n",
        "Формат входных данных\n",
        "На вход программе подается последовательность товаров, разделенных запятой без пробелов.\n",
        "\n",
        "Формат выходных данных\n",
        "Программа должны вывести все введенные товары, указывая для каждого, сколько раз он встречается в данной последовательности. Товары должны быть расположены в лексикографическом порядке, каждый на отдельной строке, в следующем формате:\n",
        "\n",
        "<товар>: <количество>\n",
        "\n",
        "https://stepik.org/lesson/590120/step/17?unit=585064"
      ],
      "metadata": {
        "id": "MRGdp3ePIwKD"
      }
    },
    {
      "cell_type": "code",
      "source": [
        "from collections import Counter\n",
        "# products = input()\n",
        "products = \"лимон,лимон,лимон,груша,банан,банан,киви,киви,киви,киви\"\n",
        "\n",
        "product_groups = Counter(products.split(','))\n",
        "print(*[f\"{k}: {v}\" for k, v in sorted(product_groups.items())], sep=\"\\n\")"
      ],
      "metadata": {
        "colab": {
          "base_uri": "https://localhost:8080/"
        },
        "id": "EIydDMocIy1y",
        "outputId": "55a3d8f8-88d5-4cba-eca4-6bc9406e06e9"
      },
      "execution_count": null,
      "outputs": [
        {
          "output_type": "stream",
          "name": "stdout",
          "text": [
            "банан: 2\n",
            "груша: 1\n",
            "киви: 4\n",
            "лимон: 3\n"
          ]
        }
      ]
    },
    {
      "cell_type": "markdown",
      "source": [
        "## А сколько стоит курс?\n",
        "Тимур живет в мире, в котором цена товара определяется как сумма Unicode кодов букв его названия. Буквенным обозначением данной валюты являются две заглавные латинские буквы UC. Например, ручка в его мире стоит:\n",
        "\n",
        "1088\n",
        "+\n",
        "1091\n",
        "+\n",
        "1095\n",
        "+\n",
        "1082\n",
        "+\n",
        "1072\n",
        "=\n",
        "5428\n",
        "U\n",
        "C\n",
        "1088+1091+1095+1082+1072=5428UC\n",
        "Тимур составляет список покупок, но так как на его клавиатуре перестал работать блок с цифрами, то вместо указания количества товара числом, он добавляет его в список столько раз, сколько планирует купить. Все товары Тимур записывает в нижнем регистре через запятую.\n",
        "\n",
        "Напишите программу, которая группирует одинаковые товары из данного списка покупок и определяет стоимость каждой группы.\n",
        "\n",
        "Формат входных данных\n",
        "На вход программе подается последовательность товаров, разделенных запятой без пробелов.\n",
        "\n",
        "Формат выходных данных\n",
        "Программа должна сгруппировать одинаковые товары, определить общую стоимость каждой группы и вывести полученный результат. Товары должны быть расположены в лексикографическом порядке, каждый на отдельной строке, в следующем формате:\n",
        "\n",
        "<товар>: <цена за единицу товара> UC x <количество товаров в группе> = <общая стоимость группы> UC\n",
        "\n",
        "Примечание 1. Программа должна добавлять нужное количество пробелов, если название товара имеет меньшую длину, чем другие.\n",
        "\n",
        "Примечание 2. Получить Unicode код символа можно с помощью функции ord().\n",
        "\n",
        "https://stepik.org/lesson/590120/step/18?unit=585064"
      ],
      "metadata": {
        "id": "9Iukv2b8CwO7"
      }
    },
    {
      "cell_type": "code",
      "source": [
        "from collections import Counter\n",
        "\n",
        "products = \"рубашка,футболка,футболка,брюки,футболка,сырный соус,рубашка,носки,рубашка\"\n",
        "# products = input()\n",
        "\n",
        "product_group = Counter(products.split(','))\n",
        "width = len(max(product_group, key=len))\n",
        "\n",
        "for k, v in sorted(product_group.items()):\n",
        "    sum_unicode = sum(map(lambda x: ord(x), k.replace(\" \",\"\")))\n",
        "    print(f\"{k:{width}}: {sum_unicode} UC x {v} = {sum_unicode*v} UC\")"
      ],
      "metadata": {
        "colab": {
          "base_uri": "https://localhost:8080/"
        },
        "id": "3CIVxFD_C3Hu",
        "outputId": "7c4abcb5-8c36-47db-ad47-1dd01ff3c5e1"
      },
      "execution_count": null,
      "outputs": [
        {
          "output_type": "stream",
          "name": "stdout",
          "text": [
            "брюки      : 5425 UC x 1 = 5425 UC\n",
            "носки      : 5422 UC x 1 = 5422 UC\n",
            "рубашка    : 7574 UC x 3 = 22722 UC\n",
            "сырный соус: 10896 UC x 1 = 10896 UC\n",
            "футболка   : 8669 UC x 3 = 26007 UC\n"
          ]
        }
      ]
    },
    {
      "cell_type": "markdown",
      "source": [
        "## The Zen of Python\n",
        "Вам доступен текстовый файл pythonzen.txt, содержащий текст на английском языке:\n",
        "\n",
        "The Zen of Python, by Tim Peters\n",
        "\n",
        "Beautiful is better than ugly.\n",
        "Explicit is better than implicit.\n",
        "...\n",
        "Напишите программу, которая определяет, сколько раз встречается каждая буква в этом тексте. Буквы и их количество должны выводиться в лексикографическом порядке, каждая на отдельной строке, в следующем формате:\n",
        "\n",
        "<буква>: <количество>\n",
        "\n",
        "Примечание 1. Начальная часть ответа выглядит так:\n",
        "\n",
        "a: 53\n",
        "b: 21\n",
        "...\n",
        "\n",
        "Примечание 2. Программа не должна учитывать регистр, то есть, например, буквы a и A считаются одинаковыми.\n",
        "\n",
        "Примечание 3. Программа должна игнорировать все небуквенные символы.\n",
        "\n",
        "Примечание 4. Указанный файл доступен по ссылке. Ответ на задачу доступен по ссылке.\n",
        "\n",
        "Примечание 5. При открытии файла используйте явное указание кодировки UTF-8.\n",
        "\n",
        "https://stepik.org/lesson/590120/step/19?unit=585064"
      ],
      "metadata": {
        "id": "TUk8DLxlMmnG"
      }
    },
    {
      "cell_type": "code",
      "source": [
        "from collections import Counter\n",
        "\n",
        "with open(\"pythonzen.txt\", \"r\", encoding=\"utf-8\") as file:\n",
        "    content = file.read()\n",
        "\n",
        "chars_group = Counter(filter(lambda x: x.isalpha() == True, content.lower()))\n",
        "print(*[f\"{k}: {v}\" for k, v in sorted(chars_group.items())], sep=\"\\n\")"
      ],
      "metadata": {
        "id": "jMO1v4yMMpok"
      },
      "execution_count": null,
      "outputs": []
    },
    {
      "cell_type": "markdown",
      "source": [
        "## В поисках слов 😇\n",
        "Дана последовательность слов. Напишите программу, которая выводит наиболее часто встречаемое слово в этой последовательности.\n",
        "\n",
        "Формат входных данных\n",
        "На вход программе подается последовательность слов, разделенных пробелом.\n",
        "\n",
        "Формат выходных данных\n",
        "Программа должна определить наиболее часто встречаемое слово в введенной последовательности и вывести его в нижнем регистре.\n",
        "\n",
        "Примечание 1. Гарантируется, что искомое слово единственное.\n",
        "\n",
        "Примечание 2. Программа должна игнорировать регистр. То есть, например, слова Python и python считаются одинаковыми.\n",
        "\n",
        "https://stepik.org/lesson/635441/step/12?unit=631831"
      ],
      "metadata": {
        "id": "L-hUPkRs_T0s"
      }
    },
    {
      "cell_type": "code",
      "source": [
        "from collections import Counter\n",
        "\n",
        "data = \"Черешня Вишня Арбуз малина Малина клубникА Арбуз Банан вишня малина\".lower()\n",
        "# data = input()\n",
        "\n",
        "res = Counter(input().lower().split())\n",
        "print(res.most_common()[0][0])\n"
      ],
      "metadata": {
        "colab": {
          "base_uri": "https://localhost:8080/"
        },
        "id": "uVwsmvKO_TT7",
        "outputId": "0d6f86a3-d3cb-44a7-c56a-94b5e25d82db"
      },
      "execution_count": null,
      "outputs": [
        {
          "output_type": "stream",
          "name": "stdout",
          "text": [
            "('малина', 3)\n"
          ]
        }
      ]
    },
    {
      "cell_type": "markdown",
      "source": [
        "## В поисках слов 😋\n",
        "Дана последовательность слов. Напишите программу, которая выводит наименее часто встречаемое слово в этой последовательности. Если таких слов несколько, программа должна вывести их все.\n",
        "\n",
        "Формат входных данных\n",
        "На вход программе подается последовательность слов, разделенных пробелом.\n",
        "\n",
        "Формат выходных данных\n",
        "Программа должна определить наименее часто встречаемое слово в введенной последовательности и вывести его в нижнем регистре. Если таких слов несколько, программа должна вывести их все в лексикографическом порядке, в нижнем регистре, разделяя запятой и пробелом.\n",
        "\n",
        "Примечание 1. Программа должна игнорировать регистр. То есть, например, слова Python и python считаются одинаковыми.\n",
        "\n",
        "https://stepik.org/lesson/635441/step/13?unit=631831"
      ],
      "metadata": {
        "id": "kJnwsi_CBsYf"
      }
    },
    {
      "cell_type": "code",
      "source": [
        "from collections import Counter\n",
        "\n",
        "\n",
        "# words = input().lower()\n",
        "words = \"Арбуз Малина Малина Арбуз Клубника арбуз банан малина вишня черешня вишня арбуЗ\".lower()\n",
        "\n",
        "words_group = Counter(words.split())\n",
        "min_count_word = words_group.most_common()[-1][1]\n",
        "\n",
        "result = filter(lambda x: x[1] == min_count_word, words_group.items())\n",
        "print(*[k[0] for k in sorted(result)], sep=\", \")"
      ],
      "metadata": {
        "id": "pjxIrHFPBsBB",
        "outputId": "88c3061a-c430-4ea4-f9b2-e9e7bfa83c87",
        "colab": {
          "base_uri": "https://localhost:8080/"
        }
      },
      "execution_count": null,
      "outputs": [
        {
          "output_type": "stream",
          "name": "stdout",
          "text": [
            "банан, клубника, черешня\n"
          ]
        }
      ]
    },
    {
      "cell_type": "markdown",
      "source": [
        "## В поисках слов 🥳\n",
        "Дана последовательность слов. Напишите программу, которая выводит наиболее часто встречаемое слово в этой последовательности. Если таких слов несколько, программа должна вывести то, которое больше в лексикографическом сравнении.\n",
        "\n",
        "Формат входных данных\n",
        "На вход программе подается последовательность слов, разделенных пробелом.\n",
        "\n",
        "Формат выходных данных\n",
        "Программа должна определить наиболее часто встречаемое слово в введенной строке и вывести его в нижнем регистре. Если таких слов несколько, программа должна вывести то, которое больше в лексикографическом сравнении, также в нижнем регистре.\n",
        "\n",
        "Примечание 1. Программа должна игнорировать регистр. То есть, например, слова Python и python считаются одинаковыми.\n",
        "\n",
        "https://stepik.org/lesson/635441/step/14?unit=631831"
      ],
      "metadata": {
        "id": "lsrw719JcCBV"
      }
    },
    {
      "cell_type": "code",
      "source": [
        "from collections import Counter\n",
        "\n",
        "text = \"Арбуз Малина арбуЗ Клубника арбуз банан малина черешня вишня арбуз клубника Банан\".lower()\n",
        "# text = input().lower()\n",
        "\n",
        "words_group = Counter(text.split())\n",
        "max_count_word = words_group.most_common()[0][1]\n",
        "\n",
        "filter_words = map(lambda x: x[0], filter(lambda x: x[1] == max_count_word, words_group.items()))\n",
        "print(sorted(filter_words)[-1])\n",
        "print(Counter(sorted(text.lower().split(), reverse=True)).most_common()[0][0])"
      ],
      "metadata": {
        "colab": {
          "base_uri": "https://localhost:8080/"
        },
        "id": "CKFtRNGUcA-J",
        "outputId": "07d7a0bf-bc0d-4c7e-a492-ff0fa4d4f96b"
      },
      "execution_count": null,
      "outputs": [
        {
          "output_type": "stream",
          "name": "stdout",
          "text": [
            "арбуз\n",
            "арбуз\n"
          ]
        }
      ]
    },
    {
      "cell_type": "markdown",
      "source": [
        "## Статистика длин слов\n",
        "Дана последовательность слов. Напишите программу, которая группирует слова из этой последовательности по их длине и определяет количество слов в каждой полученной группе.\n",
        "\n",
        "Формат входных данных\n",
        "На вход программе подается последовательность слов, разделенных пробелом.\n",
        "\n",
        "Формат выходных данных\n",
        "Программа должна сгруппировать слова из введенной последовательности по их длине и определить количество слов в каждой полученной группе. Каждую группу характеризуют два числа — длина слов в этой группе и количество слов в этой группе. Например, для группы {is, to, hi, no} это числа 2 и 4. Программа должна вывести данные о каждой группе, расположив их в порядке увеличения количества слов в них, каждые на отдельной строке, в следующем формате:\n",
        "\n",
        "Слов длины <длина слов в группе>: <количество слов в группе>\n",
        "Примечание 1. Если две разные группы имеют равное количество слов, то первой должна следовать та группа, слово которой в исходной последовательности встречается раньше.\n",
        "\n",
        "https://stepik.org/lesson/635441/step/15?unit=631831"
      ],
      "metadata": {
        "id": "BxpP7NvFp9lN"
      }
    },
    {
      "cell_type": "code",
      "source": [
        "from collections import Counter\n",
        "\n",
        "text = \"Говори говори до тех пор пока горем горим\"\n",
        "# text = input()\n",
        "\n",
        "words_group = Counter(text.split())\n",
        "\n",
        "len_words = dict()\n",
        "for k in words_group.elements():\n",
        "    len_words.setdefault(len(k), []).append(k)\n",
        "\n",
        "for k, v in sorted(len_words.items(), key=lambda x: len(x[1])):\n",
        "    print(f\"Слов длины {k}: {len(v)}\")\n"
      ],
      "metadata": {
        "colab": {
          "base_uri": "https://localhost:8080/"
        },
        "id": "J0fMga6yp82j",
        "outputId": "460956d3-e1ea-4fd4-edb4-0d307e62e305"
      },
      "execution_count": null,
      "outputs": [
        {
          "output_type": "stream",
          "name": "stdout",
          "text": [
            "Слов длины 2: 1\n",
            "Слов длины 4: 1\n",
            "Слов длины 6: 2\n",
            "Слов длины 3: 2\n",
            "Слов длины 5: 2\n"
          ]
        }
      ]
    },
    {
      "cell_type": "markdown",
      "source": [
        "## Все еще достоин\n",
        "Дан список имен учеников и их оценок за экзамен. Напишите программу, которая определяет второго по счету ученика, имеющего самую низкую оценку.\n",
        "\n",
        "Формат входных данных\n",
        "На вход программе подается произвольное количество строк, в каждой из которых записаны имя очередного ученика и его оценка, разделенные пробелом.\n",
        "\n",
        "Формат выходных данных\n",
        "Программа должна определить второго по счету ученика, который имеет самую низкую оценку, и вывести его имя.\n",
        "\n",
        "Примечание 1. Гарантируется, что все ученики имеют различные имена и оценки."
      ],
      "metadata": {
        "id": "oP9kN4zXr6JR"
      }
    },
    {
      "cell_type": "code",
      "source": [
        "import sys\n",
        "from collections import Counter\n",
        "\n",
        "\n",
        "# users = [user.split() for user in sys.stdin]\n",
        "#\n",
        "# user_min_scoro = sorted(users, key=lambda x: int(x[1]))[1][0]\n",
        "\n",
        "# users = [user.split() for user in sys.stdin]\n",
        "\n",
        "# users_group = Counter({k: int(v) for k, v in users})\n",
        "# print(users_group.most_common()[-2][0])\n",
        "\n",
        "c = Counter()\n",
        "for data in sys.stdin:\n",
        "    name, score = data.split()\n",
        "    c.update({name: int(score)})\n",
        "print(c.most_common()[-2][0])"
      ],
      "metadata": {
        "id": "UmMCXO7jr8EG"
      },
      "execution_count": null,
      "outputs": []
    },
    {
      "cell_type": "markdown",
      "source": [
        "Вам доступна переменная data, содержащая Counter словарь. Дополните приведенный ниже код, чтобы он добавил этому словарю два атрибута:\n",
        "\n",
        "min_values() — функция, которая возвращает список элементов, имеющих наименьшее значение\n",
        "max_values() — функция, которая возвращает список элементов, имеющих наибольшее значение\n",
        "Обе функции не должны принимать никаких аргументов.\n",
        "\n",
        "Примечание 1. Элементом словаря будем считать кортеж (ключ, значение).\n",
        "\n",
        "Примечание 2. Элементы словаря в возвращаемых функциями списках должны располагаться в своем исходном порядке.\n",
        "\n",
        "Примечание 3. Функции data.min_values() и data.max_values() должны учитывать содержимое словаря. Например, если в словарь data будет добавлена новая пара ключ-значение, то и в возвращаемых функциями списках данные ключ и значение должны присутствовать.\n",
        "\n",
        "Примечание 4. Программа ничего не должна выводить."
      ],
      "metadata": {
        "id": "YGIslBoo3g43"
      }
    },
    {
      "cell_type": "code",
      "source": [
        "# Переделать.\n",
        "\n",
        "from collections import Counter\n",
        "\n",
        "# data.__dict__['min_value'] = lambda: min(data.values())\n",
        "data.min_values = lambda: min(data.values())\n",
        "data.max_values = lambda: max(data.values())\n",
        "\n",
        "print(data.min_value())\n",
        "print(data.max_value())"
      ],
      "metadata": {
        "id": "gALhycAr3qs5"
      },
      "execution_count": null,
      "outputs": []
    }
  ]
}