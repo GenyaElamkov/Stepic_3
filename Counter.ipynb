{
  "nbformat": 4,
  "nbformat_minor": 0,
  "metadata": {
    "colab": {
      "provenance": [],
      "authorship_tag": "ABX9TyNoEng9+B/yi+fL6J5ZXI8k",
      "include_colab_link": true
    },
    "kernelspec": {
      "name": "python3",
      "display_name": "Python 3"
    },
    "language_info": {
      "name": "python"
    }
  },
  "cells": [
    {
      "cell_type": "markdown",
      "metadata": {
        "id": "view-in-github",
        "colab_type": "text"
      },
      "source": [
        "<a href=\"https://colab.research.google.com/github/GenyaElamkov/Stepic_3/blob/master/Counter.ipynb\" target=\"_parent\"><img src=\"https://colab.research.google.com/assets/colab-badge.svg\" alt=\"Open In Colab\"/></a>"
      ]
    },
    {
      "cell_type": "markdown",
      "source": [
        "# Создание Counter"
      ],
      "metadata": {
        "id": "hAxD67InCCXw"
      }
    },
    {
      "cell_type": "code",
      "execution_count": null,
      "metadata": {
        "id": "T5knSttw7py4"
      },
      "outputs": [],
      "source": [
        "from collections import Counter\n",
        "\n",
        "Counter('Sandy Cheeks')\n",
        "Counter('Sandy Cheeks'.split())\n",
        "Counter(Sandy=1.5, Cheeks=-3)\n",
        "Counter()\n",
        "Counter({'S': 1, 'a': 5, 'n': 3, 'd': 9, 'y': 7})\n",
        "Counter(Sandy='2', Cheeks='4')\n",
        "Counter({'S': '1', 'a': '5', 'n': '3', 'd': '9', 'y': '7'})"
      ]
    },
    {
      "cell_type": "markdown",
      "source": [
        "# Задачи"
      ],
      "metadata": {
        "id": "55ZB7hARCKvw"
      }
    },
    {
      "cell_type": "markdown",
      "source": [
        "Вам доступен список files, содержащий названия различных файлов. Дополните приведенный ниже код, чтобы он вывел все расширения файлов, присутствующие в списке files, указав для каждого количество файлов с данным расширением. Расширения должны быть расположены в лексикографическом порядке, каждый на отдельной строке, в следующем формате:\n",
        "\n",
        "<расширение>: <количество файлов>\n",
        "\n",
        "https://stepik.org/lesson/590120/step/15?unit=585064"
      ],
      "metadata": {
        "id": "_rJ71eS8BMCI"
      }
    },
    {
      "cell_type": "code",
      "source": [
        "from collections import Counter\n",
        "\n",
        "files = ['emoji_smile.jpeg', 'city-of-the-sun.mp3', 'dhook_hw.json', 'sample.xml',\n",
        "         'teamspeak3.exe', 'project_module3.py', 'math_lesson3.mp4', 'old_memories.mp4',\n",
        "         'spiritfarer.exe', 'backups.json', 'python_for_beg1.mp4', 'emoji_angry.jpeg',\n",
        "         'exam_results.csv', 'project_main.py', 'classes.csv', 'plants.xml',\n",
        "         'cant-help-myself.mp3', 'microsoft_edge.exe', 'steam.exe', 'math_lesson4.mp4',\n",
        "         'city.jpeg', 'bad-disease.mp3', 'beauty.jpeg', 'hollow_knight_silksong.exe',\n",
        "         'whatsapp.exe', 'photoshop.exe', 'telegram.exe', 'yandex_browser.exe',\n",
        "         'math_lesson7.mp4', 'students.csv', 'emojis.zip', '7z.zip',\n",
        "         'bones.mp3', 'python3.zip', 'dhook_lsns.json', 'carl_backups.json',\n",
        "         'forest.jpeg', 'python_for_pro8.mp4', 'yandexdisc.exe', 'but-you.mp3',\n",
        "         'project_module1.py', 'nothing.xml', 'flowers.jpeg', 'grades.csv',\n",
        "         'nvidia_gf.exe', 'small_txt.zip', 'project_module2.py', 'tab.csv',\n",
        "         'note.xml', 'sony_vegas11.exe', 'friends.jpeg', 'data.pkl']\n",
        "\n",
        "count_expansions = Counter(map(lambda x: x.split('.')[1], files))\n",
        "print(*[f\"{k}: {v}\" for k, v in sorted(count_expansions.items())], sep=\"\\n\")\n"
      ],
      "metadata": {
        "id": "9CIg_JqTBCz7",
        "colab": {
          "base_uri": "https://localhost:8080/"
        },
        "outputId": "fcf053c7-a41f-4435-87b6-67bd50a16585"
      },
      "execution_count": null,
      "outputs": [
        {
          "output_type": "stream",
          "name": "stdout",
          "text": [
            "csv: 5\n",
            "exe: 12\n",
            "jpeg: 7\n",
            "json: 4\n",
            "mp3: 5\n",
            "mp4: 6\n",
            "pkl: 1\n",
            "py: 4\n",
            "xml: 4\n",
            "zip: 4\n"
          ]
        }
      ]
    },
    {
      "cell_type": "markdown",
      "source": [
        "## Функция count_occurences()\n",
        "Реализуйте функцию count_occurences(), которая принимает два аргумента в следующем порядке:\n",
        "\n",
        "word — слово\n",
        "words — последовательность слов, разделенных пробелом\n",
        "Функция должна определять, сколько раз слово word встречается в последовательности words, и возвращать полученный результат.\n",
        "\n",
        "Примечание 1. Функция должна игнорировать регистр. То есть, например, слова Python и python считаются одинаковыми.\n",
        "\n",
        "Примечание 2. В тестирующую систему сдайте программу, содержащую только необходимую функцию count_occurences(), но не код, вызывающий ее.\n",
        "\n",
        "https://stepik.org/lesson/590120/step/16?unit=585064"
      ],
      "metadata": {
        "id": "lkmoZkbnGFWZ"
      }
    },
    {
      "cell_type": "code",
      "source": [
        "from collections import Counter\n",
        "\n",
        "def count_occurences(word: str, words: str) -> int:\n",
        "    counter_words = Counter(words.lower().split())\n",
        "    return counter_words[word.lower()]\n",
        "\n",
        "word = 'python'\n",
        "words = 'Python Conferences python training python events'\n",
        "\n",
        "print(count_occurences(word, words))"
      ],
      "metadata": {
        "id": "6uNpcEizGHRX",
        "colab": {
          "base_uri": "https://localhost:8080/"
        },
        "outputId": "3d717a27-58de-4cd8-b657-7f3acf8f8abc"
      },
      "execution_count": null,
      "outputs": [
        {
          "output_type": "stream",
          "name": "stdout",
          "text": [
            "3\n"
          ]
        }
      ]
    },
    {
      "cell_type": "markdown",
      "source": [
        "Не поленимся и запишем\n",
        "Тимур составляет список покупок, но так как на его клавиатуре перестал работать блок с цифрами, то вместо указания количества товара числом, он добавляет его в список столько раз, сколько планирует купить. Все товары Тимур записывает в нижнем регистре через запятую.\n",
        "\n",
        "Напишите программу, которая выводит все товары из данного списка покупок, указывая для каждого его количество.\n",
        "\n",
        "Формат входных данных\n",
        "На вход программе подается последовательность товаров, разделенных запятой без пробелов.\n",
        "\n",
        "Формат выходных данных\n",
        "Программа должны вывести все введенные товары, указывая для каждого, сколько раз он встречается в данной последовательности. Товары должны быть расположены в лексикографическом порядке, каждый на отдельной строке, в следующем формате:\n",
        "\n",
        "<товар>: <количество>\n",
        "\n",
        "https://stepik.org/lesson/590120/step/17?unit=585064"
      ],
      "metadata": {
        "id": "MRGdp3ePIwKD"
      }
    },
    {
      "cell_type": "code",
      "source": [
        "from collections import Counter\n",
        "# products = input()\n",
        "products = \"лимон,лимон,лимон,груша,банан,банан,киви,киви,киви,киви\"\n",
        "\n",
        "product_groups = Counter(products.split(','))\n",
        "print(*[f\"{k}: {v}\" for k, v in sorted(product_groups.items())], sep=\"\\n\")"
      ],
      "metadata": {
        "colab": {
          "base_uri": "https://localhost:8080/"
        },
        "id": "EIydDMocIy1y",
        "outputId": "55a3d8f8-88d5-4cba-eca4-6bc9406e06e9"
      },
      "execution_count": null,
      "outputs": [
        {
          "output_type": "stream",
          "name": "stdout",
          "text": [
            "банан: 2\n",
            "груша: 1\n",
            "киви: 4\n",
            "лимон: 3\n"
          ]
        }
      ]
    },
    {
      "cell_type": "markdown",
      "source": [
        "## А сколько стоит курс?\n",
        "Тимур живет в мире, в котором цена товара определяется как сумма Unicode кодов букв его названия. Буквенным обозначением данной валюты являются две заглавные латинские буквы UC. Например, ручка в его мире стоит:\n",
        "\n",
        "1088\n",
        "+\n",
        "1091\n",
        "+\n",
        "1095\n",
        "+\n",
        "1082\n",
        "+\n",
        "1072\n",
        "=\n",
        "5428\n",
        "U\n",
        "C\n",
        "1088+1091+1095+1082+1072=5428UC\n",
        "Тимур составляет список покупок, но так как на его клавиатуре перестал работать блок с цифрами, то вместо указания количества товара числом, он добавляет его в список столько раз, сколько планирует купить. Все товары Тимур записывает в нижнем регистре через запятую.\n",
        "\n",
        "Напишите программу, которая группирует одинаковые товары из данного списка покупок и определяет стоимость каждой группы.\n",
        "\n",
        "Формат входных данных\n",
        "На вход программе подается последовательность товаров, разделенных запятой без пробелов.\n",
        "\n",
        "Формат выходных данных\n",
        "Программа должна сгруппировать одинаковые товары, определить общую стоимость каждой группы и вывести полученный результат. Товары должны быть расположены в лексикографическом порядке, каждый на отдельной строке, в следующем формате:\n",
        "\n",
        "<товар>: <цена за единицу товара> UC x <количество товаров в группе> = <общая стоимость группы> UC\n",
        "\n",
        "Примечание 1. Программа должна добавлять нужное количество пробелов, если название товара имеет меньшую длину, чем другие.\n",
        "\n",
        "Примечание 2. Получить Unicode код символа можно с помощью функции ord().\n",
        "\n",
        "https://stepik.org/lesson/590120/step/18?unit=585064"
      ],
      "metadata": {
        "id": "9Iukv2b8CwO7"
      }
    },
    {
      "cell_type": "code",
      "source": [
        "from collections import Counter\n",
        "\n",
        "products = \"рубашка,футболка,футболка,брюки,футболка,сырный соус,рубашка,носки,рубашка\"\n",
        "# products = input()\n",
        "\n",
        "product_group = Counter(products.split(','))\n",
        "width = len(max(product_group, key=len))\n",
        "\n",
        "for k, v in sorted(product_group.items()):\n",
        "    sum_unicode = sum(map(lambda x: ord(x), k.replace(\" \",\"\")))\n",
        "    print(f\"{k:{width}}: {sum_unicode} UC x {v} = {sum_unicode*v} UC\")"
      ],
      "metadata": {
        "colab": {
          "base_uri": "https://localhost:8080/"
        },
        "id": "3CIVxFD_C3Hu",
        "outputId": "7c4abcb5-8c36-47db-ad47-1dd01ff3c5e1"
      },
      "execution_count": null,
      "outputs": [
        {
          "output_type": "stream",
          "name": "stdout",
          "text": [
            "брюки      : 5425 UC x 1 = 5425 UC\n",
            "носки      : 5422 UC x 1 = 5422 UC\n",
            "рубашка    : 7574 UC x 3 = 22722 UC\n",
            "сырный соус: 10896 UC x 1 = 10896 UC\n",
            "футболка   : 8669 UC x 3 = 26007 UC\n"
          ]
        }
      ]
    },
    {
      "cell_type": "markdown",
      "source": [
        "## The Zen of Python\n",
        "Вам доступен текстовый файл pythonzen.txt, содержащий текст на английском языке:\n",
        "\n",
        "The Zen of Python, by Tim Peters\n",
        "\n",
        "Beautiful is better than ugly.\n",
        "Explicit is better than implicit.\n",
        "...\n",
        "Напишите программу, которая определяет, сколько раз встречается каждая буква в этом тексте. Буквы и их количество должны выводиться в лексикографическом порядке, каждая на отдельной строке, в следующем формате:\n",
        "\n",
        "<буква>: <количество>\n",
        "\n",
        "Примечание 1. Начальная часть ответа выглядит так:\n",
        "\n",
        "a: 53\n",
        "b: 21\n",
        "...\n",
        "\n",
        "Примечание 2. Программа не должна учитывать регистр, то есть, например, буквы a и A считаются одинаковыми.\n",
        "\n",
        "Примечание 3. Программа должна игнорировать все небуквенные символы.\n",
        "\n",
        "Примечание 4. Указанный файл доступен по ссылке. Ответ на задачу доступен по ссылке.\n",
        "\n",
        "Примечание 5. При открытии файла используйте явное указание кодировки UTF-8.\n",
        "\n",
        "https://stepik.org/lesson/590120/step/19?unit=585064"
      ],
      "metadata": {
        "id": "TUk8DLxlMmnG"
      }
    },
    {
      "cell_type": "code",
      "source": [
        "from collections import Counter\n",
        "\n",
        "with open(\"pythonzen.txt\", \"r\", encoding=\"utf-8\") as file:\n",
        "    content = file.read()\n",
        "\n",
        "chars_group = Counter(filter(lambda x: x.isalpha() == True, content.lower()))\n",
        "print(*[f\"{k}: {v}\" for k, v in sorted(chars_group.items())], sep=\"\\n\")"
      ],
      "metadata": {
        "id": "jMO1v4yMMpok"
      },
      "execution_count": null,
      "outputs": []
    }
  ]
}