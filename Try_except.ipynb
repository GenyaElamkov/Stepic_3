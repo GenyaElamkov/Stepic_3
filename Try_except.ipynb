{
  "nbformat": 4,
  "nbformat_minor": 0,
  "metadata": {
    "colab": {
      "provenance": [],
      "toc_visible": true,
      "authorship_tag": "ABX9TyMh+PzBUaWoZ/MGu5sgLQDP",
      "include_colab_link": true
    },
    "kernelspec": {
      "name": "python3",
      "display_name": "Python 3"
    },
    "language_info": {
      "name": "python"
    }
  },
  "cells": [
    {
      "cell_type": "markdown",
      "metadata": {
        "id": "view-in-github",
        "colab_type": "text"
      },
      "source": [
        "<a href=\"https://colab.research.google.com/github/GenyaElamkov/Stepic_3/blob/master/Try_except.ipynb\" target=\"_parent\"><img src=\"https://colab.research.google.com/assets/colab-badge.svg\" alt=\"Open In Colab\"/></a>"
      ]
    },
    {
      "cell_type": "markdown",
      "source": [
        "Вам доступна программа, которая находит сумму всех значений по ключу Likes из всех словарей списка blog_posts. Если словарь не содержит ключа Likes, его значение считается равным минус единице. Дополните приведенный ниже код конструкцией try-except, чтобы он выполнился без ошибок.\n",
        "\n",
        "https://stepik.org/lesson/640050/step/20?unit=636570"
      ],
      "metadata": {
        "id": "NgrBt2VSjPum"
      }
    },
    {
      "cell_type": "code",
      "source": [
        "blog_posts = [{'Photos': 3, 'Likes': 21, 'Comments': 2},\n",
        "              {'Likes': 13, 'Comments': 2, 'Shares': 1},\n",
        "              {'Photos': 5, 'Likes': 33, 'Comments': 8, 'Shares': 3},\n",
        "              {'Comments': 4, 'Shares': 2},\n",
        "              {'Photos': 8, 'Comments': 1, 'Shares': 1},\n",
        "              {'Photos': 3, 'Likes': 19, 'Comments': 3}]\n",
        "\n",
        "total_likes = 0\n",
        "\n",
        "for post in blog_posts:\n",
        "    try:\n",
        "        total_likes += post['Likes']\n",
        "    except KeyError:\n",
        "        total_likes -= 1\n",
        "\n",
        "print(total_likes)\n",
        "res = sum([k[\"Likes\"]  for k in blog_posts for v in k.keys() if v == 'Likes'])\n",
        "print(res)"
      ],
      "metadata": {
        "colab": {
          "base_uri": "https://localhost:8080/"
        },
        "id": "H_hSVV2QSNYq",
        "outputId": "399c8cfa-0eca-42f3-d036-18db11e72baa"
      },
      "execution_count": null,
      "outputs": [
        {
          "output_type": "stream",
          "name": "stdout",
          "text": [
            "84\n",
            "86\n"
          ]
        }
      ]
    },
    {
      "cell_type": "markdown",
      "source": [
        "Вам доступна программа, которая добавляет в список fifth пятую букву каждого слова из списка food. Если слово не имеет пятой буквы, этой буквой считается символ _. Дополните приведенный ниже код конструкцией try-except, чтобы он выполнился без ошибок.\n",
        "\n",
        "\n",
        "https://stepik.org/lesson/640050/step/21?unit=636570"
      ],
      "metadata": {
        "id": "OOXRS-3inZt_"
      }
    },
    {
      "cell_type": "code",
      "source": [
        "food = ['chocolate', 'chicken', 'corn', 'sandwich', 'soup', 'potatoes', 'beef', 'lox', 'lemonade']\n",
        "fifth = []\n",
        "\n",
        "for x in food:\n",
        "    try:\n",
        "        fifth.append(x[4])\n",
        "    except IndexError:\n",
        "        fifth.append('_')\n",
        "print(fifth)"
      ],
      "metadata": {
        "colab": {
          "base_uri": "https://localhost:8080/"
        },
        "id": "Gk9Jdilmm78n",
        "outputId": "b9cecf6f-a38c-4813-ddfd-fd440c36f0b3"
      },
      "execution_count": null,
      "outputs": [
        {
          "output_type": "stream",
          "name": "stdout",
          "text": [
            "['o', 'k', '_', 'w', '_', 't', '_', '_', 'n']\n"
          ]
        }
      ]
    },
    {
      "cell_type": "markdown",
      "source": [
        "Вам доступна программа, которая добавляет в список remainders остаток от деления\n",
        "36\n",
        "36 на каждое число из списка numbers. Если число равно нулю, оно игнорируется. Дополните приведенный ниже код конструкцией try-except, чтобы он выполнился без ошибок.\n",
        "\n",
        "https://stepik.org/lesson/640050/step/22?unit=636570"
      ],
      "metadata": {
        "id": "gKy7SheqnQXV"
      }
    },
    {
      "cell_type": "code",
      "source": [
        "numbers = [6, 0, 36, 8, 2, 36, 0, 12, 60, 0, 45, 0, 3, 23]\n",
        "\n",
        "remainders = []\n",
        "\n",
        "for number in numbers:\n",
        "    try:\n",
        "        remainders.append(36 % number)\n",
        "    except ZeroDivisionError:\n",
        "        pass\n",
        "print(remainders)"
      ],
      "metadata": {
        "colab": {
          "base_uri": "https://localhost:8080/"
        },
        "id": "CaeP84yVnNy7",
        "outputId": "b7665154-9d0b-46e9-a06d-de3bd8333642"
      },
      "execution_count": null,
      "outputs": [
        {
          "output_type": "stream",
          "name": "stdout",
          "text": [
            "[0, 0, 4, 0, 0, 0, 36, 36, 0, 13]\n"
          ]
        }
      ]
    },
    {
      "cell_type": "markdown",
      "source": [
        "## Only numbers\n",
        "На вход программе подается неопределенное количество строк, каждая из которых содержит произвольное значение. Напишите программу с использованием конструкции try-except, которая выводит сумму всех введенных чисел, а затем — количество введенных нечисловых значений.\n",
        "\n",
        "Формат входных данных\n",
        "На вход программе подается неопределенное количество строк (хотя бы одна), каждая из которых содержит произвольное значение.\n",
        "\n",
        "Формат выходных данных\n",
        "Программа должна вывести сумму всех введенных чисел (тип int и float), а затем на следующей строке — количество введенных нечисловых значений.\n",
        "\n",
        "Примечание 1. Если ни одно число введено не было, то сумма равна\n",
        "0\n",
        "0.\n",
        "\n",
        "Примечание 2. Рассмотрим первый тест. Имеем три введенных числа, сумма которых равна:\n",
        "100\n",
        "+\n",
        "10\n",
        "+\n",
        "1.1\n",
        "=\n",
        "111.1\n",
        "100+10+1.1=111.1\n",
        "Также три нечисловых значения, а именно: i'm number!, [1, 99], {'math', 'physics'}.\n",
        "\n",
        "https://stepik.org/lesson/640050/step/23?unit=636570"
      ],
      "metadata": {
        "id": "VUuYK3C-omOj"
      }
    },
    {
      "cell_type": "code",
      "source": [
        "import sys\n",
        "\n",
        "total = 0\n",
        "not_number = 0\n",
        "for string in sys.stdin:\n",
        "    if string.rstrip().replace(\".\", \"\", 1).isdigit():\n",
        "        try:\n",
        "            if string.index('.'):\n",
        "                total += float(string)\n",
        "        except ValueError:\n",
        "            total += int(string)\n",
        "    else:\n",
        "        not_number += 1\n",
        "\n",
        "print(total, not_number, sep=\"\\n\")"
      ],
      "metadata": {
        "colab": {
          "base_uri": "https://localhost:8080/"
        },
        "id": "bgLq1vllofUt",
        "outputId": "27782d9c-1db7-4d86-90eb-0a65aa879fda"
      },
      "execution_count": null,
      "outputs": [
        {
          "output_type": "stream",
          "name": "stdout",
          "text": [
            "0\n",
            "0\n"
          ]
        }
      ]
    },
    {
      "cell_type": "markdown",
      "source": [
        "## Январь, февраль, ...\n",
        "Напишите программу с использованием конструкции try-except, которая выводит название месяца, соответствующее введенному целому числу (от\n",
        "1\n",
        "1 до\n",
        "12\n",
        "12 включительно), причем\n",
        "\n",
        "если введенное число не принадлежит отрезку\n",
        "[\n",
        "1\n",
        ";\n",
        "12\n",
        "]\n",
        "[1;12], программа должна вывести текст:\n",
        "Введено число из недопустимого диапазона\n",
        "если введенное значение не является целым числом, программа должна вывести текст:\n",
        "Введено некорректное значение\n",
        "Формат входных данных\n",
        "На вход программе подается единственная строка с произвольным значением.\n",
        "\n",
        "Формат выходных данных\n",
        "Программа должна вывести полное название месяца на английском, соответствующее введенному числу (от\n",
        "1\n",
        "1 до\n",
        "12\n",
        "12 включительно) или текст с соответствующей ошибкой, если введенное значение некорректно.\n",
        "\n",
        "Примечание 1. Для получения списка с названиями месяцев вспомните атрибут month_name из модуля calendar.\n",
        "\n",
        "https://stepik.org/lesson/744448/step/20?unit=746216"
      ],
      "metadata": {
        "id": "9H4nEXgH3uWP"
      }
    },
    {
      "cell_type": "code",
      "source": [
        "import calendar\n",
        "\n",
        "try:\n",
        "    num = int(input())\n",
        "    if 1 <= num <= 12:\n",
        "        result = calendar.month_name[num]\n",
        "    else:\n",
        "        result = \"Введено число из недопустимого диапазона\"\n",
        "except ValueError:\n",
        "    result = \"Введено некорректное значение\"\n",
        "\n",
        "print(result)"
      ],
      "metadata": {
        "id": "KIsCv9YH3uef",
        "outputId": "f6e9fd82-e496-461f-fba6-b4cb590899e5",
        "colab": {
          "base_uri": "https://localhost:8080/"
        }
      },
      "execution_count": null,
      "outputs": [
        {
          "output_type": "stream",
          "name": "stdout",
          "text": [
            "0\n",
            "\n"
          ]
        }
      ]
    },
    {
      "cell_type": "markdown",
      "source": [
        "## Функция add_to_list_in_dict()\n",
        "Реализуйте функцию add_to_list_in_dict() с использованием конструкции try-except, которая принимает три аргумента в следующем порядке:\n",
        "\n",
        "data — словарь списков, то есть словарь, значениями в котором являются списки\n",
        "key — хешируемый объект\n",
        "element — произвольный объект\n",
        "Функция должна добавлять объект element в список по ключу key в словаре data. Если ключа key в словаре data нет, функция должна добавить его в словарь, присвоить ему в качестве значения пустой список и добавить в этот список объект element.\n",
        "\n",
        "Примечание 1. Функция должна изменять переданный словарь и возвращать значение None.\n",
        "\n",
        "Примечание 2. Элементы в список должны добавляться в конец.\n",
        "\n",
        "Примечание 3. В тестирующую систему сдайте программу, содержащую только необходимую функцию add_to_list_in_dict(), но не код, вызывающий ее.\n",
        "\n",
        "https://github.com/python-generation/Professional/blob/main/Module_7/Module_7.3/Module_7.3.20/output.txt"
      ],
      "metadata": {
        "id": "Li4A9acxICZ2"
      }
    },
    {
      "cell_type": "code",
      "source": [
        "def add_to_list_in_dict(data: dict, key: str, element: int) -> None:\n",
        "    try:\n",
        "        data[key].append(element)\n",
        "    except KeyError:\n",
        "        data.setdefault(key, []).append(element)\n",
        "\n",
        "    return None\n",
        "\n",
        "\n",
        "\n",
        "data = {'a': [1, 2, 3], 'b': [4, 5, 6]}\n",
        "add_to_list_in_dict(data, 'c', 7)\n",
        "\n",
        "print(data)"
      ],
      "metadata": {
        "id": "nq-7w7wtICRN",
        "outputId": "5b8bcb9a-02ee-4fa1-aa77-ddbba179a084",
        "colab": {
          "base_uri": "https://localhost:8080/"
        }
      },
      "execution_count": null,
      "outputs": [
        {
          "output_type": "stream",
          "name": "stdout",
          "text": [
            "{'a': [1, 2, 3], 'b': [4, 5, 6], 'c': [7]}\n"
          ]
        }
      ]
    },
    {
      "cell_type": "markdown",
      "source": [
        "## readme.txt\n",
        "Напишите программу с использованием конструкции try-except, которая принимает на вход название текстового файла и выводит его содержимое. Если файла с данным названием нет в папке с программой, программа должна вывести текст:\n",
        "\n",
        "​Файл не найден\n",
        "Формат входных данных\n",
        "На вход программе подается название текстового файла.\n",
        "\n",
        "Формат выходных данных\n",
        "Программа должна вывести содержимое файла с введенным названием или соответствующий текст, если файла с данным названием нет в папке с программой.\n",
        "\n",
        "Примечание 1. Название подаваемого файла уже содержит расширение.\n",
        "\n",
        "Примечание 2. При открытии файла используйте явное указание кодировки UTF-8.\n",
        "\n",
        "https://stepik.org/lesson/744448/step/22?unit=746216"
      ],
      "metadata": {
        "id": "xAFq1_D8KxL1"
      }
    },
    {
      "cell_type": "code",
      "source": [
        "try:\n",
        "    with open(\"readme.csv\", \"r\", encoding=\"utf-8\") as file:\n",
        "        print(file.read())\n",
        "\n",
        "except FileNotFoundError:\n",
        "    print(\"Файл не найден\")"
      ],
      "metadata": {
        "id": "ByFm0pyWKxEp",
        "outputId": "fb67422b-b2c9-43ef-a956-491cde8a4f44",
        "colab": {
          "base_uri": "https://localhost:8080/"
        }
      },
      "execution_count": null,
      "outputs": [
        {
          "output_type": "stream",
          "name": "stdout",
          "text": [
            "​Файл не найден\n"
          ]
        }
      ]
    },
    {
      "cell_type": "markdown",
      "source": [
        "## Работа с объектом возбужденного исключения"
      ],
      "metadata": {
        "id": "Bs2lEHt03qsW"
      }
    },
    {
      "cell_type": "code",
      "source": [
        "try:\n",
        "    nums = [10, 5, 20, 25]\n",
        "    print(nums[100])\n",
        "except (KeyError, IndexError) as err:    # записываем сгенерированное исключение в переменную err\n",
        "    print(err)\n",
        "    print(type(err))"
      ],
      "metadata": {
        "id": "859q1dD13sv3",
        "outputId": "5538ffdd-4b83-4cbe-86ca-edb0e6aa5cfe",
        "colab": {
          "base_uri": "https://localhost:8080/"
        }
      },
      "execution_count": 6,
      "outputs": [
        {
          "output_type": "stream",
          "name": "stdout",
          "text": [
            "list index out of range\n",
            "<class 'IndexError'>\n"
          ]
        }
      ]
    },
    {
      "cell_type": "markdown",
      "source": [
        "## Функция get_weekday()\n",
        "Реализуйте функцию get_weekday(), которая принимает один аргумент:\n",
        "\n",
        "number — целое число (от\n",
        "1\n",
        "1 до\n",
        "7\n",
        "7 включительно)\n",
        "Функция должна возвращать полное название дня недели на русском, который соответствует числу number, при этом:\n",
        "\n",
        "если number не является целым числом, функция должна возбуждать исключение:\n",
        "TypeError('Аргумент не является целым числом')\n",
        "если number является целым числом, но не принадлежит отрезку\n",
        "[\n",
        "1\n",
        ";\n",
        "7\n",
        "]\n",
        "[1;7], функция должна возбуждать исключение:\n",
        "ValueError('Аргумент не принадлежит требуемому диапазону')\n",
        "Примечание 1. В тестирующую систему сдайте программу, содержащую только необходимую функцию get_weekday(), но не код, вызывающий ее."
      ],
      "metadata": {
        "id": "dqYgnBPE_Zom"
      }
    },
    {
      "cell_type": "code",
      "source": [
        "def get_weekday(number):\n",
        "    week = { 1: \"Понедельник\", 2: \"Вторник\", 3: \"Среда\", 4: \"Четверг\", 5: \"Пятница\", 6: \"Суббота\", 7: \"Воскресенье\", }\n",
        "    if 1 <= number >= 7:\n",
        "        raise ValueError('Аргумент не принадлежит требуемому диапазону')\n",
        "\n",
        "    if not type(number) is int:\n",
        "        raise TypeError('Аргумент не является целым числом')\n",
        "\n",
        "    return week[number]\n",
        "\n",
        "\n",
        "\n",
        "try:\n",
        "    print(get_weekday(\"hello\"))\n",
        "except Exception as err:\n",
        "    print(err)\n",
        "    print(type(err))"
      ],
      "metadata": {
        "id": "ojLl0GjB6EKL",
        "outputId": "3a2616e6-cee7-4766-f40f-ba8f57bfb048",
        "colab": {
          "base_uri": "https://localhost:8080/"
        }
      },
      "execution_count": 42,
      "outputs": [
        {
          "output_type": "stream",
          "name": "stdout",
          "text": [
            "<class 'str'>\n",
            "name 'week' is not defined\n",
            "<class 'NameError'>\n"
          ]
        }
      ]
    }
  ]
}