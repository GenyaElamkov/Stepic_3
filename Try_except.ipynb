{
  "nbformat": 4,
  "nbformat_minor": 0,
  "metadata": {
    "colab": {
      "provenance": [],
      "toc_visible": true,
      "authorship_tag": "ABX9TyMeGBOYKpZV9OdGk2kO21Gx",
      "include_colab_link": true
    },
    "kernelspec": {
      "name": "python3",
      "display_name": "Python 3"
    },
    "language_info": {
      "name": "python"
    }
  },
  "cells": [
    {
      "cell_type": "markdown",
      "metadata": {
        "id": "view-in-github",
        "colab_type": "text"
      },
      "source": [
        "<a href=\"https://colab.research.google.com/github/GenyaElamkov/Stepic_3/blob/master/Try_except.ipynb\" target=\"_parent\"><img src=\"https://colab.research.google.com/assets/colab-badge.svg\" alt=\"Open In Colab\"/></a>"
      ]
    },
    {
      "cell_type": "markdown",
      "source": [
        "Вам доступна программа, которая находит сумму всех значений по ключу Likes из всех словарей списка blog_posts. Если словарь не содержит ключа Likes, его значение считается равным минус единице. Дополните приведенный ниже код конструкцией try-except, чтобы он выполнился без ошибок.\n",
        "\n",
        "https://stepik.org/lesson/640050/step/20?unit=636570"
      ],
      "metadata": {
        "id": "NgrBt2VSjPum"
      }
    },
    {
      "cell_type": "code",
      "source": [
        "blog_posts = [{'Photos': 3, 'Likes': 21, 'Comments': 2},\n",
        "              {'Likes': 13, 'Comments': 2, 'Shares': 1},\n",
        "              {'Photos': 5, 'Likes': 33, 'Comments': 8, 'Shares': 3},\n",
        "              {'Comments': 4, 'Shares': 2},\n",
        "              {'Photos': 8, 'Comments': 1, 'Shares': 1},\n",
        "              {'Photos': 3, 'Likes': 19, 'Comments': 3}]\n",
        "\n",
        "total_likes = 0\n",
        "\n",
        "for post in blog_posts:\n",
        "    try:\n",
        "        total_likes += post['Likes']\n",
        "    except KeyError:\n",
        "        total_likes -= 1\n",
        "\n",
        "print(total_likes)\n",
        "res = sum([k[\"Likes\"]  for k in blog_posts for v in k.keys() if v == 'Likes'])\n",
        "print(res)"
      ],
      "metadata": {
        "colab": {
          "base_uri": "https://localhost:8080/"
        },
        "id": "H_hSVV2QSNYq",
        "outputId": "399c8cfa-0eca-42f3-d036-18db11e72baa"
      },
      "execution_count": null,
      "outputs": [
        {
          "output_type": "stream",
          "name": "stdout",
          "text": [
            "84\n",
            "86\n"
          ]
        }
      ]
    },
    {
      "cell_type": "markdown",
      "source": [
        "Вам доступна программа, которая добавляет в список fifth пятую букву каждого слова из списка food. Если слово не имеет пятой буквы, этой буквой считается символ _. Дополните приведенный ниже код конструкцией try-except, чтобы он выполнился без ошибок.\n",
        "\n",
        "\n",
        "https://stepik.org/lesson/640050/step/21?unit=636570"
      ],
      "metadata": {
        "id": "OOXRS-3inZt_"
      }
    },
    {
      "cell_type": "code",
      "source": [
        "food = ['chocolate', 'chicken', 'corn', 'sandwich', 'soup', 'potatoes', 'beef', 'lox', 'lemonade']\n",
        "fifth = []\n",
        "\n",
        "for x in food:\n",
        "    try:\n",
        "        fifth.append(x[4])\n",
        "    except IndexError:\n",
        "        fifth.append('_')\n",
        "print(fifth)"
      ],
      "metadata": {
        "colab": {
          "base_uri": "https://localhost:8080/"
        },
        "id": "Gk9Jdilmm78n",
        "outputId": "b9cecf6f-a38c-4813-ddfd-fd440c36f0b3"
      },
      "execution_count": null,
      "outputs": [
        {
          "output_type": "stream",
          "name": "stdout",
          "text": [
            "['o', 'k', '_', 'w', '_', 't', '_', '_', 'n']\n"
          ]
        }
      ]
    },
    {
      "cell_type": "markdown",
      "source": [
        "Вам доступна программа, которая добавляет в список remainders остаток от деления\n",
        "36\n",
        "36 на каждое число из списка numbers. Если число равно нулю, оно игнорируется. Дополните приведенный ниже код конструкцией try-except, чтобы он выполнился без ошибок.\n",
        "\n",
        "https://stepik.org/lesson/640050/step/22?unit=636570"
      ],
      "metadata": {
        "id": "gKy7SheqnQXV"
      }
    },
    {
      "cell_type": "code",
      "source": [
        "numbers = [6, 0, 36, 8, 2, 36, 0, 12, 60, 0, 45, 0, 3, 23]\n",
        "\n",
        "remainders = []\n",
        "\n",
        "for number in numbers:\n",
        "    try:\n",
        "        remainders.append(36 % number)\n",
        "    except ZeroDivisionError:\n",
        "        pass\n",
        "print(remainders)"
      ],
      "metadata": {
        "colab": {
          "base_uri": "https://localhost:8080/"
        },
        "id": "CaeP84yVnNy7",
        "outputId": "b7665154-9d0b-46e9-a06d-de3bd8333642"
      },
      "execution_count": null,
      "outputs": [
        {
          "output_type": "stream",
          "name": "stdout",
          "text": [
            "[0, 0, 4, 0, 0, 0, 36, 36, 0, 13]\n"
          ]
        }
      ]
    },
    {
      "cell_type": "markdown",
      "source": [
        "## Only numbers\n",
        "На вход программе подается неопределенное количество строк, каждая из которых содержит произвольное значение. Напишите программу с использованием конструкции try-except, которая выводит сумму всех введенных чисел, а затем — количество введенных нечисловых значений.\n",
        "\n",
        "Формат входных данных\n",
        "На вход программе подается неопределенное количество строк (хотя бы одна), каждая из которых содержит произвольное значение.\n",
        "\n",
        "Формат выходных данных\n",
        "Программа должна вывести сумму всех введенных чисел (тип int и float), а затем на следующей строке — количество введенных нечисловых значений.\n",
        "\n",
        "Примечание 1. Если ни одно число введено не было, то сумма равна\n",
        "0\n",
        "0.\n",
        "\n",
        "Примечание 2. Рассмотрим первый тест. Имеем три введенных числа, сумма которых равна:\n",
        "100\n",
        "+\n",
        "10\n",
        "+\n",
        "1.1\n",
        "=\n",
        "111.1\n",
        "100+10+1.1=111.1\n",
        "Также три нечисловых значения, а именно: i'm number!, [1, 99], {'math', 'physics'}.\n",
        "\n",
        "https://stepik.org/lesson/640050/step/23?unit=636570"
      ],
      "metadata": {
        "id": "VUuYK3C-omOj"
      }
    },
    {
      "cell_type": "code",
      "source": [
        "import sys\n",
        "\n",
        "total = 0\n",
        "not_number = 0\n",
        "for string in sys.stdin:\n",
        "    if string.rstrip().replace(\".\", \"\", 1).isdigit():\n",
        "        try:\n",
        "            if string.index('.'):\n",
        "                total += float(string)\n",
        "        except ValueError:\n",
        "            total += int(string)\n",
        "    else:\n",
        "        not_number += 1\n",
        "\n",
        "print(total, not_number, sep=\"\\n\")"
      ],
      "metadata": {
        "colab": {
          "base_uri": "https://localhost:8080/"
        },
        "id": "bgLq1vllofUt",
        "outputId": "27782d9c-1db7-4d86-90eb-0a65aa879fda"
      },
      "execution_count": null,
      "outputs": [
        {
          "output_type": "stream",
          "name": "stdout",
          "text": [
            "0\n",
            "0\n"
          ]
        }
      ]
    },
    {
      "cell_type": "markdown",
      "source": [
        "## Январь, февраль, ...\n",
        "Напишите программу с использованием конструкции try-except, которая выводит название месяца, соответствующее введенному целому числу (от\n",
        "1\n",
        "1 до\n",
        "12\n",
        "12 включительно), причем\n",
        "\n",
        "если введенное число не принадлежит отрезку\n",
        "[\n",
        "1\n",
        ";\n",
        "12\n",
        "]\n",
        "[1;12], программа должна вывести текст:\n",
        "Введено число из недопустимого диапазона\n",
        "если введенное значение не является целым числом, программа должна вывести текст:\n",
        "Введено некорректное значение\n",
        "Формат входных данных\n",
        "На вход программе подается единственная строка с произвольным значением.\n",
        "\n",
        "Формат выходных данных\n",
        "Программа должна вывести полное название месяца на английском, соответствующее введенному числу (от\n",
        "1\n",
        "1 до\n",
        "12\n",
        "12 включительно) или текст с соответствующей ошибкой, если введенное значение некорректно.\n",
        "\n",
        "Примечание 1. Для получения списка с названиями месяцев вспомните атрибут month_name из модуля calendar.\n",
        "\n",
        "https://stepik.org/lesson/744448/step/20?unit=746216"
      ],
      "metadata": {
        "id": "9H4nEXgH3uWP"
      }
    },
    {
      "cell_type": "code",
      "source": [
        "import calendar\n",
        "\n",
        "try:\n",
        "    num = int(input())\n",
        "    if 1 <= num <= 12:\n",
        "        result = calendar.month_name[num]\n",
        "    else:\n",
        "        result = \"Введено число из недопустимого диапазона\"\n",
        "except ValueError:\n",
        "    result = \"Введено некорректное значение\"\n",
        "\n",
        "print(result)"
      ],
      "metadata": {
        "id": "KIsCv9YH3uef",
        "outputId": "f6e9fd82-e496-461f-fba6-b4cb590899e5",
        "colab": {
          "base_uri": "https://localhost:8080/"
        }
      },
      "execution_count": null,
      "outputs": [
        {
          "output_type": "stream",
          "name": "stdout",
          "text": [
            "0\n",
            "\n"
          ]
        }
      ]
    },
    {
      "cell_type": "markdown",
      "source": [
        "## Функция add_to_list_in_dict()\n",
        "Реализуйте функцию add_to_list_in_dict() с использованием конструкции try-except, которая принимает три аргумента в следующем порядке:\n",
        "\n",
        "data — словарь списков, то есть словарь, значениями в котором являются списки\n",
        "key — хешируемый объект\n",
        "element — произвольный объект\n",
        "Функция должна добавлять объект element в список по ключу key в словаре data. Если ключа key в словаре data нет, функция должна добавить его в словарь, присвоить ему в качестве значения пустой список и добавить в этот список объект element.\n",
        "\n",
        "Примечание 1. Функция должна изменять переданный словарь и возвращать значение None.\n",
        "\n",
        "Примечание 2. Элементы в список должны добавляться в конец.\n",
        "\n",
        "Примечание 3. В тестирующую систему сдайте программу, содержащую только необходимую функцию add_to_list_in_dict(), но не код, вызывающий ее.\n",
        "\n",
        "https://github.com/python-generation/Professional/blob/main/Module_7/Module_7.3/Module_7.3.20/output.txt"
      ],
      "metadata": {
        "id": "Li4A9acxICZ2"
      }
    },
    {
      "cell_type": "code",
      "source": [
        "def add_to_list_in_dict(data: dict, key: str, element: int) -> None:\n",
        "    try:\n",
        "        data[key].append(element)\n",
        "    except KeyError:\n",
        "        data.setdefault(key, []).append(element)\n",
        "\n",
        "    return None\n",
        "\n",
        "\n",
        "\n",
        "data = {'a': [1, 2, 3], 'b': [4, 5, 6]}\n",
        "add_to_list_in_dict(data, 'c', 7)\n",
        "\n",
        "print(data)"
      ],
      "metadata": {
        "id": "nq-7w7wtICRN",
        "outputId": "5b8bcb9a-02ee-4fa1-aa77-ddbba179a084",
        "colab": {
          "base_uri": "https://localhost:8080/"
        }
      },
      "execution_count": null,
      "outputs": [
        {
          "output_type": "stream",
          "name": "stdout",
          "text": [
            "{'a': [1, 2, 3], 'b': [4, 5, 6], 'c': [7]}\n"
          ]
        }
      ]
    },
    {
      "cell_type": "markdown",
      "source": [
        "## readme.txt\n",
        "Напишите программу с использованием конструкции try-except, которая принимает на вход название текстового файла и выводит его содержимое. Если файла с данным названием нет в папке с программой, программа должна вывести текст:\n",
        "\n",
        "​Файл не найден\n",
        "Формат входных данных\n",
        "На вход программе подается название текстового файла.\n",
        "\n",
        "Формат выходных данных\n",
        "Программа должна вывести содержимое файла с введенным названием или соответствующий текст, если файла с данным названием нет в папке с программой.\n",
        "\n",
        "Примечание 1. Название подаваемого файла уже содержит расширение.\n",
        "\n",
        "Примечание 2. При открытии файла используйте явное указание кодировки UTF-8.\n",
        "\n",
        "https://stepik.org/lesson/744448/step/22?unit=746216"
      ],
      "metadata": {
        "id": "xAFq1_D8KxL1"
      }
    },
    {
      "cell_type": "code",
      "source": [
        "try:\n",
        "    with open(\"readme.csv\", \"r\", encoding=\"utf-8\") as file:\n",
        "        print(file.read())\n",
        "\n",
        "except FileNotFoundError:\n",
        "    print(\"Файл не найден\")"
      ],
      "metadata": {
        "id": "ByFm0pyWKxEp",
        "outputId": "fb67422b-b2c9-43ef-a956-491cde8a4f44",
        "colab": {
          "base_uri": "https://localhost:8080/"
        }
      },
      "execution_count": null,
      "outputs": [
        {
          "output_type": "stream",
          "name": "stdout",
          "text": [
            "​Файл не найден\n"
          ]
        }
      ]
    },
    {
      "cell_type": "markdown",
      "source": [
        "## Работа с объектом возбужденного исключения"
      ],
      "metadata": {
        "id": "Bs2lEHt03qsW"
      }
    },
    {
      "cell_type": "code",
      "source": [
        "try:\n",
        "    nums = [10, 5, 20, 25]\n",
        "    print(nums[100])\n",
        "except (KeyError, IndexError) as err:    # записываем сгенерированное исключение в переменную err\n",
        "    print(err)\n",
        "    print(type(err))"
      ],
      "metadata": {
        "id": "859q1dD13sv3",
        "outputId": "5538ffdd-4b83-4cbe-86ca-edb0e6aa5cfe",
        "colab": {
          "base_uri": "https://localhost:8080/"
        }
      },
      "execution_count": null,
      "outputs": [
        {
          "output_type": "stream",
          "name": "stdout",
          "text": [
            "list index out of range\n",
            "<class 'IndexError'>\n"
          ]
        }
      ]
    },
    {
      "cell_type": "markdown",
      "source": [
        "## Функция get_weekday()\n",
        "Реализуйте функцию get_weekday(), которая принимает один аргумент:\n",
        "\n",
        "number — целое число (от\n",
        "1\n",
        "1 до\n",
        "7\n",
        "7 включительно)\n",
        "Функция должна возвращать полное название дня недели на русском, который соответствует числу number, при этом:\n",
        "\n",
        "если number не является целым числом, функция должна возбуждать исключение:\n",
        "TypeError('Аргумент не является целым числом')\n",
        "если number является целым числом, но не принадлежит отрезку\n",
        "[\n",
        "1\n",
        ";\n",
        "7\n",
        "]\n",
        "[1;7], функция должна возбуждать исключение:\n",
        "ValueError('Аргумент не принадлежит требуемому диапазону')\n",
        "Примечание 1. В тестирующую систему сдайте программу, содержащую только необходимую функцию get_weekday(), но не код, вызывающий ее.\n",
        "\n",
        "https://stepik.org/lesson/640051/step/18?unit=636571"
      ],
      "metadata": {
        "id": "dqYgnBPE_Zom"
      }
    },
    {
      "cell_type": "code",
      "source": [
        "def get_weekday(number):\n",
        "    week = {1: \"Понедельник\", 2: \"Вторник\", 3: \"Среда\", 4: \"Четверг\",\n",
        "            5: \"Пятница\", 6: \"Суббота\", 7: \"Воскресенье\", }\n",
        "\n",
        "    if not isinstance(number, int):\n",
        "        raise TypeError('Аргумент не является целым числом')\n",
        "\n",
        "    if number not in range(1, 8):\n",
        "        raise ValueError('Аргумент не принадлежит требуемому диапазону')\n",
        "\n",
        "    return week[number]\n",
        "\n",
        "# import calendar, locale\n",
        "\n",
        "# locale.setlocale(locale.LC_ALL, 'ru_RU.UTF-8')\n",
        "\n",
        "# def  get_weekday(number):\n",
        "#     days = dict(enumerate(calendar.day_name, 1))\n",
        "#     if not type(number) is int:\n",
        "#         raise TypeError('Аргумент не является целым числом')\n",
        "#     elif number not in range(1, 8):\n",
        "#         raise ValueError('Аргумент не принадлежит требуемому диапазону')\n",
        "#     return days[number].capitalize()\n",
        "\n",
        "\n",
        "try:\n",
        "    print(get_weekday(8))\n",
        "except Exception as err:\n",
        "    print(err)\n",
        "    print(type(err))"
      ],
      "metadata": {
        "id": "ojLl0GjB6EKL",
        "outputId": "3c89d657-d162-46ee-dffd-92a7e68e1f7f",
        "colab": {
          "base_uri": "https://localhost:8080/"
        }
      },
      "execution_count": null,
      "outputs": [
        {
          "output_type": "stream",
          "name": "stdout",
          "text": [
            "Аргумент не принадлежит требуемому диапазону\n",
            "<class 'ValueError'>\n"
          ]
        }
      ]
    },
    {
      "cell_type": "markdown",
      "source": [
        "## Функция get_id()\n",
        "В онлайн-школе BEEGEEK имя ученика считается корректным, если оно начинается с заглавной латинской буквы, за которой следуют строчные латинские буквы. Например, имена Timur и Yo считаются корректными, а имена timyrik, Yo17, TimuRRR нет. Также у каждого ученика имеется идентификационный номер, представленный натуральным числом, который выдается при поступлении в школу. К примеру, если в школе обучается\n",
        "10\n",
        "10 учеников, то новый прибывший ученик получит идентификационный номер равный\n",
        "11\n",
        "11.\n",
        "\n",
        "Реализуйте функцию get_id(), которая принимает два аргумента:\n",
        "\n",
        "names — список имен учеников, обучающихся в школе\n",
        "name — имя поступающего ученика\n",
        "Функция должна возвращать идентификационный номер, который получит поступающий в школу ученик, при этом\n",
        "\n",
        "если имя ученика name не является строкой (тип str), функция должна возбуждать исключение:\n",
        "TypeError('Имя не является строкой')\n",
        "если имя ученика name является строкой (тип str), но не представляет собой корректное имя, функция должна возбуждать исключение:\n",
        "ValueError('Имя не является корректным')\n",
        "Примечание 1. В тестирующую систему сдайте программу, содержащую только необходимую функцию get_id(), но не код, вызывающий ее.\n",
        "\n",
        "https://stepik.org/lesson/640051/step/19?unit=636571"
      ],
      "metadata": {
        "id": "rAvN52sfWXUl"
      }
    },
    {
      "cell_type": "code",
      "source": [
        "def get_id(names: list, name: str) -> int:\n",
        "    if not isinstance(name, str):\n",
        "        raise TypeError('Имя не является строкой')\n",
        "\n",
        "    if name != name.capitalize() or not name.isalpha():\n",
        "        raise ValueError('Имя не является корректным')\n",
        "\n",
        "    return len(names) + 1\n",
        "\n",
        "names = ['Timur', 'Anri', 'Dima', 'Arthur', 'Ruslan']\n",
        "name = ['E', 'd', 'u', 'a', 'r', 'd']\n",
        "\n",
        "try:\n",
        "    print(get_id(names, name))\n",
        "except TypeError as e:\n",
        "    print(e)"
      ],
      "metadata": {
        "id": "NiPkZlhIWZih",
        "outputId": "03e5f003-3cb6-46f3-f098-79c103cfea8f",
        "colab": {
          "base_uri": "https://localhost:8080/"
        }
      },
      "execution_count": null,
      "outputs": [
        {
          "output_type": "stream",
          "name": "stdout",
          "text": [
            "Имя не является строкой\n"
          ]
        }
      ]
    },
    {
      "cell_type": "markdown",
      "source": [
        "## Десериализация\n",
        "Напишите программу, которая принимает на вход название JSON файла, десериализует содержащийся в этом файле объект и выводит его.\n",
        "\n",
        "если файла с данным названием нет в папке с программой, программа должна вывести текст:\n",
        "Файл не найден\n",
        "если файл с данным названием содержит некорректные данные (то есть не удовлетворяющие формату JSON), программа должна вывести текст:\n",
        "Ошибка при десериализации\n",
        "Формат входных данных\n",
        "На вход программе подается название JSON файла.\n",
        "\n",
        "Формат выходных данных\n",
        "Программа должна десериализовать объект, содержащийся в файле с введенным названием, и вывести его. Если при поиске файла или десериализации его содержимого произошла ошибка, программа должна вывести соответствующий текст.\n",
        "\n",
        "Примечание 1. Название подаваемого файла уже содержит расширение.\n",
        "\n",
        "Примечание 2. В первом тесте файл numbers.json имеет следующее содержание\n",
        "\n",
        "[1, 2, 3, 4, 5, 6, 7, 8, 9, 10]\n",
        "Файл countries.json, представленный во втором тесте, отсутствует в папке с программой.\n",
        "\n",
        "В третьем тесте файл stores.json имеет следующее содержание:\n",
        "\n",
        "[}{}D}A{Sd]as][d]as[d][A}SD[as]d[][1111111111111[{}0002\n",
        "\n",
        "https://stepik.org/lesson/640051/step/20?unit=636571"
      ],
      "metadata": {
        "id": "WUExQjGdctEr"
      }
    },
    {
      "cell_type": "code",
      "source": [
        "import json\n",
        "\n",
        "try:\n",
        "    with open(\"text.json\") as file:\n",
        "        try:\n",
        "            data = json.load(file)\n",
        "            print(data)\n",
        "        except json.JSONDecodeError:\n",
        "            print(\"Ошибка при десериализации\")\n",
        "\n",
        "except FileNotFoundError:\n",
        "    print(\"Файл не найден\")\n"
      ],
      "metadata": {
        "id": "SGJw9iTJcv9Z",
        "outputId": "8cfaeae6-25cf-4f8e-b3c3-7c7cdaff3184",
        "colab": {
          "base_uri": "https://localhost:8080/"
        }
      },
      "execution_count": null,
      "outputs": [
        {
          "output_type": "stream",
          "name": "stdout",
          "text": [
            "Ошибка при десериализации\n"
          ]
        }
      ]
    },
    {
      "cell_type": "markdown",
      "source": [
        "## Функция is_good_password() 👀\n",
        "Назовем пароль хорошим, если\n",
        "\n",
        "его длина равна\n",
        "9\n",
        "9 или более символам\n",
        "в нем присутствуют большие и маленькие буквы любого алфавита\n",
        "в нем имеется хотя бы одна цифра\n",
        "Реализуйте функцию is_good_password() в стиле LBYL, которая принимает один аргумент:\n",
        "\n",
        "string — произвольная строка\n",
        "Функция должна возвращать True, если строка string представляет собой хороший пароль, или False в противном случае.\n",
        "\n",
        "Примечание 1. В тестирующую систему сдайте программу, содержащую только необходимую функцию is_good_password(), но не код, вызывающий ее.\n",
        "\n",
        "https://stepik.org/lesson/640052/step/7?unit=636572"
      ],
      "metadata": {
        "id": "H04KlXW-cWT-"
      }
    },
    {
      "cell_type": "code",
      "source": [
        "def is_good_password(string: str) -> bool:\n",
        "    # В идеале сделать словарь, для значений\n",
        "    if len(string) < 9:\n",
        "        return False\n",
        "\n",
        "    # res_num = any([str(n) in string for n in list(range(0, 10))])\n",
        "    # if not res_num:\n",
        "    #     return False\n",
        "\n",
        "    # chars =  list(filter(lambda x: x.isalpha(), set(string)))\n",
        "    # res_up = any(map(lambda x: x.upper() in string, chars))\n",
        "    # res_low = any(map(lambda x: x.lower() in string, chars))\n",
        "    # if not (res_up and res_low):\n",
        "    #     return False\n",
        "\n",
        "    res_num, res_up, res_low = False, False, False\n",
        "    for char in string:\n",
        "        if char.isdigit():\n",
        "            res_num = True\n",
        "        elif char.isupper():\n",
        "            res_up = True\n",
        "        elif char.islower():\n",
        "            res_low = True\n",
        "\n",
        "    return all([res_num, res_up, res_low])\n",
        "\n",
        "\n",
        "\n",
        "\n",
        "# print(is_good_password('41157082'))\n",
        "# print(is_good_password('мCо1йпарольсамыйлучший'))\n",
        "# print(is_good_password('МойПарольСамыйЛучший111'))\n",
        "print(is_good_password('!@#$%^&*()_+'))"
      ],
      "metadata": {
        "id": "889nDw9McWCs",
        "outputId": "093b131b-4ad4-4303-b48b-3ef6977e8227",
        "colab": {
          "base_uri": "https://localhost:8080/"
        }
      },
      "execution_count": 1,
      "outputs": [
        {
          "output_type": "stream",
          "name": "stdout",
          "text": [
            "False\n"
          ]
        }
      ]
    },
    {
      "cell_type": "markdown",
      "source": [
        "## Функция is_good_password() 🐍\n",
        "Назовем пароль хорошим, если\n",
        "\n",
        "его длина равна\n",
        "9\n",
        "9 или более символам\n",
        "в нем присутствуют большие и маленькие буквы любого алфавита\n",
        "в нем имеется хотя бы одна цифра\n",
        "Реализуйте функцию is_good_password() в стиле EAFP, которая принимает один аргумент:\n",
        "\n",
        "string — произвольная строка\n",
        "Функция должна возвращать True, если строка string представляет собой хороший пароль, или возбуждать исключение:\n",
        "\n",
        "LengthError, если его длина меньше\n",
        "9\n",
        "9 символов\n",
        "LetterError, если в нем отсутствуют буквы или все буквы имеют одинаковый регистр\n",
        "DigitError, если в нем нет ни одной цифры\n",
        "Примечание 1. Исключения LengthError, LetterError и DigitError уже определены и доступны.\n",
        "\n",
        "Примечание 2. Приоритет возбуждения исключений в случае невыполнения нескольких условий: LengthError, затем LetterError, а уже после DigitError.\n",
        "\n",
        "Примечание 3. В тестирующую систему сдайте программу, содержащую только необходимую функцию is_good_password(), но не код, вызывающий ее.\n",
        "\n",
        "https://stepik.org/lesson/640052/step/8?unit=636572"
      ],
      "metadata": {
        "id": "-yBHFBncdYIW"
      }
    },
    {
      "cell_type": "code",
      "source": [
        "class LengthError(Exception): pass\n",
        "class LetterError(Exception): pass\n",
        "class DigitError(Exception): pass\n",
        "\n",
        "def is_good_password(string: str) -> bool:\n",
        "    if len(string) < 9:\n",
        "        raise LengthError\n",
        "\n",
        "    res = list(filter(lambda x: x.isalpha(), string))\n",
        "    if not res or (string.isupper() or string.islower()):\n",
        "        raise LetterError\n",
        "\n",
        "    if not any(filter(lambda x: x.isdigit(), set(string))):\n",
        "        raise DigitError\n",
        "\n",
        "    return True\n",
        "\n",
        "\n",
        "try:\n",
        "    print(is_good_password('41157081231232'))\n",
        "except Exception as err:\n",
        "    print(type(err))"
      ],
      "metadata": {
        "id": "JGYZfgT9pf6I",
        "outputId": "d7e2fd0a-73f8-48e4-f721-9deff4a5a441",
        "colab": {
          "base_uri": "https://localhost:8080/"
        }
      },
      "execution_count": 102,
      "outputs": [
        {
          "output_type": "stream",
          "name": "stdout",
          "text": [
            "Jr\n",
            "<class '__main__.LetterError'>\n"
          ]
        }
      ]
    }
  ]
}