{
  "nbformat": 4,
  "nbformat_minor": 0,
  "metadata": {
    "colab": {
      "provenance": [],
      "toc_visible": true,
      "authorship_tag": "ABX9TyO07gcbL/wRr/SmFHS/bCUo",
      "include_colab_link": true
    },
    "kernelspec": {
      "name": "python3",
      "display_name": "Python 3"
    },
    "language_info": {
      "name": "python"
    }
  },
  "cells": [
    {
      "cell_type": "markdown",
      "metadata": {
        "id": "view-in-github",
        "colab_type": "text"
      },
      "source": [
        "<a href=\"https://colab.research.google.com/github/GenyaElamkov/Stepic_3/blob/master/Try_except.ipynb\" target=\"_parent\"><img src=\"https://colab.research.google.com/assets/colab-badge.svg\" alt=\"Open In Colab\"/></a>"
      ]
    },
    {
      "cell_type": "markdown",
      "source": [
        "Вам доступна программа, которая находит сумму всех значений по ключу Likes из всех словарей списка blog_posts. Если словарь не содержит ключа Likes, его значение считается равным минус единице. Дополните приведенный ниже код конструкцией try-except, чтобы он выполнился без ошибок.\n",
        "\n",
        "https://stepik.org/lesson/640050/step/20?unit=636570"
      ],
      "metadata": {
        "id": "NgrBt2VSjPum"
      }
    },
    {
      "cell_type": "code",
      "source": [
        "blog_posts = [{'Photos': 3, 'Likes': 21, 'Comments': 2},\n",
        "              {'Likes': 13, 'Comments': 2, 'Shares': 1},\n",
        "              {'Photos': 5, 'Likes': 33, 'Comments': 8, 'Shares': 3},\n",
        "              {'Comments': 4, 'Shares': 2},\n",
        "              {'Photos': 8, 'Comments': 1, 'Shares': 1},\n",
        "              {'Photos': 3, 'Likes': 19, 'Comments': 3}]\n",
        "\n",
        "total_likes = 0\n",
        "\n",
        "for post in blog_posts:\n",
        "    try:\n",
        "        total_likes += post['Likes']\n",
        "    except KeyError:\n",
        "        total_likes -= 1\n",
        "\n",
        "print(total_likes)\n",
        "res = sum([k[\"Likes\"]  for k in blog_posts for v in k.keys() if v == 'Likes'])\n",
        "print(res)"
      ],
      "metadata": {
        "colab": {
          "base_uri": "https://localhost:8080/"
        },
        "id": "H_hSVV2QSNYq",
        "outputId": "399c8cfa-0eca-42f3-d036-18db11e72baa"
      },
      "execution_count": null,
      "outputs": [
        {
          "output_type": "stream",
          "name": "stdout",
          "text": [
            "84\n",
            "86\n"
          ]
        }
      ]
    },
    {
      "cell_type": "markdown",
      "source": [
        "Вам доступна программа, которая добавляет в список fifth пятую букву каждого слова из списка food. Если слово не имеет пятой буквы, этой буквой считается символ _. Дополните приведенный ниже код конструкцией try-except, чтобы он выполнился без ошибок.\n",
        "\n",
        "\n",
        "https://stepik.org/lesson/640050/step/21?unit=636570"
      ],
      "metadata": {
        "id": "OOXRS-3inZt_"
      }
    },
    {
      "cell_type": "code",
      "source": [
        "food = ['chocolate', 'chicken', 'corn', 'sandwich', 'soup', 'potatoes', 'beef', 'lox', 'lemonade']\n",
        "fifth = []\n",
        "\n",
        "for x in food:\n",
        "    try:\n",
        "        fifth.append(x[4])\n",
        "    except IndexError:\n",
        "        fifth.append('_')\n",
        "print(fifth)"
      ],
      "metadata": {
        "colab": {
          "base_uri": "https://localhost:8080/"
        },
        "id": "Gk9Jdilmm78n",
        "outputId": "b9cecf6f-a38c-4813-ddfd-fd440c36f0b3"
      },
      "execution_count": null,
      "outputs": [
        {
          "output_type": "stream",
          "name": "stdout",
          "text": [
            "['o', 'k', '_', 'w', '_', 't', '_', '_', 'n']\n"
          ]
        }
      ]
    },
    {
      "cell_type": "markdown",
      "source": [
        "Вам доступна программа, которая добавляет в список remainders остаток от деления\n",
        "36\n",
        "36 на каждое число из списка numbers. Если число равно нулю, оно игнорируется. Дополните приведенный ниже код конструкцией try-except, чтобы он выполнился без ошибок.\n",
        "\n",
        "https://stepik.org/lesson/640050/step/22?unit=636570"
      ],
      "metadata": {
        "id": "gKy7SheqnQXV"
      }
    },
    {
      "cell_type": "code",
      "source": [
        "numbers = [6, 0, 36, 8, 2, 36, 0, 12, 60, 0, 45, 0, 3, 23]\n",
        "\n",
        "remainders = []\n",
        "\n",
        "for number in numbers:\n",
        "    try:\n",
        "        remainders.append(36 % number)\n",
        "    except ZeroDivisionError:\n",
        "        pass\n",
        "print(remainders)"
      ],
      "metadata": {
        "colab": {
          "base_uri": "https://localhost:8080/"
        },
        "id": "CaeP84yVnNy7",
        "outputId": "b7665154-9d0b-46e9-a06d-de3bd8333642"
      },
      "execution_count": null,
      "outputs": [
        {
          "output_type": "stream",
          "name": "stdout",
          "text": [
            "[0, 0, 4, 0, 0, 0, 36, 36, 0, 13]\n"
          ]
        }
      ]
    },
    {
      "cell_type": "markdown",
      "source": [
        "## Only numbers\n",
        "На вход программе подается неопределенное количество строк, каждая из которых содержит произвольное значение. Напишите программу с использованием конструкции try-except, которая выводит сумму всех введенных чисел, а затем — количество введенных нечисловых значений.\n",
        "\n",
        "Формат входных данных\n",
        "На вход программе подается неопределенное количество строк (хотя бы одна), каждая из которых содержит произвольное значение.\n",
        "\n",
        "Формат выходных данных\n",
        "Программа должна вывести сумму всех введенных чисел (тип int и float), а затем на следующей строке — количество введенных нечисловых значений.\n",
        "\n",
        "Примечание 1. Если ни одно число введено не было, то сумма равна\n",
        "0\n",
        "0.\n",
        "\n",
        "Примечание 2. Рассмотрим первый тест. Имеем три введенных числа, сумма которых равна:\n",
        "100\n",
        "+\n",
        "10\n",
        "+\n",
        "1.1\n",
        "=\n",
        "111.1\n",
        "100+10+1.1=111.1\n",
        "Также три нечисловых значения, а именно: i'm number!, [1, 99], {'math', 'physics'}.\n",
        "\n",
        "https://stepik.org/lesson/640050/step/23?unit=636570"
      ],
      "metadata": {
        "id": "VUuYK3C-omOj"
      }
    },
    {
      "cell_type": "code",
      "source": [
        "import sys\n",
        "\n",
        "total = 0\n",
        "not_number = 0\n",
        "for string in sys.stdin:\n",
        "    if string.rstrip().replace(\".\", \"\", 1).isdigit():\n",
        "        try:\n",
        "            if string.index('.'):\n",
        "                total += float(string)\n",
        "        except ValueError:\n",
        "            total += int(string)\n",
        "    else:\n",
        "        not_number += 1\n",
        "\n",
        "print(total, not_number, sep=\"\\n\")"
      ],
      "metadata": {
        "colab": {
          "base_uri": "https://localhost:8080/"
        },
        "id": "bgLq1vllofUt",
        "outputId": "27782d9c-1db7-4d86-90eb-0a65aa879fda"
      },
      "execution_count": null,
      "outputs": [
        {
          "output_type": "stream",
          "name": "stdout",
          "text": [
            "0\n",
            "0\n"
          ]
        }
      ]
    }
  ]
}