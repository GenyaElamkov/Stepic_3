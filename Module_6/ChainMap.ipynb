{
  "nbformat": 4,
  "nbformat_minor": 0,
  "metadata": {
    "colab": {
      "provenance": [],
      "toc_visible": true,
      "authorship_tag": "ABX9TyO1sa1JKigAxnTZb4sw7oyZ",
      "include_colab_link": true
    },
    "kernelspec": {
      "name": "python3",
      "display_name": "Python 3"
    },
    "language_info": {
      "name": "python"
    }
  },
  "cells": [
    {
      "cell_type": "markdown",
      "metadata": {
        "id": "view-in-github",
        "colab_type": "text"
      },
      "source": [
        "<a href=\"https://colab.research.google.com/github/GenyaElamkov/Stepic_3/blob/master/ChainMap.ipynb\" target=\"_parent\"><img src=\"https://colab.research.google.com/assets/colab-badge.svg\" alt=\"Open In Colab\"/></a>"
      ]
    },
    {
      "cell_type": "markdown",
      "source": [
        "## Зоопарк\n",
        "Вам доступен файл zoo.json, содержащий список JSON-объектов с данными об обитателях некоторого зоопарка. Ключом в каждом объекте является название животного, значением — их количество в зоопарке:\n",
        "\n",
        "[\n",
        "   {\n",
        "      \"Axolotl\": 11,\n",
        "      \"Poison Frog\": 12,\n",
        "      \"Sonoran Toad\": 6,\n",
        "      \"Tiger Salamander\": 16\n",
        "   },\n",
        "   {\n",
        "      \"African Fish Eagle\": 6,\n",
        "      \"Andean Condor\": 8,\n",
        "      \"Black Vulture\": 8,\n",
        "      \"Bufflehead Duck\": 9,\n",
        "      \"Flamingo\": 8,\n",
        "      \"Great Horned Owl\": 16,\n",
        "      \"Hornbill\": 1\n",
        "   },\n",
        "   ...\n",
        "]\n",
        "Напишите программу, которая определяет, сколько всего животных обитает в зоопарке, и выводит полученный результат.\n",
        "\n",
        "Примечание 1. Гарантируется, что все ключи в JSON-объектах, различны.\n",
        "\n",
        "Примечание 2. Указанный файл доступен по ссылке. Ответ на задачу доступен по ссылке.\n",
        "\n",
        "Примечание 3. При открытии файла используйте явное указание кодировки UTF-8.\n",
        "\n",
        "Напишите программу. Тестируется через stdin → stdout\n",
        "Верно реш\n",
        "\n",
        "https://stepik.org/lesson/634670/step/22?unit=630932"
      ],
      "metadata": {
        "id": "9znAiAPNFMaE"
      }
    },
    {
      "cell_type": "code",
      "execution_count": null,
      "metadata": {
        "colab": {
          "base_uri": "https://localhost:8080/"
        },
        "id": "LaWICwOgFDL3",
        "outputId": "ab1a3372-fcea-4668-e102-809c478be956"
      },
      "outputs": [
        {
          "output_type": "stream",
          "name": "stdout",
          "text": [
            "443\n"
          ]
        }
      ],
      "source": [
        "import json\n",
        "from collections import Counter, ChainMap\n",
        "\n",
        "with open(\"zoo.json\", encoding=\"utf-8\") as fj:\n",
        "    # res = 0\n",
        "    # for k in json.load(fj):\n",
        "    #     res += Counter(k).total()\n",
        "    # print(res)\n",
        "\n",
        "    res = sum(ChainMap(*json.load(fj)).values())\n",
        "    print(res)"
      ]
    },
    {
      "cell_type": "markdown",
      "source": [
        "## Булочный магнат\n",
        "После ухода сети Макдональдс из России Тимур решил открыть свою небольшую бургерную. Цена каждого бургера в его ресторане определяется количеством ингредиентов, которые выбирает сам посетитель. Вам доступны словари, в которых в качестве ключа указано название ингредиента, а в качестве значения — его цена. Все ингредиенты разбиты по категориям, например, овощи содержатся в одном словаре, соусы — в другом.\n",
        "\n",
        "Напишите программу, которая принимает на вход ингредиенты, выбранные посетителем, и определяет их общую стоимость.\n",
        "\n",
        "Формат входных данных\n",
        "На вход программе подается последовательность ингредиентов, разделенных запятой без пробелов.\n",
        "\n",
        "Формат выходных данных\n",
        "Программа должна определить общую стоимость введенных ингредиентов и вывести полученный результат в виде чека, в котором указаны ингредиенты в лексикографическом порядке, количество каждых и их общая стоимость, в следующем формате:\n",
        "\n",
        "<ингредиент 1> x <количество 1>\n",
        "<ингредиент 2> x <количество 2>\n",
        "...\n",
        "-------------------------------\n",
        "ИТОГ: <общая стоимость>р\n",
        "Примечание 1. Программа должна добавлять нужное количество пробелов, если один ингредиент имеет меньшую длину, чем другие.\n",
        "\n",
        "Примечание 2. Длина пунктирной линии должна равняться длине самой длинной строки в чеке, включая строку с итоговой стоимостью.\n",
        "\n",
        "Примечание 3. Гарантируется, что все ингредиенты, выбранные посетителем, присутствуют в словарях.\n",
        "\n",
        "https://stepik.org/lesson/634670/step/23?unit=630932"
      ],
      "metadata": {
        "id": "LfXizgk3K2Bz"
      }
    },
    {
      "cell_type": "code",
      "source": [
        "from collections import ChainMap, Counter\n",
        "\n",
        "bread = {'булочка с кунжутом': 15, 'обычная булочка': 10, 'ржаная булочка': 15}\n",
        "meat = {'куриный бифштекс': 50, 'говяжий бифштекс': 70, 'рыбный бифштекс': 40}\n",
        "sauce = {'сливочно-чесночный': 15, 'кетчуп': 10, 'горчица': 10, 'барбекю': 15, 'чили': 15}\n",
        "vegetables = {'лук': 10, 'салат': 15, 'помидор': 15, 'огурцы': 10}\n",
        "toppings = {'сыр': 25, 'яйцо': 15, 'бекон': 30}\n",
        "\n",
        "indigrients = \"сыр,сыр,сыр,сыр,сыр,сыр,сыр,сыр,сыр,сыр,сыр,сыр,сыр,сыр,сыр\".split(',')\n",
        "\n",
        "counter_product = Counter(indigrients)\n",
        "width = len(max(counter_product, key=len))\n",
        "len_text = 0\n",
        "for k, v in sorted(counter_product.items()):\n",
        "    text = f\"{k:{width}} x {v}\"\n",
        "\n",
        "    len_line = len(text)\n",
        "    if len_line > len_text: len_line = len_line\n",
        "\n",
        "    print(text)\n",
        "\n",
        "products = ChainMap(bread, meat, sauce, vegetables, toppings)\n",
        "res_sum = sum([products[indigrient] for indigrient in indigrients])\n",
        "\n",
        "print_res_sum = f\"ИТОГ: {res_sum}р\"\n",
        "\n",
        "len_print_res_sum = len(print_res_sum)\n",
        "if len_print_res_sum > len_line: len_line = len_print_res_sum\n",
        "\n",
        "print(f\"{len_line*'-'}\\n{print_res_sum}\")"
      ],
      "metadata": {
        "colab": {
          "base_uri": "https://localhost:8080/"
        },
        "id": "dXb9KGbaK43C",
        "outputId": "bfee0a6c-044f-43c4-bbf5-36b6b609602d"
      },
      "execution_count": null,
      "outputs": [
        {
          "output_type": "stream",
          "name": "stdout",
          "text": [
            "сыр x 15\n",
            "----------\n",
            "ИТОГ: 375р\n"
          ]
        }
      ]
    },
    {
      "cell_type": "code",
      "source": [
        "from collections import ChainMap\n",
        "\n",
        "authors = ChainMap({'name': 'Timur', 'city': 'Moscow'})\n",
        "\n",
        "authors.new_child({'name': 'Arthur', 'city': 'Almetyevsk'})\n",
        "\n",
        "print(authors)"
      ],
      "metadata": {
        "colab": {
          "base_uri": "https://localhost:8080/"
        },
        "id": "HHAzEajXZOrl",
        "outputId": "85834731-1019-4c09-f723-00b90961bbfd"
      },
      "execution_count": null,
      "outputs": [
        {
          "output_type": "stream",
          "name": "stdout",
          "text": [
            "ChainMap({'name': 'Timur', 'city': 'Moscow'})\n"
          ]
        }
      ]
    },
    {
      "cell_type": "markdown",
      "source": [
        "## Функция get_all_values()\n",
        "Реализуйте функцию get_all_values(), которая принимает два аргумента в следующем порядке:\n",
        "\n",
        "chainmap — объект типа ChainMap, элементами которого являются словари\n",
        "key — произвольный объект\n",
        "Функция должна возвращать множество, элементами которого являются все значения по ключу key из всех словарей в chainmap. Если ключ key отсутствует в chainmap, функция должна вернуть пустое множество.\n",
        "\n",
        "Примечание 1. Гарантируется, что передаваемый в функцию объект типа ChainMap содержит словари с хешируемыми значениями.\n",
        "\n",
        "Примечание 2. В тестирующую систему сдайте программу, содержащую только необходимую функцию get_all_values(), но не код, вызывающий ее.\n",
        "\n",
        "https://stepik.org/lesson/743710/step/13?unit=745474"
      ],
      "metadata": {
        "id": "Ki6VUkgBj4cU"
      }
    },
    {
      "cell_type": "code",
      "source": [
        "from collections import ChainMap, Counter\n",
        "\n",
        "\n",
        "def get_all_values(chainmap: ChainMap, name: str):\n",
        "    res = set()\n",
        "    if name not in chainmap:\n",
        "        return res\n",
        "\n",
        "    for k in chainmap.maps:\n",
        "        if name not in k:\n",
        "            continue\n",
        "        res.add(k[name])\n",
        "    return res\n",
        "\n",
        "chainmap = ChainMap({'name': 'Anri'}, {'name': 'Arthur', 'age': 20},\n",
        "                    {'name': 'Timur', 'age': 29})\n",
        "result = get_all_values(chainmap, 'age')\n",
        "# print(*sorted(result))\n",
        "print(result)"
      ],
      "metadata": {
        "colab": {
          "base_uri": "https://localhost:8080/"
        },
        "id": "m_PMGSebj_zK",
        "outputId": "7e59191f-9f4f-4ccb-cfb1-9a50d6d42da2"
      },
      "execution_count": null,
      "outputs": [
        {
          "output_type": "stream",
          "name": "stdout",
          "text": [
            "20\n"
          ]
        }
      ]
    },
    {
      "cell_type": "markdown",
      "source": [
        "## Функция deep_update()\n",
        "Реализуйте функцию deep_update(), которая принимает три аргумента в следующем порядке:\n",
        "\n",
        "chainmap — объект типа ChainMap, элементами которого являются словари\n",
        "key — хешируемый объект\n",
        "value — произвольный объект\n",
        "Функция должна изменять все значения по ключу key во всех словарях в chainmap на value. Если ключ key отсутствует в chainmap, функция должна добавить пару key: value в первый словарь.\n",
        "\n",
        "Примечание 1. Функция должна изменять передаваемый объект типа ChainMap и возвращать значение None.\n",
        "\n",
        "Примечание 2. Гарантируется, что передаваемый в функцию объект типа ChainMap содержит хотя бы один словарь.\n",
        "\n",
        "Примечание 3. В тестирующую систему сдайте программу, содержащую только необходимую функцию deep_update(), но не код, вызывающий ее.\n",
        "\n",
        "https://stepik.org/lesson/743710/step/14?unit=745474"
      ],
      "metadata": {
        "id": "9R6XaojTR4Kh"
      }
    },
    {
      "cell_type": "code",
      "source": [
        "from collections import ChainMap\n",
        "\n",
        "\n",
        "def deep_update(chainmap: ChainMap, key: str, value: str) -> None:\n",
        "    # if key not in chainmap:\n",
        "    #     chainmap.setdefault(key, value)\n",
        "\n",
        "    for d in chainmap.maps:\n",
        "        if key in d:\n",
        "            d[key] = value\n",
        "    else:\n",
        "        chainmap.setdefault(key, value)\n",
        "\n",
        "    # if key in chainmap:\n",
        "    #     [dct.update({key: value}) for dct in chainmap.maps if key in dct]\n",
        "    # else:\n",
        "    #     chainmap[key] = value\n",
        "\n",
        "\n",
        "chainmap = ChainMap({'city': 'Moscow'}, {'name': 'Arthur'}, {'name': 'Timur'})\n",
        "deep_update(chainmap, 'name', 'Dima')\n",
        "\n",
        "print(chainmap)"
      ],
      "metadata": {
        "id": "ykDswe08R3h0",
        "colab": {
          "base_uri": "https://localhost:8080/"
        },
        "outputId": "42a77dbb-e339-472e-b1f5-05c480be4095"
      },
      "execution_count": null,
      "outputs": [
        {
          "output_type": "stream",
          "name": "stdout",
          "text": [
            "ChainMap({'city': 'Moscow'}, {'name': 'Dima'}, {'name': 'Dima'})\n"
          ]
        }
      ]
    },
    {
      "cell_type": "markdown",
      "source": [
        "## Функция get_value()\n",
        "Реализуйте функцию get_value(), которая принимает три аргумента в следующем порядке:\n",
        "\n",
        "chainmap — объект типа ChainMap, элементами которого являются словари\n",
        "key — произвольный объект\n",
        "from_left — булево значение, по умолчанию равное True\n",
        "Функция должна возвращать значение по ключу key из chainmap, причем:\n",
        "\n",
        "если from_left имеет значение True, поиск ключа в chainmap должен происходить от первого словаря к последнему\n",
        "если from_left имеет значение False, поиск ключа в chainmap должен происходить от последнего словаря к первому\n",
        "Если ключ key отсутствует в chainmap, функция должна вернуть значение None.\n",
        "\n",
        "Примечание 1. В тестирующую систему сдайте программу, содержащую только необходимую функцию get_value(), но не код, вызывающий ее.\\\n",
        "\n",
        "https://stepik.org/lesson/743710/step/15?unit=745474"
      ],
      "metadata": {
        "id": "lG8onI6zDhZF"
      }
    },
    {
      "cell_type": "code",
      "source": [
        "from collections import ChainMap\n",
        "\n",
        "def get_value(chainmap: ChainMap, key: str, from_left: bool=True) -> str | None:\n",
        "    if key not in chainmap:\n",
        "        return None\n",
        "\n",
        "    if not from_left:\n",
        "        return ChainMap(*chainmap.maps[::-1])[key]\n",
        "    return chainmap[key]\n",
        "\n",
        "# if not from_left:\n",
        "#         chainmap.maps = chainmap.maps[::-1]\n",
        "#     return chainmap.get(key, None)\n",
        "\n",
        "\n",
        "\n",
        "chainmap = ChainMap({'name': 'Arthur'}, {'name': 'Timur'})\n",
        "\n",
        "print(get_value(chainmap, 'name', False))"
      ],
      "metadata": {
        "id": "oEfjmWG0DjpL",
        "outputId": "a2811cc9-da15-460b-b9fc-e683ae2c8e10",
        "colab": {
          "base_uri": "https://localhost:8080/"
        }
      },
      "execution_count": 41,
      "outputs": [
        {
          "output_type": "stream",
          "name": "stdout",
          "text": [
            "Timur\n"
          ]
        }
      ]
    }
  ]
}