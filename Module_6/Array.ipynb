{
  "nbformat": 4,
  "nbformat_minor": 0,
  "metadata": {
    "colab": {
      "provenance": [],
      "toc_visible": true,
      "authorship_tag": "ABX9TyMuNGMA8KSrUEckhtrOopoa",
      "include_colab_link": true
    },
    "kernelspec": {
      "name": "python3",
      "display_name": "Python 3"
    },
    "language_info": {
      "name": "python"
    }
  },
  "cells": [
    {
      "cell_type": "markdown",
      "metadata": {
        "id": "view-in-github",
        "colab_type": "text"
      },
      "source": [
        "<a href=\"https://colab.research.google.com/github/GenyaElamkov/Stepic_3/blob/master/Array.ipynb\" target=\"_parent\"><img src=\"https://colab.research.google.com/assets/colab-badge.svg\" alt=\"Open In Colab\"/></a>"
      ]
    },
    {
      "cell_type": "markdown",
      "source": [
        "# Модуль array"
      ],
      "metadata": {
        "id": "EyF7p8nNczD_"
      }
    },
    {
      "cell_type": "markdown",
      "source": [
        "Массив хранит элементы одного типа данных"
      ],
      "metadata": {
        "id": "Wu1_rdOKgOKy"
      }
    },
    {
      "cell_type": "markdown",
      "source": [
        "variable_name  = array.array(typecode[, initializer]) - создает новый массив\n",
        "\n",
        "typecode - какой тип будет храниться\n",
        "initializer - элементы\n"
      ],
      "metadata": {
        "id": "6UXd83LoduBt"
      }
    },
    {
      "cell_type": "code",
      "execution_count": null,
      "metadata": {
        "colab": {
          "base_uri": "https://localhost:8080/"
        },
        "id": "s6RZd84wcwtU",
        "outputId": "8650ee45-b446-425d-fbd6-6359bf3d9639"
      },
      "outputs": [
        {
          "output_type": "stream",
          "name": "stdout",
          "text": [
            "array('h')\n",
            "array('u', 'hello')\n",
            "array('l', [1, 2, 3, 4, 5])\n"
          ]
        }
      ],
      "source": [
        "import array\n",
        "\n",
        "print(array.array('h'))\n",
        "print(array.array('u', 'hello'))\n",
        "print(array.array('l', [1, 2, 3, 4, 5]))\n"
      ]
    },
    {
      "cell_type": "markdown",
      "source": [
        "Коды типов, которые может хранить массив array()\n",
        "\n",
        "https://docs-python.ru/standart-library/modul-array-python/tipy-kodov-massiva-array-modulja-array/\n",
        "\n",
        "\n",
        "\n",
        "Объснение на русском, там же таблица кодов typecode\n",
        "\n",
        "https://pythonist.ru/massiv-v-python/"
      ],
      "metadata": {
        "id": "gpmjuRwMe_Ny"
      }
    }
  ]
}