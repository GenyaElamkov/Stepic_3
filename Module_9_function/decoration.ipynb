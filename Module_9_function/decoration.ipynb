{
  "nbformat": 4,
  "nbformat_minor": 0,
  "metadata": {
    "colab": {
      "provenance": [],
      "toc_visible": true,
      "authorship_tag": "ABX9TyP9zrAKuE+1mHJQjDQcBNF9",
      "include_colab_link": true
    },
    "kernelspec": {
      "name": "python3",
      "display_name": "Python 3"
    },
    "language_info": {
      "name": "python"
    }
  },
  "cells": [
    {
      "cell_type": "markdown",
      "metadata": {
        "id": "view-in-github",
        "colab_type": "text"
      },
      "source": [
        "<a href=\"https://colab.research.google.com/github/GenyaElamkov/Stepic_3/blob/master/decoration.ipynb\" target=\"_parent\"><img src=\"https://colab.research.google.com/assets/colab-badge.svg\" alt=\"Open In Colab\"/></a>"
      ]
    },
    {
      "cell_type": "markdown",
      "source": [
        "#ШАБЛОН"
      ],
      "metadata": {
        "id": "mETx14fnrKHk"
      }
    },
    {
      "cell_type": "code",
      "source": [
        "import functools\n",
        "\n",
        "def takes(datatype):\n",
        "    def decorator(func):\n",
        "        @functools.wraps(func)\n",
        "        def wrapper(*args, **kwargs):\n",
        "            return func(*args, **kwargs)\n",
        "\n",
        "        return wrapper\n",
        "\n",
        "    return decorator"
      ],
      "metadata": {
        "id": "HCjhe6VPrMSW"
      },
      "execution_count": null,
      "outputs": []
    },
    {
      "cell_type": "code",
      "execution_count": null,
      "metadata": {
        "colab": {
          "base_uri": "https://localhost:8080/"
        },
        "id": "lrseVaCoi6tZ",
        "outputId": "db837d4a-425e-4032-8ee0-9d6628f2993b"
      },
      "outputs": [
        {
          "output_type": "stream",
          "name": "stdout",
          "text": [
            "hello\n",
            "HELLO WORDS\n"
          ]
        }
      ],
      "source": [
        "def uppers(func):\n",
        "    def wraper(text):\n",
        "        res = func(text)\n",
        "        return res.upper()\n",
        "    return wraper\n",
        "\n",
        "def say(text):\n",
        "    return text\n",
        "\n",
        "print(say('hello'))\n",
        "\n",
        "greate = uppers(say)\n",
        "print(greate('hello words'))\n"
      ]
    },
    {
      "cell_type": "code",
      "source": [
        "def bold(func):\n",
        "    def wraper(*args, **kwargs):\n",
        "        return '<b>' + func(*args, **kwargs) + '</b>'\n",
        "    return wraper\n",
        "\n",
        "\n",
        "def italic(func):\n",
        "    def wraper(*args, **kwargs):\n",
        "        return '<i>' + func(*args, **kwargs) + '</i>'\n",
        "    return wraper\n",
        "\n",
        "@bold\n",
        "@italic\n",
        "def show_html(text):\n",
        "    return text\n",
        "\n",
        "print(show_html('Hello'))\n",
        "\n",
        "@bold\n",
        "def show_no_text():\n",
        "    return \"I'am not found!\"\n",
        "\n",
        "show_no_text()\n"
      ],
      "metadata": {
        "colab": {
          "base_uri": "https://localhost:8080/",
          "height": 54
        },
        "id": "LbYBlKg1mnSa",
        "outputId": "1e1fb33e-7303-4431-b76a-e08fe904316b"
      },
      "execution_count": null,
      "outputs": [
        {
          "output_type": "stream",
          "name": "stdout",
          "text": [
            "<b><i>Hello</i></b>\n"
          ]
        },
        {
          "output_type": "execute_result",
          "data": {
            "text/plain": [
              "\"<b>I'am not found!</b>\""
            ],
            "application/vnd.google.colaboratory.intrinsic+json": {
              "type": "string"
            }
          },
          "metadata": {},
          "execution_count": 47
        }
      ]
    },
    {
      "cell_type": "markdown",
      "source": [
        "## Декоратор sandwich\n",
        "Реализуйте декоратор sandwich, который выводит тексты:\n",
        "\n",
        "---- Верхний ломтик хлеба ----\n",
        "---- Нижний ломтик хлеба ----\n",
        "до и после вызова декорируемой функции соответственно.\n",
        "\n",
        "Примечание 1. Не забывайте про то, что декоратор не должен поглощать возвращаемое значение декорируемой функции, а также должен уметь декорировать функции с произвольным количеством позиционных и именованных аргументов.\n",
        "\n",
        "Примечание 2. В тестирующую систему сдайте программу, содержащую только необходимый декоратор sandwich, но не код, вызывающий его.\n",
        "\n",
        "https://stepik.org/lesson/640039/step/19?auth=login&unit=636559"
      ],
      "metadata": {
        "id": "z98HFTRS2X1c"
      }
    },
    {
      "cell_type": "code",
      "source": [
        "def sandwich(func):\n",
        "    def wrapper(*args, **kwargs):\n",
        "        print(\"---- Верхний ломтик хлеба ----\")\n",
        "        res = func(*args, **kwargs)\n",
        "        print(\"---- Нижний ломтик хлеба ----\")\n",
        "        return res\n",
        "    return wrapper\n",
        "\n",
        "\n",
        "@sandwich\n",
        "def beegeek():\n",
        "    return 'beegeek'\n",
        "\n",
        "\n",
        "print(beegeek())\n"
      ],
      "metadata": {
        "id": "12mE3xwH2YHJ"
      },
      "execution_count": null,
      "outputs": []
    },
    {
      "cell_type": "markdown",
      "source": [
        "## Новый print\n",
        "Напишите программу с использованием декоратора, которая переопределяет функцию print() так, чтобы она печатала весь текст в верхнем регистре.\n",
        "\n",
        "Формат входных данных\n",
        "На вход программе ничего не подается.\n",
        "\n",
        "Формат выходных данных\n",
        "Программа должна задекорировать функцию print() так, чтобы она печатала весь текст в верхнем регистре.\n",
        "\n",
        "Примечание 1. Значения sep и end также должны переводиться в верхний регистр.\n",
        "\n",
        "Примечание 2. Не забывайте про то, что декоратор не должен поглощать возвращаемое значение декорируемой функции, а также должен уметь декорировать функции с произвольным количеством позиционных и именованных аргументов.\n",
        "\n",
        "https://stepik.org/lesson/640039/step/20?auth=login&unit=636559"
      ],
      "metadata": {
        "id": "FSwR3WqZ2fGx"
      }
    },
    {
      "cell_type": "code",
      "source": [
        "def print_upper(func):\n",
        "    def wrapper(*args, **kwargs):\n",
        "        args = tuple(map(\n",
        "            str, map(lambda x: x.upper() if isinstance(x, str) else x, args)))\n",
        "        kwargs = {k: v.upper() if isinstance(v, str) else v\n",
        "                  for k, v in kwargs.items()}\n",
        "        func(*args, **kwargs)\n",
        "    return wrapper\n",
        "\n",
        "\n",
        "print = print_upper(print)\n",
        "\n",
        "\n",
        "print('are you in trouble?')"
      ],
      "metadata": {
        "colab": {
          "base_uri": "https://localhost:8080/"
        },
        "id": "QgEh6ll42fft",
        "outputId": "29ccf8ef-ed7a-4ff5-e9fb-f55a057924d3"
      },
      "execution_count": null,
      "outputs": [
        {
          "output_type": "stream",
          "name": "stdout",
          "text": [
            "ARE YOU IN TROUBLE?\n"
          ]
        }
      ]
    },
    {
      "cell_type": "markdown",
      "source": [
        "## Декоратор do_twice\n",
        "Реализуйте декоратор do_twice, вызывающий декорируемую функцию два раза.\n",
        "\n",
        "Примечание 1. Не забывайте про то, что декоратор не должен поглощать возвращаемое значение декорируемой функции, а также должен уметь декорировать функции с произвольным количеством позиционных и именованных аргументов.\n",
        "\n",
        "Примечание 2. В тестирующую систему сдайте программу, содержащую только необходимый декоратор do_twice, но не код, вызывающий его.\n",
        "\n",
        "https://stepik.org/lesson/640039/step/21?auth=login&unit=636559"
      ],
      "metadata": {
        "id": "72NdduSy-Yw2"
      }
    },
    {
      "cell_type": "code",
      "source": [
        "def do_twice(func):\n",
        "    def wrapper(*args, **kwargs):\n",
        "        func(*args, **kwargs)\n",
        "        return func(*args, **kwargs)\n",
        "    return wrapper\n",
        "\n",
        "\n",
        "@do_twice\n",
        "def beegeek():\n",
        "    print('beegeek')\n",
        "\n",
        "\n",
        "print(beegeek())"
      ],
      "metadata": {
        "colab": {
          "base_uri": "https://localhost:8080/"
        },
        "id": "M3zvxoQ2-Y-c",
        "outputId": "8297c34d-be54-4ff8-9d43-526795ae51f3"
      },
      "execution_count": null,
      "outputs": [
        {
          "output_type": "stream",
          "name": "stdout",
          "text": [
            "BEEGEEK\n",
            "BEEGEEK\n",
            "None\n"
          ]
        }
      ]
    },
    {
      "cell_type": "markdown",
      "source": [
        "## Декоратор reverse_args\n",
        "Реализуйте декоратор reverse_args, который передает все позиционные аргументы в декорируемую функцию func в обратном порядке.\n",
        "\n",
        "Примечание 1. Не забывайте про то, что декоратор не должен поглощать возвращаемое значение декорируемой функции, а также должен уметь декорировать функции с произвольным количеством позиционных и именованных аргументов.\n",
        "\n",
        "Примечание 2. В тестирующую систему сдайте программу, содержащую только необходимый декоратор reverse_args, но не код, вызывающий его."
      ],
      "metadata": {
        "id": "RdlSAOTduQRs"
      }
    },
    {
      "cell_type": "code",
      "source": [
        "def reverse_args(func):\n",
        "    def wrapper(*args, **kwargs):\n",
        "        return func(*args[::-1], **kwargs)\n",
        "    return wrapper\n",
        "\n",
        "\n",
        "@reverse_args\n",
        "def power(a, n):\n",
        "    return a ** n\n",
        "\n",
        "\n",
        "print(power(2, 3))"
      ],
      "metadata": {
        "colab": {
          "base_uri": "https://localhost:8080/"
        },
        "id": "CpBkDQmruQgE",
        "outputId": "dd1a2c80-f9e7-43bd-97de-68a9029230f3"
      },
      "execution_count": null,
      "outputs": [
        {
          "output_type": "stream",
          "name": "stdout",
          "text": [
            "9\n"
          ]
        }
      ]
    },
    {
      "cell_type": "markdown",
      "source": [
        "## Декоратор exception_decorator\n",
        "Реализуйте декоратор exception_decorator, который возвращает\n",
        "\n",
        "кортеж (value, 'Функция выполнилась без ошибок'), если декорируемая функция завершила свою работу без ошибок, где value — возвращаемое значение декорируемой функции\n",
        "кортеж (None, 'При вызове функции произошла ошибка'), если при выполнении декорируемой функции возникла ошибка\n",
        "Примечание 1. Не забывайте про то, что декоратор не должен поглощать возвращаемое значение декорируемой функции, а также должен уметь декорировать функции с произвольным количеством позиционных и именованных аргументов.\n",
        "\n",
        "Примечание 2. В тестирующую систему сдайте программу, содержащую только необходимый декоратор exception_decorator, но не код, вызывающий его.\n",
        "\n",
        "https://stepik.org/lesson/640039/step/23?unit=636559"
      ],
      "metadata": {
        "id": "QnEzIphLxL51"
      }
    },
    {
      "cell_type": "code",
      "source": [
        "def exception_decorator(func):\n",
        "    def wrapper(*args, **kwargs):\n",
        "        try:\n",
        "            return func(*args, **kwargs), 'Функция выполнилась без ошибок'\n",
        "        except TypeError:\n",
        "            return None, 'При вызове функции произошла ошибка'\n",
        "    return wrapper\n",
        "\n",
        "\n",
        "@exception_decorator\n",
        "def f(x):\n",
        "    return x ** 2 + 2 * x + 1\n",
        "\n",
        "print(f(7))"
      ],
      "metadata": {
        "colab": {
          "base_uri": "https://localhost:8080/"
        },
        "id": "mjZzYdvoxNkt",
        "outputId": "3f1ea1fd-df50-4e48-9b19-ae0cb53e1689"
      },
      "execution_count": null,
      "outputs": [
        {
          "output_type": "stream",
          "name": "stdout",
          "text": [
            "(64, 'Функция выполнилась без ошибок')\n"
          ]
        }
      ]
    },
    {
      "cell_type": "markdown",
      "source": [
        "## Декоратор takes_positive\n",
        "Реализуйте декоратор takes_positive, который проверяет, что все аргументы, передаваемые в декорируемую функцию, являются положительными целыми числами.\n",
        "\n",
        "Если хотя бы один аргумент не удовлетворяет данному условию, декоратор должен возбуждать исключение:\n",
        "\n",
        "TypeError, если аргумент не является целым числом\n",
        "ValueError, если аргумент является целым числом, но отрицательным или равным нулю\n",
        "Примечание 1. Приоритет возбуждения исключений при несоответствии аргумента обоим условиям или при наличии разных аргументов, несоответствующих разным условиям: TypeError, затем ValueError.\n",
        "\n",
        "Примечание 2. Не забывайте про то, что декоратор не должен поглощать возвращаемое значение декорируемой функции, а также должен уметь декорировать функции с произвольным количеством позиционных и именованных аргументов.\n",
        "\n",
        "Примечание 3. В тестирующую систему сдайте программу, содержащую только необходимый декоратор takes_positive, но не код, вызывающий его.\n",
        "\n",
        "https://stepik.org/lesson/640039/step/24?thread=solutions&unit=636559"
      ],
      "metadata": {
        "id": "ZeWrVTs2KiQg"
      }
    },
    {
      "cell_type": "code",
      "source": [
        "def takes_positive(func):\n",
        "    def wrapper(*args, **kwargs):\n",
        "        for k in (args + (*kwargs.values(),)):\n",
        "            if not isinstance(k, int):\n",
        "                raise TypeError\n",
        "            if k <= 0:\n",
        "                raise ValueError\n",
        "        return func(*args, **kwargs)\n",
        "\n",
        "    return wrapper\n",
        "\n",
        "@takes_positive\n",
        "def positive_sum(*args):\n",
        "    return sum(args)\n",
        "\n",
        "print(positive_sum(1, 2, 3, 4, 5, 6, 7, 8, 9, 10))"
      ],
      "metadata": {
        "id": "957KjC6LKio4",
        "outputId": "5b9c1578-48fb-4cbb-fd52-4577564cf985",
        "colab": {
          "base_uri": "https://localhost:8080/"
        }
      },
      "execution_count": null,
      "outputs": [
        {
          "output_type": "stream",
          "name": "stdout",
          "text": [
            "55\n"
          ]
        }
      ]
    },
    {
      "cell_type": "code",
      "source": [
        "def bold(func):\n",
        "    def wrapper(*args, **kwargs):\n",
        "        return '<b>' + func(*args, **kwargs) + '</b>'\n",
        "    wrapper.__name__ = func.__name__\n",
        "    wrapper.__doc__ = func.__doc__\n",
        "    return wrapper\n",
        "\n",
        "@bold\n",
        "def greet(name):\n",
        "    '''Функция приветствия пользователя.'''\n",
        "    return f'Hello {name}!'\n",
        "\n",
        "print(greet.__name__)\n",
        "print(greet.__doc__)"
      ],
      "metadata": {
        "colab": {
          "base_uri": "https://localhost:8080/"
        },
        "id": "K9zw2_-gqUSL",
        "outputId": "7053e4ff-107e-4081-ad18-1eb8e726562d"
      },
      "execution_count": null,
      "outputs": [
        {
          "output_type": "stream",
          "name": "stdout",
          "text": [
            "greet\n",
            "Функция приветствия пользователя.\n"
          ]
        }
      ]
    },
    {
      "cell_type": "code",
      "source": [
        "import functools\n",
        "\n",
        "def bold(func):\n",
        "    @functools.wraps(func)\n",
        "    def wrapper(*args, **kwargs):\n",
        "        return '<b>' + func(*args, **kwargs) + '</b>'\n",
        "    return wrapper\n",
        "\n",
        "@bold\n",
        "def greet(name):\n",
        "    '''Функция приветствие пользователя.'''\n",
        "    return f'Hello {name}!'\n",
        "\n",
        "print(greet.__name__)\n",
        "print(greet.__doc__)"
      ],
      "metadata": {
        "colab": {
          "base_uri": "https://localhost:8080/"
        },
        "id": "Wzre4CZMq_Hk",
        "outputId": "94322401-5072-4030-c8a9-219bfd8a1920"
      },
      "execution_count": null,
      "outputs": [
        {
          "output_type": "stream",
          "name": "stdout",
          "text": [
            "greet\n",
            "Функция приветствие пользователя.\n"
          ]
        }
      ]
    },
    {
      "cell_type": "code",
      "source": [
        "import sys, time\n",
        "def teleprint(*args, delay=0.05, str_join=' '):\n",
        "    text = str_join.join(str(x) for x in args)\n",
        "    n = len(text)\n",
        "    for i, char in enumerate(text, 1):\n",
        "        if i == n:\n",
        "            char = f'{char}\\n'\n",
        "        print(char, end='')\n",
        "        time.sleep(delay)\n",
        "\n",
        "teleprint('Привет Python!', 'Меня зовут Тимур', 'Beegeek = <3', str_join='*')\n",
        "teleprint('Привет Python!', 'Меня зовут Тимур', 'Beegeek = <3', str_join='*')"
      ],
      "metadata": {
        "colab": {
          "base_uri": "https://localhost:8080/"
        },
        "id": "dBdTlHz3w0Vh",
        "outputId": "d80037cf-2cb7-4b93-849a-e69cbc89336d"
      },
      "execution_count": null,
      "outputs": [
        {
          "output_type": "stream",
          "name": "stdout",
          "text": [
            "Привет Python!*Меня зовут Тимур*Beegeek = <3\n",
            "Привет Python!*Меня зовут Тимур*Beegeek = <3\n"
          ]
        }
      ]
    },
    {
      "cell_type": "code",
      "source": [
        "import functools\n",
        "\n",
        "def counter(func):\n",
        "    @functools.wraps(func)\n",
        "    def wrapper(*args, **kwargs):\n",
        "        wrapper.num += 1\n",
        "        print(f'Вызов {func.__name__}: {wrapper.num}')\n",
        "        val = func(*args, **kwargs)\n",
        "        return val\n",
        "    wrapper.num = 0\n",
        "    return wrapper\n",
        "\n",
        "@counter\n",
        "def say(n):\n",
        "    return n\n",
        "\n",
        "say('Genya')\n",
        "print(say.__dict__)\n",
        "\n",
        "say('Genya')\n",
        "print(say.__dict__)"
      ],
      "metadata": {
        "colab": {
          "base_uri": "https://localhost:8080/"
        },
        "id": "ENDpEWBzxPW0",
        "outputId": "bc0bb4aa-0471-4678-cbdf-05d9b5a6d314"
      },
      "execution_count": null,
      "outputs": [
        {
          "output_type": "stream",
          "name": "stdout",
          "text": [
            "Вызов say: 1\n",
            "{'__wrapped__': <function say at 0x7cd64eea2200>, 'num': 1}\n",
            "Вызов say: 2\n",
            "{'__wrapped__': <function say at 0x7cd64eea2200>, 'num': 2}\n"
          ]
        }
      ]
    },
    {
      "cell_type": "markdown",
      "source": [
        "## Декоратор square\n",
        "Реализуйте декоратор square, который возводит возвращаемое значение декорируемой функции во вторую степень.\n",
        "\n",
        "Также декоратор должен сохранять имя и строку документации декорируемой функции.\n",
        "\n",
        "Примечание 1. Гарантируется, что возвращаемым значением декорируемой функции является объект типа int или float.\n",
        "\n",
        "Примечание 2. Не забывайте про то, что декоратор не должен поглощать возвращаемое значение декорируемой функции, а также должен уметь декорировать функции с произвольным количеством позиционных и именованных аргументов.\n",
        "\n",
        "Примечание 3. В тестирующую систему сдайте программу, содержащую только необходимый декоратор square, но не код, вызывающий его.\n",
        "\n",
        "https://stepik.org/lesson/640040/step/9?unit=636560"
      ],
      "metadata": {
        "id": "czzUzYPezzg4"
      }
    },
    {
      "cell_type": "code",
      "source": [
        "import functools\n",
        "\n",
        "\n",
        "def square(func):\n",
        "    @functools.wraps(func)\n",
        "    def wrapper(*args, **kwargs):\n",
        "        return func(*args, **kwargs) ** 2\n",
        "\n",
        "    return wrapper\n",
        "\n",
        "@square\n",
        "def add(a, b):\n",
        "    '''прекрасная функция'''\n",
        "    return a + b\n",
        "\n",
        "print(add(1, 1))\n",
        "print(add.__name__)\n",
        "print(add.__doc__)"
      ],
      "metadata": {
        "colab": {
          "base_uri": "https://localhost:8080/"
        },
        "id": "wygUwUykz0xg",
        "outputId": "1405fb9f-64c0-4e80-9204-2c137a2aab64"
      },
      "execution_count": null,
      "outputs": [
        {
          "output_type": "stream",
          "name": "stdout",
          "text": [
            "4\n",
            "add\n",
            "прекрасная функция\n"
          ]
        }
      ]
    },
    {
      "cell_type": "markdown",
      "source": [
        "## Декоратор returns_string\n",
        "Реализуйте декоратор returns_string, который проверяет, что возвращаемое значение декорируемой функции принадлежит типу str. Если возвращаемое значение принадлежит какому-либо другому типу, декоратор должен возбуждать исключение TypeError.\n",
        "\n",
        "Также декоратор должен сохранять имя и строку документации декорируемой функции.\n",
        "\n",
        "Примечание 1. Не забывайте про то, что декоратор не должен поглощать возвращаемое значение декорируемой функции, а также должен уметь декорировать функции с произвольным количеством позиционных и именованных аргументов.\n",
        "\n",
        "Примечание 2. В тестирующую систему сдайте программу, содержащую только необходимый декоратор returns_string, но не код, вызывающий его.\n",
        "\n",
        "https://stepik.org/lesson/640040/step/10?unit=636560"
      ],
      "metadata": {
        "id": "NMSpuH8j1hJL"
      }
    },
    {
      "cell_type": "code",
      "source": [
        "import functools\n",
        "\n",
        "def returns_string(func):\n",
        "    @functools.wraps(func)\n",
        "    def wrapper(*args, **kwargs):\n",
        "        if not isinstance(func(*args, **kwargs), str):\n",
        "            raise TypeError\n",
        "        return func(*args, **kwargs)\n",
        "\n",
        "    return wrapper\n",
        "\n",
        "@returns_string\n",
        "def add(a, b):\n",
        "    return a + b\n",
        "\n",
        "try:\n",
        "    print(add(3, 7))\n",
        "except TypeError as e:\n",
        "    print(type(e))"
      ],
      "metadata": {
        "colab": {
          "base_uri": "https://localhost:8080/"
        },
        "id": "M-M_iSWV34a4",
        "outputId": "93b73195-52d6-4611-b0e1-81a26ace0779"
      },
      "execution_count": null,
      "outputs": [
        {
          "output_type": "stream",
          "name": "stdout",
          "text": [
            "<class 'TypeError'>\n"
          ]
        }
      ]
    },
    {
      "cell_type": "markdown",
      "source": [
        "## Декоратор trace\n",
        "Реализуйте декоратор trace, который выводит отладочную информацию о декорируемой функции во время ее выполнения, а именно: имя функции, переданные аргументы и возвращаемое значение в следующем формате:\n",
        "\n",
        "TRACE: вызов <имя функции>() с аргументами: <кортеж позиционных аргументов>, <словарь именованных аргументов>\n",
        "TRACE: возвращаемое значение <имя функции>(): <возвращаемое значение>\n",
        "Также декоратор должен сохранять имя и строку документации декорируемой функции.\n",
        "\n",
        "Примечание 1. Не забывайте про то, что декоратор не должен поглощать возвращаемое значение декорируемой функции, а также должен уметь декорировать функции с произвольным количеством позиционных и именованных аргументов.\n",
        "\n",
        "Примечание 2. В тестирующую систему сдайте программу, содержащую только необходимый декоратор trace, но не код, вызывающий его.\n",
        "\n",
        "https://stepik.org/lesson/640040/step/11?unit=636560"
      ],
      "metadata": {
        "id": "-x4hwT_24IQU"
      }
    },
    {
      "cell_type": "code",
      "source": [
        "import functools\n",
        "\n",
        "\n",
        "def trace(func):\n",
        "    @functools.wraps(func)\n",
        "    def wrapper(*args, **kwargs):\n",
        "        val = func(*args, **kwargs)\n",
        "        print(\n",
        "            f\"TRACE: вызов {func.__name__}() с аргументами: {args}, {kwargs}\")\n",
        "        print(f\"TRACE: возвращаемое значение {func.__name__}(): {repr(val)}\")\n",
        "\n",
        "        return val\n",
        "\n",
        "    return wrapper\n",
        "\n",
        "\n",
        "@trace\n",
        "def sub(a, b, c):\n",
        "    '''прекрасная функция'''\n",
        "    return a - b + c\n",
        "\n",
        "\n",
        "print(sub.__name__)\n",
        "print(sub.__doc__)\n",
        "sub(20, 5, c=10)"
      ],
      "metadata": {
        "colab": {
          "base_uri": "https://localhost:8080/"
        },
        "id": "PGT6iCRh4JjD",
        "outputId": "d8f4f184-0b4c-4ae3-9215-39c9a403f923"
      },
      "execution_count": null,
      "outputs": [
        {
          "output_type": "stream",
          "name": "stdout",
          "text": [
            "sub\n",
            "прекрасная функция\n",
            "TRACE: вызов sub() с аргументами: (20, 5), {'c': 10}\n",
            "TRACE: возвращаемое значение sub(): 25\n"
          ]
        },
        {
          "output_type": "execute_result",
          "data": {
            "text/plain": [
              "25"
            ]
          },
          "metadata": {},
          "execution_count": 9
        }
      ]
    },
    {
      "cell_type": "markdown",
      "source": [
        "## Декоратор prefix\n",
        "Реализуйте декоратор prefix, который принимает два аргумента в следующем порядке:\n",
        "\n",
        "string — произвольная строка\n",
        "to_the_end — булево значение, по умолчанию равное False\n",
        "Декоратор должен добавлять строку string к возвращаемому значению декорируемой функции. Если to_the_end имеет значение True, строка string добавляется в конец, если False — в начало.\n",
        "\n",
        "Также декоратор должен сохранять имя и строку документации декорируемой функции.\n",
        "\n",
        "Примечание 1. Гарантируется, что возвращаемым значением декорируемой функции является объект типа str.\n",
        "\n",
        "Примечание 2. Не забывайте про то, что декоратор не должен поглощать возвращаемое значение декорируемой функции, а также должен уметь декорировать функции с произвольным количеством позиционных и именованных аргументов.\n",
        "\n",
        "Примечание 3. В тестирующую систему сдайте программу, содержащую только необходимый декоратор prefix, но не код, вызывающий его.\n",
        "\n",
        "https://stepik.org/lesson/640040/step/17?unit=636560"
      ],
      "metadata": {
        "id": "-R-MzQJs4WV3"
      }
    },
    {
      "cell_type": "code",
      "source": [
        "import functools\n",
        "\n",
        "\n",
        "def prefix(string: str, to_the_end: bool = False):\n",
        "    def pref(func):\n",
        "        @functools.wraps(func)\n",
        "        def wrapper(*args, **kwargs):\n",
        "            val = func(*args, **kwargs)\n",
        "            return (string + val, val + string)[to_the_end]\n",
        "\n",
        "        return wrapper\n",
        "\n",
        "    return pref\n",
        "\n",
        "\n",
        "@prefix('€')\n",
        "def get_bonus():\n",
        "    return '2000'\n",
        "\n",
        "\n",
        "print(get_bonus())\n"
      ],
      "metadata": {
        "colab": {
          "base_uri": "https://localhost:8080/"
        },
        "id": "VbLpB-Qx4YEW",
        "outputId": "15f805bb-05b2-40bb-b72c-81feabece629"
      },
      "execution_count": null,
      "outputs": [
        {
          "output_type": "stream",
          "name": "stdout",
          "text": [
            "€2000\n"
          ]
        }
      ]
    },
    {
      "cell_type": "markdown",
      "source": [
        "## Декоратор make_html\n",
        "Тег — элемент языка разметки, используемый для форматирования текста. Например, текст, заключённый между начальным тегом <small> и конечным тегом </small>, отображается с меньшим размером, чем основной текст, а текст между тегами <big> и </big> отображается с большим размером.\n",
        "\n",
        "Реализуйте декоратор make_html(), который принимает один аргумент:\n",
        "\n",
        "tag — HTML-тег, например, del\n",
        "Декоратор должен обрамлять возвращаемое значение декорируемой функции в HTML-тег tag.\n",
        "\n",
        "Также декоратор должен сохранять имя и строку документации декорируемой функции.\n",
        "\n",
        "Примечание 1. Гарантируется, что возвращаемым значением декорируемой функции является объект типа str.\n",
        "\n",
        "Примечание 2. Не забывайте про то, что декоратор не должен поглощать возвращаемое значение декорируемой функции, а также должен уметь декорировать функции с произвольным количеством позиционных и именованных аргументов.\n",
        "\n",
        "Примечание 3. В тестирующую систему сдайте программу, содержащую только необходимый декоратор make_html, но не код, вызывающий его.\n",
        "\n",
        "https://stepik.org/lesson/640040/step/18?unit=636560"
      ],
      "metadata": {
        "id": "DOgZbs526-Qv"
      }
    },
    {
      "cell_type": "code",
      "source": [
        "import functools\n",
        "\n",
        "\n",
        "def make_html(tag: str):\n",
        "    def html(func):\n",
        "        @functools.wraps(func)\n",
        "        def wrapper(*args, **kwargs):\n",
        "            return f'<{tag}>{func(*args, **kwargs)}</{tag}>'\n",
        "\n",
        "        return wrapper\n",
        "\n",
        "    return html\n",
        "\n",
        "\n",
        "@make_html('i')\n",
        "@make_html('del')\n",
        "def get_text(text):\n",
        "    return text\n",
        "\n",
        "\n",
        "print(get_text(text='decorators are so cool!'))"
      ],
      "metadata": {
        "colab": {
          "base_uri": "https://localhost:8080/"
        },
        "id": "65QKfaTI7CcJ",
        "outputId": "a06f7500-58ec-4509-bfdb-ccfd787e41a2"
      },
      "execution_count": null,
      "outputs": [
        {
          "output_type": "stream",
          "name": "stdout",
          "text": [
            "<i><del>decorators are so cool!</del></i>\n"
          ]
        }
      ]
    },
    {
      "cell_type": "markdown",
      "source": [
        "## Декоратор repeat\n",
        "Реализуйте декоратор repeat, который принимает один аргумент:\n",
        "\n",
        "times — натуральное число\n",
        "Декоратор должен вызывать декорируемую функцию times раз.\n",
        "\n",
        "Также декоратор должен сохранять имя и строку документации декорируемой функции.\n",
        "\n",
        "Примечание 1. Не забывайте про то, что декоратор не должен поглощать возвращаемое значение декорируемой функции, а также должен уметь декорировать функции с произвольным количеством позиционных и именованных аргументов.\n",
        "\n",
        "Примечание 2. В тестирующую систему сдайте программу, содержащую только необходимый декоратор repeat, но не код, вызывающий его.\n",
        "\n",
        "https://stepik.org/lesson/640040/step/19?unit=636560"
      ],
      "metadata": {
        "id": "qOPAMfKo8aw7"
      }
    },
    {
      "cell_type": "code",
      "source": [
        "import functools\n",
        "\n",
        "\n",
        "def repeat(times: int):\n",
        "    def html(func):\n",
        "        @functools.wraps(func)\n",
        "        def wrapper(*args, **kwargs):\n",
        "            for _ in range(times):\n",
        "                val = func(*args, **kwargs)\n",
        "            return val\n",
        "\n",
        "        return wrapper\n",
        "\n",
        "    return html\n",
        "\n",
        "\n",
        "@repeat(3)\n",
        "def say_beegeek():\n",
        "    '''documentation'''\n",
        "    print('beegeek')\n",
        "\n",
        "\n",
        "say_beegeek()\n"
      ],
      "metadata": {
        "colab": {
          "base_uri": "https://localhost:8080/"
        },
        "id": "3i9gSLGT8ePl",
        "outputId": "0914730b-32c1-415d-a440-0f5861a0272b"
      },
      "execution_count": null,
      "outputs": [
        {
          "output_type": "stream",
          "name": "stdout",
          "text": [
            "beegeek\n",
            "beegeek\n",
            "beegeek\n"
          ]
        }
      ]
    },
    {
      "cell_type": "markdown",
      "source": [
        "## Декоратор strip_range\n",
        "Реализуйте декоратор strip_range, который принимает три аргумента в следующем порядке:\n",
        "\n",
        "start — неотрицательное целое число\n",
        "end — неотрицательное целое число\n",
        "char — одиночный символ, по умолчанию равный точке .\n",
        "Декоратор должен изменять возвращаемое значение декорируемой функции, заменяя все символы в диапазоне индексов от start (включительно) до end (не включительно) на символ char.\n",
        "\n",
        "Также декоратор должен сохранять имя и строку документации декорируемой функции.\n",
        "\n",
        "Примечание 1. Гарантируется, что возвращаемым значением декорируемой функции является объект типа str.\n",
        "\n",
        "Примечание 2. Гарантируется, что start < end.\n",
        "\n",
        "Примечание 3. Не забывайте про то, что декоратор не должен поглощать возвращаемое значение декорируемой функции, а также должен уметь декорировать функции с произвольным количеством позиционных и именованных аргументов.\n",
        "\n",
        "Примечание 4. В тестирующую систему сдайте программу, содержащую только необходимый декоратор strip_range, но не код, вызывающий его.\n",
        "\n",
        "https://stepik.org/lesson/640040/step/20?unit=636560"
      ],
      "metadata": {
        "id": "nlZAGuMs-eW4"
      }
    },
    {
      "cell_type": "code",
      "source": [
        "import functools\n",
        "\n",
        "\n",
        "def strip_range(start: int, end: int, char: str = '.'):\n",
        "    def decorator(func):\n",
        "        @functools.wraps(func)\n",
        "        def wrapper(*args, **kwargs):\n",
        "            val = func(*args, **kwargs)\n",
        "            return val[:start] + char * (min(end, len(val)) - start) + val[end:]\n",
        "\n",
        "        return wrapper\n",
        "\n",
        "    return decorator\n",
        "\n",
        "\n",
        "@strip_range(0, 2, '_')\n",
        "def beegeek():\n",
        "    return 'beegeek'\n",
        "\n",
        "\n",
        "print(beegeek())"
      ],
      "metadata": {
        "id": "8Yb4_yhu-hh9",
        "outputId": "2f3e6dfc-ebfb-4c57-99e8-8512f5fee260",
        "colab": {
          "base_uri": "https://localhost:8080/"
        }
      },
      "execution_count": null,
      "outputs": [
        {
          "output_type": "stream",
          "name": "stdout",
          "text": [
            "__egeek\n"
          ]
        }
      ]
    },
    {
      "cell_type": "markdown",
      "source": [
        "## Декоратор returns\n",
        "Реализуйте декоратор returns, который принимает один аргумент:\n",
        "\n",
        "datatype — тип данных\n",
        "Декоратор должен проверять, что возвращаемое значение декорируемой функции принадлежит типу datatype. Если возвращаемое значение принадлежит какому-либо другому типу, декоратор должен возбуждать исключение TypeError.\n",
        "\n",
        "Также декоратор должен сохранять имя и строку документации декорируемой функции.\n",
        "\n",
        "Примечание 1. Не забывайте про то, что декоратор не должен поглощать возвращаемое значение декорируемой функции, а также должен уметь декорировать функции с произвольным количеством позиционных и именованных аргументов.\n",
        "\n",
        "Примечание 2. В тестирующую систему сдайте программу, содержащую только необходимый декоратор returns, но не код, вызывающий его.\n",
        "\n",
        "https://stepik.org/lesson/640040/step/21?unit=636560"
      ],
      "metadata": {
        "id": "4Fg5yUUdmn1x"
      }
    },
    {
      "cell_type": "code",
      "source": [
        "import functools\n",
        "\n",
        "def returns(datatype):\n",
        "    def decorator(func):\n",
        "        @functools.wraps(func)\n",
        "        def wrapper(*args, **kwargs):\n",
        "            val = func(*args, **kwargs)\n",
        "            if not isinstance(val, datatype):\n",
        "                raise TypeError\n",
        "            return val\n",
        "\n",
        "        return wrapper\n",
        "\n",
        "    return decorator\n",
        "\n",
        "\n",
        "@returns(int)\n",
        "def add(a, b):\n",
        "    return a + b\n",
        "\n",
        "try:\n",
        "    print(add('199', '1'))\n",
        "except TypeError as e:\n",
        "    print(type(e))"
      ],
      "metadata": {
        "id": "DltVB7WZDb9t",
        "colab": {
          "base_uri": "https://localhost:8080/"
        },
        "outputId": "7bfce5bb-a501-4194-d7d3-e349f4a6a83a"
      },
      "execution_count": null,
      "outputs": [
        {
          "output_type": "stream",
          "name": "stdout",
          "text": [
            "<class 'TypeError'>\n"
          ]
        }
      ]
    },
    {
      "cell_type": "markdown",
      "source": [
        "## Декоратор takes\n",
        "Реализуйте декоратор takes, который принимает произвольное количество позиционных аргументов, каждый из которых является типом данных.\n",
        "\n",
        "Декоратор должен проверять, что аргументы, передаваемые в декорируемую функцию, принадлежат одному из этих типов. Если хотя бы один аргумент не принадлежит одному из данных типов, декоратор должен возбуждать исключение TypeError.\n",
        "\n",
        "Также декоратор должен сохранять имя и строку документации декорируемой функции.\n",
        "\n",
        "Примечание 1. Не забывайте про то, что декоратор не должен поглощать возвращаемое значение декорируемой функции, а также должен уметь декорировать функции с произвольным количеством позиционных и именованных аргументов.\n",
        "\n",
        "Примечание 2. В тестирующую систему сдайте программу, содержащую только необходимый декоратор takes, но не код, вызывающий его.\n",
        "\n",
        "https://stepik.org/lesson/640040/step/22?unit=636560"
      ],
      "metadata": {
        "id": "IV8juLGDqzvJ"
      }
    },
    {
      "cell_type": "code",
      "source": [
        "import functools\n",
        "\n",
        "def takes(*kargs):\n",
        "    def decorator(func):\n",
        "        @functools.wraps(func)\n",
        "        def wrapper(*args, **kwargs):\n",
        "            for k in (*args, *kwargs.values()):\n",
        "                if not isinstance(k, kargs):\n",
        "                    raise TypeError\n",
        "\n",
        "            return func(*args, **kwargs)\n",
        "\n",
        "        return wrapper\n",
        "\n",
        "    return decorator\n",
        "\n",
        "@takes(int, str)\n",
        "def repeat_string(string, times):\n",
        "    return string * times\n",
        "\n",
        "print(repeat_string('bee', 3))"
      ],
      "metadata": {
        "colab": {
          "base_uri": "https://localhost:8080/"
        },
        "id": "OsZV5r0JrG6I",
        "outputId": "524c39c5-2a1c-45ea-8538-ef3f55eaec01"
      },
      "execution_count": null,
      "outputs": [
        {
          "output_type": "stream",
          "name": "stdout",
          "text": [
            "beebeebee\n"
          ]
        }
      ]
    },
    {
      "cell_type": "markdown",
      "source": [
        "## Декоратор add_attrs\n",
        "Реализуйте декоратор add_attrs, который принимает произвольное количество именованных аргументов и устанавливает их в качестве атрибутов декорируемой функции. Названием атрибута должно являться имя аргумента, значением атрибута — значение аргумента.\n",
        "\n",
        "Также декоратор должен сохранять имя и строку документации декорируемой функции.\n",
        "\n",
        "Примечание 1. Вспомните про атрибут функции __dict__.\n",
        "\n",
        "Примечание 2. Не забывайте про то, что декоратор не должен поглощать возвращаемое значение декорируемой функции, а также должен уметь декорировать функции с произвольным количеством позиционных и именованных аргументов.\n",
        "\n",
        "Примечание 3. В тестирующую систему сдайте программу, содержащую только необходимый декоратор add_attrs, но не код, вызывающий его.\n",
        "\n",
        "https://stepik.org/lesson/640040/step/23?unit=636560"
      ],
      "metadata": {
        "id": "OSGjiMn0tUDL"
      }
    },
    {
      "cell_type": "code",
      "source": [
        "# import functools\n",
        "\n",
        "# def add_attrs(**gkwargs):\n",
        "#     def decorator(func):\n",
        "#         @functools.wraps(func)\n",
        "#         def wrapper(*args, **kwargs):\n",
        "#             return func(*args, **kwargs)\n",
        "\n",
        "#         for k, v in gkwargs.items():\n",
        "#             wrapper.__dict__[k] = v\n",
        "\n",
        "#         return wrapper\n",
        "\n",
        "#     return decorator\n",
        "\n",
        "def add_attrs(**kwargs):\n",
        "    return lambda fun: [fun.__dict__.update(kwargs), fun][1]\n",
        "\n",
        "@add_attrs(attr2='geek')\n",
        "@add_attrs(attr1='bee')\n",
        "def beegeek():\n",
        "    return 'beegeek'\n",
        "\n",
        "print(beegeek.attr1)\n",
        "print(beegeek.attr2)\n",
        "print(beegeek.__name__)"
      ],
      "metadata": {
        "colab": {
          "base_uri": "https://localhost:8080/"
        },
        "id": "pX-VacNUtXMx",
        "outputId": "86e130b1-ed62-4a5a-c348-39c0f2cf5893"
      },
      "execution_count": null,
      "outputs": [
        {
          "output_type": "stream",
          "name": "stdout",
          "text": [
            "bee\n",
            "geek\n",
            "beegeek\n"
          ]
        }
      ]
    },
    {
      "cell_type": "markdown",
      "source": [
        "## Декоратор ignore_exception\n",
        "Реализуйте декоратор ignore_exception, который принимает произвольное количество позиционных аргументов — типов исключений, и выводит текст:\n",
        "\n",
        "Исключение <тип исключения> обработано\n",
        "если во время выполнения декорируемой функции было возбуждено исключение, принадлежащее одному из переданных типов.\n",
        "\n",
        "Если возбужденное исключение не принадлежит ни одному из переданных типов, оно должно быть возбуждено снова.\n",
        "\n",
        "Также декоратор должен сохранять имя и строку документации декорируемой функции.\n",
        "\n",
        "Примечание 1. Не забывайте про то, что декоратор не должен поглощать возвращаемое значение декорируемой функции, а также должен уметь декорировать функции с произвольным количеством позиционных и именованных аргументов.\n",
        "\n",
        "Примечание 2. В тестирующую систему сдайте программу, содержащую только необходимый декоратор ignore_exception, но не код, вызывающий его.\n",
        "\n",
        "https://stepik.org/lesson/640040/step/24?unit=636560"
      ],
      "metadata": {
        "id": "qBksa-THwZ0C"
      }
    },
    {
      "cell_type": "code",
      "source": [
        "import functools\n",
        "\n",
        "def ignore_exception(*kargs):\n",
        "    def decorator(func):\n",
        "        @functools.wraps(func)\n",
        "        def wrapper(*args, **kwargs):\n",
        "            try:\n",
        "                return func(*args, **kwargs)\n",
        "            except kargs as err:\n",
        "                print(f\"Исключение {type(err).__name__} обработано\")\n",
        "        return wrapper\n",
        "\n",
        "    return decorator\n",
        "\n",
        "@ignore_exception(ValueError, TypeError, ZeroDivisionError, NameError)\n",
        "def beegeek():\n",
        "    return 'beegeek'\n",
        "\n",
        "print(beegeek())"
      ],
      "metadata": {
        "id": "95jNPTFmwa6z",
        "outputId": "feea5bd0-c348-48f5-b029-5a69df6ded97",
        "colab": {
          "base_uri": "https://localhost:8080/"
        }
      },
      "execution_count": 22,
      "outputs": [
        {
          "output_type": "stream",
          "name": "stdout",
          "text": [
            "beegeek\n"
          ]
        }
      ]
    },
    {
      "cell_type": "markdown",
      "source": [
        "## Декоратор retry\n",
        "Реализуйте декоратор retry, который принимает один аргумент:\n",
        "\n",
        "times — натуральное число\n",
        "Декоратор должен выполнять повторную попытку вызова декорируемой функции, если во время ее выполнения возникает ошибка. Декоратор должен вызывать ее до тех пор, пока не исчерпает количество попыток times, после чего должен возбуждать исключение MaxRetriesException.\n",
        "\n",
        "Также декоратор должен сохранять имя и строку документации декорируемой функции.\n",
        "\n",
        "Примечание 1. Не забывайте про то, что декоратор не должен поглощать возвращаемое значение декорируемой функции, а также должен уметь декорировать функции с произвольным количеством позиционных и именованных аргументов.\n",
        "\n",
        "Примечание 2. В тестирующую систему сдайте программу, содержащую только необходимый декоратор retry, но не код, вызывающий его.\n",
        "\n",
        "https://stepik.org/lesson/640040/step/25?unit=636560"
      ],
      "metadata": {
        "id": "75pEOxByJ1hr"
      }
    },
    {
      "cell_type": "code",
      "source": [
        "import functools\n",
        "\n",
        "class MaxRetriesException(Exception):\n",
        "    pass\n",
        "\n",
        "def retry(times: int):\n",
        "    def decorator(func):\n",
        "        @functools.wraps(func)\n",
        "        def wrapper(*args, **kwargs):\n",
        "            for _ in range(times):\n",
        "                try:\n",
        "                    return func(*args, **kwargs)\n",
        "                except Exception as e:\n",
        "                    pass\n",
        "            raise MaxRetriesException\n",
        "\n",
        "        return wrapper\n",
        "\n",
        "    return decorator\n",
        "\n",
        "@retry(8)\n",
        "def beegeek():\n",
        "    beegeek.calls = beegeek.__dict__.get('calls', 0) + 1\n",
        "    if beegeek.calls < 5:\n",
        "        raise ValueError\n",
        "    print('beegeek')\n",
        "\n",
        "beegeek()"
      ],
      "metadata": {
        "id": "_O8T1IKUJ8Nh",
        "outputId": "5f5b049e-2541-401c-9b1c-f9a0aa554bee",
        "colab": {
          "base_uri": "https://localhost:8080/"
        }
      },
      "execution_count": 146,
      "outputs": [
        {
          "output_type": "stream",
          "name": "stdout",
          "text": [
            "beegeek\n"
          ]
        }
      ]
    }
  ]
}