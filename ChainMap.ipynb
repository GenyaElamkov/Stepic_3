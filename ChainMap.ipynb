{
  "nbformat": 4,
  "nbformat_minor": 0,
  "metadata": {
    "colab": {
      "provenance": [],
      "toc_visible": true,
      "authorship_tag": "ABX9TyNDxTsbNWSx5AIAqrVJLvxE",
      "include_colab_link": true
    },
    "kernelspec": {
      "name": "python3",
      "display_name": "Python 3"
    },
    "language_info": {
      "name": "python"
    }
  },
  "cells": [
    {
      "cell_type": "markdown",
      "metadata": {
        "id": "view-in-github",
        "colab_type": "text"
      },
      "source": [
        "<a href=\"https://colab.research.google.com/github/GenyaElamkov/Stepic_3/blob/master/ChainMap.ipynb\" target=\"_parent\"><img src=\"https://colab.research.google.com/assets/colab-badge.svg\" alt=\"Open In Colab\"/></a>"
      ]
    },
    {
      "cell_type": "markdown",
      "source": [
        "## Зоопарк\n",
        "Вам доступен файл zoo.json, содержащий список JSON-объектов с данными об обитателях некоторого зоопарка. Ключом в каждом объекте является название животного, значением — их количество в зоопарке:\n",
        "\n",
        "[\n",
        "   {\n",
        "      \"Axolotl\": 11,\n",
        "      \"Poison Frog\": 12,\n",
        "      \"Sonoran Toad\": 6,\n",
        "      \"Tiger Salamander\": 16\n",
        "   },\n",
        "   {\n",
        "      \"African Fish Eagle\": 6,\n",
        "      \"Andean Condor\": 8,\n",
        "      \"Black Vulture\": 8,\n",
        "      \"Bufflehead Duck\": 9,\n",
        "      \"Flamingo\": 8,\n",
        "      \"Great Horned Owl\": 16,\n",
        "      \"Hornbill\": 1\n",
        "   },\n",
        "   ...\n",
        "]\n",
        "Напишите программу, которая определяет, сколько всего животных обитает в зоопарке, и выводит полученный результат.\n",
        "\n",
        "Примечание 1. Гарантируется, что все ключи в JSON-объектах, различны.\n",
        "\n",
        "Примечание 2. Указанный файл доступен по ссылке. Ответ на задачу доступен по ссылке.\n",
        "\n",
        "Примечание 3. При открытии файла используйте явное указание кодировки UTF-8.\n",
        "\n",
        "Напишите программу. Тестируется через stdin → stdout\n",
        "Верно реш\n",
        "\n",
        "https://stepik.org/lesson/634670/step/22?unit=630932"
      ],
      "metadata": {
        "id": "9znAiAPNFMaE"
      }
    },
    {
      "cell_type": "code",
      "execution_count": 2,
      "metadata": {
        "colab": {
          "base_uri": "https://localhost:8080/"
        },
        "id": "LaWICwOgFDL3",
        "outputId": "075b6bfd-b486-4e06-a8da-c220c4db7de6"
      },
      "outputs": [
        {
          "output_type": "stream",
          "name": "stdout",
          "text": [
            "[{'Axolotl': 11, 'Poison Frog': 12, 'Sonoran Toad': 6, 'Tiger Salamander': 16}, {'African Fish Eagle': 6, 'Andean Condor': 8, 'Black Vulture': 8, 'Bufflehead Duck': 9, 'Flamingo': 8, 'Great Horned Owl': 16, 'Hornbill': 1}, {'Armored Catfish': 3, 'Rainbowfish': 18, 'Banded Archerfish': 5, 'Bucktooth Tetra': 7}, {'Scorpion': 12, 'Madagascar Hissing Cockroach': 15, 'Sunburst Diving Beetle': 13}, {'Addax': 13, 'African Hedgehog': 7, 'Painted Dog': 20, 'American Badger': 4, 'Black Bear': 13, 'Asian Elephant': 4, 'Babirusa': 5, 'Tapir': 4, 'Bat-eared Fox': 4, 'Berrendo': 12, 'Langur': 7, 'Giant Anteater': 18, 'Giant Otter': 7, 'Zebra': 19, 'Guinea Pig': 3, 'Mangabey': 13, 'Lemur': 9}, {'Aldabra Tortoise': 4, 'Allugator': 7, 'Butaan': 14, 'Kingsnake': 5, 'Iguana': 3, 'Caiman': 9, 'Viper': 12, 'Gila Monster': 11, 'Green Mamba': 18, 'Python': 10, 'Komodo Dragon': 9, 'Gecko': 2, 'Rosy Boa': 3}]\n"
          ]
        }
      ],
      "source": [
        "import json\n",
        "\n",
        "with open(\"zoo.json\", encoding=\"utf-8\") as fj:\n",
        "    reader = json.load(fj)\n",
        "    print(reader)"
      ]
    }
  ]
}