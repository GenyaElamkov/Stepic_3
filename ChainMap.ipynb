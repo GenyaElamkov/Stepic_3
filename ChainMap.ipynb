{
  "nbformat": 4,
  "nbformat_minor": 0,
  "metadata": {
    "colab": {
      "provenance": [],
      "toc_visible": true,
      "authorship_tag": "ABX9TyOVISy+CKe47d/d+tuBkBo0",
      "include_colab_link": true
    },
    "kernelspec": {
      "name": "python3",
      "display_name": "Python 3"
    },
    "language_info": {
      "name": "python"
    }
  },
  "cells": [
    {
      "cell_type": "markdown",
      "metadata": {
        "id": "view-in-github",
        "colab_type": "text"
      },
      "source": [
        "<a href=\"https://colab.research.google.com/github/GenyaElamkov/Stepic_3/blob/master/ChainMap.ipynb\" target=\"_parent\"><img src=\"https://colab.research.google.com/assets/colab-badge.svg\" alt=\"Open In Colab\"/></a>"
      ]
    },
    {
      "cell_type": "markdown",
      "source": [
        "## Зоопарк\n",
        "Вам доступен файл zoo.json, содержащий список JSON-объектов с данными об обитателях некоторого зоопарка. Ключом в каждом объекте является название животного, значением — их количество в зоопарке:\n",
        "\n",
        "[\n",
        "   {\n",
        "      \"Axolotl\": 11,\n",
        "      \"Poison Frog\": 12,\n",
        "      \"Sonoran Toad\": 6,\n",
        "      \"Tiger Salamander\": 16\n",
        "   },\n",
        "   {\n",
        "      \"African Fish Eagle\": 6,\n",
        "      \"Andean Condor\": 8,\n",
        "      \"Black Vulture\": 8,\n",
        "      \"Bufflehead Duck\": 9,\n",
        "      \"Flamingo\": 8,\n",
        "      \"Great Horned Owl\": 16,\n",
        "      \"Hornbill\": 1\n",
        "   },\n",
        "   ...\n",
        "]\n",
        "Напишите программу, которая определяет, сколько всего животных обитает в зоопарке, и выводит полученный результат.\n",
        "\n",
        "Примечание 1. Гарантируется, что все ключи в JSON-объектах, различны.\n",
        "\n",
        "Примечание 2. Указанный файл доступен по ссылке. Ответ на задачу доступен по ссылке.\n",
        "\n",
        "Примечание 3. При открытии файла используйте явное указание кодировки UTF-8.\n",
        "\n",
        "Напишите программу. Тестируется через stdin → stdout\n",
        "Верно реш\n",
        "\n",
        "https://stepik.org/lesson/634670/step/22?unit=630932"
      ],
      "metadata": {
        "id": "9znAiAPNFMaE"
      }
    },
    {
      "cell_type": "code",
      "execution_count": 26,
      "metadata": {
        "colab": {
          "base_uri": "https://localhost:8080/"
        },
        "id": "LaWICwOgFDL3",
        "outputId": "ab1a3372-fcea-4668-e102-809c478be956"
      },
      "outputs": [
        {
          "output_type": "stream",
          "name": "stdout",
          "text": [
            "443\n"
          ]
        }
      ],
      "source": [
        "import json\n",
        "from collections import Counter, ChainMap\n",
        "\n",
        "with open(\"zoo.json\", encoding=\"utf-8\") as fj:\n",
        "    # res = 0\n",
        "    # for k in json.load(fj):\n",
        "    #     res += Counter(k).total()\n",
        "    # print(res)\n",
        "\n",
        "    res = sum(ChainMap(*json.load(fj)).values())\n",
        "    print(res)"
      ]
    },
    {
      "cell_type": "markdown",
      "source": [
        "## Булочный магнат\n",
        "После ухода сети Макдональдс из России Тимур решил открыть свою небольшую бургерную. Цена каждого бургера в его ресторане определяется количеством ингредиентов, которые выбирает сам посетитель. Вам доступны словари, в которых в качестве ключа указано название ингредиента, а в качестве значения — его цена. Все ингредиенты разбиты по категориям, например, овощи содержатся в одном словаре, соусы — в другом.\n",
        "\n",
        "Напишите программу, которая принимает на вход ингредиенты, выбранные посетителем, и определяет их общую стоимость.\n",
        "\n",
        "Формат входных данных\n",
        "На вход программе подается последовательность ингредиентов, разделенных запятой без пробелов.\n",
        "\n",
        "Формат выходных данных\n",
        "Программа должна определить общую стоимость введенных ингредиентов и вывести полученный результат в виде чека, в котором указаны ингредиенты в лексикографическом порядке, количество каждых и их общая стоимость, в следующем формате:\n",
        "\n",
        "<ингредиент 1> x <количество 1>\n",
        "<ингредиент 2> x <количество 2>\n",
        "...\n",
        "-------------------------------\n",
        "ИТОГ: <общая стоимость>р\n",
        "Примечание 1. Программа должна добавлять нужное количество пробелов, если один ингредиент имеет меньшую длину, чем другие.\n",
        "\n",
        "Примечание 2. Длина пунктирной линии должна равняться длине самой длинной строки в чеке, включая строку с итоговой стоимостью.\n",
        "\n",
        "Примечание 3. Гарантируется, что все ингредиенты, выбранные посетителем, присутствуют в словарях.\n",
        "\n",
        "https://stepik.org/lesson/634670/step/23?unit=630932"
      ],
      "metadata": {
        "id": "LfXizgk3K2Bz"
      }
    },
    {
      "cell_type": "code",
      "source": [
        "from collections import ChainMap, Counter\n",
        "\n",
        "bread = {'булочка с кунжутом': 15, 'обычная булочка': 10, 'ржаная булочка': 15}\n",
        "meat = {'куриный бифштекс': 50, 'говяжий бифштекс': 70, 'рыбный бифштекс': 40}\n",
        "sauce = {'сливочно-чесночный': 15, 'кетчуп': 10, 'горчица': 10, 'барбекю': 15, 'чили': 15}\n",
        "vegetables = {'лук': 10, 'салат': 15, 'помидор': 15, 'огурцы': 10}\n",
        "toppings = {'сыр': 25, 'яйцо': 15, 'бекон': 30}\n",
        "\n",
        "indigrients = \"сыр,сыр,сыр,сыр,сыр,сыр,сыр,сыр,сыр,сыр,сыр,сыр,сыр,сыр,сыр\".split(',')\n",
        "\n",
        "counter_product = Counter(indigrients)\n",
        "width = len(max(counter_product, key=len))\n",
        "len_text = 0\n",
        "for k, v in sorted(counter_product.items()):\n",
        "    text = f\"{k:{width}} x {v}\"\n",
        "\n",
        "    len_line = len(text)\n",
        "    if len_line > len_text: len_line = len_line\n",
        "\n",
        "    print(text)\n",
        "\n",
        "products = ChainMap(bread, meat, sauce, vegetables, toppings)\n",
        "res_sum = sum([products[indigrient] for indigrient in indigrients])\n",
        "\n",
        "print_res_sum = f\"ИТОГ: {res_sum}р\"\n",
        "\n",
        "len_print_res_sum = len(print_res_sum)\n",
        "if len_print_res_sum > len_line: len_line = len_print_res_sum\n",
        "\n",
        "print(f\"{len_line*'-'}\\n{print_res_sum}\")"
      ],
      "metadata": {
        "colab": {
          "base_uri": "https://localhost:8080/"
        },
        "id": "dXb9KGbaK43C",
        "outputId": "bfee0a6c-044f-43c4-bbf5-36b6b609602d"
      },
      "execution_count": 63,
      "outputs": [
        {
          "output_type": "stream",
          "name": "stdout",
          "text": [
            "сыр x 15\n",
            "----------\n",
            "ИТОГ: 375р\n"
          ]
        }
      ]
    }
  ]
}