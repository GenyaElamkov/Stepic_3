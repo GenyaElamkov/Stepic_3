{
  "nbformat": 4,
  "nbformat_minor": 0,
  "metadata": {
    "colab": {
      "provenance": [],
      "authorship_tag": "ABX9TyOnnF8WRyvkGnamiJUAKpar",
      "include_colab_link": true
    },
    "kernelspec": {
      "name": "python3",
      "display_name": "Python 3"
    },
    "language_info": {
      "name": "python"
    }
  },
  "cells": [
    {
      "cell_type": "markdown",
      "metadata": {
        "id": "view-in-github",
        "colab_type": "text"
      },
      "source": [
        "<a href=\"https://colab.research.google.com/github/GenyaElamkov/Stepic_3/blob/master/Module_9_annotation_of_types.ipynb\" target=\"_parent\"><img src=\"https://colab.research.google.com/assets/colab-badge.svg\" alt=\"Open In Colab\"/></a>"
      ]
    },
    {
      "cell_type": "code",
      "execution_count": null,
      "metadata": {
        "colab": {
          "base_uri": "https://localhost:8080/"
        },
        "id": "TkSxPlOk_1K3",
        "outputId": "34387d58-3f15-4670-feb5-7dae65684e5d"
      },
      "outputs": [
        {
          "output_type": "stream",
          "name": "stdout",
          "text": [
            "GenyaGenyaGenya\n",
            "{'word': <class 'str'>, 'num': <class 'int'>, 'return': <class 'str'>}\n"
          ]
        }
      ],
      "source": [
        "def hello(word: str, num: int) -> str:\n",
        "    return f\"{word * num}\"\n",
        "\n",
        "a: int\n",
        "\n",
        "print(hello('Genya', 3))\n",
        "print(hello.__annotations__)"
      ]
    },
    {
      "cell_type": "code",
      "source": [
        "from typing import List\n",
        "\n",
        "def hello(nums: List[int]) -> str:\n",
        "    return ''.join(map(str,nums))\n",
        "\n",
        "a: int\n",
        "\n",
        "print(hello([1,2,4]))\n",
        "print(hello.__annotations__)"
      ],
      "metadata": {
        "colab": {
          "base_uri": "https://localhost:8080/"
        },
        "id": "ujfP6FojDu4V",
        "outputId": "08369bb4-35a6-441f-9cb1-228f0f6e191d"
      },
      "execution_count": null,
      "outputs": [
        {
          "output_type": "stream",
          "name": "stdout",
          "text": [
            "124\n",
            "{'nums': typing.List[int], 'return': <class 'str'>}\n"
          ]
        }
      ]
    },
    {
      "cell_type": "code",
      "source": [
        "from typing import Union\n",
        "a: Union[int, str] = [1, 'hello']\n",
        "print(a)"
      ],
      "metadata": {
        "colab": {
          "base_uri": "https://localhost:8080/"
        },
        "id": "wwM1oUUSFFC7",
        "outputId": "8c3fa655-0fdd-4faa-8a5b-5ba5f0288051"
      },
      "execution_count": null,
      "outputs": [
        {
          "output_type": "stream",
          "name": "stdout",
          "text": [
            "[1, 'hello']\n"
          ]
        }
      ]
    },
    {
      "cell_type": "code",
      "source": [
        "from typing import Optional, Union\n",
        "name: Optional[str] = 'aa'\n",
        "\n",
        "# name: Union[str, None] == name: Optional[str]"
      ],
      "metadata": {
        "id": "qlqd0pABGnOa"
      },
      "execution_count": null,
      "outputs": []
    },
    {
      "cell_type": "code",
      "source": [
        "from typing import Optional, Union\n",
        "\n",
        "def get_name(words: Union[str, int]) -> Optional[str]:\n",
        "    return ' '.join(map(str, words))\n",
        "\n",
        "print(get_name(['Hello', 5]))\n",
        "print(get_name([]))\n",
        "print(get_name.__annotations__)"
      ],
      "metadata": {
        "colab": {
          "base_uri": "https://localhost:8080/"
        },
        "id": "CqUIsZtkHB5W",
        "outputId": "c252cf3f-c64a-4e98-d50b-c992cf7603eb"
      },
      "execution_count": null,
      "outputs": [
        {
          "output_type": "stream",
          "name": "stdout",
          "text": [
            "Hello 5\n",
            "\n",
            "{'words': typing.Union[str, int], 'return': typing.Optional[str]}\n"
          ]
        }
      ]
    },
    {
      "cell_type": "code",
      "source": [
        "from typing import Any\n",
        "\n",
        "def get_name(words: Any) -> Any:\n",
        "    return ' '.join(map(str, words))\n",
        "\n",
        "print(get_name(['Hello', 5]))\n",
        "print(get_name([]))\n",
        "print(get_name.__annotations__)"
      ],
      "metadata": {
        "id": "N9adHvPVEdMy",
        "outputId": "7e82271f-33ab-46dc-eb5e-779461a9816e",
        "colab": {
          "base_uri": "https://localhost:8080/"
        }
      },
      "execution_count": 1,
      "outputs": [
        {
          "output_type": "stream",
          "name": "stdout",
          "text": [
            "Hello 5\n",
            "\n",
            "{'words': typing.Any, 'return': typing.Any}\n"
          ]
        }
      ]
    },
    {
      "cell_type": "code",
      "source": [
        "from typing import NoReturn\n",
        "\n",
        "def get_noreturn() -> NoReturn:\n",
        "    print('Hello')\n",
        "\n",
        "# get_noreturn()\n",
        "print(get_noreturn.__annotations__)"
      ],
      "metadata": {
        "id": "4oWHjVqAFM8L",
        "outputId": "36103d34-b6f3-46d7-ce5b-848f1dcf5b21",
        "colab": {
          "base_uri": "https://localhost:8080/"
        }
      },
      "execution_count": 4,
      "outputs": [
        {
          "output_type": "stream",
          "name": "stdout",
          "text": [
            "{'return': typing.NoReturn}\n"
          ]
        }
      ]
    },
    {
      "cell_type": "markdown",
      "source": [
        "## Функция get_digits()\n",
        "Реализуйте функцию get_digits() c использованием аннотаций типов, которая принимает один аргумент:\n",
        "\n",
        "number — положительное целое или вещественное число\n",
        "Функция должна возвращать список, состоящий из цифр числа number.\n",
        "\n",
        "Примечание 1. Используйте встроенные типы (list, tuple, ...), а не типы из модуля typing. Также используйте нотацию |, а не тип Union из модуля typing.\n",
        "\n",
        "Примечание 2. Порядок следования цифр в списке должен совпадать с порядком следования их в исходном числе.\n",
        "\n",
        "Примечание 3. В тестирующую систему сдайте программу, содержащую только необходимую функцию get_digits(), но не код, вызывающий ее.\n",
        "\n",
        "https://stepik.org/lesson/655394/step/14?unit=652334"
      ],
      "metadata": {
        "id": "dppX9d2ZKSqd"
      }
    },
    {
      "cell_type": "code",
      "source": [
        "def get_digits(number: int | float) -> list[int]:\n",
        "    return list(map(int, filter(str.isdigit, str(number))))\n",
        "\n",
        "print(get_digits(16733))\n",
        "print(get_digits(13.909934))\n",
        "annotations = get_digits.__annotations__\n",
        "print(annotations['return'])"
      ],
      "metadata": {
        "id": "SH2RY6AuKSgg",
        "outputId": "1142a607-0560-47bf-8afc-95fb325a15f2",
        "colab": {
          "base_uri": "https://localhost:8080/"
        }
      },
      "execution_count": 18,
      "outputs": [
        {
          "output_type": "stream",
          "name": "stdout",
          "text": [
            "[1, 6, 7, 3, 3]\n",
            "[1, 3, 9, 0, 9, 9, 3, 4]\n",
            "list[int]\n"
          ]
        }
      ]
    },
    {
      "cell_type": "markdown",
      "source": [
        "## Функция top_grade()\n",
        "Реализуйте функцию top_grade() c использованием аннотаций типов, которая принимает один аргумент:\n",
        "\n",
        "grades — словарь, содержащий данные об ученике, а именно имя по ключу name и список оценок по ключу grades\n",
        "Функция должна возвращать словарь, содержащий имя ученика по ключу name и его самую высокую оценку по ключу top_grade.\n",
        "\n",
        "Примечание 1. Используйте встроенные типы (list, tuple, ...), а не типы из модуля typing. Также используйте нотацию |, а не тип Union из модуля typing.\n",
        "\n",
        "Примечание 2. В возвращаемом функцией словаре сначала должно следовать имя, а затем — самая высокая оценка.\n",
        "\n",
        "Примечание 3. В тестирующую систему сдайте программу, содержащую только необходимую функцию top_grade(), но не код, вызывающий ее.\n",
        "\n",
        "https://stepik.org/lesson/655394/step/15?unit=652334"
      ],
      "metadata": {
        "id": "9EQgN6sRMZQf"
      }
    },
    {
      "cell_type": "code",
      "source": [
        "\n",
        "def top_grade(grades: dict[str, str | list[int]]) -> dict[str, str | int]:\n",
        "    return {'name': grades['name'], 'top_grade': max(grades['grades'])}\n",
        "\n",
        "\n",
        "\n",
        "print(top_grade({'name': 'Ruslan', 'grades': [19, 48, 86, 45, 32]}))\n",
        "\n",
        "\n",
        "annotations = top_grade.__annotations__\n",
        "\n",
        "print(annotations['grades'])\n",
        "\n",
        "print(*top_grade.__annotations__.values())"
      ],
      "metadata": {
        "id": "FiUiFseoMZVv",
        "outputId": "04e63e25-64ae-45f2-8b32-fab48214a50b",
        "colab": {
          "base_uri": "https://localhost:8080/"
        }
      },
      "execution_count": 52,
      "outputs": [
        {
          "output_type": "stream",
          "name": "stdout",
          "text": [
            "{'name': 'Ruslan', 'top_grade': 86}\n",
            "dict[str, str | list[int]]\n",
            "dict[str, str | list[int]] dict[str, str | int]\n"
          ]
        }
      ]
    },
    {
      "cell_type": "markdown",
      "source": [
        "## Функция cyclic_shift()\n",
        "Реализуйте функцию cyclic_shift() с использованием аннотаций типов, которая принимает два аргумента в следующем порядке:\n",
        "\n",
        "numbers — список целых или вещественных чисел\n",
        "step — целое число\n",
        "Функция должна изменять переданный список, циклически сдвигая элементы списка на step шагов, и возвращать значение None. Если step является положительным числом, сдвиг происходит вправо, если отрицательным — влево.\n",
        "\n",
        "Примечание 1. Используйте встроенные типы (list, tuple, ...), а не типы из модуля typing. Также используйте нотацию |, а не тип Union из модуля typing.\n",
        "\n",
        "Примечание 2. В тестирующую систему сдайте программу, содержащую только необходимую функцию cyclic_shift(), но не код, вызывающий ее."
      ],
      "metadata": {
        "id": "eujF92bRT2_8"
      }
    },
    {
      "cell_type": "code",
      "source": [
        "from collections import deque\n",
        "\n",
        "def cyclic_shift(numbers: list[int | float], step: int) -> None:\n",
        "    d1 = deque(numbers)\n",
        "    if step > 0:\n",
        "        [d1.appendleft(d1.pop()) for i in range(step)]\n",
        "    else:\n",
        "        [d1.append(d1.popleft()) for i in range(step, 0)]\n",
        "    numbers[:] = d1\n",
        "\n",
        "numbers = [1, 2, 3, 4, 5]\n",
        "cyclic_shift(numbers, 1)\n",
        "\n",
        "print(numbers)\n",
        "\n",
        "numbers = [1, 2, 3, 4, 5]\n",
        "cyclic_shift(numbers, -2)\n",
        "print(numbers)"
      ],
      "metadata": {
        "id": "qh-8nYkBT20c",
        "outputId": "21e8a9b0-05fe-4aaa-d4dd-09ddfd6e57e7",
        "colab": {
          "base_uri": "https://localhost:8080/"
        }
      },
      "execution_count": 162,
      "outputs": [
        {
          "output_type": "stream",
          "name": "stdout",
          "text": [
            "[5, 1, 2, 3, 4]\n",
            "[3, 4, 5, 1, 2]\n"
          ]
        }
      ]
    },
    {
      "cell_type": "markdown",
      "source": [
        "Функция matrix_to_dict()\n",
        "Реализуйте функцию matrix_to_dict() с использованием аннотаций типов, которая принимает один аргумент:\n",
        "\n",
        "matrix — матрица произвольной размерности, элементами которой являются целые или вещественные числа\n",
        "Функция должна возвращать словарь, ключом в котором является номер строки матрицы, а значением — список элементов этой строки.\n",
        "\n",
        "Примечание 1. Используйте встроенные типы (list, tuple, ...), а не типы из модуля typing. Также используйте нотацию |, а не тип Union из модуля typing.\n",
        "\n",
        "Примечание 2. Под матрицей подразумеваются исключительно вложенные списки.\n",
        "\n",
        "Примечание 3. Нумерация строк матрицы в возвращаемом функцией словаре должна начинаться с единицы.\n",
        "\n",
        "Примечание 4. Элементы матрицы в списке должны располагаться в своем исходном порядке.\n",
        "\n",
        "Примечание 5. В тестирующую систему сдайте программу, содержащую только необходимую функцию matrix_to_dict(), но не код, вызывающий ее.\n",
        "\n",
        "https://stepik.org/lesson/655394/step/17?unit=652334"
      ],
      "metadata": {
        "id": "ZH8RwUZigcvS"
      }
    },
    {
      "cell_type": "code",
      "source": [
        "def matrix_to_dict(matrix:list[list[int]]) -> dict[int, list[int]]:\n",
        "    pass\n",
        "\n",
        "\n",
        "matrix = [[5, 6, 7], [8, 3, 2], [4, 9, 8]]\n",
        "\n",
        "print(matrix_to_dict(matrix))"
      ],
      "metadata": {
        "id": "oREKZQwEgc4w"
      },
      "execution_count": null,
      "outputs": []
    }
  ]
}