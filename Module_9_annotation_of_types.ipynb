{
  "nbformat": 4,
  "nbformat_minor": 0,
  "metadata": {
    "colab": {
      "provenance": [],
      "authorship_tag": "ABX9TyONp6QC/0738mlymh45qXMR",
      "include_colab_link": true
    },
    "kernelspec": {
      "name": "python3",
      "display_name": "Python 3"
    },
    "language_info": {
      "name": "python"
    }
  },
  "cells": [
    {
      "cell_type": "markdown",
      "metadata": {
        "id": "view-in-github",
        "colab_type": "text"
      },
      "source": [
        "<a href=\"https://colab.research.google.com/github/GenyaElamkov/Stepic_3/blob/master/Module_9_annotation_of_types.ipynb\" target=\"_parent\"><img src=\"https://colab.research.google.com/assets/colab-badge.svg\" alt=\"Open In Colab\"/></a>"
      ]
    },
    {
      "cell_type": "code",
      "execution_count": 8,
      "metadata": {
        "colab": {
          "base_uri": "https://localhost:8080/"
        },
        "id": "TkSxPlOk_1K3",
        "outputId": "34387d58-3f15-4670-feb5-7dae65684e5d"
      },
      "outputs": [
        {
          "output_type": "stream",
          "name": "stdout",
          "text": [
            "GenyaGenyaGenya\n",
            "{'word': <class 'str'>, 'num': <class 'int'>, 'return': <class 'str'>}\n"
          ]
        }
      ],
      "source": [
        "def hello(word: str, num: int) -> str:\n",
        "    return f\"{word * num}\"\n",
        "\n",
        "a: int\n",
        "\n",
        "print(hello('Genya', 3))\n",
        "print(hello.__annotations__)"
      ]
    },
    {
      "cell_type": "code",
      "source": [
        "from typing import List\n",
        "\n",
        "def hello(nums: List[int]) -> str:\n",
        "    return ''.join(map(str,nums))\n",
        "\n",
        "a: int\n",
        "\n",
        "print(hello([1,2,4]))\n",
        "print(hello.__annotations__)"
      ],
      "metadata": {
        "colab": {
          "base_uri": "https://localhost:8080/"
        },
        "id": "ujfP6FojDu4V",
        "outputId": "08369bb4-35a6-441f-9cb1-228f0f6e191d"
      },
      "execution_count": 13,
      "outputs": [
        {
          "output_type": "stream",
          "name": "stdout",
          "text": [
            "124\n",
            "{'nums': typing.List[int], 'return': <class 'str'>}\n"
          ]
        }
      ]
    },
    {
      "cell_type": "code",
      "source": [
        "from typing import Union\n",
        "a: Union[int, str] = [1, 'hello']\n",
        "print(a)"
      ],
      "metadata": {
        "colab": {
          "base_uri": "https://localhost:8080/"
        },
        "id": "wwM1oUUSFFC7",
        "outputId": "8c3fa655-0fdd-4faa-8a5b-5ba5f0288051"
      },
      "execution_count": 14,
      "outputs": [
        {
          "output_type": "stream",
          "name": "stdout",
          "text": [
            "[1, 'hello']\n"
          ]
        }
      ]
    },
    {
      "cell_type": "code",
      "source": [
        "from typing import Optional, Union\n",
        "name: Optional[str] = 'aa'\n",
        "\n",
        "# name: Union[str, None] == name: Optional[str]"
      ],
      "metadata": {
        "id": "qlqd0pABGnOa"
      },
      "execution_count": 19,
      "outputs": []
    },
    {
      "cell_type": "code",
      "source": [
        "from typing import Optional, Union\n",
        "\n",
        "def get_name(words: Union[str, int]) -> Optional[str]:\n",
        "    return ' '.join(map(str, words))\n",
        "\n",
        "print(get_name(['Hello', 5]))\n",
        "print(get_name([]))\n",
        "print(get_name.__annotations__)"
      ],
      "metadata": {
        "colab": {
          "base_uri": "https://localhost:8080/"
        },
        "id": "CqUIsZtkHB5W",
        "outputId": "c252cf3f-c64a-4e98-d50b-c992cf7603eb"
      },
      "execution_count": 32,
      "outputs": [
        {
          "output_type": "stream",
          "name": "stdout",
          "text": [
            "Hello 5\n",
            "\n",
            "{'words': typing.Union[str, int], 'return': typing.Optional[str]}\n"
          ]
        }
      ]
    }
  ]
}