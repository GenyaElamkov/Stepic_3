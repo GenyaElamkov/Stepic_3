{
  "nbformat": 4,
  "nbformat_minor": 0,
  "metadata": {
    "colab": {
      "provenance": [],
      "authorship_tag": "ABX9TyMzpE9sqr5bQ1cX4RiJKx+Y",
      "include_colab_link": true
    },
    "kernelspec": {
      "name": "python3",
      "display_name": "Python 3"
    },
    "language_info": {
      "name": "python"
    }
  },
  "cells": [
    {
      "cell_type": "markdown",
      "metadata": {
        "id": "view-in-github",
        "colab_type": "text"
      },
      "source": [
        "<a href=\"https://colab.research.google.com/github/GenyaElamkov/Stepic_3/blob/master/functools.ipynb\" target=\"_parent\"><img src=\"https://colab.research.google.com/assets/colab-badge.svg\" alt=\"Open In Colab\"/></a>"
      ]
    },
    {
      "cell_type": "code",
      "execution_count": null,
      "metadata": {
        "colab": {
          "base_uri": "https://localhost:8080/"
        },
        "id": "13hJUDWXMeUo",
        "outputId": "1f702424-21ba-43f2-faf9-66ac6e5948e3"
      },
      "outputs": [
        {
          "output_type": "stream",
          "name": "stdout",
          "text": [
            "15\n"
          ]
        }
      ],
      "source": [
        "import functools\n",
        "\n",
        "def func(a, b):\n",
        "    return a * b\n",
        "\n",
        "res = functools.partial(func, 3, 5)\n",
        "print(res())"
      ]
    },
    {
      "cell_type": "code",
      "source": [
        "from functools import partial\n",
        "\n",
        "def pretty_print(text, symbol, count):\n",
        "    print(symbol * count)\n",
        "    print(text)\n",
        "    print(symbol * count)\n",
        "\n",
        "star_pretty_print = partial(pretty_print, 'hi!!!', symbol=\"*\")\n",
        "\n",
        "star_pretty_print(count=7)\n",
        "\n",
        "print(star_pretty_print.args)\n",
        "print(star_pretty_print.keywords)\n",
        "\n",
        "star_pretty_print.func('Исходная функция', symbol='~', count=20)\n"
      ],
      "metadata": {
        "id": "8DygvOKYPzqG",
        "outputId": "e0d8c146-3f68-4715-af85-e863bfdeddd0",
        "colab": {
          "base_uri": "https://localhost:8080/"
        }
      },
      "execution_count": 4,
      "outputs": [
        {
          "output_type": "stream",
          "name": "stdout",
          "text": [
            "*******\n",
            "hi!!!\n",
            "*******\n",
            "('hi!!!',)\n",
            "{'symbol': '*'}\n",
            "~~~~~~~~~~~~~~~~~~~~\n",
            "Исходная функция\n",
            "~~~~~~~~~~~~~~~~~~~~\n"
          ]
        }
      ]
    },
    {
      "cell_type": "markdown",
      "source": [
        "Верно, у partial объекта нет явных атрибутов __name__ и __doc__."
      ],
      "metadata": {
        "id": "BGGVcyi0Sn4U"
      }
    },
    {
      "cell_type": "code",
      "source": [
        "from functools import partial\n",
        "\n",
        "def add(a, b):\n",
        "    '''documentation'''\n",
        "    return a + b\n",
        "\n",
        "add_one = partial(add, 1)\n",
        "\n",
        "print(add_one.__name__)\n",
        "print(add_one.__doc__)"
      ],
      "metadata": {
        "id": "CB1fZTd7SfQw",
        "outputId": "5aa704af-0ee7-4ac8-c56e-6d83288bd2b1",
        "colab": {
          "base_uri": "https://localhost:8080/",
          "height": 227
        }
      },
      "execution_count": 5,
      "outputs": [
        {
          "output_type": "error",
          "ename": "AttributeError",
          "evalue": "ignored",
          "traceback": [
            "\u001b[0;31m---------------------------------------------------------------------------\u001b[0m",
            "\u001b[0;31mAttributeError\u001b[0m                            Traceback (most recent call last)",
            "\u001b[0;32m<ipython-input-5-321578417e51>\u001b[0m in \u001b[0;36m<cell line: 9>\u001b[0;34m()\u001b[0m\n\u001b[1;32m      7\u001b[0m \u001b[0madd_one\u001b[0m \u001b[0;34m=\u001b[0m \u001b[0mpartial\u001b[0m\u001b[0;34m(\u001b[0m\u001b[0madd\u001b[0m\u001b[0;34m,\u001b[0m \u001b[0;36m1\u001b[0m\u001b[0;34m)\u001b[0m\u001b[0;34m\u001b[0m\u001b[0;34m\u001b[0m\u001b[0m\n\u001b[1;32m      8\u001b[0m \u001b[0;34m\u001b[0m\u001b[0m\n\u001b[0;32m----> 9\u001b[0;31m \u001b[0mprint\u001b[0m\u001b[0;34m(\u001b[0m\u001b[0madd_one\u001b[0m\u001b[0;34m.\u001b[0m\u001b[0m__name__\u001b[0m\u001b[0;34m)\u001b[0m\u001b[0;34m\u001b[0m\u001b[0;34m\u001b[0m\u001b[0m\n\u001b[0m\u001b[1;32m     10\u001b[0m \u001b[0mprint\u001b[0m\u001b[0;34m(\u001b[0m\u001b[0madd_one\u001b[0m\u001b[0;34m.\u001b[0m\u001b[0m__doc__\u001b[0m\u001b[0;34m)\u001b[0m\u001b[0;34m\u001b[0m\u001b[0;34m\u001b[0m\u001b[0m\n",
            "\u001b[0;31mAttributeError\u001b[0m: 'functools.partial' object has no attribute '__name__'"
          ]
        }
      ]
    },
    {
      "cell_type": "code",
      "source": [
        "from functools import partial\n",
        "\n",
        "beegeek = partial(print, 'beegeek')\n",
        "\n",
        "beegeek('stepik', 'python')"
      ],
      "metadata": {
        "id": "iXmgHh7PTidF",
        "outputId": "65b2abab-349e-4bb6-e6c7-3aa453aa3a87",
        "colab": {
          "base_uri": "https://localhost:8080/"
        }
      },
      "execution_count": 6,
      "outputs": [
        {
          "output_type": "stream",
          "name": "stdout",
          "text": [
            "beegeek stepik python\n"
          ]
        }
      ]
    },
    {
      "cell_type": "markdown",
      "source": [
        "## Две функции\n",
        "Вам доступна уже реализованная функция send_email(), которая принимает три аргумента в следующем порядке:\n",
        "\n",
        "name — имя\n",
        "email_address — адрес электронной почты\n",
        "text — содержание письма\n",
        "Функция отправляет письмо пользователю с именем name на адрес email_address с содержанием text.\n",
        "\n",
        "1. Реализуйте функцию to_Timur() с помощью функции partial(), которая принимает один аргумент:\n",
        "\n",
        "text — содержание письма\n",
        "Функция должна отправлять письмо пользователю с именем Тимур на адрес timyrik20@beegeek.ru с содержанием text.\n",
        "\n",
        "2. Реализуйте функцию send_an_invitation() с помощью функции partial(), которая принимает два аргумента в следующем порядке:\n",
        "\n",
        "name — имя\n",
        "email_address — адрес электронной почты\n",
        "Функция должна отправлять письмо на имя name и на адрес email_address со следующим содержанием:\n",
        "\n",
        "Школа BEEGEEK приглашает Вас на новый курс по программированию на языке Python. тутут....\n",
        "Примечание 1. Функции to_Timur() и send_an_invitation() должны являться partial объектами.\n",
        "\n",
        "Примечание 2. В тестирующую систему сдайте программу, содержащую только необходимые функции to_Timur() и send_an_invitation(), но не код, вызывающий их."
      ],
      "metadata": {
        "id": "W5lZV2zLVLFq"
      }
    },
    {
      "cell_type": "code",
      "source": [
        "from functools import partial\n",
        "\n",
        "to_Timur = partial(send_email, text)"
      ],
      "metadata": {
        "id": "qalgzrkMV3YO"
      },
      "execution_count": null,
      "outputs": []
    }
  ]
}