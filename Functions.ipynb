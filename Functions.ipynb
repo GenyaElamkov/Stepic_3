{
  "nbformat": 4,
  "nbformat_minor": 0,
  "metadata": {
    "colab": {
      "provenance": [],
      "authorship_tag": "ABX9TyO02ZFDUKh9z81UBuaXEe5h",
      "include_colab_link": true
    },
    "kernelspec": {
      "name": "python3",
      "display_name": "Python 3"
    },
    "language_info": {
      "name": "python"
    }
  },
  "cells": [
    {
      "cell_type": "markdown",
      "metadata": {
        "id": "view-in-github",
        "colab_type": "text"
      },
      "source": [
        "<a href=\"https://colab.research.google.com/github/GenyaElamkov/Stepic_3/blob/master/Functions.ipynb\" target=\"_parent\"><img src=\"https://colab.research.google.com/assets/colab-badge.svg\" alt=\"Open In Colab\"/></a>"
      ]
    },
    {
      "cell_type": "code",
      "execution_count": null,
      "metadata": {
        "id": "2N1nxYPLfScx"
      },
      "outputs": [],
      "source": [
        "print(*list(map(chr, range(ord('a'), ord('z')+1))), sep='\\n')"
      ]
    },
    {
      "cell_type": "markdown",
      "source": [
        "## Функция convert()\n",
        "Реализуйте функцию convert(), которая принимает один аргумент:\n",
        "\n",
        "number — целое число\n",
        "Функция должна возвращать кортеж из трех элементов, расположенных в следующем порядке:\n",
        "\n",
        "двоичное представление числа number в виде строки без префикса 0b\n",
        "восьмеричное представление числа number в виде строки без префикса 0o\n",
        "шестнадцатеричное представление числа number в виде строки в верхнем регистре без префикса 0x\n",
        "Примечание 1. В задаче удобно воспользоваться функциями bin(), oct() и hex().\n",
        "\n",
        "Примечание 2. В тестирующую систему сдайте программу, содержащую только необходимую функцию convert(), но не код, вызывающий ее.\n",
        "\n",
        "https://stepik.org/lesson/640035/step/5?unit=636555"
      ],
      "metadata": {
        "id": "OmibJsqFoqeT"
      }
    },
    {
      "cell_type": "code",
      "source": [
        "def convert(number: int) -> tuple[str, str, str]:\n",
        "    bin_num = bin(number).replace('0b', '')\n",
        "    oct_num = oct(number).replace('0o', '')\n",
        "    hex_num = hex(number).replace('0x', '').upper()\n",
        "\n",
        "    return bin_num, oct_num, hex_num\n",
        "\n",
        "\n",
        "print(convert(1))"
      ],
      "metadata": {
        "colab": {
          "base_uri": "https://localhost:8080/"
        },
        "id": "qnS_oIoBoqtl",
        "outputId": "0c37fd4a-040d-4aa7-e8cf-b29fa46cd4c8"
      },
      "execution_count": null,
      "outputs": [
        {
          "output_type": "stream",
          "name": "stdout",
          "text": [
            "('1', '1', '1')\n"
          ]
        }
      ]
    },
    {
      "cell_type": "code",
      "source": [
        "def add(a, b):\n",
        "    return print(a + b)\n",
        "\n",
        "result = add(13, 8)"
      ],
      "metadata": {
        "colab": {
          "base_uri": "https://localhost:8080/"
        },
        "id": "9p1vvdqNm2v-",
        "outputId": "8f717bf4-93f2-488c-ece9-13c7e67206c5"
      },
      "execution_count": null,
      "outputs": [
        {
          "output_type": "stream",
          "name": "stdout",
          "text": [
            "21\n"
          ]
        }
      ]
    },
    {
      "cell_type": "markdown",
      "source": [
        "Вам доступен словарь films, ключом в котором является название некоторого фильма, а значением — словарь с оценками этого фильма от изданий imdb и kinopoisk.\n",
        "\n",
        "Дополните приведенный ниже код, чтобы он вывел название фильма с наименьшей средней оценкой.\n",
        "\n",
        "Примечание 1. Гарантируется, что искомый фильм единственный.\n",
        "\n",
        "Примечание 2. Средней оценкой считается отношение суммы всех оценок к их количеству.\n",
        "\n",
        "Примечание 3. В задаче удобно воспользоваться функцией min().\n",
        "\n",
        "https://stepik.org/lesson/640035/step/8?unit=636555"
      ],
      "metadata": {
        "id": "YQlwiYxmnbc0"
      }
    },
    {
      "cell_type": "code",
      "source": [
        "films = {'Spider-Man: No Way Home': {'imdb': 8.8, 'kinopoisk': 8.3},\n",
        "         'Don\"t Look Up': {'imdb': 7.3, 'kinopoisk': 7.6},\n",
        "         'Encanto': {'imdb': 7.3, 'kinopoisk': 7.4},\n",
        "         'The Witcher': {'imdb': 8.2, 'kinopoisk': 7.3},\n",
        "         'Ghostbusters: Afterlife': {'imdb': 7.3, 'kinopoisk': 8},\n",
        "         'Harry Potter 20th Anniversary: Return to Hogwarts': {'imdb': 8.1, 'kinopoisk': 8.2},\n",
        "         'Shingeki no Kyojin': {'imdb': 9.0, 'kinopoisk': 8.3},\n",
        "         'The Matrix': {'imdb': 8.7, 'kinopoisk': 8.5},\n",
        "         'The Dark Knight': {'imdb': 9.0, 'kinopoisk': 8.5},\n",
        "         'The Shawshank Redemption': {'imdb': 9.3, 'kinopoisk': 9.1},\n",
        "         'Avengers: Endgame': {'imdb': 8.4, 'kinopoisk': 7.7}}\n",
        "\n",
        "\n",
        "res = {k: sum(v.values())for k, v in films.items()}\n",
        "print(min(res, key=res.get))"
      ],
      "metadata": {
        "colab": {
          "base_uri": "https://localhost:8080/"
        },
        "id": "NXF4PlqBnbqH",
        "outputId": "d1a2d6b0-e75b-4dc4-be2f-1ad852352a04"
      },
      "execution_count": null,
      "outputs": [
        {
          "output_type": "stream",
          "name": "stdout",
          "text": [
            "Spider-Man: No Way Home 17.1\n",
            "Don\"t Look Up 14.899999999999999\n",
            "Encanto 14.7\n",
            "The Witcher 15.5\n",
            "Ghostbusters: Afterlife 15.3\n",
            "Harry Potter 20th Anniversary: Return to Hogwarts 16.299999999999997\n",
            "Shingeki no Kyojin 17.3\n",
            "The Matrix 17.2\n",
            "The Dark Knight 17.5\n",
            "The Shawshank Redemption 18.4\n",
            "Avengers: Endgame 16.1\n",
            "Encanto\n"
          ]
        }
      ]
    },
    {
      "cell_type": "markdown",
      "source": [
        "## Функция non_negative_even()\n",
        "Реализуйте функцию non_negative_even(),  которая принимает один аргумент:\n",
        "\n",
        "numbers — непустой список чисел\n",
        "Функция должна возвращать True, если все числа в списке numbers являются четными и неотрицательными, или False в противном случае.\n",
        "\n",
        "Примечание 1. В задаче удобно воспользоваться функцией all().\n",
        "\n",
        "Примечание 2. В тестирующую систему сдайте программу, содержащую только необходимую функцию non_negative_even(), но не код, вызывающий ее.\n",
        "\n",
        "https://stepik.org/lesson/640035/step/9?unit=636555"
      ],
      "metadata": {
        "id": "NHsO__wSrW2P"
      }
    },
    {
      "cell_type": "code",
      "source": [
        "def non_negative_even(numbers: list) -> bool:\n",
        "    # return all(map(lambda x: (x % 2) == 0 and  x >= 0, numbers))\n",
        "    return all(not k % 2 and k >= 0 for k in numbers)\n",
        "\n",
        "print(non_negative_even([4, 4, 4]))"
      ],
      "metadata": {
        "colab": {
          "base_uri": "https://localhost:8080/"
        },
        "id": "wcJDibw5rXZ5",
        "outputId": "4bec641a-00cc-4843-f7a8-021e0e50ae46"
      },
      "execution_count": null,
      "outputs": [
        {
          "output_type": "stream",
          "name": "stdout",
          "text": [
            "True\n"
          ]
        }
      ]
    },
    {
      "cell_type": "markdown",
      "source": [
        "## Функция is_greater()\n",
        "Реализуйте функцию is_greater(), которая принимает два аргумента в следующем порядке:\n",
        "\n",
        "lists — список, элементами которого являются списки целых чисел\n",
        "number — целое число\n",
        "Функция должна возвращать True, если хотя бы в одном вложенном списке из списка lists сумма всех элементов больше number, или False в противном случае.\n",
        "\n",
        "Примечание 1. В задаче удобно воспользоваться функцией any().\n",
        "\n",
        "Примечание 2. В тестирующую систему сдайте программу, содержащую только необходимую функцию is_greater(), но не код, вызывающий ее.\n",
        "\n",
        "https://stepik.org/lesson/640035/step/10?unit=636555"
      ],
      "metadata": {
        "id": "hFzwSroeuOHs"
      }
    },
    {
      "cell_type": "code",
      "source": [
        "def is_greater(lists: list, number: int) -> bool:\n",
        "    return any(map(lambda x: sum(x) > number, lists))\n",
        "\n",
        "\n",
        "\n",
        "data = [[0, 0, 1], [0, 1, 0], [1, 0, 0]]\n",
        "\n",
        "print(is_greater(data, 2))"
      ],
      "metadata": {
        "colab": {
          "base_uri": "https://localhost:8080/"
        },
        "id": "mHq5CRspuOV6",
        "outputId": "6e57c0c8-b93c-4acd-de58-4718b733290c"
      },
      "execution_count": null,
      "outputs": [
        {
          "output_type": "stream",
          "name": "stdout",
          "text": [
            "False\n"
          ]
        }
      ]
    },
    {
      "cell_type": "markdown",
      "source": [
        "## Функция custom_isinstance()\n",
        "Реализуйте функцию custom_isinstance(), которая принимает два аргумента в следующем порядке:\n",
        "\n",
        "objects — список произвольных объектов\n",
        "typeinfo — тип данных или кортеж с типами\n",
        "Функция должна возвращать единственное число — количество объектов из списка objects, которые принадлежат типу typeinfo или одному из типов, если был передан кортеж.\n",
        "\n",
        "Примечание 1. В задаче удобно воспользоваться функцией isinstance().\n",
        "\n",
        "Примечание 2. В тестирующую систему сдайте программу, содержащую только необходимую функцию custom_isinstance(), но не код, вызывающий ее.\n",
        "\n",
        "https://stepik.org/lesson/640035/step/11?unit=636555"
      ],
      "metadata": {
        "id": "kyi1qHGPwgos"
      }
    },
    {
      "cell_type": "code",
      "source": [
        "def custom_isinstance(objects, typeinfo):\n",
        "    # return len(list(filter(lambda x: isinstance(x, typeinfo), objects)))\n",
        "    return sum(isinstance(k, typeinfo) for k in objects)\n",
        "\n",
        "\n",
        "numbers = [1, 'two', 3.0, 'четыре', 5, 6.0]\n",
        "print(custom_isinstance(numbers, int))"
      ],
      "metadata": {
        "colab": {
          "base_uri": "https://localhost:8080/"
        },
        "id": "OjQBMOG_wg-L",
        "outputId": "e54dc452-a032-4046-91a7-dbe348cbf49e"
      },
      "execution_count": null,
      "outputs": [
        {
          "output_type": "stream",
          "name": "stdout",
          "text": [
            "2\n"
          ]
        }
      ]
    },
    {
      "cell_type": "markdown",
      "source": [
        "Вам доступен список numbers. Дополните приведенный ниже код, чтобы он вывел индекс максимального элемента в этом списке.\n",
        "\n",
        "Примечание 1. Индексация начинается с нуля.\n",
        "\n",
        "Примечание 2. В задаче удобно воспользоваться функциями enumerate() и max().\n",
        "\n",
        "https://stepik.org/lesson/640035/step/12?unit=636555"
      ],
      "metadata": {
        "id": "BdohDOH5x-hx"
      }
    },
    {
      "cell_type": "code",
      "source": [
        "numbers = [-7724, 5023, 3197, -102, -4129, -880, 5857, -2866, -8913, 1195, 9809, 5347, -8071, 903, 3030, -4347, -3354, 1024, 8670, 4210, -5228, 8900, 4823, -2002, 4900, 9520, -3658, 1104, -9554, 3064, 9632, -8701, 3384, 4370, 2034, 7822, -9694, 3347, 7440, -8459, 3238, -5193, -3381, 5281, 9022, 5559, 7593, -6540, -6204, -2483, 8729, 5810, -8254, -9846, -1801, 4882, 3838, -3140, 7609, -3325, 6026, 2994, -1677, 1266, -1893, -4408, -5722, -2841, 9812, 5837, -7474, 4624, -664, 6998, 7888, -971, 8810, 3812, -5396, 2593, 512, -4634, 9735, -3062, 9031, -9300, 3657, 6332, 7552, 8125, -725, 4392, 1727, 8194, -2828, -4314, -8967, -7912, -1363, -5957]\n",
        "\n",
        "print(max(enumerate(numbers), key=lambda x: x[1])[0])\n",
        "\n"
      ],
      "metadata": {
        "colab": {
          "base_uri": "https://localhost:8080/"
        },
        "id": "oMf9zZO8x-wI",
        "outputId": "64a360ca-4626-43e8-8516-ef8cac070bd4"
      },
      "execution_count": null,
      "outputs": [
        {
          "output_type": "stream",
          "name": "stdout",
          "text": [
            "(68, 9812)\n"
          ]
        }
      ]
    },
    {
      "cell_type": "markdown",
      "source": [
        "## Функция my_pow()\n",
        "Реализуйте функцию my_pow(), которая принимает один аргумент:\n",
        "\n",
        "number — целое неотрицательное число\n",
        "Функция должна возвращать сумму, состоящую из цифр числа, возведенных в степень их порядкового номера.\n",
        "\n",
        "Примечание 1. Рассмотрим число\n",
        "139\n",
        "139 из первого теста. Сумма цифр этого числа, возведенных в степень их порядкового номера, равна:\n",
        "1\n",
        "1\n",
        "+\n",
        "3\n",
        "2\n",
        "+\n",
        "9\n",
        "3\n",
        "=\n",
        "739\n",
        "1\n",
        "1\n",
        " +3\n",
        "2\n",
        " +9\n",
        "3\n",
        " =739\n",
        "\n",
        "Примечание 2. В задаче удобно воспользоваться функциями enumerate() и sum().\n",
        "\n",
        "Примечание 3. В тестирующую систему сдайте программу, содержащую только необходимую функцию my_pow(), но не код, вызывающий ее.\n",
        "\n",
        "https://stepik.org/lesson/640035/step/13?unit=636555"
      ],
      "metadata": {
        "id": "L1URaWCOy_oH"
      }
    },
    {
      "cell_type": "code",
      "source": [
        "def my_pow(number: int) -> int:\n",
        "    return sum([x ** i for i, x in enumerate(map(int, str(number)), 1)])\n",
        "\n",
        "\n",
        "\n",
        "print(my_pow(139))"
      ],
      "metadata": {
        "colab": {
          "base_uri": "https://localhost:8080/"
        },
        "id": "6sKzxKKGy_2c",
        "outputId": "861367ba-37ec-4715-9bfc-da5c28b258f9"
      },
      "execution_count": null,
      "outputs": [
        {
          "output_type": "stream",
          "name": "stdout",
          "text": [
            "739\n"
          ]
        }
      ]
    },
    {
      "cell_type": "markdown",
      "source": [
        "Вам доступны три списка names, budgets и box_offices. Первый список содержит названия различных мультфильмов, второй и третий — соответствующие бюджеты и сборы в долларах.\n",
        "\n",
        "Дополните приведенный ниже код, чтобы он определил, какую прибыль принес каждый мультфильм, и вывел названия мультфильмов, указав для каждого соответствующую прибыль. Мультфильмы должны быть расположены в лексикографическом порядке, каждый на отдельной строке, в следующем формате:\n",
        "\n",
        "<фильм>: <прибыль>$\n",
        "Примечание 1. Прибыль определяется как разность сборов и бюджета.\n",
        "\n",
        "Примечание 2. Начальная часть ответа выглядит так:\n",
        "\n",
        "Cars: 342216280$\n",
        "Coco: 627082196$\n",
        "Finding Nemo: 846335536$\n",
        "...\n",
        "Примечание 3. В задаче удобно воспользоваться функцией zip().\n",
        "\n",
        "https://stepik.org/lesson/640035/step/14?unit=636555"
      ],
      "metadata": {
        "id": "PeClG0xU2e-4"
      }
    },
    {
      "cell_type": "code",
      "source": [
        "names = ['Moana', 'Cars', 'Zootopia', 'Ratatouille', 'Coco', 'Inside Out', 'Finding Nemo', 'Frozen']\n",
        "budgets = [150000000, 120000000, 150000000, 150000000, 180000000, 175000000, 94000000, 150000000]\n",
        "box_offices = [643331111, 462216280, 1023784195, 620702951, 807082196, 857611174, 940335536, 1280802282]\n",
        "\n",
        "res = [(k[0], k[2]-k[1]) for k in zip(names, budgets, box_offices)]\n",
        "\n",
        "for v in sorted(res):\n",
        "    print(f\"{v[0]}: {v[1]}$\")\n"
      ],
      "metadata": {
        "colab": {
          "base_uri": "https://localhost:8080/"
        },
        "id": "m8r3Np8Z2fQo",
        "outputId": "5c8b17e7-89d9-4dea-89d0-4592307be9da"
      },
      "execution_count": null,
      "outputs": [
        {
          "output_type": "stream",
          "name": "stdout",
          "text": [
            "Cars: 342216280$\n",
            "Coco: 627082196$\n",
            "Finding Nemo: 846335536$\n",
            "Frozen: 1130802282$\n",
            "Inside Out: 682611174$\n",
            "Moana: 493331111$\n",
            "Ratatouille: 470702951$\n",
            "Zootopia: 873784195$\n"
          ]
        }
      ]
    },
    {
      "cell_type": "markdown",
      "source": [
        "## Функция zip_longest()\n",
        "Как уже известно, функция zip() объединяет элементы различных последовательностей. Особенностью функции является то, что при передаче последовательностей различной длины элементы последовательности большей длины будут отброшены.\n",
        "\n",
        "Реализуйте функцию zip_longest(), которая принимает переменное количество позиционных аргументов, каждый из которых является списком, и один необязательный именованный аргумент fill, имеющий значение по умолчанию None.\n",
        "\n",
        "Функция должна объединять элементы переданных последовательностей в кортежи, аналогично функции zip(), и возвращать в виде списка, но если последовательности имеют различную длину, недостающие элементы последовательностей меньшей длины должны принимать значение fill.\n",
        "\n",
        "Примечание 1. Рассмотрим первый тест со следующим вызовом:\n",
        "\n",
        "zip_longest([1, 2, 3, 4, 5], ['a', 'b', 'c'], fill='_')\n",
        "Первый список имеет длину\n",
        "5\n",
        "5, второй —\n",
        "3\n",
        "3, то есть элементам 4 и 5 из первого списка нет пар из второго списка. В таком случае, функция должна сопоставить им значение fill, равное '_'. Итак, результатом работы функции будет список:\n",
        "\n",
        "[(1, 'a'), (2, 'b'), (3, 'c'), (4, '_'), (5, '_')]\n",
        "Примечание 2. В тестирующую систему сдайте программу, содержащую только необходимую функцию zip_longest(), но не код, вызывающий ее.\n",
        "\n",
        "https://stepik.org/lesson/640035/step/15?unit=636555"
      ],
      "metadata": {
        "id": "G8w2TdI8iISa"
      }
    },
    {
      "cell_type": "code",
      "source": [
        "import itertools\n",
        "\n",
        "def zip_longest(*args: list, fill: str=None) -> list[tuple]:\n",
        "    return list(itertools.zip_longest(*args, fillvalue=fill))\n",
        "    # try:\n",
        "    #     len_max_elem = len(max(*args, key=len))\n",
        "    # except ValueError:\n",
        "    #     return []\n",
        "\n",
        "    # for k in args:\n",
        "    #     while len(k) < len_max_elem:\n",
        "    #         k.append(fill)\n",
        "    # return list(zip(*args))\n",
        "\n",
        "data = [[]]\n",
        "print(zip_longest(*data, fill='not known'))"
      ],
      "metadata": {
        "colab": {
          "base_uri": "https://localhost:8080/"
        },
        "id": "fGD_CCijiI47",
        "outputId": "3b2148d9-db62-42dd-fa22-28012502eaf0"
      },
      "execution_count": 38,
      "outputs": [
        {
          "output_type": "stream",
          "name": "stdout",
          "text": [
            "[]\n"
          ]
        }
      ]
    },
    {
      "cell_type": "markdown",
      "source": [
        "## Необычная сортировка 🌶️\n",
        "Дана строка, содержащая латинские буквы и цифры. Напишите программу, которая сортирует символы в строке согласно следующим правилам:\n",
        "\n",
        "- все отсортированные строчные буквы стоят перед заглавными буквами\n",
        "- все отсортированные заглавные буквы стоят перед цифрами\n",
        "- все отсортированные нечетные цифры стоят перед отсортированными четными\n",
        "\n",
        "Формат входных данных\n",
        "На вход программе подается строка, содержащая латинские буквы и цифры.\n",
        "\n",
        "Формат выходных данных\n",
        "Программа должна расположить символы в строке в соответствии с условием задачи и вывести полученный результат.\n",
        "\n",
        "https://stepik.org/lesson/640035/step/16?unit=636555"
      ],
      "metadata": {
        "id": "te0SoeOzpKqs"
      }
    },
    {
      "cell_type": "code",
      "source": [
        "text = \"Sorting\"\n",
        "\n",
        "string = ''\n",
        "low_char = ''\n",
        "up_char = ''\n",
        "buf = [[],[]]\n",
        "for char in sorted(text):\n",
        "    if char.islower():\n",
        "        low_char += char\n",
        "    elif char.isupper():\n",
        "        up_char += char\n",
        "    else:\n",
        "        buf[int(char) % 2].append(char)\n",
        "\n",
        "string = low_char + up_char + \"\".join(buf[1]) + \"\".join(buf[0])\n",
        "\n",
        "# def comparator(char):\n",
        "#     if char.isalpha():\n",
        "#         return 0, char.isupper(), char\n",
        "#     digit = int(char)\n",
        "#     return 1, digit % 2 == 0, digit\n",
        "\n",
        "# string = input()\n",
        "\n",
        "# print(''.join(sorted(string, key=comparator)))\n",
        "\n",
        "print(string)"
      ],
      "metadata": {
        "colab": {
          "base_uri": "https://localhost:8080/"
        },
        "id": "immALAOgpK5F",
        "outputId": "7a0b7925-65e7-4f78-d92a-1577768bfa2c"
      },
      "execution_count": 129,
      "outputs": [
        {
          "output_type": "stream",
          "name": "stdout",
          "text": [
            "ginortS\n"
          ]
        }
      ]
    }
  ]
}