{
  "nbformat": 4,
  "nbformat_minor": 0,
  "metadata": {
    "colab": {
      "provenance": [],
      "authorship_tag": "ABX9TyPQKqyi0VdH4SPCB1+8rCs6",
      "include_colab_link": true
    },
    "kernelspec": {
      "name": "python3",
      "display_name": "Python 3"
    },
    "language_info": {
      "name": "python"
    }
  },
  "cells": [
    {
      "cell_type": "markdown",
      "metadata": {
        "id": "view-in-github",
        "colab_type": "text"
      },
      "source": [
        "<a href=\"https://colab.research.google.com/github/GenyaElamkov/Stepic_3/blob/master/Functions.ipynb\" target=\"_parent\"><img src=\"https://colab.research.google.com/assets/colab-badge.svg\" alt=\"Open In Colab\"/></a>"
      ]
    },
    {
      "cell_type": "code",
      "execution_count": null,
      "metadata": {
        "colab": {
          "base_uri": "https://localhost:8080/"
        },
        "id": "2N1nxYPLfScx",
        "outputId": "3b80511b-959b-41b0-8b4b-fcc46241e98e"
      },
      "outputs": [
        {
          "output_type": "stream",
          "name": "stdout",
          "text": [
            "a\n",
            "b\n",
            "c\n",
            "d\n",
            "e\n",
            "f\n",
            "g\n",
            "h\n",
            "i\n",
            "j\n",
            "k\n",
            "l\n",
            "m\n",
            "n\n",
            "o\n",
            "p\n",
            "q\n",
            "r\n",
            "s\n",
            "t\n",
            "u\n",
            "v\n",
            "w\n",
            "x\n",
            "y\n",
            "z\n"
          ]
        }
      ],
      "source": [
        "print(*list(map(chr, range(ord('a'), ord('z')+1))), sep='\\n')"
      ]
    },
    {
      "cell_type": "markdown",
      "source": [
        "## Функция convert()\n",
        "Реализуйте функцию convert(), которая принимает один аргумент:\n",
        "\n",
        "number — целое число\n",
        "Функция должна возвращать кортеж из трех элементов, расположенных в следующем порядке:\n",
        "\n",
        "двоичное представление числа number в виде строки без префикса 0b\n",
        "восьмеричное представление числа number в виде строки без префикса 0o\n",
        "шестнадцатеричное представление числа number в виде строки в верхнем регистре без префикса 0x\n",
        "Примечание 1. В задаче удобно воспользоваться функциями bin(), oct() и hex().\n",
        "\n",
        "Примечание 2. В тестирующую систему сдайте программу, содержащую только необходимую функцию convert(), но не код, вызывающий ее.\n",
        "\n",
        "https://stepik.org/lesson/640035/step/5?unit=636555"
      ],
      "metadata": {
        "id": "OmibJsqFoqeT"
      }
    },
    {
      "cell_type": "code",
      "source": [
        "def convert(number: int) -> tuple[str, str, str]:\n",
        "    bin_num = bin(number).replace('0b', '')\n",
        "    oct_num = oct(number).replace('0o', '')\n",
        "    hex_num = hex(number).replace('0x', '').upper()\n",
        "\n",
        "    return bin_num, oct_num, hex_num\n",
        "\n",
        "\n",
        "print(convert(1))"
      ],
      "metadata": {
        "colab": {
          "base_uri": "https://localhost:8080/"
        },
        "id": "qnS_oIoBoqtl",
        "outputId": "0c37fd4a-040d-4aa7-e8cf-b29fa46cd4c8"
      },
      "execution_count": null,
      "outputs": [
        {
          "output_type": "stream",
          "name": "stdout",
          "text": [
            "('1', '1', '1')\n"
          ]
        }
      ]
    },
    {
      "cell_type": "code",
      "source": [
        "def add(a, b):\n",
        "    return print(a + b)\n",
        "\n",
        "result = add(13, 8)"
      ],
      "metadata": {
        "colab": {
          "base_uri": "https://localhost:8080/"
        },
        "id": "9p1vvdqNm2v-",
        "outputId": "8f717bf4-93f2-488c-ece9-13c7e67206c5"
      },
      "execution_count": 5,
      "outputs": [
        {
          "output_type": "stream",
          "name": "stdout",
          "text": [
            "21\n"
          ]
        }
      ]
    },
    {
      "cell_type": "markdown",
      "source": [
        "Вам доступен словарь films, ключом в котором является название некоторого фильма, а значением — словарь с оценками этого фильма от изданий imdb и kinopoisk.\n",
        "\n",
        "Дополните приведенный ниже код, чтобы он вывел название фильма с наименьшей средней оценкой.\n",
        "\n",
        "Примечание 1. Гарантируется, что искомый фильм единственный.\n",
        "\n",
        "Примечание 2. Средней оценкой считается отношение суммы всех оценок к их количеству.\n",
        "\n",
        "Примечание 3. В задаче удобно воспользоваться функцией min().\n",
        "\n",
        "https://stepik.org/lesson/640035/step/8?unit=636555"
      ],
      "metadata": {
        "id": "YQlwiYxmnbc0"
      }
    },
    {
      "cell_type": "code",
      "source": [
        "films = {'Spider-Man: No Way Home': {'imdb': 8.8, 'kinopoisk': 8.3},\n",
        "         'Don\"t Look Up': {'imdb': 7.3, 'kinopoisk': 7.6},\n",
        "         'Encanto': {'imdb': 7.3, 'kinopoisk': 7.4},\n",
        "         'The Witcher': {'imdb': 8.2, 'kinopoisk': 7.3},\n",
        "         'Ghostbusters: Afterlife': {'imdb': 7.3, 'kinopoisk': 8},\n",
        "         'Harry Potter 20th Anniversary: Return to Hogwarts': {'imdb': 8.1, 'kinopoisk': 8.2},\n",
        "         'Shingeki no Kyojin': {'imdb': 9.0, 'kinopoisk': 8.3},\n",
        "         'The Matrix': {'imdb': 8.7, 'kinopoisk': 8.5},\n",
        "         'The Dark Knight': {'imdb': 9.0, 'kinopoisk': 8.5},\n",
        "         'The Shawshank Redemption': {'imdb': 9.3, 'kinopoisk': 9.1},\n",
        "         'Avengers: Endgame': {'imdb': 8.4, 'kinopoisk': 7.7}}\n",
        "\n",
        "\n",
        "res = {k: sum(v.values())for k, v in films.items()}\n",
        "print(min(res, key=res.get))"
      ],
      "metadata": {
        "colab": {
          "base_uri": "https://localhost:8080/"
        },
        "id": "NXF4PlqBnbqH",
        "outputId": "d1a2d6b0-e75b-4dc4-be2f-1ad852352a04"
      },
      "execution_count": 26,
      "outputs": [
        {
          "output_type": "stream",
          "name": "stdout",
          "text": [
            "Spider-Man: No Way Home 17.1\n",
            "Don\"t Look Up 14.899999999999999\n",
            "Encanto 14.7\n",
            "The Witcher 15.5\n",
            "Ghostbusters: Afterlife 15.3\n",
            "Harry Potter 20th Anniversary: Return to Hogwarts 16.299999999999997\n",
            "Shingeki no Kyojin 17.3\n",
            "The Matrix 17.2\n",
            "The Dark Knight 17.5\n",
            "The Shawshank Redemption 18.4\n",
            "Avengers: Endgame 16.1\n",
            "Encanto\n"
          ]
        }
      ]
    },
    {
      "cell_type": "markdown",
      "source": [
        "## Функция non_negative_even()\n",
        "Реализуйте функцию non_negative_even(),  которая принимает один аргумент:\n",
        "\n",
        "numbers — непустой список чисел\n",
        "Функция должна возвращать True, если все числа в списке numbers являются четными и неотрицательными, или False в противном случае.\n",
        "\n",
        "Примечание 1. В задаче удобно воспользоваться функцией all().\n",
        "\n",
        "Примечание 2. В тестирующую систему сдайте программу, содержащую только необходимую функцию non_negative_even(), но не код, вызывающий ее.\n",
        "\n",
        "https://stepik.org/lesson/640035/step/9?unit=636555"
      ],
      "metadata": {
        "id": "NHsO__wSrW2P"
      }
    },
    {
      "cell_type": "code",
      "source": [
        "def non_negative_even(numbers: list) -> bool:\n",
        "    # return all(map(lambda x: (x % 2) == 0 and  x >= 0, numbers))\n",
        "    return all(not k % 2 and k >= 0 for k in numbers)\n",
        "\n",
        "print(non_negative_even([4, 4, 4]))"
      ],
      "metadata": {
        "colab": {
          "base_uri": "https://localhost:8080/"
        },
        "id": "wcJDibw5rXZ5",
        "outputId": "4bec641a-00cc-4843-f7a8-021e0e50ae46"
      },
      "execution_count": 44,
      "outputs": [
        {
          "output_type": "stream",
          "name": "stdout",
          "text": [
            "True\n"
          ]
        }
      ]
    },
    {
      "cell_type": "markdown",
      "source": [
        "## Функция is_greater()\n",
        "Реализуйте функцию is_greater(), которая принимает два аргумента в следующем порядке:\n",
        "\n",
        "lists — список, элементами которого являются списки целых чисел\n",
        "number — целое число\n",
        "Функция должна возвращать True, если хотя бы в одном вложенном списке из списка lists сумма всех элементов больше number, или False в противном случае.\n",
        "\n",
        "Примечание 1. В задаче удобно воспользоваться функцией any().\n",
        "\n",
        "Примечание 2. В тестирующую систему сдайте программу, содержащую только необходимую функцию is_greater(), но не код, вызывающий ее."
      ],
      "metadata": {
        "id": "hFzwSroeuOHs"
      }
    },
    {
      "cell_type": "code",
      "source": [],
      "metadata": {
        "id": "mHq5CRspuOV6"
      },
      "execution_count": null,
      "outputs": []
    }
  ]
}