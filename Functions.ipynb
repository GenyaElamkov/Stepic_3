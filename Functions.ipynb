{
  "nbformat": 4,
  "nbformat_minor": 0,
  "metadata": {
    "colab": {
      "provenance": [],
      "authorship_tag": "ABX9TyORkr6vXGQlbrCXlnHpHGDZ",
      "include_colab_link": true
    },
    "kernelspec": {
      "name": "python3",
      "display_name": "Python 3"
    },
    "language_info": {
      "name": "python"
    }
  },
  "cells": [
    {
      "cell_type": "markdown",
      "metadata": {
        "id": "view-in-github",
        "colab_type": "text"
      },
      "source": [
        "<a href=\"https://colab.research.google.com/github/GenyaElamkov/Stepic_3/blob/master/Functions.ipynb\" target=\"_parent\"><img src=\"https://colab.research.google.com/assets/colab-badge.svg\" alt=\"Open In Colab\"/></a>"
      ]
    },
    {
      "cell_type": "code",
      "execution_count": 43,
      "metadata": {
        "colab": {
          "base_uri": "https://localhost:8080/"
        },
        "id": "2N1nxYPLfScx",
        "outputId": "3b80511b-959b-41b0-8b4b-fcc46241e98e"
      },
      "outputs": [
        {
          "output_type": "stream",
          "name": "stdout",
          "text": [
            "a\n",
            "b\n",
            "c\n",
            "d\n",
            "e\n",
            "f\n",
            "g\n",
            "h\n",
            "i\n",
            "j\n",
            "k\n",
            "l\n",
            "m\n",
            "n\n",
            "o\n",
            "p\n",
            "q\n",
            "r\n",
            "s\n",
            "t\n",
            "u\n",
            "v\n",
            "w\n",
            "x\n",
            "y\n",
            "z\n"
          ]
        }
      ],
      "source": [
        "print(*list(map(chr, range(ord('a'), ord('z')+1))), sep='\\n')"
      ]
    },
    {
      "cell_type": "markdown",
      "source": [
        "## Функция convert()\n",
        "Реализуйте функцию convert(), которая принимает один аргумент:\n",
        "\n",
        "number — целое число\n",
        "Функция должна возвращать кортеж из трех элементов, расположенных в следующем порядке:\n",
        "\n",
        "двоичное представление числа number в виде строки без префикса 0b\n",
        "восьмеричное представление числа number в виде строки без префикса 0o\n",
        "шестнадцатеричное представление числа number в виде строки в верхнем регистре без префикса 0x\n",
        "Примечание 1. В задаче удобно воспользоваться функциями bin(), oct() и hex().\n",
        "\n",
        "Примечание 2. В тестирующую систему сдайте программу, содержащую только необходимую функцию convert(), но не код, вызывающий ее."
      ],
      "metadata": {
        "id": "OmibJsqFoqeT"
      }
    },
    {
      "cell_type": "code",
      "source": [
        "def convert(number: int) -> tuple[str, str, str]:\n",
        "    bin_num = bin(number).replace('0b', '')\n",
        "    oct_num = oct(number).replace('0o', '')\n",
        "    hex_num = hex(number).replace('0x', '').upper()\n",
        "\n",
        "    return bin_num, oct_num, hex_num\n",
        "\n",
        "\n",
        "print(convert(1))"
      ],
      "metadata": {
        "colab": {
          "base_uri": "https://localhost:8080/"
        },
        "id": "qnS_oIoBoqtl",
        "outputId": "0c37fd4a-040d-4aa7-e8cf-b29fa46cd4c8"
      },
      "execution_count": 68,
      "outputs": [
        {
          "output_type": "stream",
          "name": "stdout",
          "text": [
            "('1', '1', '1')\n"
          ]
        }
      ]
    }
  ]
}