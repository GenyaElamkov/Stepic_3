{
  "nbformat": 4,
  "nbformat_minor": 0,
  "metadata": {
    "colab": {
      "provenance": [],
      "toc_visible": true,
      "authorship_tag": "ABX9TyMGy7DBcSrTy3Al7DZ8zdWb",
      "include_colab_link": true
    },
    "kernelspec": {
      "name": "python3",
      "display_name": "Python 3"
    },
    "language_info": {
      "name": "python"
    }
  },
  "cells": [
    {
      "cell_type": "markdown",
      "metadata": {
        "id": "view-in-github",
        "colab_type": "text"
      },
      "source": [
        "<a href=\"https://colab.research.google.com/github/GenyaElamkov/Stepic_3/blob/master/iterators.ipynb\" target=\"_parent\"><img src=\"https://colab.research.google.com/assets/colab-badge.svg\" alt=\"Open In Colab\"/></a>"
      ]
    },
    {
      "cell_type": "markdown",
      "source": [
        "Вам доступен список numbers, содержащий целые числа. Дополните приведенный ниже код с использованием функций iter() и next(), чтобы он вывел четвертый элемент данного списка.\n",
        "\n",
        "https://stepik.org/lesson/668458/step/19?unit=666568"
      ],
      "metadata": {
        "id": "JbpwAcsK9ZU0"
      }
    },
    {
      "cell_type": "code",
      "execution_count": null,
      "metadata": {
        "colab": {
          "base_uri": "https://localhost:8080/"
        },
        "id": "qtlSVOZ09SVC",
        "outputId": "2727e7cf-a013-40fe-f89f-5e5c36b8e8f0"
      },
      "outputs": [
        {
          "output_type": "stream",
          "name": "stdout",
          "text": [
            "45\n"
          ]
        }
      ],
      "source": [
        "numbers = [100, 70, 34, 45, 30, 83, 12, 83, -28, 49, -8, -2, 6, 62, 64, -22, -19, 61, 13, 5, 80, -17, 7, 3, 21, 73, 88, -11, 16, -22]\n",
        "\n",
        "iterator = iter(numbers)\n",
        "for i in range(1, 5):\n",
        "    out  =  next(iterator)\n",
        "else:\n",
        "    print(out)\n"
      ]
    },
    {
      "cell_type": "markdown",
      "source": [
        "Вам доступен список numbers, содержащий целые числа. Дополните приведенный ниже код с использованием функций iter() и next(), чтобы он вывел последний элемент данного списка.\n",
        "\n",
        "https://stepik.org/lesson/668458/step/20?unit=666568"
      ],
      "metadata": {
        "id": "h-fi39VgAO-Q"
      }
    },
    {
      "cell_type": "code",
      "source": [
        "numbers = [100, 70, 34, 45, 30, 83, 12, 83, -28, 49, -8, -2, 6, 62, 64, -22, -19, 61, 13, 5, 80, -17, 7, 3, 21, 73, 88, -11, 16, -22]\n",
        "\n",
        "print(next(reversed(numbers)))"
      ],
      "metadata": {
        "colab": {
          "base_uri": "https://localhost:8080/"
        },
        "id": "Ba-SouBEAWAh",
        "outputId": "37d656ed-7d71-41ed-884d-30f765db87d9"
      },
      "execution_count": null,
      "outputs": [
        {
          "output_type": "stream",
          "name": "stdout",
          "text": [
            "-22\n"
          ]
        }
      ]
    },
    {
      "cell_type": "markdown",
      "source": [
        "# Функция filterfalse()\n",
        "Реализуйте функцию filterfalse() с использованием функции filter(), которая принимает два аргумента:\n",
        "\n",
        "predicate — функция-предикат; если имеет значение None, то работает аналогично функции bool()\n",
        "iterable — итерируемый объект\n",
        "Функция должна работать противоположно функции filter(), то есть возвращать итератор, элементами которого являются элементы итерируемого объекта iterable, для которых функция predicate вернула значение False.\n",
        "\n",
        "Примечание 1. Предикат — это функция, которая возвращает True или False в зависимости от переданного в качестве аргумента значения.\n",
        "\n",
        "Примечание 2. Элементы итерируемого объекта в возвращаемом функцией итераторе должны располагаться в своем исходном порядке.\n",
        "\n",
        "Примечание 3. Гарантируется, что итерируемый объект, передаваемый в функцию, не является множеством.\n",
        "\n",
        "Примечание 4. В тестирующую систему сдайте программу, содержащую только необходимую функцию filterfalse(), но не код, вызывающий ее.\n",
        "\n",
        "https://stepik.org/lesson/640044/step/20?unit=636564"
      ],
      "metadata": {
        "id": "JDRAn7U80eFg"
      }
    },
    {
      "cell_type": "code",
      "source": [
        "def filterfalse(predicate, iterable):\n",
        "    if predicate is None:\n",
        "        predicate = bool\n",
        "    return filter(lambda x: not predicate(x), iterable)\n",
        "\n",
        "\n",
        "numbers = (1, 2, 3, 4, 5)\n",
        "\n",
        "print(*filterfalse(lambda x: x % 2 == 0, numbers))"
      ],
      "metadata": {
        "id": "kUxyCs7Y0fpn",
        "outputId": "268c539b-003e-4780-a5e0-2dcea51089d4",
        "colab": {
          "base_uri": "https://localhost:8080/"
        }
      },
      "execution_count": null,
      "outputs": [
        {
          "output_type": "stream",
          "name": "stdout",
          "text": [
            "1 3 5\n"
          ]
        }
      ]
    },
    {
      "cell_type": "markdown",
      "source": [
        "## Функция transpose()\n",
        "Транспонированная матрица — матрица\n",
        "�\n",
        "�\n",
        "A\n",
        "T\n",
        " , полученная из исходной матрицы\n",
        "�\n",
        "A заменой строк на столбцы. Например, если\n",
        "�\n",
        "=\n",
        "(\n",
        "1\n",
        "2\n",
        "3\n",
        "4\n",
        "5\n",
        "6\n",
        "7\n",
        "8\n",
        "9\n",
        ")\n",
        "A=\n",
        "⎝\n",
        "⎛\n",
        "​\n",
        "  \n",
        "123\n",
        "456\n",
        "789\n",
        "​\n",
        "  \n",
        "⎠\n",
        "⎞\n",
        "​\n",
        "\n",
        "то\n",
        "�\n",
        "�\n",
        "=\n",
        "(\n",
        "1\n",
        "4\n",
        "7\n",
        "2\n",
        "5\n",
        "8\n",
        "3\n",
        "6\n",
        "9\n",
        ")\n",
        "A\n",
        "T\n",
        " =\n",
        "⎝\n",
        "⎛\n",
        "​\n",
        "  \n",
        "147\n",
        "258\n",
        "369\n",
        "​\n",
        "  \n",
        "⎠\n",
        "⎞\n",
        "​\n",
        "\n",
        "То есть для получения транспонированной матрицы из исходной нужно каждую строчку исходной матрицы записать в виде столбца в том же порядке.\n",
        "\n",
        "Реализуйте функцию transpose() с использованием функции zip(), которая принимает один аргумент:\n",
        "\n",
        "matrix — матрица произвольной размерности\n",
        "Функция должна возвращать транспонированную матрицу matrix.\n",
        "\n",
        "Примечание 1. Под матрицей подразумеваются исключительно вложенные списки.\n",
        "\n",
        "Примечание 2. Функция должна возвращать новую матрицу, а не изменять переданную.\n",
        "\n",
        "Примечание 3. В тестирующую систему сдайте программу, содержащую только необходимую функцию transpose(), но не код, вызывающий ее.\n",
        "\n",
        "https://stepik.org/lesson/640044/step/21?unit=636564"
      ],
      "metadata": {
        "id": "om-07wsAYk3w"
      }
    },
    {
      "cell_type": "code",
      "source": [
        "def transpose(matrix: list[list]) -> list[list]:\n",
        "    return list(map(list, zip(*matrix)))\n",
        "\n",
        "\n",
        "matrix = [[1, 2, 3],\n",
        "          [4, 5, 6],\n",
        "          [7, 8, 9]]\n",
        "\n",
        "transpose(matrix)\n",
        "for row in transpose(matrix):\n",
        "    print(row)"
      ],
      "metadata": {
        "id": "1cARyBPNYnID",
        "outputId": "e6fcb3c3-029d-47b6-f462-b3005d17265c",
        "colab": {
          "base_uri": "https://localhost:8080/"
        }
      },
      "execution_count": 37,
      "outputs": [
        {
          "output_type": "stream",
          "name": "stdout",
          "text": [
            "[1, 4, 7]\n",
            "[2, 5, 8]\n",
            "[3, 6, 9]\n"
          ]
        }
      ]
    },
    {
      "cell_type": "markdown",
      "source": [
        "## Функция get_min_max() 😎\n",
        "Реализуйте функцию get_min_max(), которая принимает один аргумент:\n",
        "\n",
        "data — список произвольных объектов, сравнимых между собой\n",
        "Функция должна возвращать кортеж, в котором первым элементом является индекс минимального элемента в списке data, вторым — индекс максимального элемента в списке data. Если список data пуст, функция должна вернуть значение None.\n",
        "\n",
        "Примечание 1. Если минимальных / максимальных элементов несколько, следует вернуть индексы первого по порядку элемента.\n",
        "\n",
        "Примечание 2. В тестирующую систему сдайте программу, содержащую только необходимую функцию get_min_max(), но не код, вызывающий ее.\n",
        "\n",
        "https://stepik.org/lesson/640044/step/22?unit=636564"
      ],
      "metadata": {
        "id": "_prdNklDeUPX"
      }
    },
    {
      "cell_type": "code",
      "source": [
        "def get_min_max(data: list) -> tuple | None:\n",
        "    if not data:\n",
        "        return None\n",
        "    data_min = min(enumerate(data), key=lambda x: x[1])[0]\n",
        "    data_max = max(enumerate(data), key=lambda x: x[1])[0]\n",
        "    return data_min, data_max\n",
        "\n",
        "\n",
        "\n",
        "data = [2, 3, 8, 1, 7]\n",
        "# data = []\n",
        "\n",
        "print(get_min_max(data))"
      ],
      "metadata": {
        "id": "f_Daqk2qeYWL",
        "outputId": "3cd8d7a6-2c2c-4453-ee13-7455ed002d29",
        "colab": {
          "base_uri": "https://localhost:8080/"
        }
      },
      "execution_count": 39,
      "outputs": [
        {
          "output_type": "stream",
          "name": "stdout",
          "text": [
            "(3, 2)\n"
          ]
        }
      ]
    }
  ]
}