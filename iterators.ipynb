{
  "nbformat": 4,
  "nbformat_minor": 0,
  "metadata": {
    "colab": {
      "provenance": [],
      "authorship_tag": "ABX9TyMPqe9wQj3mqvoKJoHS/0BA",
      "include_colab_link": true
    },
    "kernelspec": {
      "name": "python3",
      "display_name": "Python 3"
    },
    "language_info": {
      "name": "python"
    }
  },
  "cells": [
    {
      "cell_type": "markdown",
      "metadata": {
        "id": "view-in-github",
        "colab_type": "text"
      },
      "source": [
        "<a href=\"https://colab.research.google.com/github/GenyaElamkov/Stepic_3/blob/master/iterators.ipynb\" target=\"_parent\"><img src=\"https://colab.research.google.com/assets/colab-badge.svg\" alt=\"Open In Colab\"/></a>"
      ]
    },
    {
      "cell_type": "markdown",
      "source": [
        "Вам доступен список numbers, содержащий целые числа. Дополните приведенный ниже код с использованием функций iter() и next(), чтобы он вывел четвертый элемент данного списка.\n",
        "\n",
        "https://stepik.org/lesson/668458/step/19?unit=666568"
      ],
      "metadata": {
        "id": "JbpwAcsK9ZU0"
      }
    },
    {
      "cell_type": "code",
      "execution_count": 20,
      "metadata": {
        "colab": {
          "base_uri": "https://localhost:8080/"
        },
        "id": "qtlSVOZ09SVC",
        "outputId": "2727e7cf-a013-40fe-f89f-5e5c36b8e8f0"
      },
      "outputs": [
        {
          "output_type": "stream",
          "name": "stdout",
          "text": [
            "45\n"
          ]
        }
      ],
      "source": [
        "numbers = [100, 70, 34, 45, 30, 83, 12, 83, -28, 49, -8, -2, 6, 62, 64, -22, -19, 61, 13, 5, 80, -17, 7, 3, 21, 73, 88, -11, 16, -22]\n",
        "\n",
        "iterator = iter(numbers)\n",
        "for i in range(1, 5):\n",
        "    out  =  next(iterator)\n",
        "else:\n",
        "    print(out)\n"
      ]
    },
    {
      "cell_type": "markdown",
      "source": [
        "Вам доступен список numbers, содержащий целые числа. Дополните приведенный ниже код с использованием функций iter() и next(), чтобы он вывел последний элемент данного списка.\n",
        "\n",
        "https://stepik.org/lesson/668458/step/20?unit=666568"
      ],
      "metadata": {
        "id": "h-fi39VgAO-Q"
      }
    },
    {
      "cell_type": "code",
      "source": [
        "numbers = [100, 70, 34, 45, 30, 83, 12, 83, -28, 49, -8, -2, 6, 62, 64, -22, -19, 61, 13, 5, 80, -17, 7, 3, 21, 73, 88, -11, 16, -22]\n",
        "\n",
        "print(next(reversed(numbers)))"
      ],
      "metadata": {
        "colab": {
          "base_uri": "https://localhost:8080/"
        },
        "id": "Ba-SouBEAWAh",
        "outputId": "37d656ed-7d71-41ed-884d-30f765db87d9"
      },
      "execution_count": 33,
      "outputs": [
        {
          "output_type": "stream",
          "name": "stdout",
          "text": [
            "-22\n"
          ]
        }
      ]
    }
  ]
}