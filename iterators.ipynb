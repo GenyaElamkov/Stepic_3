{
  "nbformat": 4,
  "nbformat_minor": 0,
  "metadata": {
    "colab": {
      "provenance": [],
      "toc_visible": true,
      "authorship_tag": "ABX9TyPFEJbkKfPASanXxOYJm2vL",
      "include_colab_link": true
    },
    "kernelspec": {
      "name": "python3",
      "display_name": "Python 3"
    },
    "language_info": {
      "name": "python"
    }
  },
  "cells": [
    {
      "cell_type": "markdown",
      "metadata": {
        "id": "view-in-github",
        "colab_type": "text"
      },
      "source": [
        "<a href=\"https://colab.research.google.com/github/GenyaElamkov/Stepic_3/blob/master/iterators.ipynb\" target=\"_parent\"><img src=\"https://colab.research.google.com/assets/colab-badge.svg\" alt=\"Open In Colab\"/></a>"
      ]
    },
    {
      "cell_type": "markdown",
      "source": [
        "Вам доступен список numbers, содержащий целые числа. Дополните приведенный ниже код с использованием функций iter() и next(), чтобы он вывел четвертый элемент данного списка.\n",
        "\n",
        "https://stepik.org/lesson/668458/step/19?unit=666568"
      ],
      "metadata": {
        "id": "JbpwAcsK9ZU0"
      }
    },
    {
      "cell_type": "code",
      "execution_count": null,
      "metadata": {
        "colab": {
          "base_uri": "https://localhost:8080/"
        },
        "id": "qtlSVOZ09SVC",
        "outputId": "2727e7cf-a013-40fe-f89f-5e5c36b8e8f0"
      },
      "outputs": [
        {
          "output_type": "stream",
          "name": "stdout",
          "text": [
            "45\n"
          ]
        }
      ],
      "source": [
        "numbers = [100, 70, 34, 45, 30, 83, 12, 83, -28, 49, -8, -2, 6, 62, 64, -22, -19, 61, 13, 5, 80, -17, 7, 3, 21, 73, 88, -11, 16, -22]\n",
        "\n",
        "iterator = iter(numbers)\n",
        "for i in range(1, 5):\n",
        "    out  =  next(iterator)\n",
        "else:\n",
        "    print(out)\n"
      ]
    },
    {
      "cell_type": "markdown",
      "source": [
        "Вам доступен список numbers, содержащий целые числа. Дополните приведенный ниже код с использованием функций iter() и next(), чтобы он вывел последний элемент данного списка.\n",
        "\n",
        "https://stepik.org/lesson/668458/step/20?unit=666568"
      ],
      "metadata": {
        "id": "h-fi39VgAO-Q"
      }
    },
    {
      "cell_type": "code",
      "source": [
        "numbers = [100, 70, 34, 45, 30, 83, 12, 83, -28, 49, -8, -2, 6, 62, 64, -22, -19, 61, 13, 5, 80, -17, 7, 3, 21, 73, 88, -11, 16, -22]\n",
        "\n",
        "print(next(reversed(numbers)))"
      ],
      "metadata": {
        "colab": {
          "base_uri": "https://localhost:8080/"
        },
        "id": "Ba-SouBEAWAh",
        "outputId": "37d656ed-7d71-41ed-884d-30f765db87d9"
      },
      "execution_count": null,
      "outputs": [
        {
          "output_type": "stream",
          "name": "stdout",
          "text": [
            "-22\n"
          ]
        }
      ]
    },
    {
      "cell_type": "markdown",
      "source": [
        "# Функция filterfalse()\n",
        "Реализуйте функцию filterfalse() с использованием функции filter(), которая принимает два аргумента:\n",
        "\n",
        "predicate — функция-предикат; если имеет значение None, то работает аналогично функции bool()\n",
        "iterable — итерируемый объект\n",
        "Функция должна работать противоположно функции filter(), то есть возвращать итератор, элементами которого являются элементы итерируемого объекта iterable, для которых функция predicate вернула значение False.\n",
        "\n",
        "Примечание 1. Предикат — это функция, которая возвращает True или False в зависимости от переданного в качестве аргумента значения.\n",
        "\n",
        "Примечание 2. Элементы итерируемого объекта в возвращаемом функцией итераторе должны располагаться в своем исходном порядке.\n",
        "\n",
        "Примечание 3. Гарантируется, что итерируемый объект, передаваемый в функцию, не является множеством.\n",
        "\n",
        "Примечание 4. В тестирующую систему сдайте программу, содержащую только необходимую функцию filterfalse(), но не код, вызывающий ее.\n",
        "\n",
        "https://stepik.org/lesson/640044/step/20?unit=636564"
      ],
      "metadata": {
        "id": "JDRAn7U80eFg"
      }
    },
    {
      "cell_type": "code",
      "source": [
        "def filterfalse(predicate, iterable):\n",
        "    if predicate is None:\n",
        "        predicate = bool\n",
        "    return filter(lambda x: not predicate(x), iterable)\n",
        "\n",
        "\n",
        "numbers = (1, 2, 3, 4, 5)\n",
        "\n",
        "print(*filterfalse(lambda x: x % 2 == 0, numbers))"
      ],
      "metadata": {
        "id": "kUxyCs7Y0fpn",
        "outputId": "268c539b-003e-4780-a5e0-2dcea51089d4",
        "colab": {
          "base_uri": "https://localhost:8080/"
        }
      },
      "execution_count": null,
      "outputs": [
        {
          "output_type": "stream",
          "name": "stdout",
          "text": [
            "1 3 5\n"
          ]
        }
      ]
    },
    {
      "cell_type": "markdown",
      "source": [
        "## Функция transpose()\n",
        "Транспонированная матрица — матрица\n",
        "�\n",
        "�\n",
        "A\n",
        "T\n",
        " , полученная из исходной матрицы\n",
        "�\n",
        "A заменой строк на столбцы. Например, если\n",
        "�\n",
        "=\n",
        "(\n",
        "1\n",
        "2\n",
        "3\n",
        "4\n",
        "5\n",
        "6\n",
        "7\n",
        "8\n",
        "9\n",
        ")\n",
        "A=\n",
        "⎝\n",
        "⎛\n",
        "​\n",
        "  \n",
        "123\n",
        "456\n",
        "789\n",
        "​\n",
        "  \n",
        "⎠\n",
        "⎞\n",
        "​\n",
        "\n",
        "то\n",
        "�\n",
        "�\n",
        "=\n",
        "(\n",
        "1\n",
        "4\n",
        "7\n",
        "2\n",
        "5\n",
        "8\n",
        "3\n",
        "6\n",
        "9\n",
        ")\n",
        "A\n",
        "T\n",
        " =\n",
        "⎝\n",
        "⎛\n",
        "​\n",
        "  \n",
        "147\n",
        "258\n",
        "369\n",
        "​\n",
        "  \n",
        "⎠\n",
        "⎞\n",
        "​\n",
        "\n",
        "То есть для получения транспонированной матрицы из исходной нужно каждую строчку исходной матрицы записать в виде столбца в том же порядке.\n",
        "\n",
        "Реализуйте функцию transpose() с использованием функции zip(), которая принимает один аргумент:\n",
        "\n",
        "matrix — матрица произвольной размерности\n",
        "Функция должна возвращать транспонированную матрицу matrix.\n",
        "\n",
        "Примечание 1. Под матрицей подразумеваются исключительно вложенные списки.\n",
        "\n",
        "Примечание 2. Функция должна возвращать новую матрицу, а не изменять переданную.\n",
        "\n",
        "Примечание 3. В тестирующую систему сдайте программу, содержащую только необходимую функцию transpose(), но не код, вызывающий ее.\n",
        "\n",
        "https://stepik.org/lesson/640044/step/21?unit=636564"
      ],
      "metadata": {
        "id": "om-07wsAYk3w"
      }
    },
    {
      "cell_type": "code",
      "source": [
        "def transpose(matrix: list[list]) -> list[list]:\n",
        "    return list(map(list, zip(*matrix)))\n",
        "\n",
        "\n",
        "matrix = [[1, 2, 3],\n",
        "          [4, 5, 6],\n",
        "          [7, 8, 9]]\n",
        "\n",
        "transpose(matrix)\n",
        "for row in transpose(matrix):\n",
        "    print(row)"
      ],
      "metadata": {
        "colab": {
          "base_uri": "https://localhost:8080/"
        },
        "id": "1cARyBPNYnID",
        "outputId": "e6fcb3c3-029d-47b6-f462-b3005d17265c"
      },
      "execution_count": null,
      "outputs": [
        {
          "output_type": "stream",
          "name": "stdout",
          "text": [
            "[1, 4, 7]\n",
            "[2, 5, 8]\n",
            "[3, 6, 9]\n"
          ]
        }
      ]
    },
    {
      "cell_type": "markdown",
      "source": [
        "## Функция get_min_max() 😎\n",
        "Реализуйте функцию get_min_max(), которая принимает один аргумент:\n",
        "\n",
        "data — список произвольных объектов, сравнимых между собой\n",
        "Функция должна возвращать кортеж, в котором первым элементом является индекс минимального элемента в списке data, вторым — индекс максимального элемента в списке data. Если список data пуст, функция должна вернуть значение None.\n",
        "\n",
        "Примечание 1. Если минимальных / максимальных элементов несколько, следует вернуть индексы первого по порядку элемента.\n",
        "\n",
        "Примечание 2. В тестирующую систему сдайте программу, содержащую только необходимую функцию get_min_max(), но не код, вызывающий ее.\n",
        "\n",
        "https://stepik.org/lesson/640044/step/22?unit=636564"
      ],
      "metadata": {
        "id": "_prdNklDeUPX"
      }
    },
    {
      "cell_type": "code",
      "source": [
        "def get_min_max(data: list) -> tuple | None:\n",
        "    if not data:\n",
        "        return None\n",
        "    data_min = min(enumerate(data), key=lambda x: x[1])[0]\n",
        "    data_max = max(enumerate(data), key=lambda x: x[1])[0]\n",
        "    return data_min, data_max\n",
        "\n",
        "\n",
        "\n",
        "data = [2, 3, 8, 1, 7]\n",
        "# data = []\n",
        "\n",
        "print(get_min_max(data))"
      ],
      "metadata": {
        "colab": {
          "base_uri": "https://localhost:8080/"
        },
        "id": "f_Daqk2qeYWL",
        "outputId": "3cd8d7a6-2c2c-4453-ee13-7455ed002d29"
      },
      "execution_count": null,
      "outputs": [
        {
          "output_type": "stream",
          "name": "stdout",
          "text": [
            "(3, 2)\n"
          ]
        }
      ]
    },
    {
      "cell_type": "markdown",
      "source": [
        "## Функция starmap()\n",
        "Как известно, функция map() принимает функцию и итерируемый объект и возвращает итератор, элементами которого являются элементы итерируемого объекта, к которым была применена переданная функция. Нередко элементами итерируемого объекта являются коллекции (списки, кортежи, ..), тогда внутри переданной функции нам приходится обращаться к каждому элементу этих коллекций по индексу. Например:\n",
        "\n",
        "persons = [('Timur', 'Guev'), ('Arthur', 'Kharisov')]\n",
        "\n",
        "full_names = map(lambda tup: tup[0] + ' ' + tup[1], persons)\n",
        "Было бы удобно иметь функцию, назовем ее starmap(), которая бы принимала функцию не с одним аргументом, а с несколькими — каждым элементом коллекции:\n",
        "\n",
        "persons = [('Timur', 'Guev'), ('Arthur', 'Kharisov')]\n",
        "\n",
        "full_names = starmap(lambda name, surname: f'{name} {surname}', persons)\n",
        "Реализуйте функцию starmap() с использованием функции map(), которая принимает два аргумента:\n",
        "\n",
        "func — функция\n",
        "iterable — итерируемый объект, элементами которого являются коллекции\n",
        "Функция starmap() должна работать аналогично функции map(), то есть возвращать итератор, элементами которого являются элементы итерируемого объекта iterable, к которым была применена функция func, с единственным отличием: func должна принимать не один аргумент — коллекцию (элемент iterable), а каждый элемент этой коллекции в качестве самостоятельного аргумента.\n",
        "\n",
        "Примечание 1. В тестирующую систему сдайте программу, содержащую только необходимую функцию starmap(), но не код, вызывающий ее.\n",
        "\n",
        "https://stepik.org/lesson/640044/step/23?unit=636564"
      ],
      "metadata": {
        "id": "hbujjaF3kVlJ"
      }
    },
    {
      "cell_type": "code",
      "source": [
        "def starmap(func, iterable):\n",
        "    # return [func(*elem) for elem in iterable]\n",
        "    return map(lambda x: func(*x), iterable)\n",
        "\n",
        "\n",
        "points = [(1, 1, 1), (1, 1, 2), (2, 2, 3)]\n",
        "\n",
        "print(*starmap(lambda x, y, z: x * y * z, points))"
      ],
      "metadata": {
        "id": "Vik-txKmma3l",
        "outputId": "331b282f-06d3-409c-a171-b2d12dba4205",
        "colab": {
          "base_uri": "https://localhost:8080/"
        }
      },
      "execution_count": null,
      "outputs": [
        {
          "output_type": "stream",
          "name": "stdout",
          "text": [
            "1 2 12\n"
          ]
        }
      ]
    },
    {
      "cell_type": "markdown",
      "source": [
        "## Функция get_min_max() 😳\n",
        "Реализуйте функцию get_min_max(), которая принимает один аргумент:\n",
        "\n",
        "iterable — итерируемый объект, элементы которого сравнимы между собой\n",
        "Функция должна возвращать кортеж, в котором первым элементом является минимальный элемент итерируемого объекта iterable, вторым — максимальный элемент итерируемого объекта iterable. Если итерируемый объект iterable пуст, функция должна вернуть значение None.\n",
        "\n",
        "Примечание 1. В тестирующую систему сдайте программу, содержащую только необходимую функцию get_min_max(), но не код, вызывающий ее.\n",
        "\n",
        "https://stepik.org/lesson/640044/step/24?unit=636564"
      ],
      "metadata": {
        "id": "6GKGGjGXmfcO"
      }
    },
    {
      "cell_type": "code",
      "source": [
        "def get_min_max(iterable):\n",
        "    itr = iter(iterable)\n",
        "    try:\n",
        "        min_elem = max_elem = next(itr)\n",
        "    except StopIteration:\n",
        "        return None\n",
        "\n",
        "    for elem in itr:\n",
        "        if elem < min_elem:\n",
        "            min_elem = elem\n",
        "        if elem > max_elem:\n",
        "            max_elem = elem\n",
        "    return min_elem, max_elem\n",
        "\n",
        "\n",
        "iterable = iter(range(10))\n",
        "\n",
        "print(get_min_max(iterable))"
      ],
      "metadata": {
        "id": "Roo_N_5JNkZt",
        "outputId": "bc707666-3d15-44ca-d7cb-54bc2d3af184",
        "colab": {
          "base_uri": "https://localhost:8080/"
        }
      },
      "execution_count": null,
      "outputs": [
        {
          "output_type": "stream",
          "name": "stdout",
          "text": [
            "(0, 9)\n"
          ]
        }
      ]
    },
    {
      "cell_type": "markdown",
      "source": [
        "Дополните приведенный ниже код, чтобы в переменной infinite_love содержался итератор, бесконечно генерирующий единственное значение — строку i love beegeek!.\n",
        "\n",
        "https://stepik.org/lesson/668595/step/13?unit=666704"
      ],
      "metadata": {
        "id": "PG9nW4PML5Bi"
      }
    },
    {
      "cell_type": "code",
      "source": [
        "infinite_love = iter(lambda: 'i love beegeek!', '')\n",
        "\n",
        "print(next(infinite_love))\n",
        "print(next(infinite_love))\n",
        "print(next(infinite_love))"
      ],
      "metadata": {
        "id": "huxzrb0zL-by",
        "outputId": "fe39badb-c472-4949-d07e-1385666a33ff",
        "colab": {
          "base_uri": "https://localhost:8080/"
        }
      },
      "execution_count": 5,
      "outputs": [
        {
          "output_type": "stream",
          "name": "stdout",
          "text": [
            "i love beegeek!\n",
            "i love beegeek!\n",
            "i love beegeek!\n"
          ]
        }
      ]
    },
    {
      "cell_type": "markdown",
      "source": [
        "## Функция is_iterable()\n",
        "Реализуйте функцию is_iterable(), которая принимает один аргумент:\n",
        "\n",
        "obj — произвольный объект\n",
        "Функция должна возвращать True, если объект obj является итерируемым объектом, или False в противном случае.\n",
        "\n",
        "Примечание 1. В тестирующую систему сдайте программу, содержащую только необходимую функцию is_iterable(), но не код, вызывающий ее.\n",
        "\n",
        "https://stepik.org/lesson/668595/step/14?unit=666704"
      ],
      "metadata": {
        "id": "YP8jxcnaMlbp"
      }
    },
    {
      "cell_type": "code",
      "source": [
        "def is_iterable(obj):\n",
        "    return '__iter__' in dir(obj)\n",
        "\n",
        "\n",
        "objects = [(1, 13), 7.0004, [1, 2, 3]]\n",
        "\n",
        "for obj in objects:\n",
        "    print(is_iterable(obj))"
      ],
      "metadata": {
        "id": "07ehnHQZMo8B",
        "outputId": "77f6370f-3b8b-4838-bed1-2996ab47207f",
        "colab": {
          "base_uri": "https://localhost:8080/"
        }
      },
      "execution_count": 14,
      "outputs": [
        {
          "output_type": "stream",
          "name": "stdout",
          "text": [
            "True\n",
            "False\n",
            "True\n"
          ]
        }
      ]
    },
    {
      "cell_type": "markdown",
      "source": [
        "## Функция is_iterator()\n",
        "Реализуйте функцию is_iterator(), которая принимает один аргумент:\n",
        "\n",
        "obj — произвольный объект\n",
        "Функция должна возвращать True, если объект obj является итератором, или False в противном случае.\n",
        "\n",
        "Примечание 1. В тестирующую систему сдайте программу, содержащую только необходимую функцию is_iterator(), но не код, вызывающий ее.\n",
        "\n",
        "https://stepik.org/lesson/668595/step/15?unit=666704"
      ],
      "metadata": {
        "id": "8OMKmp-eN8iL"
      }
    },
    {
      "cell_type": "code",
      "source": [
        "def is_iterator(obj):\n",
        "    return '__next__' in dir(obj)\n",
        "\n",
        "\n",
        "beegeek = filter(None, [0, 0, 1, 1, 0, 1])\n",
        "\n",
        "print(is_iterator(beegeek))"
      ],
      "metadata": {
        "id": "wz0JuFWlOXCC",
        "outputId": "1b846365-8375-43b3-ff4b-dab22f58d8bc",
        "colab": {
          "base_uri": "https://localhost:8080/"
        }
      },
      "execution_count": 19,
      "outputs": [
        {
          "output_type": "stream",
          "name": "stdout",
          "text": [
            "True\n"
          ]
        }
      ]
    },
    {
      "cell_type": "markdown",
      "source": [
        "## Функция random_numbers()\n",
        "Реализуйте функцию random_numbers(), которая принимает два аргумента:\n",
        "\n",
        "left — целое число\n",
        "right — целое число\n",
        "Функция должна возвращать итератор, генерирующий бесконечную последовательность случайных целых чисел в диапазоне от left до right включительно.\n",
        "\n",
        "Примечание 1. Гарантируется, что left <= right.\n",
        "\n",
        "Примечание 2. В тестирующую систему сдайте программу, содержащую только необходимый итератор random_numbers(), но не код, вызывающий его.\n",
        "\n",
        "https://stepik.org/lesson/668595/step/16?unit=666704"
      ],
      "metadata": {
        "id": "IYHf-43_P62Z"
      }
    },
    {
      "cell_type": "code",
      "source": [
        "# def random_numbers(left: int, right: int):\n",
        "#     pass\n",
        "\n",
        "from random import randint\n",
        "\n",
        "random_numbers = lambda left, right: iter(lambda: randint(left, right), None)\n",
        "\n",
        "iterator = random_numbers(1, 10)\n",
        "\n",
        "print(next(iterator) in range(1, 11))\n",
        "print(next(iterator) in range(1, 11))\n",
        "print(next(iterator) in range(1, 11))"
      ],
      "metadata": {
        "id": "wukA2fJAP-Z2",
        "outputId": "4fecbab2-edf1-4707-97c0-b5036cf82ccb",
        "colab": {
          "base_uri": "https://localhost:8080/"
        }
      },
      "execution_count": 33,
      "outputs": [
        {
          "output_type": "stream",
          "name": "stdout",
          "text": [
            "True\n",
            "True\n",
            "True\n"
          ]
        }
      ]
    }
  ]
}