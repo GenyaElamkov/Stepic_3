{
  "nbformat": 4,
  "nbformat_minor": 0,
  "metadata": {
    "colab": {
      "provenance": [],
      "toc_visible": true,
      "authorship_tag": "ABX9TyNze0ew5VzP0+vLgUzOBgHB",
      "include_colab_link": true
    },
    "kernelspec": {
      "name": "python3",
      "display_name": "Python 3"
    },
    "language_info": {
      "name": "python"
    }
  },
  "cells": [
    {
      "cell_type": "markdown",
      "metadata": {
        "id": "view-in-github",
        "colab_type": "text"
      },
      "source": [
        "<a href=\"https://colab.research.google.com/github/GenyaElamkov/Stepic_3/blob/master/iterators.ipynb\" target=\"_parent\"><img src=\"https://colab.research.google.com/assets/colab-badge.svg\" alt=\"Open In Colab\"/></a>"
      ]
    },
    {
      "cell_type": "markdown",
      "source": [
        "Вам доступен список numbers, содержащий целые числа. Дополните приведенный ниже код с использованием функций iter() и next(), чтобы он вывел четвертый элемент данного списка.\n",
        "\n",
        "https://stepik.org/lesson/668458/step/19?unit=666568"
      ],
      "metadata": {
        "id": "JbpwAcsK9ZU0"
      }
    },
    {
      "cell_type": "code",
      "execution_count": null,
      "metadata": {
        "colab": {
          "base_uri": "https://localhost:8080/"
        },
        "id": "qtlSVOZ09SVC",
        "outputId": "2727e7cf-a013-40fe-f89f-5e5c36b8e8f0"
      },
      "outputs": [
        {
          "output_type": "stream",
          "name": "stdout",
          "text": [
            "45\n"
          ]
        }
      ],
      "source": [
        "numbers = [100, 70, 34, 45, 30, 83, 12, 83, -28, 49, -8, -2, 6, 62, 64, -22, -19, 61, 13, 5, 80, -17, 7, 3, 21, 73, 88, -11, 16, -22]\n",
        "\n",
        "iterator = iter(numbers)\n",
        "for i in range(1, 5):\n",
        "    out  =  next(iterator)\n",
        "else:\n",
        "    print(out)\n"
      ]
    },
    {
      "cell_type": "markdown",
      "source": [
        "Вам доступен список numbers, содержащий целые числа. Дополните приведенный ниже код с использованием функций iter() и next(), чтобы он вывел последний элемент данного списка.\n",
        "\n",
        "https://stepik.org/lesson/668458/step/20?unit=666568"
      ],
      "metadata": {
        "id": "h-fi39VgAO-Q"
      }
    },
    {
      "cell_type": "code",
      "source": [
        "numbers = [100, 70, 34, 45, 30, 83, 12, 83, -28, 49, -8, -2, 6, 62, 64, -22, -19, 61, 13, 5, 80, -17, 7, 3, 21, 73, 88, -11, 16, -22]\n",
        "\n",
        "print(next(reversed(numbers)))"
      ],
      "metadata": {
        "colab": {
          "base_uri": "https://localhost:8080/"
        },
        "id": "Ba-SouBEAWAh",
        "outputId": "37d656ed-7d71-41ed-884d-30f765db87d9"
      },
      "execution_count": null,
      "outputs": [
        {
          "output_type": "stream",
          "name": "stdout",
          "text": [
            "-22\n"
          ]
        }
      ]
    },
    {
      "cell_type": "markdown",
      "source": [
        "# Функция filterfalse()\n",
        "Реализуйте функцию filterfalse() с использованием функции filter(), которая принимает два аргумента:\n",
        "\n",
        "predicate — функция-предикат; если имеет значение None, то работает аналогично функции bool()\n",
        "iterable — итерируемый объект\n",
        "Функция должна работать противоположно функции filter(), то есть возвращать итератор, элементами которого являются элементы итерируемого объекта iterable, для которых функция predicate вернула значение False.\n",
        "\n",
        "Примечание 1. Предикат — это функция, которая возвращает True или False в зависимости от переданного в качестве аргумента значения.\n",
        "\n",
        "Примечание 2. Элементы итерируемого объекта в возвращаемом функцией итераторе должны располагаться в своем исходном порядке.\n",
        "\n",
        "Примечание 3. Гарантируется, что итерируемый объект, передаваемый в функцию, не является множеством.\n",
        "\n",
        "Примечание 4. В тестирующую систему сдайте программу, содержащую только необходимую функцию filterfalse(), но не код, вызывающий ее.\n",
        "\n",
        "https://stepik.org/lesson/640044/step/20?unit=636564"
      ],
      "metadata": {
        "id": "JDRAn7U80eFg"
      }
    },
    {
      "cell_type": "code",
      "source": [
        "def filterfalse(predicate, iterable):\n",
        "    if predicate is None:\n",
        "        predicate = bool\n",
        "    return filter(lambda x: not predicate(x), iterable)\n",
        "\n",
        "\n",
        "numbers = (1, 2, 3, 4, 5)\n",
        "\n",
        "print(*filterfalse(lambda x: x % 2 == 0, numbers))"
      ],
      "metadata": {
        "id": "kUxyCs7Y0fpn",
        "outputId": "268c539b-003e-4780-a5e0-2dcea51089d4",
        "colab": {
          "base_uri": "https://localhost:8080/"
        }
      },
      "execution_count": 54,
      "outputs": [
        {
          "output_type": "stream",
          "name": "stdout",
          "text": [
            "1 3 5\n"
          ]
        }
      ]
    }
  ]
}